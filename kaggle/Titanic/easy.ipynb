{
 "cells": [
  {
   "cell_type": "code",
   "execution_count": 1,
   "metadata": {
    "collapsed": false
   },
   "outputs": [],
   "source": [
    "import pandas as pd\n",
    "import numpy as np\n",
    "import matplotlib.pyplot as plt\n",
    "\n",
    "%matplotlib inline"
   ]
  },
  {
   "cell_type": "code",
   "execution_count": 2,
   "metadata": {
    "collapsed": false
   },
   "outputs": [
    {
     "name": "stdout",
     "output_type": "stream",
     "text": [
      "(891, 12)\n"
     ]
    },
    {
     "data": {
      "text/html": [
       "<div>\n",
       "<table border=\"1\" class=\"dataframe\">\n",
       "  <thead>\n",
       "    <tr style=\"text-align: right;\">\n",
       "      <th></th>\n",
       "      <th>PassengerId</th>\n",
       "      <th>Survived</th>\n",
       "      <th>Pclass</th>\n",
       "      <th>Name</th>\n",
       "      <th>Sex</th>\n",
       "      <th>Age</th>\n",
       "      <th>SibSp</th>\n",
       "      <th>Parch</th>\n",
       "      <th>Ticket</th>\n",
       "      <th>Fare</th>\n",
       "      <th>Cabin</th>\n",
       "      <th>Embarked</th>\n",
       "    </tr>\n",
       "  </thead>\n",
       "  <tbody>\n",
       "    <tr>\n",
       "      <th>0</th>\n",
       "      <td>1</td>\n",
       "      <td>0</td>\n",
       "      <td>3</td>\n",
       "      <td>Braund, Mr. Owen Harris</td>\n",
       "      <td>male</td>\n",
       "      <td>22.0</td>\n",
       "      <td>1</td>\n",
       "      <td>0</td>\n",
       "      <td>A/5 21171</td>\n",
       "      <td>7.2500</td>\n",
       "      <td>NaN</td>\n",
       "      <td>S</td>\n",
       "    </tr>\n",
       "    <tr>\n",
       "      <th>1</th>\n",
       "      <td>2</td>\n",
       "      <td>1</td>\n",
       "      <td>1</td>\n",
       "      <td>Cumings, Mrs. John Bradley (Florence Briggs Th...</td>\n",
       "      <td>female</td>\n",
       "      <td>38.0</td>\n",
       "      <td>1</td>\n",
       "      <td>0</td>\n",
       "      <td>PC 17599</td>\n",
       "      <td>71.2833</td>\n",
       "      <td>C85</td>\n",
       "      <td>C</td>\n",
       "    </tr>\n",
       "    <tr>\n",
       "      <th>2</th>\n",
       "      <td>3</td>\n",
       "      <td>1</td>\n",
       "      <td>3</td>\n",
       "      <td>Heikkinen, Miss. Laina</td>\n",
       "      <td>female</td>\n",
       "      <td>26.0</td>\n",
       "      <td>0</td>\n",
       "      <td>0</td>\n",
       "      <td>STON/O2. 3101282</td>\n",
       "      <td>7.9250</td>\n",
       "      <td>NaN</td>\n",
       "      <td>S</td>\n",
       "    </tr>\n",
       "    <tr>\n",
       "      <th>3</th>\n",
       "      <td>4</td>\n",
       "      <td>1</td>\n",
       "      <td>1</td>\n",
       "      <td>Futrelle, Mrs. Jacques Heath (Lily May Peel)</td>\n",
       "      <td>female</td>\n",
       "      <td>35.0</td>\n",
       "      <td>1</td>\n",
       "      <td>0</td>\n",
       "      <td>113803</td>\n",
       "      <td>53.1000</td>\n",
       "      <td>C123</td>\n",
       "      <td>S</td>\n",
       "    </tr>\n",
       "    <tr>\n",
       "      <th>4</th>\n",
       "      <td>5</td>\n",
       "      <td>0</td>\n",
       "      <td>3</td>\n",
       "      <td>Allen, Mr. William Henry</td>\n",
       "      <td>male</td>\n",
       "      <td>35.0</td>\n",
       "      <td>0</td>\n",
       "      <td>0</td>\n",
       "      <td>373450</td>\n",
       "      <td>8.0500</td>\n",
       "      <td>NaN</td>\n",
       "      <td>S</td>\n",
       "    </tr>\n",
       "  </tbody>\n",
       "</table>\n",
       "</div>"
      ],
      "text/plain": [
       "   PassengerId  Survived  Pclass  \\\n",
       "0            1         0       3   \n",
       "1            2         1       1   \n",
       "2            3         1       3   \n",
       "3            4         1       1   \n",
       "4            5         0       3   \n",
       "\n",
       "                                                Name     Sex   Age  SibSp  \\\n",
       "0                            Braund, Mr. Owen Harris    male  22.0      1   \n",
       "1  Cumings, Mrs. John Bradley (Florence Briggs Th...  female  38.0      1   \n",
       "2                             Heikkinen, Miss. Laina  female  26.0      0   \n",
       "3       Futrelle, Mrs. Jacques Heath (Lily May Peel)  female  35.0      1   \n",
       "4                           Allen, Mr. William Henry    male  35.0      0   \n",
       "\n",
       "   Parch            Ticket     Fare Cabin Embarked  \n",
       "0      0         A/5 21171   7.2500   NaN        S  \n",
       "1      0          PC 17599  71.2833   C85        C  \n",
       "2      0  STON/O2. 3101282   7.9250   NaN        S  \n",
       "3      0            113803  53.1000  C123        S  \n",
       "4      0            373450   8.0500   NaN        S  "
      ]
     },
     "execution_count": 2,
     "metadata": {},
     "output_type": "execute_result"
    }
   ],
   "source": [
    "data_train = pd.read_csv('input/train.csv')\n",
    "\n",
    "print(data_train.shape)\n",
    "data_train.head()"
   ]
  },
  {
   "cell_type": "markdown",
   "metadata": {},
   "source": [
    "去除“无用”的列，标称型数据转换。"
   ]
  },
  {
   "cell_type": "code",
   "execution_count": 3,
   "metadata": {
    "collapsed": false
   },
   "outputs": [
    {
     "name": "stdout",
     "output_type": "stream",
     "text": [
      "(712, 9)\n"
     ]
    },
    {
     "data": {
      "text/html": [
       "<div>\n",
       "<table border=\"1\" class=\"dataframe\">\n",
       "  <thead>\n",
       "    <tr style=\"text-align: right;\">\n",
       "      <th></th>\n",
       "      <th>PassengerId</th>\n",
       "      <th>Survived</th>\n",
       "      <th>Pclass</th>\n",
       "      <th>Sex</th>\n",
       "      <th>Age</th>\n",
       "      <th>SibSp</th>\n",
       "      <th>Parch</th>\n",
       "      <th>Fare</th>\n",
       "      <th>Embarked</th>\n",
       "    </tr>\n",
       "  </thead>\n",
       "  <tbody>\n",
       "    <tr>\n",
       "      <th>0</th>\n",
       "      <td>1</td>\n",
       "      <td>0</td>\n",
       "      <td>3</td>\n",
       "      <td>0</td>\n",
       "      <td>22.0</td>\n",
       "      <td>1</td>\n",
       "      <td>0</td>\n",
       "      <td>7.2500</td>\n",
       "      <td>0.0</td>\n",
       "    </tr>\n",
       "    <tr>\n",
       "      <th>1</th>\n",
       "      <td>2</td>\n",
       "      <td>1</td>\n",
       "      <td>1</td>\n",
       "      <td>1</td>\n",
       "      <td>38.0</td>\n",
       "      <td>1</td>\n",
       "      <td>0</td>\n",
       "      <td>71.2833</td>\n",
       "      <td>1.0</td>\n",
       "    </tr>\n",
       "    <tr>\n",
       "      <th>2</th>\n",
       "      <td>3</td>\n",
       "      <td>1</td>\n",
       "      <td>3</td>\n",
       "      <td>1</td>\n",
       "      <td>26.0</td>\n",
       "      <td>0</td>\n",
       "      <td>0</td>\n",
       "      <td>7.9250</td>\n",
       "      <td>0.0</td>\n",
       "    </tr>\n",
       "    <tr>\n",
       "      <th>3</th>\n",
       "      <td>4</td>\n",
       "      <td>1</td>\n",
       "      <td>1</td>\n",
       "      <td>1</td>\n",
       "      <td>35.0</td>\n",
       "      <td>1</td>\n",
       "      <td>0</td>\n",
       "      <td>53.1000</td>\n",
       "      <td>0.0</td>\n",
       "    </tr>\n",
       "    <tr>\n",
       "      <th>4</th>\n",
       "      <td>5</td>\n",
       "      <td>0</td>\n",
       "      <td>3</td>\n",
       "      <td>0</td>\n",
       "      <td>35.0</td>\n",
       "      <td>0</td>\n",
       "      <td>0</td>\n",
       "      <td>8.0500</td>\n",
       "      <td>0.0</td>\n",
       "    </tr>\n",
       "  </tbody>\n",
       "</table>\n",
       "</div>"
      ],
      "text/plain": [
       "   PassengerId  Survived  Pclass  Sex   Age  SibSp  Parch     Fare  Embarked\n",
       "0            1         0       3    0  22.0      1      0   7.2500       0.0\n",
       "1            2         1       1    1  38.0      1      0  71.2833       1.0\n",
       "2            3         1       3    1  26.0      0      0   7.9250       0.0\n",
       "3            4         1       1    1  35.0      1      0  53.1000       0.0\n",
       "4            5         0       3    0  35.0      0      0   8.0500       0.0"
      ]
     },
     "execution_count": 3,
     "metadata": {},
     "output_type": "execute_result"
    }
   ],
   "source": [
    "m = {'Sex': {'male': 0, 'female': 1}, 'Embarked': {'S': 0, 'C': 1, 'Q': 2}}\n",
    "\n",
    "data_train_basic = data_train.drop(['Name', 'Ticket', 'Cabin'], axis=1)\n",
    "data_train_basic = data_train_basic.replace(m)\n",
    "\n",
    "data_train_basic = data_train_basic.dropna(axis=0, how='any')\n",
    "\n",
    "print(data_train_basic.shape)\n",
    "data_train_basic.head()"
   ]
  },
  {
   "cell_type": "code",
   "execution_count": 4,
   "metadata": {
    "collapsed": false
   },
   "outputs": [
    {
     "name": "stdout",
     "output_type": "stream",
     "text": [
      "X shape:  (712, 8)\n",
      "y shape:  (712,)\n"
     ]
    }
   ],
   "source": [
    "X = data_train_basic.drop('Survived', axis=1).values\n",
    "y = data_train_basic.loc[:, 'Survived'].values\n",
    "\n",
    "print('X shape: ', X.shape)\n",
    "print('y shape: ', y.shape)"
   ]
  },
  {
   "cell_type": "markdown",
   "metadata": {},
   "source": [
    "逻辑回归，通过GridSearchCV选择参数"
   ]
  },
  {
   "cell_type": "code",
   "execution_count": 5,
   "metadata": {
    "collapsed": false
   },
   "outputs": [
    {
     "name": "stdout",
     "output_type": "stream",
     "text": [
      "GridSearchCV result:\n",
      "split1_test_score: [ 0.78481013  0.78902954  0.78902954  0.78902954  0.78902954]\n",
      "split0_train_score: [ 0.80590717  0.80801688  0.80590717  0.80801688  0.80590717]\n",
      "param_C: [1 10 15 20 50]\n",
      "split0_test_score: [ 0.79411765  0.79831933  0.80252101  0.79831933  0.79831933]\n",
      "std_test_score: [ 0.00565429  0.00564632  0.00755824  0.00564632  0.00724322]\n",
      "split2_test_score: [ 0.78059072  0.78481013  0.78481013  0.78481013  0.78059072]\n",
      "std_fit_time: [  3.29838804e-03   3.67819421e-05   3.82919009e-05   1.92017054e-04\n",
      "   8.63203311e-05]\n",
      "mean_train_score: [ 0.79565327  0.8040758   0.80267081  0.8040758   0.80337257]\n",
      "mean_test_score: [ 0.78651685  0.79073034  0.79213483  0.79073034  0.78932584]\n",
      "split1_train_score: [ 0.78947368  0.80210526  0.80210526  0.80421053  0.80421053]\n",
      "std_train_score: [ 0.00730137  0.00278676  0.00244453  0.00327426  0.00248332]\n",
      "rank_test_score: [5 2 1 2 4]\n",
      "mean_score_time: [ 0.00048963  0.00027061  0.00032036  0.00024597  0.00021799]\n",
      "params: ({'C': 1}, {'C': 10}, {'C': 15}, {'C': 20}, {'C': 50})\n",
      "split2_train_score: [ 0.79157895  0.80210526  0.8         0.8         0.8       ]\n",
      "std_score_time: [  3.65729714e-04   5.59957220e-05   1.18882101e-04   1.72907813e-05\n",
      "   1.12391596e-07]\n",
      "mean_fit_time: [ 0.00439342  0.00212431  0.00213202  0.00223335  0.00203498]\n",
      "\n",
      "best estimator:\n",
      "LogisticRegression(C=15, class_weight=None, dual=False, fit_intercept=True,\n",
      "          intercept_scaling=1, max_iter=100, multi_class='ovr', n_jobs=1,\n",
      "          penalty='l2', random_state=None, solver='liblinear', tol=0.0001,\n",
      "          verbose=0, warm_start=False)\n"
     ]
    }
   ],
   "source": [
    "from sklearn.linear_model import LogisticRegression\n",
    "from sklearn.model_selection import GridSearchCV\n",
    "\n",
    "logistic = LogisticRegression()\n",
    "estimator = GridSearchCV(logistic, {'C':[1, 10, 15, 20, 50]})\n",
    "estimator.fit(X, y)\n",
    "\n",
    "print('GridSearchCV result:')\n",
    "for key in estimator.cv_results_:\n",
    "    print(key, ': ', estimator.cv_results_[key], sep='')\n",
    "\n",
    "print()\n",
    "print('best estimator:')\n",
    "print(estimator.best_estimator_)"
   ]
  },
  {
   "cell_type": "markdown",
   "metadata": {},
   "source": [
    "交叉验证cross_val_score"
   ]
  },
  {
   "cell_type": "code",
   "execution_count": 6,
   "metadata": {
    "collapsed": false
   },
   "outputs": [
    {
     "data": {
      "text/plain": [
       "array([ 0.74825175,  0.82517483,  0.76923077,  0.76056338,  0.79432624])"
      ]
     },
     "execution_count": 6,
     "metadata": {},
     "output_type": "execute_result"
    }
   ],
   "source": [
    "from sklearn.model_selection import cross_val_score\n",
    "\n",
    "logistic = LogisticRegression(C=15)\n",
    "score = cross_val_score(logistic, X, y, cv=5)\n",
    "score"
   ]
  },
  {
   "cell_type": "markdown",
   "metadata": {},
   "source": [
    "决策树"
   ]
  },
  {
   "cell_type": "code",
   "execution_count": 10,
   "metadata": {
    "collapsed": false
   },
   "outputs": [
    {
     "name": "stdout",
     "output_type": "stream",
     "text": [
      "GridSearchCV result:\n",
      "split1_test_score: [ 0.73417722  0.57383966  0.60337553  0.69198312]\n",
      "split0_train_score: [ 1.  1.  1.  1.]\n",
      "params: ({'criterion': 'gini', 'random_state': None, 'max_features': 'sqrt'}, {'criterion': 'gini', 'random_state': None, 'max_features': 'log2'}, {'criterion': 'entropy', 'random_state': None, 'max_features': 'sqrt'}, {'criterion': 'entropy', 'random_state': None, 'max_features': 'log2'})\n",
      "split0_test_score: [ 0.70168067  0.61764706  0.67226891  0.7394958 ]\n",
      "std_test_score: [ 0.03657508  0.04323985  0.02836692  0.05033406]\n",
      "split2_test_score: [ 0.64556962  0.67932489  0.64556962  0.81434599]\n",
      "std_fit_time: [  3.80327249e-05   1.63417574e-04   7.60866203e-05   4.11289410e-04]\n",
      "mean_train_score: [ 1.  1.  1.  1.]\n",
      "param_criterion: ['gini' 'gini' 'entropy' 'entropy']\n",
      "mean_test_score: [ 0.69382022  0.62359551  0.64044944  0.74859551]\n",
      "split1_train_score: [ 1.  1.  1.  1.]\n",
      "std_train_score: [ 0.  0.  0.  0.]\n",
      "rank_test_score: [2 4 3 1]\n",
      "mean_score_time: [ 0.00028094  0.00053334  0.00060399  0.00088874]\n",
      "split2_train_score: [ 1.  1.  1.  1.]\n",
      "param_random_state: [None None None None]\n",
      "std_score_time: [  1.15205498e-05   1.11335775e-05   8.83072578e-05   5.24449934e-04]\n",
      "param_max_features: ['sqrt' 'log2' 'sqrt' 'log2']\n",
      "mean_fit_time: [ 0.00088676  0.00139427  0.00162156  0.00194224]\n",
      "\n",
      "best estimator:\n",
      "DecisionTreeClassifier(class_weight=None, criterion='entropy', max_depth=None,\n",
      "            max_features='log2', max_leaf_nodes=None,\n",
      "            min_impurity_split=1e-07, min_samples_leaf=1,\n",
      "            min_samples_split=2, min_weight_fraction_leaf=0.0,\n",
      "            presort=False, random_state=None, splitter='best')\n"
     ]
    }
   ],
   "source": [
    "from sklearn.tree import DecisionTreeClassifier\n",
    "\n",
    "dt = DecisionTreeClassifier()\n",
    "estimator = GridSearchCV(dt, {'criterion':['gini', 'entropy'], 'max_features':['sqrt', 'log2'], 'random_state':[None]})\n",
    "estimator.fit(X, y)\n",
    "\n",
    "print('GridSearchCV result:')\n",
    "for key in estimator.cv_results_:\n",
    "    print(key, ': ', estimator.cv_results_[key], sep='')\n",
    "\n",
    "print()\n",
    "print('best estimator:')\n",
    "print(estimator.best_estimator_)"
   ]
  },
  {
   "cell_type": "code",
   "execution_count": 25,
   "metadata": {
    "collapsed": false
   },
   "outputs": [
    {
     "data": {
      "text/plain": [
       "array([ 0.6013986 ,  0.76223776,  0.69230769,  0.79577465,  0.81560284])"
      ]
     },
     "execution_count": 25,
     "metadata": {},
     "output_type": "execute_result"
    }
   ],
   "source": [
    "from sklearn.model_selection import cross_val_score\n",
    "\n",
    "dt = DecisionTreeClassifier(criterion='entropy', max_features='log2')\n",
    "score = cross_val_score(dt, X, y, cv=5)\n",
    "score"
   ]
  },
  {
   "cell_type": "markdown",
   "metadata": {},
   "source": [
    "SVM"
   ]
  },
  {
   "cell_type": "code",
   "execution_count": 27,
   "metadata": {
    "collapsed": false
   },
   "outputs": [
    {
     "name": "stdout",
     "output_type": "stream",
     "text": [
      "GridSearchCV result:\n",
      "split1_test_score: [ 0.64135021  0.7257384   0.77637131]\n",
      "split0_train_score: [ 0.40506329  0.66244726  0.66666667]\n",
      "param_C: [0.1 1 10]\n",
      "split0_test_score: [ 0.6302521   0.68907563  0.68487395]\n",
      "std_test_score: [ 0.01977774  0.04690109  0.07401925]\n",
      "split2_test_score: [ 0.59493671  0.80168776  0.59493671]\n",
      "std_fit_time: [ 0.00245065  0.00146884  0.00016433]\n",
      "mean_train_score: [ 0.60379303  0.72537716  0.70152047]\n",
      "mean_test_score: [ 0.62219101  0.73876404  0.68539326]\n",
      "split1_train_score: [ 0.68631579  0.72631579  0.8       ]\n",
      "std_train_score: [ 0.1411944   0.05100317  0.07061926]\n",
      "rank_test_score: [3 1 2]\n",
      "mean_score_time: [ 0.0007844   0.00031964  0.00028841]\n",
      "params: ({'C': 0.1}, {'C': 1}, {'C': 10})\n",
      "split2_train_score: [ 0.72        0.78736842  0.63789474]\n",
      "std_score_time: [  3.56974163e-04   3.33975178e-06   1.88097334e-05]\n",
      "mean_fit_time: [ 0.02749801  0.02214766  0.01925858]\n",
      "\n",
      "best estimator:\n",
      "LinearSVC(C=1, class_weight=None, dual=True, fit_intercept=True,\n",
      "     intercept_scaling=1, loss='squared_hinge', max_iter=1000,\n",
      "     multi_class='ovr', penalty='l2', random_state=None, tol=0.0001,\n",
      "     verbose=0)\n"
     ]
    }
   ],
   "source": [
    "from sklearn.svm import LinearSVC\n",
    "\n",
    "svc = LinearSVC()\n",
    "estimator = GridSearchCV(svc, {'C':[0.1, 1, 10]})\n",
    "estimator.fit(X, y)\n",
    "\n",
    "print('GridSearchCV result:')\n",
    "for key in estimator.cv_results_:\n",
    "    print(key, ': ', estimator.cv_results_[key], sep='')\n",
    "\n",
    "print()\n",
    "print('best estimator:')\n",
    "print(estimator.best_estimator_)"
   ]
  },
  {
   "cell_type": "code",
   "execution_count": 28,
   "metadata": {
    "collapsed": false
   },
   "outputs": [
    {
     "data": {
      "text/plain": [
       "array([ 0.63636364,  0.74825175,  0.67132867,  0.59859155,  0.72340426])"
      ]
     },
     "execution_count": 28,
     "metadata": {},
     "output_type": "execute_result"
    }
   ],
   "source": [
    "from sklearn.model_selection import cross_val_score\n",
    "\n",
    "svc = LinearSVC(C=1)\n",
    "score = cross_val_score(svc, X, y, cv=5)\n",
    "score"
   ]
  },
  {
   "cell_type": "code",
   "execution_count": 30,
   "metadata": {
    "collapsed": false,
    "scrolled": false
   },
   "outputs": [
    {
     "name": "stdout",
     "output_type": "stream",
     "text": [
      "GridSearchCV result:\n",
      "split1_test_score: [ 0.59493671  0.58649789  0.57805907]\n",
      "split0_train_score: [ 0.59493671  1.          1.        ]\n",
      "param_C: [0.1 1 10]\n",
      "split0_test_score: [ 0.59663866  0.59663866  0.59663866]\n",
      "std_test_score: [ 0.00080287  0.00443338  0.00838411]\n",
      "split2_test_score: [ 0.59493671  0.59493671  0.59493671]\n",
      "std_fit_time: [ 0.00398653  0.00125181  0.00037104]\n",
      "mean_train_score: [ 0.59550522  1.          1.        ]\n",
      "mean_test_score: [ 0.59550562  0.59269663  0.58988764]\n",
      "split1_train_score: [ 0.59578947  1.          1.        ]\n",
      "std_train_score: [ 0.000402  0.        0.      ]\n",
      "rank_test_score: [1 2 3]\n",
      "mean_score_time: [ 0.00313775  0.00228906  0.00201567]\n",
      "params: ({'C': 0.1}, {'C': 1}, {'C': 10})\n",
      "split2_train_score: [ 0.59578947  1.          1.        ]\n",
      "std_score_time: [  6.27365057e-04   3.31466369e-04   1.15828796e-05]\n",
      "mean_fit_time: [ 0.01238529  0.0093116   0.00955502]\n",
      "\n",
      "best estimator:\n",
      "SVC(C=0.1, cache_size=200, class_weight=None, coef0=0.0,\n",
      "  decision_function_shape=None, degree=3, gamma='auto', kernel='rbf',\n",
      "  max_iter=-1, probability=False, random_state=None, shrinking=True,\n",
      "  tol=0.001, verbose=False)\n"
     ]
    }
   ],
   "source": [
    "from sklearn.svm import SVC\n",
    "\n",
    "svc = SVC()\n",
    "estimator = GridSearchCV(svc, {'C':[0.1, 1, 10]})\n",
    "estimator.fit(X, y)\n",
    "\n",
    "print('GridSearchCV result:')\n",
    "for key in estimator.cv_results_:\n",
    "    print(key, ': ', estimator.cv_results_[key], sep='')\n",
    "\n",
    "print()\n",
    "print('best estimator:')\n",
    "print(estimator.best_estimator_)"
   ]
  },
  {
   "cell_type": "code",
   "execution_count": 33,
   "metadata": {
    "collapsed": false
   },
   "outputs": [
    {
     "data": {
      "text/plain": [
       "array([ 0.59440559,  0.59440559,  0.59440559,  0.59859155,  0.59574468])"
      ]
     },
     "execution_count": 33,
     "metadata": {},
     "output_type": "execute_result"
    }
   ],
   "source": [
    "from sklearn.model_selection import cross_val_score\n",
    "\n",
    "svc = SVC(C=0.1)\n",
    "score = cross_val_score(svc, X, y, cv=5)\n",
    "score"
   ]
  },
  {
   "cell_type": "code",
   "execution_count": null,
   "metadata": {
    "collapsed": true
   },
   "outputs": [],
   "source": []
  },
  {
   "cell_type": "code",
   "execution_count": 37,
   "metadata": {
    "collapsed": false
   },
   "outputs": [
    {
     "name": "stdout",
     "output_type": "stream",
     "text": [
      "GridSearchCV result:\n",
      "split1_test_score: [ 0.75949367  0.78902954  0.76371308  0.70886076  0.76793249  0.76371308]\n",
      "split0_train_score: [ 0.97257384  0.98523207  0.9978903   0.97046414  1.          0.99578059]\n",
      "params: ({'criterion': 'gini', 'n_estimators': 5}, {'criterion': 'gini', 'n_estimators': 10}, {'criterion': 'gini', 'n_estimators': 20}, {'criterion': 'entropy', 'n_estimators': 5}, {'criterion': 'entropy', 'n_estimators': 10}, {'criterion': 'entropy', 'n_estimators': 20})\n",
      "param_n_estimators: [5 10 20 5 10 20]\n",
      "split0_test_score: [ 0.74789916  0.62605042  0.65546218  0.71848739  0.66806723  0.72268908]\n",
      "std_test_score: [ 0.00990747  0.08003531  0.07086535  0.03374707  0.05540263  0.03398631]\n",
      "split2_test_score: [ 0.7721519   0.80168776  0.82700422  0.78481013  0.79746835  0.80590717]\n",
      "std_fit_time: [ 0.0005407   0.00567891  0.0013495   0.00109993  0.00036423  0.00020458]\n",
      "mean_train_score: [ 0.96770005  0.98314753  0.99438448  0.97261085  0.99298246  0.99578651]\n",
      "param_criterion: ['gini' 'gini' 'gini' 'entropy' 'entropy' 'entropy']\n",
      "mean_test_score: [ 0.75983146  0.73876404  0.74859551  0.73735955  0.74438202  0.76404494]\n",
      "split1_train_score: [ 0.96631579  0.98526316  0.99157895  0.97894737  0.99368421  0.99578947]\n",
      "std_train_score: [  3.55184358e-03   2.96999076e-03   2.62374618e-03   4.55756707e-03\n",
      "   6.03671949e-03   4.18747076e-06]\n",
      "rank_test_score: [2 5 3 6 4 1]\n",
      "mean_score_time: [ 0.00344634  0.00269286  0.00260099  0.00142757  0.00157698  0.00253161]\n",
      "split2_train_score: [ 0.96421053  0.97894737  0.99368421  0.96842105  0.98526316  0.99578947]\n",
      "std_score_time: [  2.57680271e-03   1.60526818e-03   9.21831047e-05   5.05346625e-04\n",
      "   2.75607019e-05   3.75372788e-05]\n",
      "mean_fit_time: [ 0.01398698  0.01860841  0.02976998  0.01044067  0.01863766  0.03087401]\n",
      "\n",
      "best estimator:\n",
      "RandomForestClassifier(bootstrap=True, class_weight=None, criterion='entropy',\n",
      "            max_depth=None, max_features='auto', max_leaf_nodes=None,\n",
      "            min_impurity_split=1e-07, min_samples_leaf=1,\n",
      "            min_samples_split=2, min_weight_fraction_leaf=0.0,\n",
      "            n_estimators=20, n_jobs=1, oob_score=False, random_state=None,\n",
      "            verbose=0, warm_start=False)\n"
     ]
    }
   ],
   "source": [
    "from sklearn.ensemble import RandomForestClassifier\n",
    "\n",
    "rfc = RandomForestClassifier()\n",
    "estimator = GridSearchCV(rfc, {'n_estimators':[5, 10, 20], 'criterion':['gini', 'entropy']})\n",
    "estimator.fit(X, y)\n",
    "\n",
    "print('GridSearchCV result:')\n",
    "for key in estimator.cv_results_:\n",
    "    print(key, ': ', estimator.cv_results_[key], sep='')\n",
    "\n",
    "print()\n",
    "print('best estimator:')\n",
    "print(estimator.best_estimator_)"
   ]
  },
  {
   "cell_type": "code",
   "execution_count": 47,
   "metadata": {
    "collapsed": false
   },
   "outputs": [
    {
     "data": {
      "text/plain": [
       "array([ 0.6013986 ,  0.8041958 ,  0.79020979,  0.8028169 ,  0.82978723])"
      ]
     },
     "execution_count": 47,
     "metadata": {},
     "output_type": "execute_result"
    }
   ],
   "source": [
    "from sklearn.model_selection import cross_val_score\n",
    "\n",
    "rfc = RandomForestClassifier(n_estimators=10, criterion='gini')\n",
    "score = cross_val_score(rfc, X, y, cv=5)\n",
    "score"
   ]
  }
 ],
 "metadata": {
  "kernelspec": {
   "display_name": "Python 3",
   "language": "python",
   "name": "python3"
  },
  "language_info": {
   "codemirror_mode": {
    "name": "ipython",
    "version": 3
   },
   "file_extension": ".py",
   "mimetype": "text/x-python",
   "name": "python",
   "nbconvert_exporter": "python",
   "pygments_lexer": "ipython3",
   "version": "3.6.0"
  }
 },
 "nbformat": 4,
 "nbformat_minor": 2
}
