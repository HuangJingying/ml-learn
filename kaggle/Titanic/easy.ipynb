{
 "cells": [
  {
   "cell_type": "code",
   "execution_count": 1,
   "metadata": {
    "collapsed": false
   },
   "outputs": [],
   "source": [
    "import pandas as pd\n",
    "import numpy as np\n",
    "import matplotlib.pyplot as plt\n",
    "\n",
    "%matplotlib inline"
   ]
  },
  {
   "cell_type": "code",
   "execution_count": 177,
   "metadata": {
    "collapsed": false
   },
   "outputs": [
    {
     "name": "stdout",
     "output_type": "stream",
     "text": [
      "(891, 12)\n"
     ]
    },
    {
     "data": {
      "text/html": [
       "<div>\n",
       "<style>\n",
       "    .dataframe thead tr:only-child th {\n",
       "        text-align: right;\n",
       "    }\n",
       "\n",
       "    .dataframe thead th {\n",
       "        text-align: left;\n",
       "    }\n",
       "\n",
       "    .dataframe tbody tr th {\n",
       "        vertical-align: top;\n",
       "    }\n",
       "</style>\n",
       "<table border=\"1\" class=\"dataframe\">\n",
       "  <thead>\n",
       "    <tr style=\"text-align: right;\">\n",
       "      <th></th>\n",
       "      <th>PassengerId</th>\n",
       "      <th>Survived</th>\n",
       "      <th>Pclass</th>\n",
       "      <th>Name</th>\n",
       "      <th>Sex</th>\n",
       "      <th>Age</th>\n",
       "      <th>SibSp</th>\n",
       "      <th>Parch</th>\n",
       "      <th>Ticket</th>\n",
       "      <th>Fare</th>\n",
       "      <th>Cabin</th>\n",
       "      <th>Embarked</th>\n",
       "    </tr>\n",
       "  </thead>\n",
       "  <tbody>\n",
       "    <tr>\n",
       "      <th>0</th>\n",
       "      <td>1</td>\n",
       "      <td>0</td>\n",
       "      <td>3</td>\n",
       "      <td>Braund, Mr. Owen Harris</td>\n",
       "      <td>male</td>\n",
       "      <td>22.0</td>\n",
       "      <td>1</td>\n",
       "      <td>0</td>\n",
       "      <td>A/5 21171</td>\n",
       "      <td>7.2500</td>\n",
       "      <td>NaN</td>\n",
       "      <td>S</td>\n",
       "    </tr>\n",
       "    <tr>\n",
       "      <th>1</th>\n",
       "      <td>2</td>\n",
       "      <td>1</td>\n",
       "      <td>1</td>\n",
       "      <td>Cumings, Mrs. John Bradley (Florence Briggs Th...</td>\n",
       "      <td>female</td>\n",
       "      <td>38.0</td>\n",
       "      <td>1</td>\n",
       "      <td>0</td>\n",
       "      <td>PC 17599</td>\n",
       "      <td>71.2833</td>\n",
       "      <td>C85</td>\n",
       "      <td>C</td>\n",
       "    </tr>\n",
       "    <tr>\n",
       "      <th>2</th>\n",
       "      <td>3</td>\n",
       "      <td>1</td>\n",
       "      <td>3</td>\n",
       "      <td>Heikkinen, Miss. Laina</td>\n",
       "      <td>female</td>\n",
       "      <td>26.0</td>\n",
       "      <td>0</td>\n",
       "      <td>0</td>\n",
       "      <td>STON/O2. 3101282</td>\n",
       "      <td>7.9250</td>\n",
       "      <td>NaN</td>\n",
       "      <td>S</td>\n",
       "    </tr>\n",
       "    <tr>\n",
       "      <th>3</th>\n",
       "      <td>4</td>\n",
       "      <td>1</td>\n",
       "      <td>1</td>\n",
       "      <td>Futrelle, Mrs. Jacques Heath (Lily May Peel)</td>\n",
       "      <td>female</td>\n",
       "      <td>35.0</td>\n",
       "      <td>1</td>\n",
       "      <td>0</td>\n",
       "      <td>113803</td>\n",
       "      <td>53.1000</td>\n",
       "      <td>C123</td>\n",
       "      <td>S</td>\n",
       "    </tr>\n",
       "    <tr>\n",
       "      <th>4</th>\n",
       "      <td>5</td>\n",
       "      <td>0</td>\n",
       "      <td>3</td>\n",
       "      <td>Allen, Mr. William Henry</td>\n",
       "      <td>male</td>\n",
       "      <td>35.0</td>\n",
       "      <td>0</td>\n",
       "      <td>0</td>\n",
       "      <td>373450</td>\n",
       "      <td>8.0500</td>\n",
       "      <td>NaN</td>\n",
       "      <td>S</td>\n",
       "    </tr>\n",
       "  </tbody>\n",
       "</table>\n",
       "</div>"
      ],
      "text/plain": [
       "   PassengerId  Survived  Pclass  \\\n",
       "0            1         0       3   \n",
       "1            2         1       1   \n",
       "2            3         1       3   \n",
       "3            4         1       1   \n",
       "4            5         0       3   \n",
       "\n",
       "                                                Name     Sex   Age  SibSp  \\\n",
       "0                            Braund, Mr. Owen Harris    male  22.0      1   \n",
       "1  Cumings, Mrs. John Bradley (Florence Briggs Th...  female  38.0      1   \n",
       "2                             Heikkinen, Miss. Laina  female  26.0      0   \n",
       "3       Futrelle, Mrs. Jacques Heath (Lily May Peel)  female  35.0      1   \n",
       "4                           Allen, Mr. William Henry    male  35.0      0   \n",
       "\n",
       "   Parch            Ticket     Fare Cabin Embarked  \n",
       "0      0         A/5 21171   7.2500   NaN        S  \n",
       "1      0          PC 17599  71.2833   C85        C  \n",
       "2      0  STON/O2. 3101282   7.9250   NaN        S  \n",
       "3      0            113803  53.1000  C123        S  \n",
       "4      0            373450   8.0500   NaN        S  "
      ]
     },
     "execution_count": 177,
     "metadata": {},
     "output_type": "execute_result"
    }
   ],
   "source": [
    "data_train = pd.read_csv('input/train.csv')\n",
    "\n",
    "print(data_train.shape)\n",
    "data_train.head()"
   ]
  },
  {
   "cell_type": "markdown",
   "metadata": {},
   "source": [
    "去除“无用”的列，标称型数据转换。"
   ]
  },
  {
   "cell_type": "code",
   "execution_count": 182,
   "metadata": {
    "collapsed": false
   },
   "outputs": [
    {
     "name": "stdout",
     "output_type": "stream",
     "text": [
      "(712, 9)\n"
     ]
    },
    {
     "data": {
      "text/html": [
       "<div>\n",
       "<style>\n",
       "    .dataframe thead tr:only-child th {\n",
       "        text-align: right;\n",
       "    }\n",
       "\n",
       "    .dataframe thead th {\n",
       "        text-align: left;\n",
       "    }\n",
       "\n",
       "    .dataframe tbody tr th {\n",
       "        vertical-align: top;\n",
       "    }\n",
       "</style>\n",
       "<table border=\"1\" class=\"dataframe\">\n",
       "  <thead>\n",
       "    <tr style=\"text-align: right;\">\n",
       "      <th></th>\n",
       "      <th>PassengerId</th>\n",
       "      <th>Survived</th>\n",
       "      <th>Pclass</th>\n",
       "      <th>Sex</th>\n",
       "      <th>Age</th>\n",
       "      <th>SibSp</th>\n",
       "      <th>Parch</th>\n",
       "      <th>Fare</th>\n",
       "      <th>Embarked</th>\n",
       "    </tr>\n",
       "  </thead>\n",
       "  <tbody>\n",
       "    <tr>\n",
       "      <th>0</th>\n",
       "      <td>1</td>\n",
       "      <td>0</td>\n",
       "      <td>3</td>\n",
       "      <td>0</td>\n",
       "      <td>22.0</td>\n",
       "      <td>1</td>\n",
       "      <td>0</td>\n",
       "      <td>7.2500</td>\n",
       "      <td>0.0</td>\n",
       "    </tr>\n",
       "    <tr>\n",
       "      <th>1</th>\n",
       "      <td>2</td>\n",
       "      <td>1</td>\n",
       "      <td>1</td>\n",
       "      <td>1</td>\n",
       "      <td>38.0</td>\n",
       "      <td>1</td>\n",
       "      <td>0</td>\n",
       "      <td>71.2833</td>\n",
       "      <td>1.0</td>\n",
       "    </tr>\n",
       "    <tr>\n",
       "      <th>2</th>\n",
       "      <td>3</td>\n",
       "      <td>1</td>\n",
       "      <td>3</td>\n",
       "      <td>1</td>\n",
       "      <td>26.0</td>\n",
       "      <td>0</td>\n",
       "      <td>0</td>\n",
       "      <td>7.9250</td>\n",
       "      <td>0.0</td>\n",
       "    </tr>\n",
       "    <tr>\n",
       "      <th>3</th>\n",
       "      <td>4</td>\n",
       "      <td>1</td>\n",
       "      <td>1</td>\n",
       "      <td>1</td>\n",
       "      <td>35.0</td>\n",
       "      <td>1</td>\n",
       "      <td>0</td>\n",
       "      <td>53.1000</td>\n",
       "      <td>0.0</td>\n",
       "    </tr>\n",
       "    <tr>\n",
       "      <th>4</th>\n",
       "      <td>5</td>\n",
       "      <td>0</td>\n",
       "      <td>3</td>\n",
       "      <td>0</td>\n",
       "      <td>35.0</td>\n",
       "      <td>0</td>\n",
       "      <td>0</td>\n",
       "      <td>8.0500</td>\n",
       "      <td>0.0</td>\n",
       "    </tr>\n",
       "  </tbody>\n",
       "</table>\n",
       "</div>"
      ],
      "text/plain": [
       "   PassengerId  Survived  Pclass  Sex   Age  SibSp  Parch     Fare  Embarked\n",
       "0            1         0       3    0  22.0      1      0   7.2500       0.0\n",
       "1            2         1       1    1  38.0      1      0  71.2833       1.0\n",
       "2            3         1       3    1  26.0      0      0   7.9250       0.0\n",
       "3            4         1       1    1  35.0      1      0  53.1000       0.0\n",
       "4            5         0       3    0  35.0      0      0   8.0500       0.0"
      ]
     },
     "execution_count": 182,
     "metadata": {},
     "output_type": "execute_result"
    }
   ],
   "source": [
    "m = {'Sex': {'male': 0, 'female': 1}, 'Embarked': {'S': 0, 'C': 1, 'Q': 2}}\n",
    "\n",
    "data_train_basic = data_train.drop(['Name', 'Ticket', 'Cabin'], axis=1)\n",
    "data_train_basic = data_train_basic.replace(m)\n",
    "\n",
    "data_train_basic = data_train_basic.dropna(axis=0, how='any')\n",
    "\n",
    "print(data_train_basic.shape)\n",
    "data_train_basic.head()"
   ]
  },
  {
   "cell_type": "code",
   "execution_count": 184,
   "metadata": {
    "collapsed": false
   },
   "outputs": [
    {
     "name": "stdout",
     "output_type": "stream",
     "text": [
      "X shape:  (712, 8)\n",
      "y shape:  (712,)\n"
     ]
    }
   ],
   "source": [
    "X = data_train_basic.drop('Survived', axis=1).values\n",
    "y = data_train_basic.loc[:, 'Survived'].values\n",
    "\n",
    "print('X shape: ', X.shape)\n",
    "print('y shape: ', y.shape)"
   ]
  },
  {
   "cell_type": "markdown",
   "metadata": {},
   "source": [
    "逻辑回归，通过GridSearchCV选择参数"
   ]
  },
  {
   "cell_type": "code",
   "execution_count": 202,
   "metadata": {
    "collapsed": false
   },
   "outputs": [
    {
     "name": "stdout",
     "output_type": "stream",
     "text": [
      "GridSearchCV result:\n",
      "split0_test_score: [ 0.79411765  0.79831933  0.80252101  0.79831933  0.80252101]\n",
      "split1_test_score: [ 0.78481013  0.78902954  0.78902954  0.78902954  0.78902954]\n",
      "split2_test_score: [ 0.78059072  0.78481013  0.78481013  0.78481013  0.78059072]\n",
      "mean_test_score: [ 0.78651685  0.79073034  0.79213483  0.79073034  0.79073034]\n",
      "std_test_score: [ 0.00565429  0.00564632  0.00755824  0.00564632  0.00903634]\n",
      "rank_test_score: [5 2 1 2 2]\n",
      "split0_train_score: [ 0.80590717  0.80590717  0.80590717  0.80801688  0.81012658]\n",
      "split1_train_score: [ 0.78947368  0.80210526  0.80210526  0.80421053  0.80421053]\n",
      "split2_train_score: [ 0.79157895  0.80210526  0.8         0.8         0.8       ]\n",
      "mean_train_score: [ 0.79565327  0.80337257  0.80267081  0.8040758   0.80477904]\n",
      "std_train_score: [ 0.00730137  0.00179224  0.00244453  0.00327426  0.00415366]\n",
      "mean_fit_time: [ 0.00233324  0.00283329  0.00199993  0.00183336  0.00166678]\n",
      "std_fit_time: [  8.49884092e-04   6.23543135e-04   1.12391596e-07   2.35629001e-04\n",
      "   2.35685257e-04]\n",
      "mean_score_time: [ 0.00049996  0.00050004  0.          0.00016665  0.00033331]\n",
      "std_score_time: [  0.00000000e+00   1.12391596e-07   0.00000000e+00   2.35685177e-04\n",
      "   2.35685177e-04]\n",
      "param_C: [1 10 15 20 50]\n",
      "params: ({'C': 1}, {'C': 10}, {'C': 15}, {'C': 20}, {'C': 50})\n",
      "\n",
      "best estimator:\n",
      "LogisticRegression(C=15, class_weight=None, dual=False, fit_intercept=True,\n",
      "          intercept_scaling=1, max_iter=100, multi_class='ovr', n_jobs=1,\n",
      "          penalty='l2', random_state=None, solver='liblinear', tol=0.0001,\n",
      "          verbose=0, warm_start=False)\n"
     ]
    }
   ],
   "source": [
    "from sklearn.linear_model import LogisticRegression\n",
    "from sklearn.model_selection import GridSearchCV\n",
    "\n",
    "logistic = LogisticRegression()\n",
    "estimator = GridSearchCV(logistic, {'C':[1, 10, 15, 20, 50]})\n",
    "estimator.fit(X, y)\n",
    "\n",
    "print('GridSearchCV result:')\n",
    "for key in estimator.cv_results_:\n",
    "    print(key, ': ', estimator.cv_results_[key], sep='')\n",
    "\n",
    "print()\n",
    "print('best estimator:')\n",
    "print(estimator.best_estimator_)"
   ]
  },
  {
   "cell_type": "markdown",
   "metadata": {},
   "source": [
    "交叉验证cross_val_score"
   ]
  },
  {
   "cell_type": "code",
   "execution_count": 217,
   "metadata": {
    "collapsed": false
   },
   "outputs": [
    {
     "data": {
      "text/plain": [
       "array([ 0.74825175,  0.82517483,  0.76923077,  0.76056338,  0.79432624])"
      ]
     },
     "execution_count": 217,
     "metadata": {},
     "output_type": "execute_result"
    }
   ],
   "source": [
    "from sklearn.model_selection import cross_val_score\n",
    "\n",
    "logistic = LogisticRegression(C=15)\n",
    "score = cross_val_score(logistic, X, y, cv=5)\n",
    "score"
   ]
  },
  {
   "cell_type": "markdown",
   "metadata": {},
   "source": [
    "决策树"
   ]
  },
  {
   "cell_type": "code",
   "execution_count": 251,
   "metadata": {
    "collapsed": false
   },
   "outputs": [
    {
     "name": "stdout",
     "output_type": "stream",
     "text": [
      "GridSearchCV result:\n",
      "split0_test_score: [ 0.58823529  0.60504202  0.59663866  0.68487395]\n",
      "split1_test_score: [ 0.69198312  0.75949367  0.65400844  0.72995781]\n",
      "split2_test_score: [ 0.73839662  0.77637131  0.75949367  0.67932489]\n",
      "mean_test_score: [ 0.67275281  0.71348315  0.66994382  0.69803371]\n",
      "std_test_score: [ 0.06281088  0.07714893  0.06745427  0.02266356]\n",
      "rank_test_score: [3 1 4 2]\n",
      "split0_train_score: [ 1.  1.  1.  1.]\n",
      "split1_train_score: [ 1.  1.  1.  1.]\n",
      "split2_train_score: [ 1.  1.  1.  1.]\n",
      "mean_train_score: [ 1.  1.  1.  1.]\n",
      "std_train_score: [ 0.  0.  0.  0.]\n",
      "mean_fit_time: [ 0.00149989  0.00149989  0.00116674  0.00100001]\n",
      "std_fit_time: [  0.00000000e+00   4.08218701e-04   2.35572866e-04   1.12391596e-07]\n",
      "mean_score_time: [ 0.00050004  0.00049996  0.00033331  0.00033339]\n",
      "std_score_time: [  1.12391596e-07   0.00000000e+00   2.35685177e-04   2.35741393e-04]\n",
      "param_criterion: ['gini' 'gini' 'entropy' 'entropy']\n",
      "param_max_features: ['sqrt' 'log2' 'sqrt' 'log2']\n",
      "param_random_state: [None None None None]\n",
      "params: ({'criterion': 'gini', 'max_features': 'sqrt', 'random_state': None}, {'criterion': 'gini', 'max_features': 'log2', 'random_state': None}, {'criterion': 'entropy', 'max_features': 'sqrt', 'random_state': None}, {'criterion': 'entropy', 'max_features': 'log2', 'random_state': None})\n",
      "\n",
      "best estimator:\n",
      "DecisionTreeClassifier(class_weight=None, criterion='gini', max_depth=None,\n",
      "            max_features='log2', max_leaf_nodes=None,\n",
      "            min_impurity_split=1e-07, min_samples_leaf=1,\n",
      "            min_samples_split=2, min_weight_fraction_leaf=0.0,\n",
      "            presort=False, random_state=None, splitter='best')\n"
     ]
    }
   ],
   "source": [
    "from sklearn.tree import DecisionTreeClassifier\n",
    "\n",
    "dt = DecisionTreeClassifier()\n",
    "estimator = GridSearchCV(dt, {'criterion':['gini', 'entropy'], 'max_features':['sqrt', 'log2'], 'random_state':[None]})\n",
    "estimator.fit(X, y)\n",
    "\n",
    "print('GridSearchCV result:')\n",
    "for key in estimator.cv_results_:\n",
    "    print(key, ': ', estimator.cv_results_[key], sep='')\n",
    "\n",
    "print()\n",
    "print('best estimator:')\n",
    "print(estimator.best_estimator_)"
   ]
  },
  {
   "cell_type": "code",
   "execution_count": 252,
   "metadata": {
    "collapsed": false
   },
   "outputs": [
    {
     "data": {
      "text/plain": [
       "array([ 0.6013986 ,  0.74125874,  0.66433566,  0.78873239,  0.80141844])"
      ]
     },
     "execution_count": 252,
     "metadata": {},
     "output_type": "execute_result"
    }
   ],
   "source": [
    "from sklearn.model_selection import cross_val_score\n",
    "\n",
    "dt = DecisionTreeClassifier(criterion='gini', max_features='log2')\n",
    "score = cross_val_score(dt, X, y, cv=5)\n",
    "score"
   ]
  },
  {
   "cell_type": "markdown",
   "metadata": {},
   "source": [
    "SVM"
   ]
  },
  {
   "cell_type": "code",
   "execution_count": 308,
   "metadata": {
    "collapsed": false
   },
   "outputs": [
    {
     "name": "stdout",
     "output_type": "stream",
     "text": [
      "GridSearchCV result:\n",
      "split0_test_score: [ 0.64285714  0.71008403  0.69747899]\n",
      "split1_test_score: [ 0.6371308   0.40506329  0.78059072]\n",
      "split2_test_score: [ 0.40506329  0.60759494  0.73839662]\n",
      "mean_test_score: [ 0.56179775  0.5744382   0.73876404]\n",
      "std_test_score: [ 0.11073597  0.12675024  0.03394305]\n",
      "rank_test_score: [3 2 1]\n",
      "split0_train_score: [ 0.62447257  0.48945148  0.54219409]\n",
      "split1_train_score: [ 0.64421053  0.50315789  0.78947368]\n",
      "split2_train_score: [ 0.52842105  0.68        0.78526316]\n",
      "mean_train_score: [ 0.59903472  0.55753646  0.70564364]\n",
      "std_train_score: [ 0.05057743  0.0867754   0.11558907]\n",
      "mean_fit_time: [ 0.02783895  0.02583838  0.02600503]\n",
      "std_fit_time: [  1.92968122e-03   2.35853784e-04   1.94667955e-07]\n",
      "mean_score_time: [ 0.00050004  0.00016673  0.00033347]\n",
      "std_score_time: [  1.12391596e-07   2.35797568e-04   2.35797649e-04]\n",
      "param_C: [0.1 1 10]\n",
      "params: ({'C': 0.1}, {'C': 1}, {'C': 10})\n",
      "\n",
      "best estimator:\n",
      "LinearSVC(C=10, class_weight=None, dual=True, fit_intercept=True,\n",
      "     intercept_scaling=1, loss='squared_hinge', max_iter=1000,\n",
      "     multi_class='ovr', penalty='l2', random_state=None, tol=0.0001,\n",
      "     verbose=0)\n"
     ]
    }
   ],
   "source": [
    "from sklearn.svm import LinearSVC\n",
    "\n",
    "svc = LinearSVC()\n",
    "estimator = GridSearchCV(svc, {'C':[0.1, 1, 10]})\n",
    "estimator.fit(X, y)\n",
    "\n",
    "print('GridSearchCV result:')\n",
    "for key in estimator.cv_results_:\n",
    "    print(key, ': ', estimator.cv_results_[key], sep='')\n",
    "\n",
    "print()\n",
    "print('best estimator:')\n",
    "print(estimator.best_estimator_)"
   ]
  },
  {
   "cell_type": "code",
   "execution_count": 309,
   "metadata": {
    "collapsed": false
   },
   "outputs": [
    {
     "data": {
      "text/plain": [
       "array([ 0.66433566,  0.75524476,  0.59440559,  0.75352113,  0.43262411])"
      ]
     },
     "execution_count": 309,
     "metadata": {},
     "output_type": "execute_result"
    }
   ],
   "source": [
    "from sklearn.model_selection import cross_val_score\n",
    "\n",
    "svc = LinearSVC(C=10)\n",
    "score = cross_val_score(svc, X, y, cv=5)\n",
    "score"
   ]
  },
  {
   "cell_type": "code",
   "execution_count": 312,
   "metadata": {
    "collapsed": false,
    "scrolled": false
   },
   "outputs": [
    {
     "name": "stdout",
     "output_type": "stream",
     "text": [
      "GridSearchCV result:\n",
      "split0_test_score: [ 0.59663866  0.59663866  0.59663866]\n",
      "split1_test_score: [ 0.59493671  0.58649789  0.57805907]\n",
      "split2_test_score: [ 0.59493671  0.59493671  0.59493671]\n",
      "mean_test_score: [ 0.59550562  0.59269663  0.58988764]\n",
      "std_test_score: [ 0.00080287  0.00443338  0.00838411]\n",
      "rank_test_score: [1 2 3]\n",
      "split0_train_score: [ 0.59493671  1.          1.        ]\n",
      "split1_train_score: [ 0.59578947  1.          1.        ]\n",
      "split2_train_score: [ 0.59578947  1.          1.        ]\n",
      "mean_train_score: [ 0.59550522  1.          1.        ]\n",
      "std_train_score: [ 0.000402  0.        0.      ]\n",
      "mean_fit_time: [ 0.01700338  0.01533628  0.01683672]\n",
      "std_fit_time: [ 0.00282901  0.00023585  0.00047148]\n",
      "mean_score_time: [ 0.00683475  0.0065012   0.00650136]\n",
      "std_score_time: [  4.71538951e-04   1.94667955e-07   1.12391596e-07]\n",
      "param_C: [0.1 1 10]\n",
      "params: ({'C': 0.1}, {'C': 1}, {'C': 10})\n",
      "\n",
      "best estimator:\n",
      "SVC(C=0.1, cache_size=200, class_weight=None, coef0=0.0,\n",
      "  decision_function_shape=None, degree=3, gamma='auto', kernel='rbf',\n",
      "  max_iter=-1, probability=False, random_state=None, shrinking=True,\n",
      "  tol=0.001, verbose=False)\n"
     ]
    }
   ],
   "source": [
    "from sklearn.svm import SVC\n",
    "\n",
    "svc = SVC()\n",
    "estimator = GridSearchCV(svc, {'C':[0.1, 1, 10]})\n",
    "estimator.fit(X, y)\n",
    "\n",
    "print('GridSearchCV result:')\n",
    "for key in estimator.cv_results_:\n",
    "    print(key, ': ', estimator.cv_results_[key], sep='')\n",
    "\n",
    "print()\n",
    "print('best estimator:')\n",
    "print(estimator.best_estimator_)"
   ]
  },
  {
   "cell_type": "code",
   "execution_count": 313,
   "metadata": {
    "collapsed": false
   },
   "outputs": [
    {
     "data": {
      "text/plain": [
       "array([ 0.59440559,  0.59440559,  0.59440559,  0.59859155,  0.59574468])"
      ]
     },
     "execution_count": 313,
     "metadata": {},
     "output_type": "execute_result"
    }
   ],
   "source": [
    "from sklearn.model_selection import cross_val_score\n",
    "\n",
    "svc = SVC(C=0.1)\n",
    "score = cross_val_score(svc, X, y, cv=5)\n",
    "score"
   ]
  }
 ],
 "metadata": {
  "kernelspec": {
   "display_name": "Python 3",
   "language": "python",
   "name": "python3"
  },
  "language_info": {
   "codemirror_mode": {
    "name": "ipython",
    "version": 3
   },
   "file_extension": ".py",
   "mimetype": "text/x-python",
   "name": "python",
   "nbconvert_exporter": "python",
   "pygments_lexer": "ipython3",
   "version": "3.6.0"
  }
 },
 "nbformat": 4,
 "nbformat_minor": 2
}
