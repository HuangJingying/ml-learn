{
 "cells": [
  {
   "cell_type": "markdown",
   "metadata": {},
   "source": [
    "主成分分析（PCA：Principal Component Analysis）是经常使用的一个降维方法。该notebook是对[Principal Component Analysis in 3 Simple Steps](http://sebastianraschka.com/Articles/2015_pca_in_3_steps.html)的学习记录、补充和翻译，原文章对PCA内部的实现分解成3步，以方便理解其原理。\n",
    "\n",
    "三个步骤分别为：\n",
    "\n",
    "1. 对协方差矩阵进行特征分解，得到特征值、特征向量\n",
    "2. 选取主成分\n",
    "3. 特征变换\n"
   ]
  },
  {
   "cell_type": "markdown",
   "metadata": {},
   "source": [
    "## Introduction\n",
    "\n",
    "现代数据的大小不仅是对计算机硬件的挑战，也是许多机器学习算法性能的主要瓶颈。 PCA分析的主要目标是识别数据中的模式; PCA旨在检测变量之间的相关性。 如果存在变量之间的强相关性，那么降低维度的尝试才有意义。 简而言之，这就是PCA所关心的：查找高维数据中最大方差的方向，并将其投影到较小维的子空间上，同时保留大部分信息。\n",
    "\n",
    "### PCA vs LDA\n",
    "\n",
    "线性判别分析（LDA：Linear Discriminant Analysis）和PCA都是线性变换方法。 PCA产生最大化数据方差的方向（主成分），而LDA还旨在找到使不同类之间的间隔最大化的方向，这可以用于模式分类问题（而PCA“忽略”数据的类别标签）。\n",
    "\n",
    "换句话说，PCA将整个数据集投射到一个不同的特征（子）空间，LDA尝试确定一个合适的特征（子）空间，以保证能够区分出不同的类别。\n",
    "\n",
    "\n",
    "### PCA and Dimensionality Reduction\n",
    "\n",
    "通常，PCA的目标是将 $ d $ 维数据集的投影到 $ k $ 维子空间（其中 $ k < d$ ），以便在减少数据集尺寸的条件下，保留大部分信息的同时增加计算效率。 这里，最重要的问题是 $ k $ 的大小如何确定？\n",
    "\n",
    "之后，我们将计算数据集的特征向量（主成分），并将它们收集到投影矩阵中。 每一个特征向量对应一个特征值，特征向量确定一个方向，特征值则可以理解为相应特征向量的“长度”或“大小”。 如果某些特征值比其他特征值大得多，那么通过丢弃“较少信息”的特征来缩减数据集到较小的维度的子空间是合理的。\n",
    "\n",
    "\n",
    "### A Summary of the PCA Approach\n",
    "\n",
    "- 标准化数据\n",
    "- 从协方差矩阵或相关矩阵中获取特征向量和特征值，或进行奇异向量分解。\n",
    "- 按降序对特征值进行排序，并选择对应于 $k$ 个最大特征值的 $k$ 个特征向量，其中 $k$ 是新特征子空间（$k≤d$）的维数。\n",
    "- 由选定的 $k$ 个特征向量构建投影矩阵 $W$\n",
    "- 通过 $W$ 转换原始数据集 $X$ 以获得 $k$ 维特征子空间 $Y$\n"
   ]
  },
  {
   "cell_type": "markdown",
   "metadata": {},
   "source": [
    "## Preparing the Iris Dataset\n",
    "\n",
    "### About Iris\n",
    "\n",
    "在后面我们将使用UCI机器学习库中着名的[“Iris”数据集](https://archive.ics.uci.edu/ml/datasets/Iris)。\n",
    "\n",
    "iris数据集来自于对3种共150株鸢尾花的测量。\n",
    "\n",
    "数据集的3个类别（标签）是：\n",
    "\n",
    "1. 山鸢尾（Iris-setosa） (n=50)\n",
    "2. 变色鸢尾（Iris-versicolor） (n=50)\n",
    "3. 维吉尼亚鸢尾（Iris-virginica） (n=50)\n",
    "\n",
    "数据集中的4个特征为：\n",
    "\n",
    "1. 萼片长度 sepal length（单位：cm）\n",
    "2. 萼片宽度 sepal width（单位：cm）\n",
    "3. 花瓣长度 petal length（cm）\n",
    "4. 花瓣宽度 petal width（cm）\n",
    "\n",
    "![iris](iris.png \"iris\")\n",
    "\n",
    "### Loading the Dataset\n",
    "\n",
    "这里用pandas库来进行数据处理。"
   ]
  },
  {
   "cell_type": "code",
   "execution_count": 6,
   "metadata": {
    "collapsed": false
   },
   "outputs": [
    {
     "data": {
      "text/html": [
       "<div>\n",
       "<style>\n",
       "    .dataframe thead tr:only-child th {\n",
       "        text-align: right;\n",
       "    }\n",
       "\n",
       "    .dataframe thead th {\n",
       "        text-align: left;\n",
       "    }\n",
       "\n",
       "    .dataframe tbody tr th {\n",
       "        vertical-align: top;\n",
       "    }\n",
       "</style>\n",
       "<table border=\"1\" class=\"dataframe\">\n",
       "  <thead>\n",
       "    <tr style=\"text-align: right;\">\n",
       "      <th></th>\n",
       "      <th>sepal_len</th>\n",
       "      <th>sepal_wid</th>\n",
       "      <th>petal_len</th>\n",
       "      <th>petal_wid</th>\n",
       "      <th>class</th>\n",
       "    </tr>\n",
       "  </thead>\n",
       "  <tbody>\n",
       "    <tr>\n",
       "      <th>145</th>\n",
       "      <td>6.7</td>\n",
       "      <td>3.0</td>\n",
       "      <td>5.2</td>\n",
       "      <td>2.3</td>\n",
       "      <td>Iris-virginica</td>\n",
       "    </tr>\n",
       "    <tr>\n",
       "      <th>146</th>\n",
       "      <td>6.3</td>\n",
       "      <td>2.5</td>\n",
       "      <td>5.0</td>\n",
       "      <td>1.9</td>\n",
       "      <td>Iris-virginica</td>\n",
       "    </tr>\n",
       "    <tr>\n",
       "      <th>147</th>\n",
       "      <td>6.5</td>\n",
       "      <td>3.0</td>\n",
       "      <td>5.2</td>\n",
       "      <td>2.0</td>\n",
       "      <td>Iris-virginica</td>\n",
       "    </tr>\n",
       "    <tr>\n",
       "      <th>148</th>\n",
       "      <td>6.2</td>\n",
       "      <td>3.4</td>\n",
       "      <td>5.4</td>\n",
       "      <td>2.3</td>\n",
       "      <td>Iris-virginica</td>\n",
       "    </tr>\n",
       "    <tr>\n",
       "      <th>149</th>\n",
       "      <td>5.9</td>\n",
       "      <td>3.0</td>\n",
       "      <td>5.1</td>\n",
       "      <td>1.8</td>\n",
       "      <td>Iris-virginica</td>\n",
       "    </tr>\n",
       "  </tbody>\n",
       "</table>\n",
       "</div>"
      ],
      "text/plain": [
       "     sepal_len  sepal_wid  petal_len  petal_wid           class\n",
       "145        6.7        3.0        5.2        2.3  Iris-virginica\n",
       "146        6.3        2.5        5.0        1.9  Iris-virginica\n",
       "147        6.5        3.0        5.2        2.0  Iris-virginica\n",
       "148        6.2        3.4        5.4        2.3  Iris-virginica\n",
       "149        5.9        3.0        5.1        1.8  Iris-virginica"
      ]
     },
     "execution_count": 6,
     "metadata": {},
     "output_type": "execute_result"
    }
   ],
   "source": [
    "import pandas as pd\n",
    "\n",
    "df = pd.read_csv(\n",
    "    filepath_or_buffer = 'input/iris.data',\n",
    "    header=None,\n",
    "    sep=',')\n",
    "\n",
    "df.columns = ['sepal_len', 'sepal_wid', 'petal_len', 'petal_wid', 'class']\n",
    "df.dropna(how = 'all', inplace = True) # drops the empty line at file-end\n",
    "\n",
    "df.tail()"
   ]
  },
  {
   "cell_type": "markdown",
   "metadata": {
    "collapsed": true
   },
   "source": [
    "将数据划分为特征 $ \\boldsymbol{X} $ 和标签 $\\boldsymbol{y} $。"
   ]
  },
  {
   "cell_type": "code",
   "execution_count": 31,
   "metadata": {
    "collapsed": false
   },
   "outputs": [
    {
     "name": "stdout",
     "output_type": "stream",
     "text": [
      "X type: <class 'numpy.ndarray'>. X shape:  (150, 4)\n",
      "y type: <class 'numpy.ndarray'>. y shape:  (150,)\n"
     ]
    }
   ],
   "source": [
    "X = df.ix[:, 0:4].values\n",
    "y = df.ix[:, 4].values\n",
    "\n",
    "print('X type: %s. X shape: ' % type(X), X.shape)\n",
    "print('y type: %s. y shape: ' % type(y), y.shape)"
   ]
  },
  {
   "cell_type": "markdown",
   "metadata": {},
   "source": [
    "可以看出iris数据共有150个样本，每个样本有4个特征和1个标签。特征 $ \\boldsymbol{X} $ 的每一行可以看成一个向量 $\\boldsymbol{x} $，其中：\n",
    "\n",
    "$$ \\boldsymbol{x} ^ \\text{T} = \\left[ \\begin{matrix} x_1 \\\\ x_2 \\\\ x_3  \\\\ x_4 \\end{matrix} \\right]  = \\left[ \\begin{matrix} \\text{sepal_length} \\\\ \\text{sepal_width} \\\\ \\text{petal_length}  \\\\ \\text{petal_width} \\end{matrix} \\right] $$"
   ]
  },
  {
   "cell_type": "markdown",
   "metadata": {},
   "source": [
    "### Exploratory Visualization\n",
    "\n",
    "为了对3种花的4个特征的分布有一个直观的认识，我们来绘制它们的直方图。"
   ]
  },
  {
   "cell_type": "code",
   "execution_count": 128,
   "metadata": {
    "collapsed": false
   },
   "outputs": [
    {
     "data": {
      "image/png": "[encoded data removed]",
      "text/plain": [
       "<matplotlib.figure.Figure at 0xbd160f0>"
      ]
     },
     "metadata": {},
     "output_type": "display_data"
    }
   ],
   "source": [
    "import matplotlib.pyplot as plt\n",
    "import numpy as np\n",
    "import math\n",
    "%matplotlib inline\n",
    "\n",
    "labels = ['Iris-setosa', 'Iris-versicolor', 'Iris-virginica']\n",
    "features = ['sepal_len', 'sepal_wid', 'petal_len', 'petal_wid']\n",
    "\n",
    "plt.figure(figsize=(14, 8))\n",
    "for cnt in range(4):\n",
    "    plt.subplot(2, 2, cnt+1)\n",
    "    for lab in labels:\n",
    "        plt.hist(X[y==lab, cnt], bins=15, alpha=0.4, label=lab)\n",
    "        plt.xlabel(features[cnt])\n",
    "    \n",
    "    plt.legend()\n",
    "plt.show()"
   ]
  },
  {
   "cell_type": "markdown",
   "metadata": {},
   "source": [
    "### Standardizing\n",
    "\n",
    "在计算协方差矩阵之前是否要进行数据标准化取决于原始特征的测量尺度。 由于PCA的特征子空间是通过最大化沿着轴方向的方差得到的，所以标准化数据是有意义的，特别是如果它是以不同的尺度进行测量的话。 虽然，Iris数据集中的所有特征都以厘米为单位，但是我们依然将数据转换为单位尺度（均值为0，方差为 1），这是许多机器学习算法的最佳性能的要求。\n"
   ]
  },
  {
   "cell_type": "code",
   "execution_count": 60,
   "metadata": {
    "collapsed": false
   },
   "outputs": [],
   "source": [
    "from sklearn.preprocessing import StandardScaler\n",
    "\n",
    "X_std = StandardScaler().fit_transform(X)"
   ]
  },
  {
   "cell_type": "markdown",
   "metadata": {},
   "source": [
    "## 1 - Eigendecomposition - Computing Eigenvectors and Eigenvalues\n",
    "\n",
    "协方差矩阵（或相关矩阵）的特征向量和特征值是PCA的“核心”：特征向量（主成分）确定新特征空间的方向，特征值决定其大小。 换句话说，特征值反映了数据沿着新特征轴方向的方差。\n",
    "\n",
    "### Covariance Matrix\n",
    "\n",
    "The classic approach to PCA is to perform the eigendecomposition on the covariance matrix $\\Sigma$, which is a $d×d$ matrix where each element represents the covariance between two features. The covariance between two features is calculated as follows:\n",
    "\n",
    "$$ \\sigma_{jk} = \\frac{1}{n-1} \\sum_{1}^{n} \\left(\\ x_{ij} - \\bar{x_{j}} \\right)\\left(\\ x_{ik} - \\bar{x_{k}} \\right) $$\n",
    "\n",
    "We can summarize the calculation of the covariance matrix via the following matrix equation: \n",
    "\n",
    "$$ \\Sigma = \\frac{1}{n-1} \\left( \\left( \\boldsymbol{X} - \\bar{x} \\right)^{\\text{T}} \\left( \\boldsymbol{X} - \\bar{x} \\right) \\right)$$\n",
    "\n",
    "where $\\bar{x} $ is the mean vector $ \\bar{x} = \\frac{1}{n} \\sum{x_i} $.\n",
    "The mean vector is a dd-dimensional vector where each value in this vector represents the sample mean of a feature column in the dataset."
   ]
  },
  {
   "cell_type": "code",
   "execution_count": 65,
   "metadata": {
    "collapsed": false
   },
   "outputs": [
    {
     "name": "stdout",
     "output_type": "stream",
     "text": [
      "Covariance Matrix: \n",
      " [[ 1.00671141 -0.11010327  0.87760486  0.82344326]\n",
      " [-0.11010327  1.00671141 -0.42333835 -0.358937  ]\n",
      " [ 0.87760486 -0.42333835  1.00671141  0.96921855]\n",
      " [ 0.82344326 -0.358937    0.96921855  1.00671141]]\n"
     ]
    }
   ],
   "source": [
    "mean_vec = np.mean(X_std, axis=0)\n",
    "\n",
    "cov_mat = (X_std - mean_vec).T.dot(X_std - mean_vec) / (X_std.shape[0] - 1)\n",
    "\n",
    "print(\"Covariance Matrix: \\n\", cov_mat)"
   ]
  },
  {
   "cell_type": "code",
   "execution_count": 68,
   "metadata": {
    "collapsed": false
   },
   "outputs": [
    {
     "name": "stdout",
     "output_type": "stream",
     "text": [
      "Covariance Matrix: \n",
      " [[ 1.00671141 -0.11010327  0.87760486  0.82344326]\n",
      " [-0.11010327  1.00671141 -0.42333835 -0.358937  ]\n",
      " [ 0.87760486 -0.42333835  1.00671141  0.96921855]\n",
      " [ 0.82344326 -0.358937    0.96921855  1.00671141]]\n"
     ]
    }
   ],
   "source": [
    "cov_mat2 = np.cov(X_std.T)\n",
    "print(\"Covariance Matrix: \\n\", cov_mat2)"
   ]
  },
  {
   "cell_type": "code",
   "execution_count": 71,
   "metadata": {
    "collapsed": false
   },
   "outputs": [
    {
     "name": "stdout",
     "output_type": "stream",
     "text": [
      "Eigenvectors: \n",
      " [[ 0.52237162 -0.37231836 -0.72101681  0.26199559]\n",
      " [-0.26335492 -0.92555649  0.24203288 -0.12413481]\n",
      " [ 0.58125401 -0.02109478  0.14089226 -0.80115427]\n",
      " [ 0.56561105 -0.06541577  0.6338014   0.52354627]]\n",
      "EigenValues: \n",
      " [ 2.93035378  0.92740362  0.14834223  0.02074601]\n"
     ]
    }
   ],
   "source": [
    "eig_vals, eig_vecs = np.linalg.eig(cov_mat)\n",
    "\n",
    "print(\"Eigenvectors: \\n\", eig_vecs)\n",
    "print(\"EigenValues: \\n\", eig_vals)"
   ]
  },
  {
   "cell_type": "markdown",
   "metadata": {},
   "source": [
    "## 2 - Selecting Principal Components\n",
    "\n",
    "### Sorting Eigenpairs"
   ]
  },
  {
   "cell_type": "code",
   "execution_count": 80,
   "metadata": {
    "collapsed": false
   },
   "outputs": [
    {
     "name": "stdout",
     "output_type": "stream",
     "text": [
      "Eigenvalues in descending order:\n",
      "\n",
      "2.93035377559\n",
      "0.927403621517\n",
      "0.148342226482\n",
      "0.0207460139956\n"
     ]
    }
   ],
   "source": [
    "eig_pairs = [(np.abs(eig_vals[i]), eig_vecs[:, i]) for i in range(len(eig_vals))]\n",
    "\n",
    "eig_pairs.sort(key=lambda x: x[0], reverse=True)\n",
    "\n",
    "print('Eigenvalues in descending order:\\n')\n",
    "for pair in eig_pairs:\n",
    "    print(pair[0])"
   ]
  },
  {
   "cell_type": "markdown",
   "metadata": {},
   "source": [
    "### Explained Variance"
   ]
  },
  {
   "cell_type": "code",
   "execution_count": 83,
   "metadata": {
    "collapsed": false
   },
   "outputs": [
    {
     "name": "stdout",
     "output_type": "stream",
     "text": [
      "[72.770452093801353, 23.030523267680628, 3.6838319576273895, 0.51519268089063586]\n",
      "[  72.77045209   95.80097536   99.48480732  100.        ]\n"
     ]
    }
   ],
   "source": [
    "tot = np.sum(eig_vals)\n",
    "\n",
    "var_exp = [val * 100 / tot for val in sorted(eig_vals, reverse = True)]\n",
    "\n",
    "cum_var_exp = np.cumsum(var_exp) # 累积求和\n",
    "\n",
    "print(var_exp)\n",
    "print(cum_var_exp)"
   ]
  },
  {
   "cell_type": "code",
   "execution_count": 129,
   "metadata": {
    "collapsed": false
   },
   "outputs": [
    {
     "data": {
      "image/png": "[encoded data removed]",
      "text/plain": [
       "<matplotlib.figure.Figure at 0x9748748>"
      ]
     },
     "metadata": {},
     "output_type": "display_data"
    }
   ],
   "source": [
    "\n",
    "with plt.style.context('seaborn-whitegrid'):\n",
    "    plt.figure(figsize=(10, 5))\n",
    "    plt.bar(np.arange(4), var_exp, alpha=0.5, label='individual explained variance')\n",
    "    plt.step(np.arange(4), cum_var_exp, where='mid', label='cumulative explained variance')\n",
    "    \n",
    "    plt.xlabel('Principal components')\n",
    "    plt.ylabel('Explained variance ratio')\n",
    "    plt.legend(loc='best')\n",
    "    \n",
    "    plt.tight_layout()\n",
    "\n",
    "plt.show()"
   ]
  },
  {
   "cell_type": "markdown",
   "metadata": {},
   "source": [
    "### Projection Matrix"
   ]
  },
  {
   "cell_type": "code",
   "execution_count": 123,
   "metadata": {
    "collapsed": false
   },
   "outputs": [
    {
     "name": "stdout",
     "output_type": "stream",
     "text": [
      "[[ 0.52237162 -0.37231836]\n",
      " [-0.26335492 -0.92555649]\n",
      " [ 0.58125401 -0.02109478]\n",
      " [ 0.56561105 -0.06541577]]\n"
     ]
    }
   ],
   "source": [
    "matrix_w = np.hstack((eig_pairs[0][1].reshape(4, 1), eig_pairs[1][1].reshape(4, 1)))\n",
    "\n",
    "print(matrix_w)"
   ]
  },
  {
   "cell_type": "markdown",
   "metadata": {},
   "source": [
    "## 3 - Projection Onto the New Feature Space"
   ]
  },
  {
   "cell_type": "code",
   "execution_count": 124,
   "metadata": {
    "collapsed": true
   },
   "outputs": [],
   "source": [
    "X_pca = X_std.dot(matrix_w)"
   ]
  },
  {
   "cell_type": "code",
   "execution_count": 170,
   "metadata": {
    "collapsed": false
   },
   "outputs": [
    {
     "data": {
      "image/png": "[encoded data removed]",
      "text/plain": [
       "<matplotlib.figure.Figure at 0x9ecfa90>"
      ]
     },
     "metadata": {},
     "output_type": "display_data"
    }
   ],
   "source": [
    "colors = {'Iris-setosa': 'blue', 'Iris-versicolor': 'red', 'Iris-virginica': 'green'}\n",
    "\n",
    "plt.figure(figsize=(5, 5))\n",
    "\n",
    "for key in colors:\n",
    "    plt.scatter(X_pca[y==key, 0], X_pca[y==key, 1], c=colors[key], label=key, alpha=0.6)\n",
    "plt.xlabel('Principal component 1')\n",
    "plt.ylabel('Principal component 2')\n",
    "plt.legend(loc='best')\n",
    "plt.tight_layout()\n",
    "plt.show()"
   ]
  },
  {
   "cell_type": "markdown",
   "metadata": {},
   "source": [
    "## Shortcut - PCA in scikit-learn"
   ]
  },
  {
   "cell_type": "code",
   "execution_count": 174,
   "metadata": {
    "collapsed": false
   },
   "outputs": [
    {
     "data": {
      "image/png": "[encoded data removed]",
      "text/plain": [
       "<matplotlib.figure.Figure at 0xbed0f60>"
      ]
     },
     "metadata": {},
     "output_type": "display_data"
    }
   ],
   "source": [
    "from sklearn.decomposition import PCA\n",
    "\n",
    "sk_pca = PCA(n_components=2)\n",
    "X_sk_pca = sk_pca.fit_transform(X_std)\n",
    "\n",
    "colors = {'Iris-setosa': 'blue', 'Iris-versicolor': 'red', 'Iris-virginica': 'green'}\n",
    "\n",
    "plt.figure(figsize=(5, 5))\n",
    "\n",
    "for key in colors:\n",
    "    plt.scatter(X_sk_pca[y==key, 0], -X_sk_pca[y==key, 1], c=colors[key], label=key, alpha=0.6)\n",
    "plt.xlabel('Principal component 1')\n",
    "plt.ylabel('Principal component 2')\n",
    "plt.legend(loc='best')\n",
    "plt.tight_layout()\n",
    "plt.show()"
   ]
  }
 ],
 "metadata": {
  "kernelspec": {
   "display_name": "Python 3",
   "language": "python",
   "name": "python3"
  },
  "language_info": {
   "codemirror_mode": {
    "name": "ipython",
    "version": 3
   },
   "file_extension": ".py",
   "mimetype": "text/x-python",
   "name": "python",
   "nbconvert_exporter": "python",
   "pygments_lexer": "ipython3",
   "version": "3.6.0"
  }
 },
 "nbformat": 4,
 "nbformat_minor": 2
}
