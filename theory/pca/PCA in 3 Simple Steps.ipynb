{
 "cells": [
  {
   "cell_type": "markdown",
   "metadata": {},
   "source": [
    "主成分分析（PCA：Principal Component Analysis）是经常使用的一个降维方法。该notebook是对[Principal Component Analysis in 3 Simple Steps](http://sebastianraschka.com/Articles/2015_pca_in_3_steps.html)的学习记录、补充和翻译，原文章对PCA内部的实现分解成3步，以方便理解其原理。\n",
    "\n",
    "三个步骤分别为：\n",
    "\n",
    "1. 对协方差矩阵进行特征分解，得到特征值、特征向量\n",
    "2. 选取主成分\n",
    "3. 特征变换\n"
   ]
  },
  {
   "cell_type": "markdown",
   "metadata": {},
   "source": [
    "## Introduction\n",
    "\n",
    "现代数据的大小不仅是对计算机硬件的挑战，也是许多机器学习算法性能的主要瓶颈。 PCA分析的主要目标是识别数据中的模式; PCA旨在检测变量之间的相关性。 如果存在变量之间的强相关性，那么降低维度的尝试才有意义。 简而言之，这就是PCA所关心的：查找高维数据中最大方差的方向，并将其投影到较小维的子空间上，同时保留大部分信息。\n",
    "\n",
    "### PCA vs LDA\n",
    "\n",
    "线性判别分析（LDA：Linear Discriminant Analysis）和PCA都是线性变换方法。 PCA产生最大化数据方差的方向（主成分），而LDA还旨在找到使不同类之间的间隔最大化的方向，这可以用于模式分类问题（而PCA“忽略”数据的类别标签）。\n",
    "\n",
    "换句话说，PCA将整个数据集投射到一个不同的特征（子）空间，LDA尝试确定一个合适的特征（子）空间，以保证能够区分出不同的类别。\n",
    "\n",
    "\n",
    "### PCA and Dimensionality Reduction\n",
    "\n",
    "通常，PCA的目标是将 $ d $ 维数据集的投影到 $ k $ 维子空间（其中 $ k < d$ ），以便在减少数据集尺寸的条件下，保留大部分信息的同时增加计算效率。 这里，最重要的问题是 $ k $ 的大小如何确定？\n",
    "\n",
    "之后，我们将计算数据集的特征向量（主成分），并将它们收集到投影矩阵中。 每一个特征向量对应一个特征值，特征向量确定一个方向，特征值则可以理解为相应特征向量的“长度”或“大小”。 如果某些特征值比其他特征值大得多，那么通过丢弃“较少信息”的特征来缩减数据集到较小的维度的子空间是合理的。\n",
    "\n",
    "\n",
    "### A Summary of the PCA Approach\n",
    "\n",
    "- 标准化数据\n",
    "- 从协方差矩阵或相关矩阵中获取特征向量和特征值，或进行奇异向量分解。\n",
    "- 按降序对特征值进行排序，并选择对应于 $k$ 个最大特征值的 $k$ 个特征向量，其中 $k$ 是新特征子空间（$k≤d$）的维数。\n",
    "- 由选定的 $k$ 个特征向量构建投影矩阵 $W$\n",
    "- 通过 $W$ 转换原始数据集 $X$ 以获得 $k$ 维特征子空间 $Y$\n"
   ]
  },
  {
   "cell_type": "markdown",
   "metadata": {},
   "source": [
    "## Preparing the Iris Dataset\n",
    "\n",
    "### About Iris\n",
    "\n",
    "在后面我们将使用UCI机器学习库中着名的[“Iris”数据集](https://archive.ics.uci.edu/ml/datasets/Iris)。\n",
    "\n",
    "iris数据集来自于对3种共150株鸢尾花的测量。\n",
    "\n",
    "数据集的3个类别（标签）是：\n",
    "\n",
    "1. 山鸢尾（Iris-setosa） (n=50)\n",
    "2. 变色鸢尾（Iris-versicolor） (n=50)\n",
    "3. 维吉尼亚鸢尾（Iris-virginica） (n=50)\n",
    "\n",
    "数据集中的4个特征为：\n",
    "\n",
    "1. 萼片长度 sepal length（单位：cm）\n",
    "2. 萼片宽度 sepal width（单位：cm）\n",
    "3. 花瓣长度 petal length（cm）\n",
    "4. 花瓣宽度 petal width（cm）\n",
    "\n",
    "![iris](iris.png \"iris\")\n",
    "\n",
    "### Loading the Dataset\n",
    "\n",
    "这里用pandas库来进行数据处理。"
   ]
  },
  {
   "cell_type": "code",
   "execution_count": 1,
   "metadata": {
    "collapsed": false
   },
   "outputs": [
    {
     "data": {
      "text/html": [
       "<div>\n",
       "<table border=\"1\" class=\"dataframe\">\n",
       "  <thead>\n",
       "    <tr style=\"text-align: right;\">\n",
       "      <th></th>\n",
       "      <th>sepal_len</th>\n",
       "      <th>sepal_wid</th>\n",
       "      <th>petal_len</th>\n",
       "      <th>petal_wid</th>\n",
       "      <th>class</th>\n",
       "    </tr>\n",
       "  </thead>\n",
       "  <tbody>\n",
       "    <tr>\n",
       "      <th>145</th>\n",
       "      <td>6.7</td>\n",
       "      <td>3.0</td>\n",
       "      <td>5.2</td>\n",
       "      <td>2.3</td>\n",
       "      <td>Iris-virginica</td>\n",
       "    </tr>\n",
       "    <tr>\n",
       "      <th>146</th>\n",
       "      <td>6.3</td>\n",
       "      <td>2.5</td>\n",
       "      <td>5.0</td>\n",
       "      <td>1.9</td>\n",
       "      <td>Iris-virginica</td>\n",
       "    </tr>\n",
       "    <tr>\n",
       "      <th>147</th>\n",
       "      <td>6.5</td>\n",
       "      <td>3.0</td>\n",
       "      <td>5.2</td>\n",
       "      <td>2.0</td>\n",
       "      <td>Iris-virginica</td>\n",
       "    </tr>\n",
       "    <tr>\n",
       "      <th>148</th>\n",
       "      <td>6.2</td>\n",
       "      <td>3.4</td>\n",
       "      <td>5.4</td>\n",
       "      <td>2.3</td>\n",
       "      <td>Iris-virginica</td>\n",
       "    </tr>\n",
       "    <tr>\n",
       "      <th>149</th>\n",
       "      <td>5.9</td>\n",
       "      <td>3.0</td>\n",
       "      <td>5.1</td>\n",
       "      <td>1.8</td>\n",
       "      <td>Iris-virginica</td>\n",
       "    </tr>\n",
       "  </tbody>\n",
       "</table>\n",
       "</div>"
      ],
      "text/plain": [
       "     sepal_len  sepal_wid  petal_len  petal_wid           class\n",
       "145        6.7        3.0        5.2        2.3  Iris-virginica\n",
       "146        6.3        2.5        5.0        1.9  Iris-virginica\n",
       "147        6.5        3.0        5.2        2.0  Iris-virginica\n",
       "148        6.2        3.4        5.4        2.3  Iris-virginica\n",
       "149        5.9        3.0        5.1        1.8  Iris-virginica"
      ]
     },
     "execution_count": 1,
     "metadata": {},
     "output_type": "execute_result"
    }
   ],
   "source": [
    "import pandas as pd\n",
    "\n",
    "df = pd.read_csv(\n",
    "    filepath_or_buffer = 'input/iris.data',\n",
    "    header=None,\n",
    "    sep=',')\n",
    "\n",
    "df.columns = ['sepal_len', 'sepal_wid', 'petal_len', 'petal_wid', 'class']\n",
    "df.dropna(how = 'all', inplace = True) # drops the empty line at file-end\n",
    "\n",
    "df.tail()"
   ]
  },
  {
   "cell_type": "markdown",
   "metadata": {
    "collapsed": true
   },
   "source": [
    "将数据划分为特征 $ \\boldsymbol{X} $ 和标签 $\\boldsymbol{y} $。"
   ]
  },
  {
   "cell_type": "code",
   "execution_count": 2,
   "metadata": {
    "collapsed": false
   },
   "outputs": [
    {
     "name": "stdout",
     "output_type": "stream",
     "text": [
      "X type: <class 'numpy.ndarray'>. X shape:  (150, 4)\n",
      "y type: <class 'numpy.ndarray'>. y shape:  (150,)\n"
     ]
    }
   ],
   "source": [
    "X = df.ix[:, 0:4].values\n",
    "y = df.ix[:, 4].values\n",
    "\n",
    "print('X type: %s. X shape: ' % type(X), X.shape)\n",
    "print('y type: %s. y shape: ' % type(y), y.shape)"
   ]
  },
  {
   "cell_type": "markdown",
   "metadata": {},
   "source": [
    "可以看出iris数据共有150个样本，每个样本有4个特征和1个标签。特征 $ \\boldsymbol{X} $ 的每一行可以看成一个向量 $\\boldsymbol{x} $，其中：\n",
    "\n",
    "$$ \\boldsymbol{x} ^ \\text{T} = \\left[ \\begin{matrix} x_1 \\\\ x_2 \\\\ x_3  \\\\ x_4 \\end{matrix} \\right]  = \\left[ \\begin{matrix} \\text{sepal_length} \\\\ \\text{sepal_width} \\\\ \\text{petal_length}  \\\\ \\text{petal_width} \\end{matrix} \\right] $$"
   ]
  },
  {
   "cell_type": "markdown",
   "metadata": {},
   "source": [
    "### Exploratory Visualization\n",
    "\n",
    "为了对3种花的4个特征的分布有一个直观的认识，我们来绘制它们的直方图。"
   ]
  },
  {
   "cell_type": "code",
   "execution_count": 4,
   "metadata": {
    "collapsed": false
   },
   "outputs": [
    {
     "data": {
      "image/png": "[encoded data removed]",
      "text/plain": [
       "<matplotlib.figure.Figure at 0x109a9df98>"
      ]
     },
     "metadata": {},
     "output_type": "display_data"
    }
   ],
   "source": [
    "import matplotlib.pyplot as plt\n",
    "import numpy as np\n",
    "import math\n",
    "%matplotlib inline\n",
    "\n",
    "labels = ['Iris-setosa', 'Iris-versicolor', 'Iris-virginica']\n",
    "features = ['sepal_len', 'sepal_wid', 'petal_len', 'petal_wid']\n",
    "\n",
    "plt.figure(figsize=(14, 8))\n",
    "for cnt in range(4):\n",
    "    plt.subplot(2, 2, cnt+1)\n",
    "    for lab in labels:\n",
    "        plt.hist(X[y==lab, cnt], bins=15, alpha=0.4, label=lab)\n",
    "        plt.xlabel(features[cnt])\n",
    "    \n",
    "plt.legend()\n",
    "plt.show()"
   ]
  },
  {
   "cell_type": "markdown",
   "metadata": {},
   "source": [
    "### Standardizing\n",
    "\n",
    "在计算协方差矩阵之前是否要进行数据标准化取决于原始特征的测量尺度。 由于PCA的特征子空间是通过最大化沿着轴方向的方差得到的，所以标准化数据是有意义的，特别是如果它是以不同的尺度进行测量的话。 虽然，Iris数据集中的所有特征都以厘米为单位，但是我们依然将数据转换为单位尺度（均值为0，方差为 1），这是许多机器学习算法的最佳性能的要求。\n"
   ]
  },
  {
   "cell_type": "code",
   "execution_count": 5,
   "metadata": {
    "collapsed": false
   },
   "outputs": [],
   "source": [
    "from sklearn.preprocessing import StandardScaler\n",
    "\n",
    "X_std = StandardScaler().fit_transform(X)"
   ]
  },
  {
   "cell_type": "markdown",
   "metadata": {},
   "source": [
    "## 1 - Eigendecomposition - Computing Eigenvectors and Eigenvalues\n",
    "\n",
    "协方差矩阵（或相关矩阵）的特征向量和特征值是PCA的“核心”：特征向量（主成分）确定新特征空间的方向，特征值决定其大小。 换句话说，特征值反映了数据沿着新特征轴方向的方差。\n",
    "\n",
    "\n",
    "### Covariance Matrix\n",
    "\n",
    "经典的PCA方法需要对协方差矩阵 $\\Sigma$ 进行特征分解。协方差矩阵 $\\Sigma$ 的每个元素是两个特征之间的协方差，一共有 $d$ 个特征，所以协方差矩阵 $\\Sigma$ 的维度是 $d×d$。两个特征 $x_j$、$x_k$（$1 \\leq j \\leq d, 1 \\leq k \\leq d$） 的协方差的计算方法是：\n",
    "\n",
    "\n",
    "$$ \\sigma_{jk} = \\frac{1}{n-1} \\sum_{1}^{n} \\left( x_{ij} - \\bar{x_{j}} \\right) \\left( x_{ik} - \\bar{x_{k}} \\right) $$\n",
    "\n",
    "可以推出，协方差矩阵可以由如下公式计算得到：\n",
    "\n",
    "$$ \\Sigma = \\frac{1}{n-1} \\left( \\left( \\boldsymbol{X} - \\bar{x} \\right)^{\\text{T}} \\left( \\boldsymbol{X} - \\bar{x} \\right) \\right)$$\n",
    "\n",
    "其中，$\\bar{ \\boldsymbol{x}} $ 是均值向量： $ \\bar{\\boldsymbol{x}} = \\frac{1}{n} \\sum{x_i} $。\n",
    "\n",
    "均值向量是 $d$ 维的，它的每个值是单个特征的均值。"
   ]
  },
  {
   "cell_type": "code",
   "execution_count": 6,
   "metadata": {
    "collapsed": false
   },
   "outputs": [
    {
     "name": "stdout",
     "output_type": "stream",
     "text": [
      "Covariance Matrix: \n",
      " [[ 1.00671141 -0.11010327  0.87760486  0.82344326]\n",
      " [-0.11010327  1.00671141 -0.42333835 -0.358937  ]\n",
      " [ 0.87760486 -0.42333835  1.00671141  0.96921855]\n",
      " [ 0.82344326 -0.358937    0.96921855  1.00671141]]\n"
     ]
    }
   ],
   "source": [
    "mean_vec = np.mean(X_std, axis=0)\n",
    "\n",
    "cov_mat = (X_std - mean_vec).T.dot(X_std - mean_vec) / (X_std.shape[0] - 1)\n",
    "\n",
    "print(\"Covariance Matrix: \\n\", cov_mat)"
   ]
  },
  {
   "cell_type": "markdown",
   "metadata": {},
   "source": [
    "\n",
    "上面一段代码比较繁琐，因为是要学习协方差矩阵的计算过程，实际应用中，可以直接使用numpy库中的cov函数："
   ]
  },
  {
   "cell_type": "code",
   "execution_count": 7,
   "metadata": {
    "collapsed": false
   },
   "outputs": [
    {
     "name": "stdout",
     "output_type": "stream",
     "text": [
      "Covariance Matrix: \n",
      " [[ 1.00671141 -0.11010327  0.87760486  0.82344326]\n",
      " [-0.11010327  1.00671141 -0.42333835 -0.358937  ]\n",
      " [ 0.87760486 -0.42333835  1.00671141  0.96921855]\n",
      " [ 0.82344326 -0.358937    0.96921855  1.00671141]]\n"
     ]
    }
   ],
   "source": [
    "cov_mat2 = np.cov(X_std.T)\n",
    "print(\"Covariance Matrix: \\n\", cov_mat2)"
   ]
  },
  {
   "cell_type": "markdown",
   "metadata": {},
   "source": [
    "紧接着，对协方差矩阵进行特征分解："
   ]
  },
  {
   "cell_type": "code",
   "execution_count": 8,
   "metadata": {
    "collapsed": false
   },
   "outputs": [
    {
     "name": "stdout",
     "output_type": "stream",
     "text": [
      "Eigenvectors: \n",
      " [[ 0.52237162 -0.37231836 -0.72101681  0.26199559]\n",
      " [-0.26335492 -0.92555649  0.24203288 -0.12413481]\n",
      " [ 0.58125401 -0.02109478  0.14089226 -0.80115427]\n",
      " [ 0.56561105 -0.06541577  0.6338014   0.52354627]]\n",
      "EigenValues: \n",
      " [ 2.93035378  0.92740362  0.14834223  0.02074601]\n"
     ]
    }
   ],
   "source": [
    "eig_vals, eig_vecs = np.linalg.eig(cov_mat)\n",
    "\n",
    "print(\"Eigenvectors: \\n\", eig_vecs)\n",
    "print(\"EigenValues: \\n\", eig_vals)"
   ]
  },
  {
   "cell_type": "markdown",
   "metadata": {},
   "source": [
    "### Correlation Matrix\n",
    "\n",
    "\n",
    "除了上面的协方差矩阵，我们还可以对相关矩阵进行特征分解。特别是在“金融”领域，通常使用相关矩阵而不是协方差矩阵。 然而，协方差矩阵特征分解（如果输入数据被标准化）的结果与相关矩阵特征分解的结果相同，因为相关矩阵可以被理解为归一化的协方差矩阵。\n",
    "\n",
    "对标准化数据的相关矩进行阵特征分解如下："
   ]
  },
  {
   "cell_type": "code",
   "execution_count": 9,
   "metadata": {
    "collapsed": false
   },
   "outputs": [
    {
     "name": "stdout",
     "output_type": "stream",
     "text": [
      "Eigenvectors: \n",
      " [[ 0.52237162 -0.37231836 -0.72101681  0.26199559]\n",
      " [-0.26335492 -0.92555649  0.24203288 -0.12413481]\n",
      " [ 0.58125401 -0.02109478  0.14089226 -0.80115427]\n",
      " [ 0.56561105 -0.06541577  0.6338014   0.52354627]]\n",
      "EigenValues: \n",
      " [ 2.91081808  0.92122093  0.14735328  0.02060771]\n"
     ]
    }
   ],
   "source": [
    "cor_mat1 = np.corrcoef(X_std.T)\n",
    "\n",
    "eig_vals, eig_vecs = np.linalg.eig(cor_mat1)\n",
    "print(\"Eigenvectors: \\n\", eig_vecs)\n",
    "print(\"EigenValues: \\n\", eig_vals)"
   ]
  },
  {
   "cell_type": "markdown",
   "metadata": {},
   "source": [
    "对原始数据的相关矩阵进行特征分解如下："
   ]
  },
  {
   "cell_type": "code",
   "execution_count": 10,
   "metadata": {
    "collapsed": false
   },
   "outputs": [
    {
     "name": "stdout",
     "output_type": "stream",
     "text": [
      "Eigenvectors: \n",
      " [[ 0.52237162 -0.37231836 -0.72101681  0.26199559]\n",
      " [-0.26335492 -0.92555649  0.24203288 -0.12413481]\n",
      " [ 0.58125401 -0.02109478  0.14089226 -0.80115427]\n",
      " [ 0.56561105 -0.06541577  0.6338014   0.52354627]]\n",
      "EigenValues: \n",
      " [ 2.91081808  0.92122093  0.14735328  0.02060771]\n"
     ]
    }
   ],
   "source": [
    "cor_mat1 = np.corrcoef(X.T)\n",
    "\n",
    "eig_vals, eig_vecs = np.linalg.eig(cor_mat1)\n",
    "print(\"Eigenvectors: \\n\", eig_vecs)\n",
    "print(\"EigenValues: \\n\", eig_vals)"
   ]
  },
  {
   "cell_type": "markdown",
   "metadata": {},
   "source": [
    "We can clearly see that all three approaches yield the same eigenvectors and eigenvalue pairs:\n",
    "\n",
    "可以看出，下面三个特征分解得到的特征值和特征向量是相同的：\n",
    "\n",
    "- 对标准化数据的协方差矩阵进行特征分解\n",
    "- 对原始数据的相关矩阵进行特征分解\n",
    "- 对标准化数据的相关矩阵进行特征分解\n"
   ]
  },
  {
   "cell_type": "markdown",
   "metadata": {},
   "source": [
    "### Singular Vector Decomposition\n",
    "\n",
    "虽然协方差或相关矩阵的特征分解可能更直观，但大多数PCA的实现通过奇异向量分解（SVD）来提高计算效率。 所以，让我们执行一个SVD来确认结果确实是一样的："
   ]
  },
  {
   "cell_type": "code",
   "execution_count": 14,
   "metadata": {
    "collapsed": false
   },
   "outputs": [
    {
     "name": "stdout",
     "output_type": "stream",
     "text": [
      "[[-0.52237162 -0.37231836  0.72101681  0.26199559]\n",
      " [ 0.26335492 -0.92555649 -0.24203288 -0.12413481]\n",
      " [-0.58125401 -0.02109478 -0.14089226 -0.80115427]\n",
      " [-0.56561105 -0.06541577 -0.6338014   0.52354627]]\n"
     ]
    }
   ],
   "source": [
    "u, s, v = np.linalg.svd(X_std.T)\n",
    "\n",
    "print(u)"
   ]
  },
  {
   "cell_type": "markdown",
   "metadata": {},
   "source": [
    "## 2 - Selecting Principal Components\n",
    "\n",
    "### Sorting Eigenpairs\n",
    "\n",
    "PCA的目标是通过将原始特征空间投影到较小的子空间来减小原始特征空间的维数，其中特征向量将形成新的轴。 然而，特征向量仅定义新轴的方向，因为它们具有所有相同的单位长度1，这可以通过以下两行代码来确认："
   ]
  },
  {
   "cell_type": "code",
   "execution_count": 18,
   "metadata": {
    "collapsed": false
   },
   "outputs": [
    {
     "name": "stdout",
     "output_type": "stream",
     "text": [
      "如果上面代码没报错，就说明特征向量的长度等于1.0\n"
     ]
    }
   ],
   "source": [
    "for ev in eig_vecs:\n",
    "    np.testing.assert_array_almost_equal(1.0, np.linalg.norm(ev))\n",
    "\n",
    "print('如果上面代码没报错，就说明特征向量的长度等于1.0')"
   ]
  },
  {
   "cell_type": "markdown",
   "metadata": {},
   "source": [
    "为了确定哪些特征向量可以丢弃，以保证在构建低维子空间的同时而不会丢失太多的信息，我们需要检查相应的特征值：特征值最小的特征向量含有的关于数据分布的信息最少，它们应该被丢弃。\n",
    "\n",
    "通常的方法是将特征值从最高到最低排列，以便选择顶部 $k$ 个特征向量。\n"
   ]
  },
  {
   "cell_type": "code",
   "execution_count": 19,
   "metadata": {
    "collapsed": false
   },
   "outputs": [
    {
     "name": "stdout",
     "output_type": "stream",
     "text": [
      "Eigenvalues in descending order:\n",
      "\n",
      "2.91081808375\n",
      "0.921220930707\n",
      "0.147353278305\n",
      "0.0206077072356\n"
     ]
    }
   ],
   "source": [
    "eig_pairs = [(np.abs(eig_vals[i]), eig_vecs[:, i]) for i in range(len(eig_vals))]\n",
    "\n",
    "eig_pairs.sort(key=lambda x: x[0], reverse=True)\n",
    "\n",
    "print('Eigenvalues in descending order:\\n')\n",
    "for pair in eig_pairs:\n",
    "    print(pair[0])"
   ]
  },
  {
   "cell_type": "markdown",
   "metadata": {},
   "source": [
    "### Explained Variance\n",
    "\n",
    "在对特征对进行排序之后，下一个问题是“我们将为我们的新特征子空间选择多少个主成分”。一个有用的参数是所谓的“解释方差”，可以由特征值计算。解释方差告诉我们，可以将多少信息（方差）归因于每个主成分。\n"
   ]
  },
  {
   "cell_type": "code",
   "execution_count": 20,
   "metadata": {
    "collapsed": false
   },
   "outputs": [
    {
     "name": "stdout",
     "output_type": "stream",
     "text": [
      "[72.770452093801339, 23.030523267680636, 3.6838319576273948, 0.51519268089063441]\n",
      "[  72.77045209   95.80097536   99.48480732  100.        ]\n"
     ]
    }
   ],
   "source": [
    "tot = np.sum(eig_vals)\n",
    "\n",
    "var_exp = [val * 100 / tot for val in sorted(eig_vals, reverse = True)]\n",
    "\n",
    "cum_var_exp = np.cumsum(var_exp) # 累积求和\n",
    "\n",
    "print(var_exp)\n",
    "print(cum_var_exp)"
   ]
  },
  {
   "cell_type": "code",
   "execution_count": 33,
   "metadata": {
    "collapsed": false
   },
   "outputs": [
    {
     "data": {
      "image/png": "[encoded data removed]",
      "text/plain": [
       "<matplotlib.figure.Figure at 0x10a795d30>"
      ]
     },
     "metadata": {},
     "output_type": "display_data"
    }
   ],
   "source": [
    "\n",
    "with plt.style.context('seaborn-whitegrid'):\n",
    "    plt.figure(figsize=(6, 4))\n",
    "    plt.bar(np.arange(4), var_exp, alpha=0.5, align='center', label='individual explained variance')\n",
    "    plt.step(np.arange(4), cum_var_exp, where='mid', label='cumulative explained variance')\n",
    "    \n",
    "    plt.xlabel('Principal components')\n",
    "    plt.ylabel('Explained variance ratio')\n",
    "    plt.legend(loc='best')\n",
    "    plt.ylim(0, 110)\n",
    "    \n",
    "    plt.tight_layout()\n",
    "\n",
    "plt.show()"
   ]
  },
  {
   "cell_type": "markdown",
   "metadata": {},
   "source": [
    "上述情况清楚地表明，大多数方差（72.77％）可以由第一个主要部分来解释。第二主要部分仍然有一些信息（23.03％），而第三和第四主要组成部分可以安全地丢弃，而不会丢失太多的信息。前两个主要组件在一起包含95.8％的信息。\n"
   ]
  },
  {
   "cell_type": "markdown",
   "metadata": {},
   "source": [
    "### Projection Matrix\n",
    "\n",
    "这是真正有趣的部分：我们将用投影矩阵将Iris数据转换到新的特征子空间。可能“投影矩阵”这个名字比较唬人，但它基本上只是 $k$ 个特征向量拼起来而已。\n",
    "\n",
    "这里，我们选择特征值最大的2个特征向量来构造我们的 $d \\times k$ 维特征向量矩阵 $\\boldsymbol{W}$，将4维特征空间减小到2维特征子空间。"
   ]
  },
  {
   "cell_type": "code",
   "execution_count": 123,
   "metadata": {
    "collapsed": false
   },
   "outputs": [
    {
     "name": "stdout",
     "output_type": "stream",
     "text": [
      "[[ 0.52237162 -0.37231836]\n",
      " [-0.26335492 -0.92555649]\n",
      " [ 0.58125401 -0.02109478]\n",
      " [ 0.56561105 -0.06541577]]\n"
     ]
    }
   ],
   "source": [
    "matrix_w = np.hstack((eig_pairs[0][1].reshape(4, 1), eig_pairs[1][1].reshape(4, 1)))\n",
    "\n",
    "print(matrix_w)"
   ]
  },
  {
   "cell_type": "markdown",
   "metadata": {},
   "source": [
    "## 3 - Projection Onto the New Feature Space\n",
    "\n",
    "最后一步是利用上面得到的 $4 \\times 2$ 维投影矩阵对数据集进行变换\n",
    "\n",
    "$$ \\boldsymbol{Y} = \\boldsymbol{X} \\times \\boldsymbol{W} $$\n",
    "\n",
    "得到的 $ \\boldsymbol{Y} $ 的维度是 $150 \\times 2$。\n"
   ]
  },
  {
   "cell_type": "code",
   "execution_count": 124,
   "metadata": {
    "collapsed": true
   },
   "outputs": [],
   "source": [
    "X_pca = X_std.dot(matrix_w)"
   ]
  },
  {
   "cell_type": "code",
   "execution_count": 170,
   "metadata": {
    "collapsed": false
   },
   "outputs": [
    {
     "data": {
      "image/png": "[encoded data removed]",
      "text/plain": [
       "<matplotlib.figure.Figure at 0x9ecfa90>"
      ]
     },
     "metadata": {},
     "output_type": "display_data"
    }
   ],
   "source": [
    "colors = {'Iris-setosa': 'blue', 'Iris-versicolor': 'red', 'Iris-virginica': 'green'}\n",
    "\n",
    "plt.figure(figsize=(5, 5))\n",
    "\n",
    "for key in colors:\n",
    "    plt.scatter(X_pca[y==key, 0], X_pca[y==key, 1], c=colors[key], label=key, alpha=0.6)\n",
    "plt.xlabel('Principal component 1')\n",
    "plt.ylabel('Principal component 2')\n",
    "plt.legend(loc='best')\n",
    "plt.tight_layout()\n",
    "plt.show()"
   ]
  },
  {
   "cell_type": "markdown",
   "metadata": {},
   "source": [
    "## Shortcut - PCA in scikit-learn\n",
    "\n",
    "这里花这么多篇幅来实现PCA仅仅是基于学习的目的。实际应用中，直接调用scikit-learn库中的函数就行啦。\n"
   ]
  },
  {
   "cell_type": "code",
   "execution_count": 174,
   "metadata": {
    "collapsed": false
   },
   "outputs": [
    {
     "data": {
      "image/png": "[encoded data removed]",
      "text/plain": [
       "<matplotlib.figure.Figure at 0xbed0f60>"
      ]
     },
     "metadata": {},
     "output_type": "display_data"
    }
   ],
   "source": [
    "from sklearn.decomposition import PCA\n",
    "\n",
    "sk_pca = PCA(n_components=2)\n",
    "X_sk_pca = sk_pca.fit_transform(X_std)\n",
    "\n",
    "colors = {'Iris-setosa': 'blue', 'Iris-versicolor': 'red', 'Iris-virginica': 'green'}\n",
    "\n",
    "plt.figure(figsize=(5, 5))\n",
    "\n",
    "for key in colors:\n",
    "    plt.scatter(X_sk_pca[y==key, 0], -X_sk_pca[y==key, 1], c=colors[key], label=key, alpha=0.6)\n",
    "plt.xlabel('Principal component 1')\n",
    "plt.ylabel('Principal component 2')\n",
    "plt.legend(loc='best')\n",
    "plt.tight_layout()\n",
    "plt.show()"
   ]
  }
 ],
 "metadata": {
  "kernelspec": {
   "display_name": "Python 3",
   "language": "python",
   "name": "python3"
  },
  "language_info": {
   "codemirror_mode": {
    "name": "ipython",
    "version": 3
   },
   "file_extension": ".py",
   "mimetype": "text/x-python",
   "name": "python",
   "nbconvert_exporter": "python",
   "pygments_lexer": "ipython3",
   "version": "3.5.1"
  }
 },
 "nbformat": 4,
 "nbformat_minor": 2
}
