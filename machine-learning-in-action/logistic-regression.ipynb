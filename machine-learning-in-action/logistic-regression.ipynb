{
 "cells": [
  {
   "cell_type": "markdown",
   "metadata": {},
   "source": [
    "## 基本背景知识\n",
    "\n",
    "线性回归\n",
    "$$ z = w_0x_0+w_1x_1+...+w_nx_n $$\n",
    "Sigmoid函数进行逻辑回归\n",
    "$$ \\sigma(z) = \\frac{1}{1+e^{-z}} $$\n",
    "\n",
    "梯度上升（求最大值）\n",
    "$$ \\boldsymbol{w} = \\boldsymbol{w}+\\alpha\\nabla_{\\boldsymbol{w}}f(\\boldsymbol{w}) $$"
   ]
  },
  {
   "cell_type": "code",
   "execution_count": 44,
   "metadata": {
    "collapsed": false
   },
   "outputs": [],
   "source": [
    "import numpy as np\n",
    "import matplotlib.pyplot as plt\n",
    "\n",
    "%matplotlib inline"
   ]
  },
  {
   "cell_type": "markdown",
   "metadata": {},
   "source": [
    "## 共用函数"
   ]
  },
  {
   "cell_type": "code",
   "execution_count": 45,
   "metadata": {
    "collapsed": true
   },
   "outputs": [],
   "source": [
    "def load_data_set():\n",
    "    data_mat = []; label_mat = []\n",
    "    fr = open('data/logistic/test_set.txt')\n",
    "    for line in fr.readlines():\n",
    "        line_attr = line.strip().split()\n",
    "        data_mat.append([1.0, float(line_attr[0]), float(line_attr[1])])\n",
    "        label_mat.append(int(line_attr[2]))\n",
    "    return data_mat, label_mat\n",
    "\n",
    "\n",
    "def sigmoid(in_x):\n",
    "    return 1.0/(1+np.exp(-in_x))\n",
    "\n",
    "\n",
    "def plot_best_fit(weights):\n",
    "    data_mat, label_mat = load_data_set()\n",
    "    data_attr = np.array(data_mat)\n",
    "    n = np.shape(data_attr)[0]  # 样本数量\n",
    "\n",
    "    # 绘制样本点\n",
    "    xcord1 = []; ycord1 = []\n",
    "    xcord2 = []; ycord2 = []\n",
    "    for i in range(n):\n",
    "        if int(label_mat[i]) == 1:\n",
    "            xcord1.append(data_attr[i, 1]); ycord1.append(data_attr[i, 2])\n",
    "        else:\n",
    "            xcord2.append(data_attr[i, 1]); ycord2.append(data_attr[i, 2])\n",
    "    fig = plt.figure()\n",
    "    ax = fig.add_subplot(111)\n",
    "    ax.scatter(xcord1, ycord1, s=30, c='red', marker='s')\n",
    "    ax.scatter(xcord2, ycord2, s=30, c='green')\n",
    "\n",
    "    # 绘制回归线\n",
    "    x = np.arange(-3.0, 3.0, 0.1)\n",
    "    y = (-weights[0] - weights[1] * x) / weights[2]\n",
    "    ax.plot(x, y)\n",
    "\n",
    "    plt.xlabel('X1'); plt.ylabel('X2')\n",
    "    plt.show()"
   ]
  },
  {
   "cell_type": "markdown",
   "metadata": {},
   "source": [
    "## 训练：梯度上升"
   ]
  },
  {
   "cell_type": "code",
   "execution_count": 46,
   "metadata": {
    "collapsed": false
   },
   "outputs": [
    {
     "name": "stdout",
     "output_type": "stream",
     "text": [
      "[[ 12.78439366]\n",
      " [  1.11820765]\n",
      " [ -1.74082688]]\n"
     ]
    },
    {
     "data": {
      "image/png": "[encoded data removed]",
      "text/plain": [
       "<matplotlib.figure.Figure at 0x7eec3c8>"
      ]
     },
     "metadata": {},
     "output_type": "display_data"
    }
   ],
   "source": [
    "def grad_ascent(data_mat_in, class_labels):\n",
    "    \"\"\"\n",
    "    梯度上升算法\n",
    "\n",
    "    Parameters\n",
    "        data_mat_in 2维数组，每列表示不同的特征，每行表示一个训练样本\n",
    "        class_labels 列别标签 列数为1，行数为样本的个数\n",
    "    Return\n",
    "        回归的参数\n",
    "    \"\"\"\n",
    "    data_matrix = np.mat(data_mat_in)  # numpy矩阵\n",
    "    label_mat = np.mat(class_labels).transpose() # 矩阵转置\n",
    "    m,n = np.shape(data_matrix)\n",
    "    alpha = 0.01  # 步长\n",
    "    max_cycles = 500  # 迭代次数\n",
    "    weights = np.ones((n, 1))  # 回归系数\n",
    "    for k in range(max_cycles):\n",
    "        h = sigmoid(data_matrix * weights)  # 矩阵乘法，h是一个列向量，每一行是对每个样本类别的预测\n",
    "        error = (label_mat - h)\n",
    "\n",
    "        # 计算真实列别与预测类别的差值，按照差值的方向调整回归系数\n",
    "        weights = weights + alpha * data_matrix.transpose() * error\n",
    "    return weights\n",
    "    \n",
    "data_arr, label_mat = load_data_set()\n",
    "weights = grad_ascent(data_arr, label_mat)\n",
    "print(weights)\n",
    "plot_best_fit(weights.getA())"
   ]
  },
  {
   "cell_type": "markdown",
   "metadata": {},
   "source": [
    "## 训练：随机梯度上升"
   ]
  },
  {
   "cell_type": "code",
   "execution_count": 47,
   "metadata": {
    "collapsed": false
   },
   "outputs": [
    {
     "name": "stdout",
     "output_type": "stream",
     "text": [
      "[ 1.01702007  0.85914348 -0.36579921]\n"
     ]
    },
    {
     "data": {
      "image/png": "[encoded data removed]",
      "text/plain": [
       "<matplotlib.figure.Figure at 0x81f10b8>"
      ]
     },
     "metadata": {},
     "output_type": "display_data"
    }
   ],
   "source": [
    "def stoc_grad_ascent(data_mat_in, class_labels):\n",
    "    \"\"\"\n",
    "    随机梯度上升算法\n",
    "    每次计算不是计算所有样本点的误差，只计算一个样本点\n",
    "\n",
    "    Parameters\n",
    "        data_mat_in 2维数组，每列表示不同的特征，每行表示一个训练样本\n",
    "        class_labels 列别标签 列数为1，行数为样本的个数\n",
    "    Return\n",
    "        回归的参数\n",
    "    \"\"\"\n",
    "    data_matrix = np.array(data_mat_in)  # numpay array\n",
    "    m,n = np.shape(data_matrix)\n",
    "    alpha = 0.01\n",
    "    weights = np.ones(n)\n",
    "    for i in range(m):\n",
    "        h = sigmoid(sum(data_matrix[i] * weights))\n",
    "        error = class_labels[i] - h\n",
    "        weights += alpha * error * data_matrix[i]\n",
    "    return weights\n",
    "\n",
    "data_arr, label_mat = load_data_set()\n",
    "weights = stoc_grad_ascent(data_arr, label_mat)\n",
    "print(weights)\n",
    "plot_best_fit(weights)"
   ]
  },
  {
   "cell_type": "markdown",
   "metadata": {},
   "source": [
    "## 训练：改进的随机梯度上升"
   ]
  },
  {
   "cell_type": "code",
   "execution_count": 61,
   "metadata": {
    "collapsed": false
   },
   "outputs": [
    {
     "name": "stdout",
     "output_type": "stream",
     "text": [
      "[ 9.98251734  0.77726401 -1.51535565]\n"
     ]
    },
    {
     "data": {
      "image/png": "[encoded data removed]",
      "text/plain": [
       "<matplotlib.figure.Figure at 0x7ee4748>"
      ]
     },
     "metadata": {},
     "output_type": "display_data"
    }
   ],
   "source": [
    "def stoc_grad_ascent1(data_mat_in, class_labels, num_iter=150):\n",
    "    \"\"\"\n",
    "    改进的随机梯度上升算法\n",
    "    每次计算不是计算所有样本点的误差，只计算一个样本点\n",
    "\n",
    "    Parameters\n",
    "        data_mat_in 2维数组，每列表示不同的特征，每行表示一个训练样本\n",
    "        class_labels 列别标签 列数为1，行数为样本的个数\n",
    "        num_iter 迭代次数\n",
    "    Return\n",
    "        回归的参数\n",
    "    \"\"\"\n",
    "    data_matrix = np.array(data_mat_in)  # numpay array\n",
    "    m,n = np.shape(data_matrix)\n",
    "    weights = np.ones(n)\n",
    "\n",
    "    for j in range(num_iter):\n",
    "        data_index = list(range(m))\n",
    "        for i in range(m):\n",
    "            alpha = 2/(1.0+j+i)+0.01  # 逐步减小alpha，当遍历次数越来越大时，alpha过大会引起振荡\n",
    "\n",
    "            rand_index = int(np.random.uniform(0, len(data_index)))\n",
    "\n",
    "            h = sigmoid(sum(data_matrix[rand_index] * weights))\n",
    "            error = class_labels[rand_index] - h\n",
    "            weights += alpha * error * data_matrix[rand_index]\n",
    "            del(data_index[rand_index])\n",
    "    return weights\n",
    "\n",
    "data_arr, label_mat = load_data_set()\n",
    "weights = stoc_grad_ascent1(data_arr, label_mat, 100)\n",
    "print(weights)\n",
    "plot_best_fit(weights)"
   ]
  },
  {
   "cell_type": "markdown",
   "metadata": {},
   "source": [
    "## 应用：从疝气病症预测病马的死亡率"
   ]
  },
  {
   "cell_type": "code",
   "execution_count": 62,
   "metadata": {
    "collapsed": false
   },
   "outputs": [
    {
     "name": "stderr",
     "output_type": "stream",
     "text": [
      "C:\\Anaconda3\\lib\\site-packages\\ipykernel\\__main__.py:12: RuntimeWarning: overflow encountered in exp\n"
     ]
    },
    {
     "name": "stdout",
     "output_type": "stream",
     "text": [
      "the error rate of this test is: 0.283582\n",
      "the error rate of this test is: 0.358209\n",
      "the error rate of this test is: 0.253731\n",
      "the error rate of this test is: 0.313433\n",
      "the error rate of this test is: 0.447761\n",
      "the error rate of this test is: 0.253731\n",
      "the error rate of this test is: 0.328358\n",
      "the error rate of this test is: 0.388060\n",
      "the error rate of this test is: 0.373134\n",
      "the error rate of this test is: 0.388060\n",
      "after 10 iterations the average error rate is: 0.338806\n"
     ]
    }
   ],
   "source": [
    "def classify_vector(in_x, weights):\n",
    "    \"\"\"\n",
    "    预测类别\n",
    "    :param in_x:\n",
    "    :param weights:\n",
    "    :return:\n",
    "    \"\"\"\n",
    "    prob = sigmoid(sum(in_x * weights))\n",
    "    if prob > 0.5:\n",
    "        return 1.0\n",
    "    else:\n",
    "        return 0.0\n",
    "\n",
    "\n",
    "def colic_test():\n",
    "    fr_train = open('data/logistic/horseColicTraining.txt')\n",
    "    fr_test = open('data/logistic/horseColicTest.txt')\n",
    "\n",
    "    # 训练数据\n",
    "    training_set = []; training_labels = []\n",
    "    for line in fr_train.readlines():\n",
    "        curr_line = line.strip().split('\\t')\n",
    "        line_attr = []\n",
    "        for i in range(21):\n",
    "            line_attr.append(float(curr_line[i]))\n",
    "        training_set.append(line_attr)\n",
    "        training_labels.append(float(curr_line[21]))\n",
    "\n",
    "    # 训练\n",
    "    training_weights = stoc_grad_ascent1(training_set, training_labels, 800)\n",
    "\n",
    "    # 测试数据\n",
    "    error_count = 0; num_test_vec = 0.0\n",
    "    for line in fr_test.readlines():\n",
    "        num_test_vec += 1.0\n",
    "        curr_line = line.strip().split('\\t')\n",
    "        line_attr = []\n",
    "        for i in range(21):\n",
    "            line_attr.append(float(curr_line[i]))\n",
    "        # 测试误差统计\n",
    "        if int(classify_vector(np.array(line_attr), training_weights)) != int(curr_line[21]):\n",
    "            error_count += 1\n",
    "    error_rate = float(error_count) / num_test_vec\n",
    "    print(\"the error rate of this test is: %f\" % error_rate)\n",
    "    return error_rate\n",
    "\n",
    "\n",
    "def multi_test():\n",
    "    \"\"\"\n",
    "    多次测试\n",
    "    :return:\n",
    "    \"\"\"\n",
    "    num_tests = 10; error_sum = 0.0\n",
    "    for k in range(num_tests):\n",
    "        error_sum += colic_test()\n",
    "    print(\"after %d iterations the average error rate is: %f\" % (num_tests, error_sum / float(num_tests)))\n",
    "\n",
    "    \n",
    "multi_test()"
   ]
  }
 ],
 "metadata": {
  "anaconda-cloud": {},
  "kernelspec": {
   "display_name": "Python [Root]",
   "language": "python",
   "name": "Python [Root]"
  },
  "language_info": {
   "codemirror_mode": {
    "name": "ipython",
    "version": 3
   },
   "file_extension": ".py",
   "mimetype": "text/x-python",
   "name": "python",
   "nbconvert_exporter": "python",
   "pygments_lexer": "ipython3",
   "version": "3.5.2"
  }
 },
 "nbformat": 4,
 "nbformat_minor": 0
}
