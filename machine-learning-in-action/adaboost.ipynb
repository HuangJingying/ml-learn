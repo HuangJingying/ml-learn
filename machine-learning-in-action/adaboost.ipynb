{
 "cells": [
  {
   "cell_type": "code",
   "execution_count": 1,
   "metadata": {
    "collapsed": true
   },
   "outputs": [],
   "source": [
    "import numpy as np\n",
    "from math import inf\n",
    "import matplotlib.pyplot as plt\n",
    "\n",
    "%matplotlib inline"
   ]
  },
  {
   "cell_type": "code",
   "execution_count": 2,
   "metadata": {
    "collapsed": true
   },
   "outputs": [],
   "source": [
    "def load_simple_data():\n",
    "    data_mat = np.matrix(\n",
    "        [\n",
    "            [1., 2.1],\n",
    "            [2., 1.1],\n",
    "            [1.3, 1.],\n",
    "            [1., 1.],\n",
    "            [2., 1.],\n",
    "        ]\n",
    "    )\n",
    "    class_labels = [1.0, 1.0, -1.0, -1.0, 1.0]\n",
    "    return data_mat, class_labels\n",
    "\n",
    "\n",
    "data_mat, class_labels = load_simple_data()"
   ]
  },
  {
   "cell_type": "markdown",
   "metadata": {},
   "source": [
    "## 构建弱分类器\n",
    "\n",
    "这里的弱分类器是单层决策树"
   ]
  },
  {
   "cell_type": "code",
   "execution_count": 3,
   "metadata": {
    "collapsed": false
   },
   "outputs": [
    {
     "data": {
      "text/plain": [
       "({'dim': 0, 'ineq': 'lt', 'thresh': 1.3}, matrix([[ 0.2]]), array([[-1.],\n",
       "        [ 1.],\n",
       "        [-1.],\n",
       "        [-1.],\n",
       "        [ 1.]]))"
      ]
     },
     "execution_count": 3,
     "metadata": {},
     "output_type": "execute_result"
    }
   ],
   "source": [
    "def stump_classify(data_matrix, dimen, thresh_val, thresh_ineq):\n",
    "    \"\"\"\n",
    "    通过阈值比较对数据进行分类\n",
    "    :param data_matrix:\n",
    "    :param dimen:\n",
    "    :param thresh_val:\n",
    "    :param thresh_ineq:\n",
    "    :return:\n",
    "    \"\"\"\n",
    "    ret_array = np.ones((np.shape(data_matrix)[0], 1))\n",
    "    if thresh_ineq == 'lt':\n",
    "        ret_array[data_matrix[:, dimen] <= thresh_val] = -1.0  # 数组过滤\n",
    "    else:\n",
    "        ret_array[data_matrix[:, dimen] > thresh_val] = -1.0\n",
    "    return ret_array\n",
    "\n",
    "\n",
    "def build_stump(data_arr, class_labels, d):\n",
    "    \"\"\"\n",
    "    构建最佳的单层决策树\n",
    "    遍历每个特征的可能取值，逐一尝试，然后寻找分类误差最小的特征和取值作为划分\n",
    "\n",
    "    :param data_arr:\n",
    "    :param class_labels:\n",
    "    :param d: 权重向量\n",
    "    :return:\n",
    "    \"\"\"\n",
    "    data_matrix = np.mat(data_arr)\n",
    "    label_mat = np.mat(class_labels).T\n",
    "    m,n = np.shape(data_matrix)\n",
    "    num_steps = 10.0\n",
    "    best_stump = {}  # 存储在当前权重d的条件下，单层最佳决策树的相关信息\n",
    "    best_clas_est = np.mat(np.zeros((m, 1)))\n",
    "    min_error = inf  #初始错误率：正无穷\n",
    "\n",
    "    # 遍历所有特征\n",
    "    for i in range(n):\n",
    "        # 计算步长\n",
    "        range_min = data_matrix[:, i].min()\n",
    "        range_max = data_matrix[:, i].max()\n",
    "        step_size = (range_max - range_min) / num_steps\n",
    "\n",
    "        # 根据步长遍历\n",
    "        for j in range(-1, int(num_steps) + 1):\n",
    "\n",
    "            # 大于、小于两种情况\n",
    "            for inequal in ['lt', 'gt']:\n",
    "                thresh_val = (range_min + float(j) * step_size)\n",
    "                predicted_vals = stump_classify(data_matrix, i, thresh_val, inequal)\n",
    "                err_arr = np.mat(np.ones((m, 1)))\n",
    "                err_arr[predicted_vals == label_mat] = 0\n",
    "\n",
    "                # 加权错误率\n",
    "                weighted_error = d.T * err_arr\n",
    "\n",
    "                # print(\"split：dim %d, thresh %.2f, thresh ineqal：%s, the weighted error is %.3f\" % (i, thresh_val, inequal, weighted_error))\n",
    "\n",
    "                if weighted_error < min_error:\n",
    "                    min_error = weighted_error\n",
    "                    best_clas_est = predicted_vals.copy()\n",
    "                    best_stump['dim'] = i\n",
    "                    best_stump['thresh'] = thresh_val\n",
    "                    best_stump['ineq'] = inequal\n",
    "    return best_stump, min_error, best_clas_est\n",
    "\n",
    "\n",
    "d = np.mat(np.ones((5, 1)) / 5)\n",
    "build_stump(data_mat, class_labels, d)"
   ]
  },
  {
   "cell_type": "markdown",
   "metadata": {},
   "source": [
    "## AdaBoost\n",
    "\n",
    "AdaBoost 是 adaptive boosting（自适应 boosting ）的缩写。\n",
    "\n",
    "其运行过程如下：\n",
    "\n",
    "训练数据中的每个样本，并赋予其一个权重，这些权重构成了向量d。一开始，这些权重都初始化成相等值。首先在训练数据上训练出一个弱分类器并计算该分类器的错误率，然后在同一数据集上再次训练弱分类器。在分类器的第二次训练当中，将会重新调整每个样本的权重，其中第一次分对的样本的权重将会降低，而第一次分错的样本的权重将会提高。为了从所有弱分类器中得到最终的分类结果，AdaBoost为每个分类器都分配了一个权重值alpha，这些 alpha 值是基于每个弱分类器的错误率进行计算的。其中，错误率 $\\varepsilon$ 的定义为：\n",
    "$$ \\varepsilon = \\frac{未正确分类的样本数目}{所有的样本数目} $$\n",
    "\n",
    "$\\alpha$ 的计算公式为\n",
    "$$ \\alpha = \\frac{1}{2}\\ln{\\frac{1-\\varepsilon}{\\varepsilon}} $$\n",
    "\n",
    "计算出 alpha 值之后，可以对权重向量 d 进行更新，以使得那些正确分类的样本的权重降低而错分样本的权重升高。d 的计算方法如下。\n",
    "如果某个样本被正确分类，那么该样本的权重更改为：\n",
    "$$ d_{i}^{(i+1)} = \\frac{d_{i}^{(i)}e^{-\\alpha}}{sum(d)} $$\n",
    "而如果某个样本被错分，那么该样本的权重更改为：\n",
    "$$ d_{i}^{(i+1)} = \\frac{d_{i}^{(i)}e^{\\alpha}}{sum(d)} $$\n",
    "\n",
    "在计算出 d 之后，AdaBoost 又开始进入下一轮迭代。AdaBoost 算法会不断地重复训练和调整权重的过程，直到训练错误率为0或者弱分类器的数目达到用户的指定值为止。"
   ]
  },
  {
   "cell_type": "code",
   "execution_count": 11,
   "metadata": {
    "collapsed": false
   },
   "outputs": [
    {
     "name": "stdout",
     "output_type": "stream",
     "text": [
      "[{'thresh': 1.3, 'dim': 0, 'ineq': 'lt', 'alpha': 0.6931471805599453}, {'thresh': 1.0, 'dim': 1, 'ineq': 'lt', 'alpha': 0.9729550745276565}, {'thresh': 0.90000000000000002, 'dim': 0, 'ineq': 'lt', 'alpha': 0.8958797346140273}]\n"
     ]
    }
   ],
   "source": [
    "def ada_boost_train_ds(data_arr, class_labels, num_it=40):\n",
    "    \"\"\"\n",
    "    基于单层决策树(Decision Stump)的AdaBoost。\n",
    "\n",
    "    :param data_arr: 数据集\n",
    "    :param class_labels: 标签\n",
    "    :param num_it: 迭代次数\n",
    "    :return:\n",
    "    \"\"\"\n",
    "    weak_class_arr = []\n",
    "    m = np.shape(data_arr)[0]\n",
    "    d = np.mat(np.ones((m, 1)) / m)\n",
    "    agg_class_est = np.mat(np.zeros((m, 1)))  # 记录每个数据点的类别估计累计值\n",
    "\n",
    "    for i in range(num_it):\n",
    "        # 弱分类器\n",
    "        best_stump, error, class_est = build_stump(data_arr, class_labels, d)\n",
    "\n",
    "        # print(\"d:\", d.T)\n",
    "\n",
    "        # 当前弱分类器的alpha\n",
    "        alpha = float(0.5 * np.log((1.0 - error) / max(error, 1e-16)))  # max函数防止没有错误时除数为0\n",
    "        best_stump['alpha'] = alpha\n",
    "        weak_class_arr.append(best_stump)\n",
    "        # print(\"class_est: \", class_est.T)\n",
    "\n",
    "        # 改变样本的权重\n",
    "        expon = np.multiply(-1 * alpha * np.mat(class_labels).T, class_est)\n",
    "        d = np.multiply(d, np.exp(expon))\n",
    "        d = d / d.sum()\n",
    "\n",
    "        agg_class_est += alpha * class_est  # 分类累计值\n",
    "        # print(\"agg_class_est\", agg_class_est.T)\n",
    "\n",
    "        # 错误率统计\n",
    "        agg_errors = np.multiply(np.sign(agg_class_est) != np.mat(class_labels).T, np.ones((m, 1)))\n",
    "        error_rate = agg_errors.sum() / m\n",
    "\n",
    "        # print(\"error_rate: \", error_rate)\n",
    "        if error_rate == 0.0:\n",
    "            break\n",
    "    return weak_class_arr, agg_class_est\n",
    "\n",
    "classifier_arr, agg_class_est= ada_boost_train_ds(data_mat, class_labels, 40)\n",
    "print(classifier_arr)"
   ]
  },
  {
   "cell_type": "code",
   "execution_count": 12,
   "metadata": {
    "collapsed": false
   },
   "outputs": [
    {
     "data": {
      "text/plain": [
       "matrix([[ 1.],\n",
       "        [-1.]])"
      ]
     },
     "execution_count": 12,
     "metadata": {},
     "output_type": "execute_result"
    }
   ],
   "source": [
    "def ada_classify(data_to_class, classifier_arr):\n",
    "    \"\"\"\n",
    "    利用AdaBoost来分类\n",
    "\n",
    "    :param data_to_class:\n",
    "    :param classifier_arr:\n",
    "    :return:\n",
    "    \"\"\"\n",
    "    data_matrix = np.mat(data_to_class)\n",
    "    m = np.shape(data_matrix)[0]\n",
    "    agg_class_est = np.mat(np.zeros((m, 1)))\n",
    "\n",
    "    for i in range(len(classifier_arr)):\n",
    "        class_est = stump_classify(data_matrix, classifier_arr[i]['dim'], classifier_arr[i]['thresh'], classifier_arr[i]['ineq'])\n",
    "        agg_class_est += classifier_arr[i]['alpha'] * class_est\n",
    "        #print(agg_class_est)\n",
    "    return np.sign(agg_class_est)\n",
    "\n",
    "ada_classify([[5,5],[0,0]], classifier_arr)"
   ]
  },
  {
   "cell_type": "code",
   "execution_count": 18,
   "metadata": {
    "collapsed": false
   },
   "outputs": [
    {
     "data": {
      "text/plain": [
       "13.0"
      ]
     },
     "execution_count": 18,
     "metadata": {},
     "output_type": "execute_result"
    }
   ],
   "source": [
    "def load_data_set(filename):\n",
    "    num_feat = len(open(filename).readline().split('\\t'))\n",
    "    data_mat = []\n",
    "    label_mat = []\n",
    "    fr = open(filename)\n",
    "    for line in fr.readlines():\n",
    "        line_arr = []\n",
    "        cur_line = line.strip().split('\\t')\n",
    "        for i in range(num_feat - 1):\n",
    "            line_arr.append(float(cur_line[i]))\n",
    "        data_mat.append(line_arr)\n",
    "        label_mat.append(float(cur_line[-1]))\n",
    "    return data_mat, label_mat\n",
    "\n",
    "data_arr, label_arr = load_data_set('data/adaboost/horse_colic_training2.txt')\n",
    "classifier_arr, agg_class_est = ada_boost_train_ds(data_arr, label_arr, 10)\n",
    "\n",
    "test_arr, test_label_arr = load_data_set('data/adaboost/horse_colic_test2.txt')\n",
    "prediction10 = ada_classify(test_arr, classifier_arr)\n",
    "\n",
    "err_arr = np.mat(np.ones((67, 1)))\n",
    "err_arr[prediction10 != np.mat(test_label_arr).T].sum()"
   ]
  },
  {
   "cell_type": "markdown",
   "metadata": {},
   "source": [
    "## ROC曲线\n",
    "\n",
    "||+1（预测）|-1（预测）|\n",
    "|---|:---:|:---:|\n",
    "|+1（真实结果）|真正例（TP）|伪反例（FN）|\n",
    "|-1（真实结果）|伪正例（FP）|真反例（TN）|\n",
    "\n",
    "ROC曲线：\n",
    "\n",
    "- x轴：伪正例的比例（假阳率=FP/(FP+TN)）\n",
    "- y轴：正正例的比例（真阳率=TP/(TP+FN)）\n",
    "\n",
    "注意到，一旦样本固定，那么样本中正例的个数（TP+FN）、反例的个数（FP+TN）也就确定了。可以计算出x_step、y_step：\n",
    "$$x\\_step = \\frac{1}{FP+TN}=\\frac{1}{样本中正例的个数}$$\n",
    "$$y\\_step = \\frac{1}{TP+FN}=\\frac{1}{样本中反例的个数}$$\n",
    "\n",
    "为了创建ROC曲线，首先要将分类样例按照预测强度排序。先认为所有样例都被判为正例，即 $ FN=TN=0 $，即曲线此时对应的点为(1.0, 1.0)。然后按照预测强度从小到大的顺序逐个选取样例，如果样例属于正例，那么真阳率减小y_step（反过来想，我们从不包含这个样本到包含这个样本时，因为样本是正例，所以此时真阳率增加了一个y_step；而绘制ROC曲线时是从包含这个样本到不包含这个样本，所以是真阳率减小y_step）；如果样例属于反例，那么假阳率减小x_step。"
   ]
  },
  {
   "cell_type": "code",
   "execution_count": 39,
   "metadata": {
    "collapsed": false
   },
   "outputs": [
    {
     "data": {
      "image/png": "[encoded data removed]",
      "text/plain": [
       "<matplotlib.figure.Figure at 0x8960208>"
      ]
     },
     "metadata": {},
     "output_type": "display_data"
    },
    {
     "name": "stdout",
     "output_type": "stream",
     "text": [
      "the Area Under the Curve is:  0.8582969635063604\n"
     ]
    },
    {
     "data": {
      "image/png": "[encoded data removed]",
      "text/plain": [
       "<matplotlib.figure.Figure at 0x5b790b8>"
      ]
     },
     "metadata": {},
     "output_type": "display_data"
    },
    {
     "name": "stdout",
     "output_type": "stream",
     "text": [
      "the Area Under the Curve is:  0.8918191104095092\n"
     ]
    }
   ],
   "source": [
    "def plot_roc(pred_strengths, class_labels):\n",
    "    \"\"\"\n",
    "    绘制ROC曲线\n",
    "\n",
    "    :param pred_strengths: 分类器的预测强度\n",
    "    :param class_labels:\n",
    "    :return:\n",
    "    \"\"\"\n",
    "    cur = (1.0, 1.0)  # 绘制光标的位置\n",
    "    y_sum = 0.0  # 用于计算AUC\n",
    "    num_pos_clas = sum(np.array(class_labels) == 1.0)  # 正例的数目\n",
    "    y_step = 1 / float(num_pos_clas)\n",
    "    x_step = 1 / float(len(class_labels) - num_pos_clas)\n",
    "\n",
    "    # 排序索引\n",
    "    sorted_indicies = pred_strengths.argsort()\n",
    "\n",
    "    fig = plt.figure()\n",
    "    fig.clf()\n",
    "    ax = plt.subplot(111)\n",
    "    for index in sorted_indicies.tolist()[0]:\n",
    "        if class_labels[index] == 1.0:\n",
    "            del_x = 0\n",
    "            del_y = y_step\n",
    "        else:\n",
    "            del_x = x_step\n",
    "            del_y = 0\n",
    "            y_sum += cur[1]\n",
    "        ax.plot([cur[0], cur[0] - del_x], [cur[1], cur[1] - del_y], c='b')\n",
    "        cur = (cur[0] - del_x, cur[1] - del_y)\n",
    "    ax.plot([0,1], [0,1], 'b--')\n",
    "    plt.xlabel('False Positive Rate')\n",
    "    plt.ylabel('True Positive Rate')\n",
    "    plt.title('ROC curve for AdaBoost Horse Colic Detection System')\n",
    "    ax.axis([0,1,0,1])\n",
    "    plt.show()\n",
    "    print(\"the Area Under the Curve is: \", y_sum * x_step)\n",
    "\n",
    "    \n",
    "data_arr, label_arr = load_data_set('data/adaboost/horse_colic_training2.txt')\n",
    "classifier_arr, agg_class_est = ada_boost_train_ds(data_arr, label_arr, 10)\n",
    "plot_roc(agg_class_est.T, label_arr)\n",
    "\n",
    "classifier_arr, agg_class_est = ada_boost_train_ds(data_arr, label_arr, 40)\n",
    "plot_roc(agg_class_est.T, label_arr)"
   ]
  }
 ],
 "metadata": {
  "kernelspec": {
   "display_name": "Python [Root]",
   "language": "python",
   "name": "Python [Root]"
  },
  "language_info": {
   "codemirror_mode": {
    "name": "ipython",
    "version": 3
   },
   "file_extension": ".py",
   "mimetype": "text/x-python",
   "name": "python",
   "nbconvert_exporter": "python",
   "pygments_lexer": "ipython3",
   "version": "3.5.2"
  }
 },
 "nbformat": 4,
 "nbformat_minor": 0
}
