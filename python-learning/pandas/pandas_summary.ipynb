{
 "cells": [
  {
   "cell_type": "markdown",
   "metadata": {},
   "source": [
    "# Pandas\n",
    "\n",
    "## 1. 数据结构\n",
    "\n",
    "### 1.1 Series\n",
    "\n",
    "Series是一种类似于一维数组的对象，它由一组数据（各种NumPy数据类型）以及一组与之相关的数据标签（即索引）组成。Series的字符串表现形式为：索引在左边，值在右边。\n",
    "\n",
    "用数组生成Series："
   ]
  },
  {
   "cell_type": "code",
   "execution_count": 13,
   "metadata": {
    "collapsed": false
   },
   "outputs": [
    {
     "name": "stdout",
     "output_type": "stream",
     "text": [
      "用数组生成Series\n",
      "0    4\n",
      "1    7\n",
      "2   -5\n",
      "3    3\n",
      "dtype: int64\n",
      "\r\n",
      "Series的值：\n",
      "[ 4  7 -5  3]\n",
      "\r\n",
      "Series的索引：\n",
      "RangeIndex(start=0, stop=4, step=1)\n"
     ]
    }
   ],
   "source": [
    "import pandas as pd\n",
    "import numpy as np\n",
    "\n",
    "print(\"用数组生成Series\")\n",
    "obj = pd.Series([4, 7, -5, 3])\n",
    "print(obj)\n",
    "print(\"\\r\\nSeries的值：\")\n",
    "print(obj.values)\n",
    "print(\"\\r\\nSeries的索引：\")\n",
    "print(obj.index)"
   ]
  },
  {
   "cell_type": "markdown",
   "metadata": {},
   "source": [
    "指定Series的index："
   ]
  },
  {
   "cell_type": "code",
   "execution_count": 16,
   "metadata": {
    "collapsed": false
   },
   "outputs": [
    {
     "name": "stdout",
     "output_type": "stream",
     "text": [
      "指定Series的index\n",
      "d    4\n",
      "b    7\n",
      "a   -5\n",
      "c    3\n",
      "dtype: int64\n",
      "\r\n",
      "Series的值：\n",
      "[ 4  7 -5  3]\n",
      "\r\n",
      "Series的索引：\n",
      "Index(['d', 'b', 'a', 'c'], dtype='object')\n",
      "\r\n",
      "替换index\n",
      "Bob      4\n",
      "Steve    7\n",
      "Jeff    -5\n",
      "Ryan     3\n",
      "dtype: int64\n"
     ]
    }
   ],
   "source": [
    "print(\"指定Series的index\")\n",
    "obj2 = pd.Series([4, 7, -5, 3], index = ['d', 'b', 'a', 'c'])\n",
    "print(obj2)\n",
    "print(\"\\r\\nSeries的值：\")\n",
    "print(obj2.values)\n",
    "print(\"\\r\\nSeries的索引：\")\n",
    "print(obj2.index)\n",
    "\n",
    "print(\"\\r\\n替换index\")\n",
    "obj2.index = ['Bob', 'Steve', 'Jeff', 'Ryan']\n",
    "print(obj2)"
   ]
  },
  {
   "cell_type": "markdown",
   "metadata": {},
   "source": [
    "使用字典生成Series，以及Series相加："
   ]
  },
  {
   "cell_type": "code",
   "execution_count": 61,
   "metadata": {
    "collapsed": false
   },
   "outputs": [
    {
     "name": "stdout",
     "output_type": "stream",
     "text": [
      "使用字典生成Series\n",
      "Ohio      45000\n",
      "Oregon    16000\n",
      "Texas     71000\n",
      "Utah       5000\n",
      "dtype: int64\n",
      "\r\n",
      "使用字典生成Series，并额外指定index，不匹配部分为NaN\n",
      "California        NaN\n",
      "Ohio          45000.0\n",
      "Oregon        16000.0\n",
      "Texas         71000.0\n",
      "dtype: float64\n",
      "\r\n",
      "Series相加，相同索引部分相加\n",
      "California         NaN\n",
      "Ohio           90000.0\n",
      "Oregon         32000.0\n",
      "Texas         142000.0\n",
      "Utah               NaN\n",
      "dtype: float64\n"
     ]
    }
   ],
   "source": [
    "print(\"使用字典生成Series\")\n",
    "obj3 = pd.Series({'Ohio':45000, 'Texas':71000, 'Oregon':16000, 'Utah':5000})\n",
    "print(obj3)\n",
    "\n",
    "print(\"\\r\\n使用字典生成Series，并额外指定index，不匹配部分为NaN\")\n",
    "obj4 = pd.Series({'Ohio':45000, 'Texas':71000, 'Oregon':16000, 'Utah':5000}, \\\n",
    "                 index=['California', 'Ohio', 'Oregon', 'Texas'])\n",
    "print(obj4)\n",
    "\n",
    "print(\"\\r\\nSeries相加，相同索引部分相加\")\n",
    "print(obj3 + obj4)"
   ]
  },
  {
   "cell_type": "markdown",
   "metadata": {},
   "source": [
    "指定Series及其索引的名字："
   ]
  },
  {
   "cell_type": "code",
   "execution_count": 60,
   "metadata": {
    "collapsed": false
   },
   "outputs": [
    {
     "name": "stdout",
     "output_type": "stream",
     "text": [
      "\r\n",
      "指定Series及其索引的名字：\n",
      "state\n",
      "California        NaN\n",
      "Ohio          45000.0\n",
      "Oregon        16000.0\n",
      "Texas         71000.0\n",
      "Name: population, dtype: float64\n"
     ]
    }
   ],
   "source": [
    "print(\"\\r\\n指定Series及其索引的名字：\")\n",
    "obj4.name = \"population\"\n",
    "obj4.index.name = \"state\"\n",
    "print(obj4)"
   ]
  },
  {
   "cell_type": "markdown",
   "metadata": {},
   "source": [
    "### 1.2 DataFrame\n",
    "\n",
    "- DataFrame是一个表格型的数据结构，它含有一组有序的列，每列可以是不同的值类型（数值、字符串、布尔型等）。\n",
    "- DataFrame既有行索引也有列索引，它可以看做由Series组成的字典（共用同一个索引）。\n",
    "\n",
    "以下数据都可以用于构建一个DataFrame：\n",
    "\n",
    "- 二维ndarray：数据矩阵，还可以传入行标和列标\n",
    "- 由数组、列表或元组组成的字典：每个序列会变成DataFrame的一列，所有序列的长度必须相同\n",
    "- NumPy的结构化数组：类似于”由数组组成的字典“\n",
    "- 由Series组成的字典：每个Series会组成一列。如果没有显式指定索引，则各Series的索引会被合并成结果的行索引。\n",
    "- 由字典组成的字典：各内层字典会成为一列。键会合并成结果的行索引。跟”由Series组成的字典”情况一样。\n",
    "- 字典或Series的列表：各项将会成为DataFrame的一行。字典键或Series索引的并集将会成为DataFrame的列标。\n",
    "- 由列表或元组组成的列表：类似于“二维ndarray”\n",
    "- 另一个DataFrame：该DataFrame的索引将会被沿用，除非显式指定了其他索引。\n",
    "- NumPy的MaskedArray：类似于“二维ndarray”的情况，只是掩码值在结果DataFrame会变成NaN缺失值。\n",
    "\n",
    "典型地，可以用字典生成DataFrame："
   ]
  },
  {
   "cell_type": "code",
   "execution_count": 49,
   "metadata": {
    "collapsed": false
   },
   "outputs": [
    {
     "name": "stdout",
     "output_type": "stream",
     "text": [
      "用字典生成DataFrame，key为列的名字，列的顺序默认是乱序的：\n",
      "   pop   state  year\n",
      "0  1.5    Ohio  2000\n",
      "1  1.7    Ohio  2001\n",
      "2  3.6    Ohio  2002\n",
      "3  2.4  Nevada  2001\n",
      "4  2.9  Nevada  2002\n",
      "\r\n",
      "可以显式指定列的顺序：\n",
      "   year   state  pop\n",
      "0  2000    Ohio  1.5\n",
      "1  2001    Ohio  1.7\n",
      "2  2002    Ohio  3.6\n",
      "3  2001  Nevada  2.4\n",
      "4  2002  Nevada  2.9\n",
      "\r\n",
      "用字典生成DataFrame，如果显式指定的列中有字典中不存在的列，默认值为NaN。下面这个例子同时指定了索引：\n",
      "       year   state  pop debt\n",
      "one    2000    Ohio  1.5  NaN\n",
      "two    2001    Ohio  1.7  NaN\n",
      "three  2002    Ohio  3.6  NaN\n",
      "four   2001  Nevada  2.4  NaN\n",
      "five   2002  Nevada  2.9  NaN\n"
     ]
    }
   ],
   "source": [
    "data = {'state':['Ohio', 'Ohio', 'Ohio', 'Nevada', 'Nevada'],\n",
    "        'year':[2000, 2001, 2002, 2001, 2002],\n",
    "        'pop':[1.5, 1.7, 3.6, 2.4, 2.9]}\n",
    "print(\"用字典生成DataFrame，key为列的名字，列的顺序默认是乱序的：\")\n",
    "print(pd.DataFrame(data))\n",
    "print(\"\\r\\n可以显式指定列的顺序：\")\n",
    "print(pd.DataFrame(data, columns=['year', 'state', 'pop']))\n",
    "\n",
    "print(\"\\r\\n用字典生成DataFrame，如果显式指定的列中有字典中不存在的列，默认值为NaN。下面这个例子同时指定了索引：\")\n",
    "frame = pd.DataFrame(data, columns=['year', 'state', 'pop', 'debt'], index=['one', 'two', 'three', 'four', 'five'])\n",
    "print(frame)"
   ]
  },
  {
   "cell_type": "markdown",
   "metadata": {},
   "source": [
    "取一行和取一列的操作："
   ]
  },
  {
   "cell_type": "code",
   "execution_count": 50,
   "metadata": {
    "collapsed": false
   },
   "outputs": [
    {
     "name": "stdout",
     "output_type": "stream",
     "text": [
      "取一列：\n",
      "one        Ohio\n",
      "two        Ohio\n",
      "three      Ohio\n",
      "four     Nevada\n",
      "five     Nevada\n",
      "Name: state, dtype: object\n",
      "\r\n",
      "取一行：\n",
      "year     2002\n",
      "state    Ohio\n",
      "pop       3.6\n",
      "debt      NaN\n",
      "Name: three, dtype: object\n"
     ]
    }
   ],
   "source": [
    "print(\"取一列：\")\n",
    "print(frame['state']) # 或者frame.state\n",
    "print(\"\\r\\n取一行：\")\n",
    "print(frame.ix['three']) # loc好像也行"
   ]
  },
  {
   "cell_type": "markdown",
   "metadata": {},
   "source": [
    "修改一列的值："
   ]
  },
  {
   "cell_type": "code",
   "execution_count": 51,
   "metadata": {
    "collapsed": false
   },
   "outputs": [
    {
     "name": "stdout",
     "output_type": "stream",
     "text": [
      "\r\n",
      "使用标量修改一整列的每个值：\n",
      "       year   state  pop  debt\n",
      "one    2000    Ohio  1.5  16.5\n",
      "two    2001    Ohio  1.7  16.5\n",
      "three  2002    Ohio  3.6  16.5\n",
      "four   2001  Nevada  2.4  16.5\n",
      "five   2002  Nevada  2.9  16.5\n",
      "\r\n",
      "使用ndarray修改一整列的所有值：\n",
      "       year   state  pop  debt\n",
      "one    2000    Ohio  1.5     0\n",
      "two    2001    Ohio  1.7     1\n",
      "three  2002    Ohio  3.6     2\n",
      "four   2001  Nevada  2.4     3\n",
      "five   2002  Nevada  2.9     4\n"
     ]
    }
   ],
   "source": [
    "print(\"\\r\\n使用标量修改一整列的每个值：\")\n",
    "frame['debt'] = 16.5\n",
    "print(frame)\n",
    "print(\"\\r\\n使用ndarray修改一整列的所有值：\")\n",
    "frame.debt = np.arange(5)\n",
    "print(frame)"
   ]
  },
  {
   "cell_type": "markdown",
   "metadata": {},
   "source": [
    "用Series来修改数据："
   ]
  },
  {
   "cell_type": "code",
   "execution_count": 52,
   "metadata": {
    "collapsed": false
   },
   "outputs": [
    {
     "name": "stdout",
     "output_type": "stream",
     "text": [
      "用Series指定要修改的索引及其对应的值，默认值为NaN\n",
      "       year   state  pop  debt\n",
      "one    2000    Ohio  1.5   NaN\n",
      "two    2001    Ohio  1.7  -1.2\n",
      "three  2002    Ohio  3.6   NaN\n",
      "four   2001  Nevada  2.4  -1.5\n",
      "five   2002  Nevada  2.9  -1.7\n"
     ]
    }
   ],
   "source": [
    "print(\"用Series指定要修改的索引及其对应的值，默认值为NaN\")\n",
    "frame['debt'] = pd.Series([-1.2, -1.5, -1.7], index=['two', 'four', 'five'])\n",
    "print(frame)"
   ]
  },
  {
   "cell_type": "markdown",
   "metadata": {},
   "source": [
    "新的一列："
   ]
  },
  {
   "cell_type": "code",
   "execution_count": 53,
   "metadata": {
    "collapsed": false
   },
   "outputs": [
    {
     "name": "stdout",
     "output_type": "stream",
     "text": [
      "       year   state  pop  debt eastern\n",
      "one    2000    Ohio  1.5   NaN    True\n",
      "two    2001    Ohio  1.7  -1.2    True\n",
      "three  2002    Ohio  3.6   NaN    True\n",
      "four   2001  Nevada  2.4  -1.5   False\n",
      "five   2002  Nevada  2.9  -1.7   False\n",
      "\r\n",
      "查看DataFrame有哪些列：\n",
      "Index(['year', 'state', 'pop', 'debt', 'eastern'], dtype='object')\n"
     ]
    }
   ],
   "source": [
    "frame['eastern'] = (frame.state == 'Ohio')\n",
    "print(frame)\n",
    "print(\"\\r\\n查看DataFrame有哪些列：\")\n",
    "print(frame.columns)"
   ]
  },
  {
   "cell_type": "markdown",
   "metadata": {},
   "source": [
    "DataFrame的转置："
   ]
  },
  {
   "cell_type": "code",
   "execution_count": 56,
   "metadata": {
    "collapsed": false
   },
   "outputs": [
    {
     "name": "stdout",
     "output_type": "stream",
     "text": [
      "      Nevada  Ohio\n",
      "2000     NaN   1.5\n",
      "2001     2.4   1.7\n",
      "2002     2.9   3.6\n",
      "        2000  2001  2002\n",
      "Nevada   NaN   2.4   2.9\n",
      "Ohio     1.5   1.7   3.6\n"
     ]
    }
   ],
   "source": [
    "# 字典组成的字典来构建DataFrame\n",
    "pop = {'Nevada':{2001:2.4, 2002:2.9}, 'Ohio':{2000:1.5, 2001:1.7, 2002:3.6}}\n",
    "frame2 = pd.DataFrame(pop)\n",
    "print(frame2)\n",
    "print(frame2.T)"
   ]
  },
  {
   "cell_type": "markdown",
   "metadata": {},
   "source": [
    "切片："
   ]
  },
  {
   "cell_type": "code",
   "execution_count": 57,
   "metadata": {
    "collapsed": false
   },
   "outputs": [
    {
     "name": "stdout",
     "output_type": "stream",
     "text": [
      "      Nevada  Ohio\n",
      "2000     NaN   1.5\n",
      "2001     2.4   1.7\n"
     ]
    }
   ],
   "source": [
    "pdata = {'Ohio': frame2['Ohio'][:-1], 'Nevada':frame2['Nevada'][:2]}\n",
    "print(pd.DataFrame(pdata))"
   ]
  },
  {
   "cell_type": "markdown",
   "metadata": {},
   "source": [
    "类似于Series，指定索引和列的名称："
   ]
  },
  {
   "cell_type": "code",
   "execution_count": 59,
   "metadata": {
    "collapsed": false
   },
   "outputs": [
    {
     "name": "stdout",
     "output_type": "stream",
     "text": [
      "state  Nevada  Ohio\n",
      "year               \n",
      "2000      NaN   1.5\n",
      "2001      2.4   1.7\n",
      "2002      2.9   3.6\n"
     ]
    }
   ],
   "source": [
    "frame2.index.name = \"year\"\n",
    "frame2.columns.name = \"state\"\n",
    "print(frame2)"
   ]
  },
  {
   "cell_type": "markdown",
   "metadata": {},
   "source": [
    "### 1.3 索引对象\n",
    "\n",
    "- pandas的索引对象负责管理轴标签和其他元数据(比如轴名称等)。构建Series或DataFrame时，所用到的任何数组或其他序列的标签都会被转换成一个Index。\n",
    "- Index对象是不可修改的(immutable)，因此用户不能对其进行修改。不可修改性非常重要，因为这样才能使Index对象在多个数据结构之间安全共享。\n",
    "\n",
    "pandas中的主要index对象：\n",
    "\n",
    "- `Index` 最泛化的index对象，将轴标签为一个由Python对象组成的NumPy数组\n",
    "- `Int64Index` 针对整数的特殊index\n",
    "- `MultiIndex` “层次化”索引对象，表示单个轴上的多层索引\n",
    "- `DatetimeIndex` 存储纳秒级时间戳\n",
    "- `PeriodIndex` 针对Period数据的特殊索引\n",
    "\n",
    "index的方法和属性：\n",
    "\n",
    "- `append` 连接另一个index对象，产生一个新的Index\n",
    "- `diff` 计算差集，并得到一个Index\n",
    "- `intersection` 计算交集\n",
    "- `union` 计算并集\n",
    "- `isin` 计算一个指示各值是否包含在参数集合中的布尔型数组\n",
    "- `delete` 删除索引i处的元素，并得到新的Index\n",
    "- `drop` 删除传入的值，并得到新的索引\n",
    "- `insert` 将元素插入到索引i处，并得到新的Index\n",
    "- `is_monotonic` 当各元素均大于等于前一个元素时，返回True\n",
    "- `is_unique` 当Index没有重复值时，返回True\n",
    "- `unique` 计算Index中唯一值的数组\n",
    "\n",
    "获取Index对象："
   ]
  },
  {
   "cell_type": "code",
   "execution_count": 70,
   "metadata": {
    "collapsed": false
   },
   "outputs": [
    {
     "name": "stdout",
     "output_type": "stream",
     "text": [
      "Index(['a', 'b', 'c'], dtype='object')\n",
      "Index(['b', 'c'], dtype='object')\n",
      "\r\n",
      "尝试修改index时会报错：\n",
      "Index does not support mutable operations\n"
     ]
    }
   ],
   "source": [
    "obj = pd.Series(range(3), index=['a', 'b', 'c'])\n",
    "idx = obj.index\n",
    "print(idx)\n",
    "print(idx[1:])\n",
    "\n",
    "print(\"\\r\\n尝试修改index时会报错：\")\n",
    "try:\n",
    "    idx[1] = 'd'\n",
    "except Exception as e:\n",
    "    print(e)"
   ]
  },
  {
   "cell_type": "markdown",
   "metadata": {},
   "source": [
    "使用Index对象："
   ]
  },
  {
   "cell_type": "code",
   "execution_count": 72,
   "metadata": {
    "collapsed": false
   },
   "outputs": [
    {
     "name": "stdout",
     "output_type": "stream",
     "text": [
      "0    1.5\n",
      "1   -2.5\n",
      "2    0.0\n",
      "dtype: float64\n",
      "True\n"
     ]
    }
   ],
   "source": [
    "idx = pd.Index(np.arange(3))\n",
    "obj2 = pd.Series([1.5, -2.5, 0], index=idx)\n",
    "print(obj2)\n",
    "print(obj2.index is idx)"
   ]
  },
  {
   "cell_type": "markdown",
   "metadata": {},
   "source": [
    "判断列和索引是否存在："
   ]
  },
  {
   "cell_type": "code",
   "execution_count": 76,
   "metadata": {
    "collapsed": false
   },
   "outputs": [
    {
     "name": "stdout",
     "output_type": "stream",
     "text": [
      "True\n",
      "False\n",
      "True\n"
     ]
    }
   ],
   "source": [
    "frame = pd.DataFrame({'Nevada':{20001:2.4, 2002:2.9}, 'Ohio':{2000:1.5, 2001:1.7, 2002:3.6}})\n",
    "print('Ohio' in frame.columns)\n",
    "print(2003 in frame.index)\n",
    "print(2001 in frame.index)"
   ]
  },
  {
   "cell_type": "markdown",
   "metadata": {},
   "source": [
    "## 2. 基本功能\n",
    "\n",
    "### 2.1 重新索引\n",
    "\n",
    "- 创建一个适应新索引的新对象，该Series的reindex将会根据新索引进行重排。如果某个索引值当前不存在，就引入缺失值\n",
    "- 对于时间序列这样的有序数据，重新索引时可能需要做一些插值处理。method选项即可达到此目的。\n",
    "\n",
    "reindex函数的参数：\n",
    "\n",
    "- `index` 用作索引的新序列。既可以是Index实例，也可以是其他序列型的Python数据结构。Index会被完全使用，就像没有任何复制一样。\n",
    "- `method` 插值填充方式。ffill或bfill\n",
    "- `fill_value` 在重新索引的过程中，需要引入缺失值时使用的替代值\n",
    "- `limit` 向前或向后填充时的最大填充量\n",
    "- `level` 在MultiIndex的指定级别上匹配简单索引，否则取其子集\n",
    "- `copy` 默认为True，无论如何都复制。如果为False，则新旧相等就不复制\n"
   ]
  },
  {
   "cell_type": "code",
   "execution_count": 12,
   "metadata": {
    "collapsed": false
   },
   "outputs": [
    {
     "name": "stdout",
     "output_type": "stream",
     "text": [
      "d    4.5\n",
      "b    7.2\n",
      "a   -5.3\n",
      "c    3.6\n",
      "dtype: float64\n",
      "\r\n",
      "重新索引，缺失值使用默认的值：\n",
      "a   -5.3\n",
      "b    7.2\n",
      "c    3.6\n",
      "d    4.5\n",
      "e    NaN\n",
      "dtype: float64\n",
      "\r\n",
      "重新索引，缺失值使用指定的值：\n",
      "a   -5.3\n",
      "b    7.2\n",
      "c    3.6\n",
      "d    4.5\n",
      "e    0.0\n",
      "dtype: float64\n",
      "\r\n",
      "重新索引，指定填充元素的方法\n",
      "0      blue\n",
      "2    purple\n",
      "4    yellow\n",
      "dtype: object\n",
      "0      blue\n",
      "1      blue\n",
      "2    purple\n",
      "3    purple\n",
      "4    yellow\n",
      "5    yellow\n",
      "dtype: object\n"
     ]
    }
   ],
   "source": [
    "obj = pd.Series([4.5, 7.2, -5.3, 3.6], index=['d', 'b', 'a', 'c'])\n",
    "print(obj)\n",
    "print(\"\\r\\n重新索引，缺失值使用默认的值：\")\n",
    "print(obj.reindex(['a', 'b', 'c', 'd', 'e']))\n",
    "print(\"\\r\\n重新索引，缺失值使用指定的值：\")\n",
    "print(obj.reindex(['a', 'b', 'c', 'd', 'e'], fill_value=0))\n",
    "\n",
    "print(\"\\r\\n重新索引，指定填充元素的方法\")\n",
    "obj3 = pd.Series(['blue', 'purple', 'yellow'], index=[0, 2, 4])\n",
    "print(obj3)\n",
    "print(obj3.reindex(range(6), method='ffill'))"
   ]
  },
  {
   "cell_type": "code",
   "execution_count": 18,
   "metadata": {
    "collapsed": false
   },
   "outputs": [
    {
     "name": "stdout",
     "output_type": "stream",
     "text": [
      "   Ohio  Texas  California\n",
      "a     0      1           2\n",
      "c     3      4           5\n",
      "d     6      7           8\n",
      "\r\n",
      "对DataFrame进行重新索引\n",
      "   Ohio  Texas  California\n",
      "a   0.0    1.0         2.0\n",
      "b   NaN    NaN         NaN\n",
      "c   3.0    4.0         5.0\n",
      "d   6.0    7.0         8.0\n",
      "\r\n",
      "重新指定column\n",
      "   Texas  Utah  California\n",
      "a      1   NaN           2\n",
      "c      4   NaN           5\n",
      "d      7   NaN           8\n"
     ]
    }
   ],
   "source": [
    "frame = pd.DataFrame(np.arange(9).reshape(3, 3), index=['a', 'c', 'd'], columns=['Ohio', 'Texas', 'California'])\n",
    "print(frame)\n",
    "print(\"\\r\\n对DataFrame进行重新索引\")\n",
    "print(frame.reindex(['a', 'b', 'c', 'd']))\n",
    "\n",
    "print(\"\\r\\n重新指定column\")\n",
    "print(frame.reindex(columns=['Texas', 'Utah', 'California']))"
   ]
  },
  {
   "cell_type": "markdown",
   "metadata": {},
   "source": [
    "### 2.2 丢弃指定轴上的项\n",
    "\n",
    "`drop`方法。丢弃某条轴上的一个或多个项很简单，只要有一个索引数组或列表即可。由于需要执行一些数据整理和集合逻辑，所以drop方法返回的是一个在指定轴上删除了指定值的新对象。"
   ]
  },
  {
   "cell_type": "code",
   "execution_count": 25,
   "metadata": {
    "collapsed": false
   },
   "outputs": [
    {
     "name": "stdout",
     "output_type": "stream",
     "text": [
      "Series丢弃某些值：\n",
      "a    0\n",
      "b    1\n",
      "e    4\n",
      "dtype: int64\n",
      "\n",
      "          one  two  three  four\n",
      "Ohio        0    1      2     3\n",
      "Colorado    4    5      6     7\n",
      "Utah        8    9     10    11\n",
      "New York   12   13     14    15\n",
      "\r\n",
      "DataFrame按索引drop：\n",
      "          one  two  three  four\n",
      "Utah        8    9     10    11\n",
      "New York   12   13     14    15\n",
      "\r\n",
      "DataFrame按列drop：\n",
      "          one  three  four\n",
      "Ohio        0      2     3\n",
      "Colorado    4      6     7\n",
      "Utah        8     10    11\n",
      "New York   12     14    15\n"
     ]
    }
   ],
   "source": [
    "obj = pd.Series(np.arange(5), index=['a', 'b', 'c', 'd', 'e'])\n",
    "print(\"Series丢弃某些值：\")\n",
    "print(obj.drop(['c', 'd']))\n",
    "\n",
    "frame = pd.DataFrame(np.arange(16).reshape(4, 4),\n",
    "                     index=['Ohio', 'Colorado', 'Utah', 'New York'],\n",
    "                     columns=['one', 'two', 'three', 'four'])\n",
    "print()\n",
    "print(frame)\n",
    "print(\"\\r\\nDataFrame按索引drop：\")\n",
    "print(frame.drop(['Colorado', 'Ohio']))\n",
    "print(\"\\r\\nDataFrame按列drop：\")\n",
    "print(frame.drop('two', axis=1))"
   ]
  },
  {
   "cell_type": "markdown",
   "metadata": {},
   "source": [
    "### 2.3 索引以及索引的选取和过滤\n",
    "\n",
    "- Series索引的工作方式与NumPy相似，但是Seriesb"
   ]
  },
  {
   "cell_type": "code",
   "execution_count": 29,
   "metadata": {
    "collapsed": false
   },
   "outputs": [
    {
     "name": "stdout",
     "output_type": "stream",
     "text": [
      "基本索引：\n",
      "2\n",
      "\r\n",
      "数字索引依然可以工作：\n",
      "2\n",
      "a    1\n",
      "d    3\n",
      "dtype: int64\n",
      "\r\n",
      "字符串索引也可以切片，要注意这个时候是闭区间\n",
      "b    0\n",
      "a    1\n",
      "c    2\n",
      "dtype: int64\n",
      "\r\n",
      "根据条件选择：\n",
      "b    0\n",
      "a    1\n",
      "dtype: int64\n"
     ]
    }
   ],
   "source": [
    "obj = pd.Series(np.arange(4), index=['b', 'a', 'c', 'd'])\n",
    "print(\"基本索引：\")\n",
    "print(obj['c'])\n",
    "print(\"\\r\\n数字索引依然可以工作：\")\n",
    "print(obj[2])\n",
    "print(obj[[1, 3]])\n",
    "print(\"\\r\\n字符串索引也可以切片，要注意这个时候是闭区间\")\n",
    "print(obj['b': 'c']) # 注意这里是闭区间\n",
    "print(\"\\r\\n根据条件选择：\")\n",
    "print(obj[obj < 2])"
   ]
  },
  {
   "cell_type": "code",
   "execution_count": 52,
   "metadata": {
    "collapsed": false
   },
   "outputs": [
    {
     "name": "stdout",
     "output_type": "stream",
     "text": [
      "          one  two  three  four\n",
      "Ohio        0    1      2     3\n",
      "Colorado    4    5      6     7\n",
      "Utah        8    9     10    11\n",
      "New York   12   13     14    15\n",
      "\r\n",
      "默认是选择列：\n",
      "Ohio         1\n",
      "Colorado     5\n",
      "Utah         9\n",
      "New York    13\n",
      "Name: two, dtype: int64\n",
      "\r\n",
      "选择多列：\n",
      "          three  one\n",
      "Ohio          2    0\n",
      "Colorado      6    4\n",
      "Utah         10    8\n",
      "New York     14   12\n",
      "\r\n",
      "选择行：\n",
      "one       8\n",
      "two       9\n",
      "three    10\n",
      "four     11\n",
      "Name: Utah, dtype: int64\n",
      "\r\n",
      "通过数字选择行：\n",
      "          one  two  three  four\n",
      "Colorado    4    5      6     7\n",
      "Utah        8    9     10    11\n",
      "\r\n",
      "同时对行和列进行过滤：\n",
      "      two  three\n",
      "Utah    9     10\n",
      "Ohio    1      2\n",
      "\r\n",
      "切片选择行：\n",
      "          one  two  three  four\n",
      "Ohio        0    1      2     3\n",
      "Colorado    4    5      6     7\n",
      "\r\n",
      "根据条件选择：\n",
      "          one  two  three  four\n",
      "Colorado    4    5      6     7\n",
      "Utah        8    9     10    11\n",
      "New York   12   13     14    15\n"
     ]
    }
   ],
   "source": [
    "frame = pd.DataFrame(np.arange(16).reshape(4, 4),\n",
    "                    index=['Ohio', 'Colorado', 'Utah', 'New York'],\n",
    "                    columns=['one', 'two', 'three', 'four'])\n",
    "print(frame)\n",
    "print(\"\\r\\n默认是选择列：\")\n",
    "print(frame['two']) #一列是Series\n",
    "print(\"\\r\\n选择多列：\")\n",
    "print(frame[['three', 'one']]) # 多列是DataFrame\n",
    "\n",
    "print(\"\\r\\n选择行：\")\n",
    "print(frame.ix['Utah']) #一行是Series\n",
    "print(\"\\r\\n通过数字选择行：\")\n",
    "print(frame.ix[[1, 2]]) #多行是DataFrame\n",
    "print(\"\\r\\n同时对行和列进行过滤：\")\n",
    "print(frame.ix[['Utah', 'Ohio'], ['two', 'three']])\n",
    "print(\"\\r\\n切片选择行：\")\n",
    "print(frame[:2])\n",
    "\n",
    "print(\"\\r\\n根据条件选择：\")\n",
    "print(frame[frame.three > 5])"
   ]
  }
 ],
 "metadata": {
  "kernelspec": {
   "display_name": "Python 3",
   "language": "python",
   "name": "python3"
  },
  "language_info": {
   "codemirror_mode": {
    "name": "ipython",
    "version": 3
   },
   "file_extension": ".py",
   "mimetype": "text/x-python",
   "name": "python",
   "nbconvert_exporter": "python",
   "pygments_lexer": "ipython3",
   "version": "3.5.1"
  }
 },
 "nbformat": 4,
 "nbformat_minor": 0
}
