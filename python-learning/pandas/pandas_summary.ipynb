{
 "cells": [
  {
   "cell_type": "markdown",
   "metadata": {},
   "source": [
    "# Pandas\n",
    "\n",
    "## 1. 数据结构\n",
    "\n",
    "### 1.1 Series\n",
    "\n",
    "Series是一种类似于一维数组的对象，它由一组数据（各种NumPy数据类型）以及一组与之相关的数据标签（即索引）组成。Series的字符串表现形式为：索引在左边，值在右边。\n",
    "\n",
    "用数组生成Series："
   ]
  },
  {
   "cell_type": "code",
   "execution_count": 1,
   "metadata": {
    "collapsed": false
   },
   "outputs": [
    {
     "name": "stdout",
     "output_type": "stream",
     "text": [
      "用数组生成Series\r\n",
      "0    4\n",
      "1    7\n",
      "2   -5\n",
      "3    3\n",
      "dtype: int64\n",
      "\r\n",
      "Series的值：\r\n",
      "[ 4  7 -5  3]\n",
      "\r\n",
      "Series的索引：\r\n",
      "RangeIndex(start=0, stop=4, step=1)\n"
     ]
    }
   ],
   "source": [
    "import pandas as pd\n",
    "import numpy as np\n",
    "\n",
    "obj = pd.Series([4, 7, -5, 3])\n",
    "print(\"用数组生成Series\", obj, sep='\\r\\n')\n",
    "print(\"\\r\\nSeries的值：\", obj.values, sep='\\r\\n')\n",
    "print(\"\\r\\nSeries的索引：\", obj.index, sep='\\r\\n')"
   ]
  },
  {
   "cell_type": "markdown",
   "metadata": {},
   "source": [
    "指定Series的index："
   ]
  },
  {
   "cell_type": "code",
   "execution_count": 2,
   "metadata": {
    "collapsed": false
   },
   "outputs": [
    {
     "name": "stdout",
     "output_type": "stream",
     "text": [
      "原始Series：\r\n",
      "d    4\n",
      "b    7\n",
      "a   -5\n",
      "c    3\n",
      "dtype: int64\n",
      "\r\n",
      "Series的值：\r\n",
      "[ 4  7 -5  3]\n",
      "\r\n",
      "Series的索引：\r\n",
      "Index(['d', 'b', 'a', 'c'], dtype='object')\n",
      "\r\n",
      "替换index\r\n",
      "Bob      4\n",
      "Steve    7\n",
      "Jeff    -5\n",
      "Ryan     3\n",
      "dtype: int64\n"
     ]
    }
   ],
   "source": [
    "obj2 = pd.Series([4, 7, -5, 3], index = ['d', 'b', 'a', 'c'])\n",
    "print('原始Series：', obj2, sep='\\r\\n')\n",
    "print(\"\\r\\nSeries的值：\", obj2.values, sep='\\r\\n')\n",
    "print(\"\\r\\nSeries的索引：\", obj2.index, sep='\\r\\n')\n",
    "\n",
    "obj2.index = ['Bob', 'Steve', 'Jeff', 'Ryan']\n",
    "print(\"\\r\\n替换index\", obj2, sep='\\r\\n')"
   ]
  },
  {
   "cell_type": "markdown",
   "metadata": {},
   "source": [
    "使用字典生成Series，以及Series相加："
   ]
  },
  {
   "cell_type": "code",
   "execution_count": 4,
   "metadata": {
    "collapsed": false
   },
   "outputs": [
    {
     "name": "stdout",
     "output_type": "stream",
     "text": [
      "使用字典生成Series：\r\n",
      "Ohio      45000\n",
      "Oregon    16000\n",
      "Texas     71000\n",
      "Utah       5000\n",
      "dtype: int64\n",
      "\r\n",
      "使用字典生成Series，并额外指定index，不匹配部分为NaN：\r\n",
      "California        NaN\n",
      "Ohio          45000.0\n",
      "Oregon        16000.0\n",
      "Texas         71000.0\n",
      "dtype: float64\n",
      "\r\n",
      "Series相加，相同索引部分相加：\n",
      "California         NaN\n",
      "Ohio           90000.0\n",
      "Oregon         32000.0\n",
      "Texas         142000.0\n",
      "Utah               NaN\n",
      "dtype: float64\n"
     ]
    }
   ],
   "source": [
    "obj3 = pd.Series({'Ohio':45000, 'Texas':71000, 'Oregon':16000, 'Utah':5000})\n",
    "print(\"使用字典生成Series：\", obj3, sep='\\r\\n')\n",
    "\n",
    "obj4 = pd.Series({'Ohio':45000, 'Texas':71000, 'Oregon':16000, 'Utah':5000}, \\\n",
    "                 index=['California', 'Ohio', 'Oregon', 'Texas'])\n",
    "print('\\r\\n使用字典生成Series，并额外指定index，不匹配部分为NaN：', obj4, sep='\\r\\n')\n",
    "\n",
    "print(\"\\r\\nSeries相加，相同索引部分相加：\")\n",
    "print(obj3 + obj4)"
   ]
  },
  {
   "cell_type": "markdown",
   "metadata": {},
   "source": [
    "指定Series及其索引的名字："
   ]
  },
  {
   "cell_type": "code",
   "execution_count": 5,
   "metadata": {
    "collapsed": false
   },
   "outputs": [
    {
     "name": "stdout",
     "output_type": "stream",
     "text": [
      "\r\n",
      "指定Series及其索引的名字：\n",
      "state\n",
      "California        NaN\n",
      "Ohio          45000.0\n",
      "Oregon        16000.0\n",
      "Texas         71000.0\n",
      "Name: population, dtype: float64\n"
     ]
    }
   ],
   "source": [
    "print(\"\\r\\n指定Series及其索引的名字：\")\n",
    "obj4.name = \"population\"\n",
    "obj4.index.name = \"state\"\n",
    "print(obj4)"
   ]
  },
  {
   "cell_type": "markdown",
   "metadata": {},
   "source": [
    "### 1.2 DataFrame\n",
    "\n",
    "- DataFrame是一个表格型的数据结构，它含有一组有序的列，每列可以是不同的值类型（数值、字符串、布尔型等）。\n",
    "- DataFrame既有行索引也有列索引，它可以看做由Series组成的字典（共用同一个索引）。\n",
    "\n",
    "以下数据都可以用于构建一个DataFrame：\n",
    "\n",
    "- 二维ndarray：数据矩阵，还可以传入行标和列标\n",
    "- 由数组、列表或元组组成的字典：每个序列会变成DataFrame的一列，所有序列的长度必须相同\n",
    "- NumPy的结构化数组：类似于”由数组组成的字典“\n",
    "- 由Series组成的字典：每个Series会组成一列。如果没有显式指定索引，则各Series的索引会被合并成结果的行索引。\n",
    "- 由字典组成的字典：各内层字典会成为一列。键会合并成结果的行索引。跟”由Series组成的字典”情况一样。\n",
    "- 字典或Series的列表：各项将会成为DataFrame的一行。字典键或Series索引的并集将会成为DataFrame的列标。\n",
    "- 由列表或元组组成的列表：类似于“二维ndarray”\n",
    "- 另一个DataFrame：该DataFrame的索引将会被沿用，除非显式指定了其他索引。\n",
    "- NumPy的MaskedArray：类似于“二维ndarray”的情况，只是掩码值在结果DataFrame会变成NaN缺失值。\n",
    "\n",
    "典型地，可以用字典生成DataFrame："
   ]
  },
  {
   "cell_type": "code",
   "execution_count": 6,
   "metadata": {
    "collapsed": false
   },
   "outputs": [
    {
     "name": "stdout",
     "output_type": "stream",
     "text": [
      "用字典生成DataFrame，key为列的名字，列的顺序默认是乱序的：\n",
      "   pop   state  year\n",
      "0  1.5    Ohio  2000\n",
      "1  1.7    Ohio  2001\n",
      "2  3.6    Ohio  2002\n",
      "3  2.4  Nevada  2001\n",
      "4  2.9  Nevada  2002\n",
      "\r\n",
      "可以显式指定列的顺序：\n",
      "   year   state  pop\n",
      "0  2000    Ohio  1.5\n",
      "1  2001    Ohio  1.7\n",
      "2  2002    Ohio  3.6\n",
      "3  2001  Nevada  2.4\n",
      "4  2002  Nevada  2.9\n",
      "\r\n",
      "用字典生成DataFrame，如果显式指定的列中有字典中不存在的列，默认值为NaN。下面这个例子同时指定了索引：\n",
      "       year   state  pop debt\n",
      "one    2000    Ohio  1.5  NaN\n",
      "two    2001    Ohio  1.7  NaN\n",
      "three  2002    Ohio  3.6  NaN\n",
      "four   2001  Nevada  2.4  NaN\n",
      "five   2002  Nevada  2.9  NaN\n"
     ]
    }
   ],
   "source": [
    "data = {'state':['Ohio', 'Ohio', 'Ohio', 'Nevada', 'Nevada'],\n",
    "        'year':[2000, 2001, 2002, 2001, 2002],\n",
    "        'pop':[1.5, 1.7, 3.6, 2.4, 2.9]}\n",
    "print(\"用字典生成DataFrame，key为列的名字，列的顺序默认是乱序的：\")\n",
    "print(pd.DataFrame(data))\n",
    "print(\"\\r\\n可以显式指定列的顺序：\")\n",
    "print(pd.DataFrame(data, columns=['year', 'state', 'pop']))\n",
    "\n",
    "print(\"\\r\\n用字典生成DataFrame，如果显式指定的列中有字典中不存在的列，默认值为NaN。下面这个例子同时指定了索引：\")\n",
    "frame = pd.DataFrame(data, columns=['year', 'state', 'pop', 'debt'], index=['one', 'two', 'three', 'four', 'five'])\n",
    "print(frame)"
   ]
  },
  {
   "cell_type": "markdown",
   "metadata": {},
   "source": [
    "取一行和取一列的操作："
   ]
  },
  {
   "cell_type": "code",
   "execution_count": 7,
   "metadata": {
    "collapsed": false
   },
   "outputs": [
    {
     "name": "stdout",
     "output_type": "stream",
     "text": [
      "取一列：\n",
      "one        Ohio\n",
      "two        Ohio\n",
      "three      Ohio\n",
      "four     Nevada\n",
      "five     Nevada\n",
      "Name: state, dtype: object\n",
      "\r\n",
      "取一行：\n",
      "year     2002\n",
      "state    Ohio\n",
      "pop       3.6\n",
      "debt      NaN\n",
      "Name: three, dtype: object\n"
     ]
    }
   ],
   "source": [
    "print(\"取一列：\")\n",
    "print(frame['state']) # 或者frame.state\n",
    "print(\"\\r\\n取一行：\")\n",
    "print(frame.ix['three']) # loc好像也行"
   ]
  },
  {
   "cell_type": "markdown",
   "metadata": {},
   "source": [
    "修改一列的值："
   ]
  },
  {
   "cell_type": "code",
   "execution_count": 9,
   "metadata": {
    "collapsed": false
   },
   "outputs": [
    {
     "name": "stdout",
     "output_type": "stream",
     "text": [
      "使用标量修改一整列的每个值：\r\n",
      "       year   state  pop  debt\n",
      "one    2000    Ohio  1.5  16.5\n",
      "two    2001    Ohio  1.7  16.5\n",
      "three  2002    Ohio  3.6  16.5\n",
      "four   2001  Nevada  2.4  16.5\n",
      "five   2002  Nevada  2.9  16.5\n",
      "\r\n",
      "使用ndarray修改一整列的所有值：\r\n",
      "       year   state  pop  debt\n",
      "one    2000    Ohio  1.5     0\n",
      "two    2001    Ohio  1.7     1\n",
      "three  2002    Ohio  3.6     2\n",
      "four   2001  Nevada  2.4     3\n",
      "five   2002  Nevada  2.9     4\n"
     ]
    }
   ],
   "source": [
    "frame['debt'] = 16.5\n",
    "print('使用标量修改一整列的每个值：', frame, sep='\\r\\n')\n",
    "\n",
    "frame.debt = np.arange(5)\n",
    "print('\\r\\n使用ndarray修改一整列的所有值：', frame, sep='\\r\\n')"
   ]
  },
  {
   "cell_type": "markdown",
   "metadata": {},
   "source": [
    "用Series来修改数据："
   ]
  },
  {
   "cell_type": "code",
   "execution_count": 10,
   "metadata": {
    "collapsed": false
   },
   "outputs": [
    {
     "name": "stdout",
     "output_type": "stream",
     "text": [
      "用Series指定要修改的索引及其对应的值，默认值为NaN\n",
      "       year   state  pop  debt\n",
      "one    2000    Ohio  1.5   NaN\n",
      "two    2001    Ohio  1.7  -1.2\n",
      "three  2002    Ohio  3.6   NaN\n",
      "four   2001  Nevada  2.4  -1.5\n",
      "five   2002  Nevada  2.9  -1.7\n"
     ]
    }
   ],
   "source": [
    "print(\"用Series指定要修改的索引及其对应的值，默认值为NaN\")\n",
    "frame['debt'] = pd.Series([-1.2, -1.5, -1.7], index=['two', 'four', 'five'])\n",
    "print(frame)"
   ]
  },
  {
   "cell_type": "markdown",
   "metadata": {},
   "source": [
    "新的一列："
   ]
  },
  {
   "cell_type": "code",
   "execution_count": 11,
   "metadata": {
    "collapsed": false
   },
   "outputs": [
    {
     "name": "stdout",
     "output_type": "stream",
     "text": [
      "       year   state  pop  debt eastern\n",
      "one    2000    Ohio  1.5   NaN    True\n",
      "two    2001    Ohio  1.7  -1.2    True\n",
      "three  2002    Ohio  3.6   NaN    True\n",
      "four   2001  Nevada  2.4  -1.5   False\n",
      "five   2002  Nevada  2.9  -1.7   False\n",
      "\r\n",
      "查看DataFrame有哪些列：\n",
      "Index(['year', 'state', 'pop', 'debt', 'eastern'], dtype='object')\n"
     ]
    }
   ],
   "source": [
    "frame['eastern'] = (frame.state == 'Ohio')\n",
    "print(frame)\n",
    "print(\"\\r\\n查看DataFrame有哪些列：\")\n",
    "print(frame.columns)"
   ]
  },
  {
   "cell_type": "markdown",
   "metadata": {},
   "source": [
    "DataFrame的转置："
   ]
  },
  {
   "cell_type": "code",
   "execution_count": 12,
   "metadata": {
    "collapsed": false
   },
   "outputs": [
    {
     "name": "stdout",
     "output_type": "stream",
     "text": [
      "原始DataFrame：\r\n",
      "       Nevada  Ohio\n",
      "2000     NaN   1.5\n",
      "2001     2.4   1.7\n",
      "2002     2.9   3.6\n",
      "\r\n",
      "转置后的DataFrame：\r\n",
      "         2000  2001  2002\n",
      "Nevada   NaN   2.4   2.9\n",
      "Ohio     1.5   1.7   3.6\n"
     ]
    }
   ],
   "source": [
    "# 字典组成的字典来构建DataFrame\n",
    "pop = {'Nevada':{2001:2.4, 2002:2.9}, 'Ohio':{2000:1.5, 2001:1.7, 2002:3.6}}\n",
    "frame2 = pd.DataFrame(pop)\n",
    "print(\"原始DataFrame：\\r\\n\", frame2)\n",
    "print(\"\\r\\n转置后的DataFrame：\\r\\n\", frame2.T)"
   ]
  },
  {
   "cell_type": "markdown",
   "metadata": {},
   "source": [
    "切片："
   ]
  },
  {
   "cell_type": "code",
   "execution_count": 13,
   "metadata": {
    "collapsed": false
   },
   "outputs": [
    {
     "name": "stdout",
     "output_type": "stream",
     "text": [
      "      Nevada  Ohio\n",
      "2000     NaN   1.5\n",
      "2001     2.4   1.7\n"
     ]
    }
   ],
   "source": [
    "pdata = {'Ohio': frame2['Ohio'][:-1], 'Nevada':frame2['Nevada'][:2]}\n",
    "print(pd.DataFrame(pdata))"
   ]
  },
  {
   "cell_type": "markdown",
   "metadata": {},
   "source": [
    "类似于Series，指定索引和列的名称："
   ]
  },
  {
   "cell_type": "code",
   "execution_count": 14,
   "metadata": {
    "collapsed": false
   },
   "outputs": [
    {
     "name": "stdout",
     "output_type": "stream",
     "text": [
      "state  Nevada  Ohio\n",
      "year               \n",
      "2000      NaN   1.5\n",
      "2001      2.4   1.7\n",
      "2002      2.9   3.6\n"
     ]
    }
   ],
   "source": [
    "frame2.index.name = \"year\"\n",
    "frame2.columns.name = \"state\"\n",
    "print(frame2)"
   ]
  },
  {
   "cell_type": "markdown",
   "metadata": {},
   "source": [
    "### 1.3 索引对象\n",
    "\n",
    "- pandas的索引对象负责管理轴标签和其他元数据(比如轴名称等)。构建Series或DataFrame时，所用到的任何数组或其他序列的标签都会被转换成一个Index。\n",
    "- Index对象是不可修改的(immutable)，因此用户不能对其进行修改。不可修改性非常重要，因为这样才能使Index对象在多个数据结构之间安全共享。\n",
    "\n",
    "pandas中的主要index对象：\n",
    "\n",
    "- `Index` 最泛化的index对象，将轴标签为一个由Python对象组成的NumPy数组\n",
    "- `Int64Index` 针对整数的特殊index\n",
    "- `MultiIndex` “层次化”索引对象，表示单个轴上的多层索引\n",
    "- `DatetimeIndex` 存储纳秒级时间戳\n",
    "- `PeriodIndex` 针对Period数据的特殊索引\n",
    "\n",
    "index的方法和属性：\n",
    "\n",
    "- `append` 连接另一个index对象，产生一个新的Index\n",
    "- `diff` 计算差集，并得到一个Index\n",
    "- `intersection` 计算交集\n",
    "- `union` 计算并集\n",
    "- `isin` 计算一个指示各值是否包含在参数集合中的布尔型数组\n",
    "- `delete` 删除索引i处的元素，并得到新的Index\n",
    "- `drop` 删除传入的值，并得到新的索引\n",
    "- `insert` 将元素插入到索引i处，并得到新的Index\n",
    "- `is_monotonic` 当各元素均大于等于前一个元素时，返回True\n",
    "- `is_unique` 当Index没有重复值时，返回True\n",
    "- `unique` 计算Index中唯一值的数组\n",
    "\n",
    "获取Index对象："
   ]
  },
  {
   "cell_type": "code",
   "execution_count": 15,
   "metadata": {
    "collapsed": false
   },
   "outputs": [
    {
     "name": "stdout",
     "output_type": "stream",
     "text": [
      "Index(['a', 'b', 'c'], dtype='object')\n",
      "Index(['b', 'c'], dtype='object')\n",
      "\r\n",
      "尝试修改index时会报错：\n",
      "Index does not support mutable operations\n"
     ]
    }
   ],
   "source": [
    "obj = pd.Series(range(3), index=['a', 'b', 'c'])\n",
    "idx = obj.index\n",
    "print(idx)\n",
    "print(idx[1:])\n",
    "\n",
    "print(\"\\r\\n尝试修改index时会报错：\")\n",
    "try:\n",
    "    idx[1] = 'd'\n",
    "except Exception as e:\n",
    "    print(e)"
   ]
  },
  {
   "cell_type": "markdown",
   "metadata": {},
   "source": [
    "使用Index对象："
   ]
  },
  {
   "cell_type": "code",
   "execution_count": 16,
   "metadata": {
    "collapsed": false
   },
   "outputs": [
    {
     "name": "stdout",
     "output_type": "stream",
     "text": [
      "idx: \r\n",
      " Int64Index([0, 1, 2], dtype='int64')\n",
      "\r\n",
      "obj2: \r\n",
      " 0    1.5\n",
      "1   -2.5\n",
      "2    0.0\n",
      "dtype: float64\n",
      "\r\n",
      "Index的is操作：\r\n",
      " True\n"
     ]
    }
   ],
   "source": [
    "idx = pd.Index(np.arange(3))\n",
    "print(\"idx: \\r\\n\", idx)\n",
    "\n",
    "obj2 = pd.Series([1.5, -2.5, 0], index=idx)\n",
    "print(\"\\r\\nobj2: \\r\\n\", obj2)\n",
    "\n",
    "print(\"\\r\\nIndex的is操作：\\r\\n\", obj2.index is idx)"
   ]
  },
  {
   "cell_type": "markdown",
   "metadata": {},
   "source": [
    "判断列和索引是否存在："
   ]
  },
  {
   "cell_type": "code",
   "execution_count": 17,
   "metadata": {
    "collapsed": false
   },
   "outputs": [
    {
     "name": "stdout",
     "output_type": "stream",
     "text": [
      "True\n",
      "False\n",
      "True\n"
     ]
    }
   ],
   "source": [
    "frame = pd.DataFrame({'Nevada':{20001:2.4, 2002:2.9}, 'Ohio':{2000:1.5, 2001:1.7, 2002:3.6}})\n",
    "print('Ohio' in frame.columns)\n",
    "print(2003 in frame.index)\n",
    "print(2001 in frame.index)"
   ]
  },
  {
   "cell_type": "markdown",
   "metadata": {},
   "source": [
    "## 2. 基本功能\n",
    "\n",
    "### 2.1 重新索引\n",
    "\n",
    "- 创建一个适应新索引的新对象，该Series的reindex将会根据新索引进行重排。如果某个索引值当前不存在，就引入缺失值\n",
    "- 对于时间序列这样的有序数据，重新索引时可能需要做一些插值处理。method选项即可达到此目的。\n",
    "\n",
    "reindex函数的参数：\n",
    "\n",
    "- `index` 用作索引的新序列。既可以是Index实例，也可以是其他序列型的Python数据结构。Index会被完全使用，就像没有任何复制一样。\n",
    "- `method` 插值填充方式。ffill或bfill\n",
    "- `fill_value` 在重新索引的过程中，需要引入缺失值时使用的替代值\n",
    "- `limit` 向前或向后填充时的最大填充量\n",
    "- `level` 在MultiIndex的指定级别上匹配简单索引，否则取其子集\n",
    "- `copy` 默认为True，无论如何都复制。如果为False，则新旧相等就不复制\n"
   ]
  },
  {
   "cell_type": "code",
   "execution_count": 18,
   "metadata": {
    "collapsed": false
   },
   "outputs": [
    {
     "name": "stdout",
     "output_type": "stream",
     "text": [
      "d    4.5\n",
      "b    7.2\n",
      "a   -5.3\n",
      "c    3.6\n",
      "dtype: float64\n",
      "\r\n",
      "重新索引，缺失值使用默认的值：\n",
      "a   -5.3\n",
      "b    7.2\n",
      "c    3.6\n",
      "d    4.5\n",
      "e    NaN\n",
      "dtype: float64\n",
      "\r\n",
      "重新索引，缺失值使用指定的值：\n",
      "a   -5.3\n",
      "b    7.2\n",
      "c    3.6\n",
      "d    4.5\n",
      "e    0.0\n",
      "dtype: float64\n",
      "\r\n",
      "重新索引，指定填充元素的方法\n",
      "0      blue\n",
      "2    purple\n",
      "4    yellow\n",
      "dtype: object\n",
      "0      blue\n",
      "1      blue\n",
      "2    purple\n",
      "3    purple\n",
      "4    yellow\n",
      "5    yellow\n",
      "dtype: object\n"
     ]
    }
   ],
   "source": [
    "obj = pd.Series([4.5, 7.2, -5.3, 3.6], index=['d', 'b', 'a', 'c'])\n",
    "print(obj)\n",
    "print(\"\\r\\n重新索引，缺失值使用默认的值：\")\n",
    "print(obj.reindex(['a', 'b', 'c', 'd', 'e']))\n",
    "print(\"\\r\\n重新索引，缺失值使用指定的值：\")\n",
    "print(obj.reindex(['a', 'b', 'c', 'd', 'e'], fill_value=0))\n",
    "\n",
    "print(\"\\r\\n重新索引，指定填充元素的方法\")\n",
    "obj3 = pd.Series(['blue', 'purple', 'yellow'], index=[0, 2, 4])\n",
    "print(obj3)\n",
    "print(obj3.reindex(range(6), method='ffill'))"
   ]
  },
  {
   "cell_type": "code",
   "execution_count": 19,
   "metadata": {
    "collapsed": false
   },
   "outputs": [
    {
     "name": "stdout",
     "output_type": "stream",
     "text": [
      "   Ohio  Texas  California\n",
      "a     0      1           2\n",
      "c     3      4           5\n",
      "d     6      7           8\n",
      "\r\n",
      "对DataFrame进行重新索引\n",
      "   Ohio  Texas  California\n",
      "a   0.0    1.0         2.0\n",
      "b   NaN    NaN         NaN\n",
      "c   3.0    4.0         5.0\n",
      "d   6.0    7.0         8.0\n",
      "\r\n",
      "重新指定column\n",
      "   Texas  Utah  California\n",
      "a      1   NaN           2\n",
      "c      4   NaN           5\n",
      "d      7   NaN           8\n"
     ]
    }
   ],
   "source": [
    "frame = pd.DataFrame(np.arange(9).reshape(3, 3), index=['a', 'c', 'd'], columns=['Ohio', 'Texas', 'California'])\n",
    "print(frame)\n",
    "print(\"\\r\\n对DataFrame进行重新索引\")\n",
    "print(frame.reindex(['a', 'b', 'c', 'd']))\n",
    "\n",
    "print(\"\\r\\n重新指定column\")\n",
    "print(frame.reindex(columns=['Texas', 'Utah', 'California']))"
   ]
  },
  {
   "cell_type": "markdown",
   "metadata": {},
   "source": [
    "### 2.2 丢弃指定轴上的项\n",
    "\n",
    "`drop`方法。丢弃某条轴上的一个或多个项很简单，只要有一个索引数组或列表即可。由于需要执行一些数据整理和集合逻辑，所以drop方法返回的是一个在指定轴上删除了指定值的新对象。"
   ]
  },
  {
   "cell_type": "code",
   "execution_count": 20,
   "metadata": {
    "collapsed": false
   },
   "outputs": [
    {
     "name": "stdout",
     "output_type": "stream",
     "text": [
      "Series丢弃某些值：\n",
      "a    0\n",
      "b    1\n",
      "e    4\n",
      "dtype: int64\n",
      "\n",
      "          one  two  three  four\n",
      "Ohio        0    1      2     3\n",
      "Colorado    4    5      6     7\n",
      "Utah        8    9     10    11\n",
      "New York   12   13     14    15\n",
      "\r\n",
      "DataFrame按索引drop：\n",
      "          one  two  three  four\n",
      "Utah        8    9     10    11\n",
      "New York   12   13     14    15\n",
      "\r\n",
      "DataFrame按列drop：\n",
      "          one  three  four\n",
      "Ohio        0      2     3\n",
      "Colorado    4      6     7\n",
      "Utah        8     10    11\n",
      "New York   12     14    15\n"
     ]
    }
   ],
   "source": [
    "obj = pd.Series(np.arange(5), index=['a', 'b', 'c', 'd', 'e'])\n",
    "print(\"Series丢弃某些值：\")\n",
    "print(obj.drop(['c', 'd']))\n",
    "\n",
    "frame = pd.DataFrame(np.arange(16).reshape(4, 4),\n",
    "                     index=['Ohio', 'Colorado', 'Utah', 'New York'],\n",
    "                     columns=['one', 'two', 'three', 'four'])\n",
    "print()\n",
    "print(frame)\n",
    "print(\"\\r\\nDataFrame按索引drop：\")\n",
    "print(frame.drop(['Colorado', 'Ohio']))\n",
    "print(\"\\r\\nDataFrame按列drop：\")\n",
    "print(frame.drop('two', axis=1))"
   ]
  },
  {
   "cell_type": "markdown",
   "metadata": {},
   "source": [
    "### 2.3 索引以及索引的选取和过滤\n",
    "\n",
    "- Series索引的工作方式与NumPy相似，但是Series的索引值不只是整数\n",
    "- 索引是字符串时也可以使用切片，但是与Python中普通的切片不同，其末端是包含的（inclusive）\n",
    "- 多DataFrame索引就是获取一列或多列，获取行要使用`ix`"
   ]
  },
  {
   "cell_type": "code",
   "execution_count": 21,
   "metadata": {
    "collapsed": false
   },
   "outputs": [
    {
     "name": "stdout",
     "output_type": "stream",
     "text": [
      "基本索引：\n",
      "2\n",
      "\r\n",
      "数字索引依然可以工作：\n",
      "2\n",
      "a    1\n",
      "d    3\n",
      "dtype: int64\n",
      "\r\n",
      "字符串索引也可以切片，要注意这个时候是闭区间\n",
      "b    0\n",
      "a    1\n",
      "c    2\n",
      "dtype: int64\n",
      "\r\n",
      "根据条件选择：\n",
      "b    0\n",
      "a    1\n",
      "dtype: int64\n"
     ]
    }
   ],
   "source": [
    "obj = pd.Series(np.arange(4), index=['b', 'a', 'c', 'd'])\n",
    "print(\"基本索引：\")\n",
    "print(obj['c'])\n",
    "print(\"\\r\\n数字索引依然可以工作：\")\n",
    "print(obj[2])\n",
    "print(obj[[1, 3]])\n",
    "print(\"\\r\\n字符串索引也可以切片，要注意这个时候是闭区间\")\n",
    "print(obj['b': 'c']) # 注意这里是闭区间\n",
    "print(\"\\r\\n根据条件选择：\")\n",
    "print(obj[obj < 2])"
   ]
  },
  {
   "cell_type": "code",
   "execution_count": 22,
   "metadata": {
    "collapsed": false
   },
   "outputs": [
    {
     "name": "stdout",
     "output_type": "stream",
     "text": [
      "          one  two  three  four\n",
      "Ohio        0    1      2     3\n",
      "Colorado    4    5      6     7\n",
      "Utah        8    9     10    11\n",
      "New York   12   13     14    15\n",
      "\r\n",
      "默认是选择列：\n",
      "Ohio         1\n",
      "Colorado     5\n",
      "Utah         9\n",
      "New York    13\n",
      "Name: two, dtype: int64\n",
      "\r\n",
      "选择多列：\n",
      "          three  one\n",
      "Ohio          2    0\n",
      "Colorado      6    4\n",
      "Utah         10    8\n",
      "New York     14   12\n",
      "\r\n",
      "选择行：\n",
      "one       8\n",
      "two       9\n",
      "three    10\n",
      "four     11\n",
      "Name: Utah, dtype: int64\n",
      "\r\n",
      "通过数字选择行：\n",
      "          one  two  three  four\n",
      "Colorado    4    5      6     7\n",
      "Utah        8    9     10    11\n",
      "\r\n",
      "同时对行和列进行过滤：\n",
      "      two  three\n",
      "Utah    9     10\n",
      "Ohio    1      2\n",
      "\r\n",
      "切片选择行：\n",
      "          one  two  three  four\n",
      "Ohio        0    1      2     3\n",
      "Colorado    4    5      6     7\n",
      "\r\n",
      "根据条件选择：\n",
      "          one  two  three  four\n",
      "Colorado    4    5      6     7\n",
      "Utah        8    9     10    11\n",
      "New York   12   13     14    15\n"
     ]
    }
   ],
   "source": [
    "frame = pd.DataFrame(np.arange(16).reshape(4, 4),\n",
    "                    index=['Ohio', 'Colorado', 'Utah', 'New York'],\n",
    "                    columns=['one', 'two', 'three', 'four'])\n",
    "print(frame)\n",
    "print(\"\\r\\n默认是选择列：\")\n",
    "print(frame['two']) #一列是Series\n",
    "print(\"\\r\\n选择多列：\")\n",
    "print(frame[['three', 'one']]) # 多列是DataFrame\n",
    "\n",
    "print(\"\\r\\n选择行：\")\n",
    "print(frame.ix['Utah']) #一行是Series\n",
    "print(\"\\r\\n通过数字选择行：\")\n",
    "print(frame.ix[[1, 2]]) #多行是DataFrame\n",
    "print(\"\\r\\n同时对行和列进行过滤：\")\n",
    "print(frame.ix[['Utah', 'Ohio'], ['two', 'three']])\n",
    "print(\"\\r\\n切片选择行：\")\n",
    "print(frame[:2])\n",
    "\n",
    "print(\"\\r\\n根据条件选择：\")\n",
    "print(frame[frame.three > 5])"
   ]
  },
  {
   "cell_type": "markdown",
   "metadata": {},
   "source": [
    "### 2.4 算数运算和数据对齐\n",
    "\n",
    "- 自动数据对齐在不重叠的索引处引入了NaN值。"
   ]
  },
  {
   "cell_type": "code",
   "execution_count": 23,
   "metadata": {
    "collapsed": false
   },
   "outputs": [
    {
     "name": "stdout",
     "output_type": "stream",
     "text": [
      "加法：\n",
      "a    5.2\n",
      "c    1.1\n",
      "d    NaN\n",
      "e    0.0\n",
      "f    NaN\n",
      "g    NaN\n",
      "dtype: float64\n",
      "\r\n",
      "DataFrame加法，索引和列都必须匹配：\n",
      "            b   c     d   e\n",
      "Colorado  NaN NaN   NaN NaN\n",
      "Ohio      3.0 NaN   6.0 NaN\n",
      "Oregon    NaN NaN   NaN NaN\n",
      "Texas     9.0 NaN  12.0 NaN\n",
      "Utah      NaN NaN   NaN NaN\n"
     ]
    }
   ],
   "source": [
    "print(\"加法：\")\n",
    "s1 = pd.Series([7.3, -2.5, 3.4, 1.5], index=['a', 'c', 'd', 'e'])\n",
    "s2 = pd.Series([-2.1, 3.6, -1.5, 4, 3.1], index=['a', 'c', 'e', 'f', 'g'])\n",
    "print(s1 + s2)\n",
    "\n",
    "print(\"\\r\\nDataFrame加法，索引和列都必须匹配：\")\n",
    "df1 = pd.DataFrame(np.arange(9).reshape(3, 3), columns=list('bcd'), index=['Ohio', 'Texas', 'Colorado'])\n",
    "df2 = pd.DataFrame(np.arange(12).reshape(4, 3), columns=list('bde'), index=['Utah', 'Ohio', 'Texas', 'Oregon'])\n",
    "print(df1 + df2)"
   ]
  },
  {
   "cell_type": "code",
   "execution_count": 24,
   "metadata": {
    "collapsed": false
   },
   "outputs": [
    {
     "name": "stdout",
     "output_type": "stream",
     "text": [
      "数据填充：\n",
      "\r\n",
      "df1:\r\n",
      "      a    b     c     d\n",
      "0  0.0  1.0   2.0   3.0\n",
      "1  4.0  5.0   6.0   7.0\n",
      "2  8.0  9.0  10.0  11.0\n",
      "\r\n",
      "df2:\r\n",
      "       a     b     c     d     e\n",
      "0   0.0   1.0   2.0   3.0   4.0\n",
      "1   5.0   6.0   7.0   8.0   9.0\n",
      "2  10.0  11.0  12.0  13.0  14.0\n",
      "3  15.0  16.0  17.0  18.0  19.0\n",
      "\r\n",
      "df1+df2:\r\n",
      "       a     b     c     d     e\n",
      "0   0.0   2.0   4.0   6.0   4.0\n",
      "1   9.0  11.0  13.0  15.0   9.0\n",
      "2  18.0  20.0  22.0  24.0  14.0\n",
      "3  15.0  16.0  17.0  18.0  19.0\n",
      "\r\n",
      "df1的列按照df2的列来：\r\n",
      "      a    b     c     d    e\n",
      "0  0.0  1.0   2.0   3.0  0.0\n",
      "1  4.0  5.0   6.0   7.0  0.0\n",
      "2  8.0  9.0  10.0  11.0  0.0\n"
     ]
    }
   ],
   "source": [
    "print('数据填充：')\n",
    "df1 = pd.DataFrame(np.arange(12.).reshape((3, 4)), columns = list('abcd'))\n",
    "df2 = pd.DataFrame(np.arange(20.).reshape((4, 5)), columns = list('abcde'))\n",
    "print(\"\\r\\ndf1:\\r\\n\", df1)\n",
    "print(\"\\r\\ndf2:\\r\\n\", df2)\n",
    "print(\"\\r\\ndf1+df2:\\r\\n\", df1.add(df2, fill_value = 0))\n",
    "print(\"\\r\\ndf1的列按照df2的列来：\\r\\n\", df1.reindex(columns = df2.columns, fill_value = 0.0))"
   ]
  },
  {
   "cell_type": "code",
   "execution_count": 25,
   "metadata": {
    "collapsed": false
   },
   "outputs": [
    {
     "name": "stdout",
     "output_type": "stream",
     "text": [
      "numpy array减去其中一行：\n",
      "[[ 0  1  2  3]\n",
      " [ 4  5  6  7]\n",
      " [ 8  9 10 11]]\n",
      "[0 1 2 3]\n",
      "[[0 0 0 0]\n",
      " [4 4 4 4]\n",
      " [8 8 8 8]]\n",
      "\r\n",
      "DataFrame减去Series（按行）：\n",
      "        b   d   e\n",
      "Utah    0   1   2\n",
      "Ohio    3   4   5\n",
      "Texas   6   7   8\n",
      "Oregon  9  10  11\n",
      "b    0\n",
      "d    1\n",
      "e    2\n",
      "Name: Utah, dtype: int64\n",
      "        b  d  e\n",
      "Utah    0  0  0\n",
      "Ohio    3  3  3\n",
      "Texas   6  6  6\n",
      "Oregon  9  9  9\n",
      "\r\n",
      "DataFrame减去Series（按列）：\n",
      "        b  d  e\n",
      "Utah   -1  0  1\n",
      "Ohio   -1  0  1\n",
      "Texas  -1  0  1\n",
      "Oregon -1  0  1\n"
     ]
    }
   ],
   "source": [
    "print(\"numpy array减去其中一行：\")\n",
    "arr = np.arange(12).reshape((3, 4))\n",
    "print(arr)\n",
    "print(arr[0])\n",
    "print(arr - arr[0])\n",
    "\n",
    "print(\"\\r\\nDataFrame减去Series（按行）：\")\n",
    "frame = pd.DataFrame(np.arange(12).reshape((4, 3)), columns=list('bde'), index=['Utah', 'Ohio', 'Texas', 'Oregon'])\n",
    "s = frame.ix[0]\n",
    "print(frame)\n",
    "print(s)\n",
    "print(frame - s)\n",
    "\n",
    "print(\"\\r\\nDataFrame减去Series（按列）：\")\n",
    "s = frame['d']\n",
    "print(frame.sub(s, axis=0))"
   ]
  },
  {
   "cell_type": "markdown",
   "metadata": {},
   "source": [
    "### 2.5 函数应用\n",
    "\n",
    "- NumPy的元素级函数都可以用于DataFrame和Series。\n",
    "- DataFrame的`apply`函数可以用于行或列\n",
    "- DataFrame的`applymap`函数可用于元素级，Series的`map`函数可用于元素级"
   ]
  },
  {
   "cell_type": "code",
   "execution_count": 26,
   "metadata": {
    "collapsed": false
   },
   "outputs": [
    {
     "name": "stdout",
     "output_type": "stream",
     "text": [
      "NumPy的元素级函数用于DataFrame：\n",
      "               b         d         e\n",
      "Utah    1.063631  1.275310 -1.144592\n",
      "Ohio    0.042275 -0.288288 -1.376804\n",
      "Texas   0.961731 -0.241298 -1.113463\n",
      "Oregon -0.121275 -0.390414 -1.966412\n",
      "               b         d         e\n",
      "Utah    1.063631  1.275310  1.144592\n",
      "Ohio    0.042275  0.288288  1.376804\n",
      "Texas   0.961731  0.241298  1.113463\n",
      "Oregon  0.121275  0.390414  1.966412\n"
     ]
    }
   ],
   "source": [
    "print(\"NumPy的元素级函数用于DataFrame：\")\n",
    "frame = pd.DataFrame(np.random.randn(4, 3), columns=list('bde'), index=['Utah', 'Ohio', 'Texas', 'Oregon'])\n",
    "print(frame)\n",
    "print(np.abs(frame))"
   ]
  },
  {
   "cell_type": "code",
   "execution_count": 27,
   "metadata": {
    "collapsed": false
   },
   "outputs": [
    {
     "name": "stdout",
     "output_type": "stream",
     "text": [
      "apply函数作用于列：\n",
      "b    1.184907\n",
      "d    1.665725\n",
      "e    0.852948\n",
      "dtype: float64\n",
      "\r\n",
      "apply函数作用于行：\n",
      "Utah      2.419902\n",
      "Ohio      1.419079\n",
      "Texas     2.075194\n",
      "Oregon    1.845137\n",
      "dtype: float64\n"
     ]
    }
   ],
   "source": [
    "f = lambda x: x.max() - x.min()\n",
    "print(\"apply函数作用于列：\")\n",
    "print(frame.apply(f))\n",
    "print(\"\\r\\napply函数作用于行：\")\n",
    "print(frame.apply(f, axis=1))"
   ]
  },
  {
   "cell_type": "code",
   "execution_count": 28,
   "metadata": {
    "collapsed": false
   },
   "outputs": [
    {
     "name": "stdout",
     "output_type": "stream",
     "text": [
      "applymap可以将函数作用于DataFrame的每个元素：\n",
      "            b      d      e\n",
      "Utah     1.06   1.28  -1.14\n",
      "Ohio     0.04  -0.29  -1.38\n",
      "Texas    0.96  -0.24  -1.11\n",
      "Oregon  -0.12  -0.39  -1.97\n",
      "\r\n",
      "map可以将函数作用于Series的每个元素：\n",
      "Utah       1.28\n",
      "Ohio      -0.29\n",
      "Texas     -0.24\n",
      "Oregon    -0.39\n",
      "Name: d, dtype: object\n"
     ]
    }
   ],
   "source": [
    "_format = lambda x: \"%.2f\" % x\n",
    "print(\"applymap可以将函数作用于DataFrame的每个元素：\")\n",
    "print(frame.applymap(_format))\n",
    "print(\"\\r\\nmap可以将函数作用于Series的每个元素：\")\n",
    "print(frame['d'].map(_format))"
   ]
  },
  {
   "cell_type": "markdown",
   "metadata": {},
   "source": [
    "### 2.6 排序、排名\n",
    "\n",
    "- `sort_index`根据索引排序，可以指定轴、升降序、是否原地\n",
    "- `sort_values`根据值排序\n",
    "- `rank`得到元素值的排名"
   ]
  },
  {
   "cell_type": "code",
   "execution_count": 29,
   "metadata": {
    "collapsed": false
   },
   "outputs": [
    {
     "name": "stdout",
     "output_type": "stream",
     "text": [
      "Series按索引排序：\n",
      "a    1\n",
      "b    2\n",
      "c    3\n",
      "d    0\n",
      "dtype: int64\n",
      "\r\n",
      "DataFrame按行索引排序：\n",
      "       d  a  b  c\n",
      "one    4  5  6  7\n",
      "three  0  1  2  3\n",
      "\r\n",
      "DataFrame按列索引排序：\n",
      "       a  b  c  d\n",
      "three  1  2  3  0\n",
      "one    5  6  7  4\n"
     ]
    }
   ],
   "source": [
    "obj = pd.Series(range(4), index=['d', 'a', 'b', 'c'])\n",
    "print(\"Series按索引排序：\")\n",
    "print(obj.sort_index())\n",
    "\n",
    "frame = pd.DataFrame(np.arange(8).reshape((2, 4)), index=['three', 'one'], columns=list('dabc'))\n",
    "print(\"\\r\\nDataFrame按行索引排序：\")\n",
    "print(frame.sort_index())\n",
    "print(\"\\r\\nDataFrame按列索引排序：\")\n",
    "print(frame.sort_index(axis=1))"
   ]
  },
  {
   "cell_type": "code",
   "execution_count": 30,
   "metadata": {
    "collapsed": false
   },
   "outputs": [
    {
     "name": "stdout",
     "output_type": "stream",
     "text": [
      "Series根据值排序：\n",
      "2   -3\n",
      "3    2\n",
      "0    4\n",
      "1    7\n",
      "dtype: int64\n",
      "\r\n",
      "DataFrame根据其中一列的值对行排序：\n",
      "   a  b\n",
      "2  0 -3\n",
      "3  1  2\n",
      "0  0  4\n",
      "1  1  7\n",
      "\r\n",
      "DataFrame根据多列的值对行排序：\n",
      "   a  b\n",
      "2  0 -3\n",
      "0  0  4\n",
      "3  1  2\n",
      "1  1  7\n"
     ]
    }
   ],
   "source": [
    "obj = pd.Series([4, 7, -3, 2])\n",
    "print(\"Series根据值排序：\")\n",
    "print(obj.sort_values())\n",
    "\n",
    "frame = pd.DataFrame({'b':[4, 7, -3, 2], 'a':[0, 1, 0, 1]})\n",
    "print(\"\\r\\nDataFrame根据其中一列的值对行排序：\")\n",
    "print(frame.sort_values(by='b')) # 这里尝试使用axis=1根据行的值对列排序时报错了，暂未解决\n",
    "print(\"\\r\\nDataFrame根据多列的值对行排序：\")\n",
    "print(frame.sort_values(by=['a', 'b']))"
   ]
  },
  {
   "cell_type": "code",
   "execution_count": 31,
   "metadata": {
    "collapsed": false
   },
   "outputs": [
    {
     "name": "stdout",
     "output_type": "stream",
     "text": [
      "对Series使用rank函数，得到每个位置的元素值的rank：\n",
      "0    6.5\n",
      "1    1.0\n",
      "2    6.5\n",
      "3    4.5\n",
      "4    3.0\n",
      "5    2.0\n",
      "6    4.5\n",
      "dtype: float64\n",
      "\r\n",
      "可以通过method参数指定rank的方法：\n",
      "0    6.0\n",
      "1    1.0\n",
      "2    7.0\n",
      "3    4.0\n",
      "4    3.0\n",
      "5    2.0\n",
      "6    5.0\n",
      "dtype: float64\n",
      "\r\n",
      "DataFrame的rank：\n",
      "   a    b    c\n",
      "0  0  4.3 -2.0\n",
      "1  1  7.0  5.0\n",
      "2  0 -3.0  8.0\n",
      "3  1  2.0 -2.5\n",
      "\n",
      "     a    b    c\n",
      "0  2.0  3.0  1.0\n",
      "1  1.0  3.0  2.0\n",
      "2  2.0  1.0  3.0\n",
      "3  2.0  3.0  1.0\n"
     ]
    }
   ],
   "source": [
    "obj = pd.Series([9, -5, 9, 4, 2, 0, 4])\n",
    "# 对应排名（从1开始）：-5(1), 0(2), 2(3), 4(4), 4(5), 9(6), 9(7)\n",
    "print(\"对Series使用rank函数，得到每个位置的元素值的rank：\")\n",
    "print(obj.rank()) # 第0个位置的值为9，它的排名是6、7的平均值\n",
    "print(\"\\r\\n可以通过method参数指定rank的方法：\")\n",
    "print(obj.rank(method = 'first'))  # 去第一次出现，不求平均值。\n",
    "\n",
    "frame = pd.DataFrame({'b':[4.3, 7, -3, 2],\n",
    "                  'a':[0, 1, 0, 1],\n",
    "                  'c':[-2, 5, 8, -2.5]})\n",
    "print(\"\\r\\nDataFrame的rank：\")\n",
    "print(frame)\n",
    "print()\n",
    "print(frame.rank(axis = 1))"
   ]
  },
  {
   "cell_type": "markdown",
   "metadata": {},
   "source": [
    "## 3 汇总和计算描述统计\n",
    "\n",
    "### 3.1 常用描述和汇总统计函数\n",
    "\n",
    "- `count` 非NA值的数量\n",
    "- `describe` 针对Series或各DataFrame列计算汇总统计\n",
    "- `min`, `max` 计算最小、最大值\n",
    "- `argmin`, `argmax` 计算能够取到最小、最大值的索引位置（整数）\n",
    "- `idxmin`, `idxmax` 计算能够取到最小、最大值的索引值\n",
    "- `sum` 值的总和\n",
    "- `mean` 值的平均数\n",
    "- `median` 值的算术中位数\n",
    "- `mad` 根据平均值计算平均绝对离差\n",
    "- `var` 样本值的方差\n",
    "- `std` 样本值的标准差\n",
    "- `skew` 样本值的偏度（三阶矩）\n",
    "- `kurt` 样本值的偏度（四阶矩）\n",
    "- `cumsum` 样本值的累计和\n",
    "- `cummin`, `cummax` 样本值的累计最大值和累计最小值\n",
    "- `cumprod` 样本值的累计积\n",
    "- `diff` 计算一阶差分\n",
    "- `pct_change` 计算百分数变化\n",
    "\n",
    "以上方法常用的参数：\n",
    "\n",
    "- `axis` 指定轴，DataFrame的行用0，列用1。\n",
    "- `skipna` 排除缺失值，默认值为True。\n",
    "- `level` 如果轴是层次化索引的(即MultiIndex)，则根据level选取分组。"
   ]
  },
  {
   "cell_type": "code",
   "execution_count": 32,
   "metadata": {
    "collapsed": false
   },
   "outputs": [
    {
     "name": "stdout",
     "output_type": "stream",
     "text": [
      "    one  two\n",
      "a  1.40  NaN\n",
      "b  7.10 -4.5\n",
      "c   NaN  NaN\n",
      "d  0.75 -1.3\n",
      "\r\n",
      "按列求和：\r\n",
      " one    9.25\n",
      "two   -5.80\n",
      "dtype: float64\n",
      "\r\n",
      "按行求和：\r\n",
      " a    1.40\n",
      "b    2.60\n",
      "c     NaN\n",
      "d   -0.55\n",
      "dtype: float64\n"
     ]
    }
   ],
   "source": [
    "df = pd.DataFrame([[1.4, np.nan], [7.1, -4.5], [np.nan, np.nan], [0.75, -1.3]],\n",
    "              index = ['a', 'b', 'c', 'd'],\n",
    "              columns = ['one', 'two'])\n",
    "print(df)\n",
    "print('\\r\\n按列求和：\\r\\n', df.sum())  # 按列求和\n",
    "print('\\r\\n按行求和：\\r\\n', df.sum(axis = 1))  # 按行求和"
   ]
  },
  {
   "cell_type": "code",
   "execution_count": 33,
   "metadata": {
    "collapsed": false
   },
   "outputs": [
    {
     "name": "stdout",
     "output_type": "stream",
     "text": [
      "不跳过NA值求平均：\r\n",
      " a      NaN\n",
      "b    1.300\n",
      "c      NaN\n",
      "d   -0.275\n",
      "dtype: float64\n",
      "\r\n",
      "跳过NA值求平均：\r\n",
      " a    1.400\n",
      "b    1.300\n",
      "c      NaN\n",
      "d   -0.275\n",
      "dtype: float64\n"
     ]
    }
   ],
   "source": [
    "print('不跳过NA值求平均：\\r\\n', df.mean(axis = 1, skipna = False))\n",
    "print('\\r\\n跳过NA值求平均：\\r\\n', df.mean(axis = 1))"
   ]
  },
  {
   "cell_type": "code",
   "execution_count": 34,
   "metadata": {
    "collapsed": false
   },
   "outputs": [
    {
     "name": "stdout",
     "output_type": "stream",
     "text": [
      "最大值的索引值：\r\n",
      " one    b\n",
      "two    d\n",
      "dtype: object\n",
      "\r\n",
      "累计和：\r\n",
      "     one  two\n",
      "a  1.40  NaN\n",
      "b  8.50 -4.5\n",
      "c   NaN  NaN\n",
      "d  9.25 -5.8\n",
      "\r\n",
      "DataFrame的汇总统计：\r\n",
      "             one       two\n",
      "count  3.000000  2.000000\n",
      "mean   3.083333 -2.900000\n",
      "std    3.493685  2.262742\n",
      "min    0.750000 -4.500000\n",
      "25%         NaN       NaN\n",
      "50%         NaN       NaN\n",
      "75%         NaN       NaN\n",
      "max    7.100000 -1.300000\n",
      "\r\n",
      "Series的汇总统计：\r\n",
      " count     16\n",
      "unique     3\n",
      "top        a\n",
      "freq       8\n",
      "dtype: object\n"
     ]
    },
    {
     "name": "stderr",
     "output_type": "stream",
     "text": [
      "/Library/Frameworks/Python.framework/Versions/3.5/lib/python3.5/site-packages/numpy/lib/function_base.py:4269: RuntimeWarning: Invalid value encountered in percentile\n",
      "  interpolation=interpolation)\n"
     ]
    }
   ],
   "source": [
    "print('最大值的索引值：\\r\\n', df.idxmax())\n",
    "print('\\r\\n累计和：\\r\\n', df.cumsum())\n",
    "print('\\r\\nDataFrame的汇总统计：\\r\\n', df.describe())\n",
    "\n",
    "obj = pd.Series(['a', 'a', 'b', 'c'] * 4)\n",
    "print('\\r\\nSeries的汇总统计：\\r\\n', obj.describe())"
   ]
  },
  {
   "cell_type": "markdown",
   "metadata": {},
   "source": [
    "### 3.2 相关系数与协方差\n",
    "\n",
    "- 相关系数：相关系数是用以反映变量之间相关关系密切程度的统计指标。\n",
    "\n",
    "- 协方差：从直观上来看，协方差表示的是两个变量总体误差的期望。如果两个 变量的变化趋势一致，也就是说如果其中一个大于自身的期望值时另外一个也 大于自身的期望值，那么两个变量之间的协方差就是正值;如果两个变量的变 化趋势相反，即其中一个变量大于自身的期望值时另外一个却小于自身的期望 值，那么两个变量之间的协方差就是负值。"
   ]
  },
  {
   "cell_type": "code",
   "execution_count": 36,
   "metadata": {
    "collapsed": false
   },
   "outputs": [
    {
     "name": "stdout",
     "output_type": "stream",
     "text": [
      "                  AAPL        GOOG         IBM       MSFT\n",
      "Date                                                     \n",
      "2017-01-03  115.173210  786.140015  164.273651  61.848385\n",
      "2017-01-04  115.044304  786.900024  166.307526  61.571655\n",
      "2017-01-05  115.629341  794.020020  165.757309  61.571655\n",
      "2017-01-06  116.918411  806.150024  166.572830  62.105343\n",
      "2017-01-09  117.989319  806.650024  164.725616  61.907681\n",
      "                AAPL     GOOG      IBM      MSFT\n",
      "Date                                            \n",
      "2017-04-25  18871500  1672000  4860400  30242700\n",
      "2017-04-26  20041200  1237200  4327800  26190800\n",
      "2017-04-27  14246300  2026800  4122600  34971000\n",
      "2017-04-28  20860400  3276300  4154100  39548800\n",
      "2017-05-01  33602900  2116000  4935300  31954400\n"
     ]
    }
   ],
   "source": [
    "import pandas_datareader.data as web\n",
    "import datetime\n",
    "\n",
    "start = datetime.datetime(2017, 1, 1)\n",
    "end = datetime.datetime(2017, 5, 1)\n",
    "\n",
    "all_data = {}\n",
    "for ticker in ['AAPL', 'IBM', 'MSFT', 'GOOG']:\n",
    "    all_data[ticker] = web.DataReader(ticker, 'yahoo', start, end) # 这里有时候会报错，多执行几次，也有可能被墙\n",
    "    \n",
    "price = pd.DataFrame({tic: data['Adj Close'] for tic, data in all_data.items()})\n",
    "volume = pd.DataFrame({tic: data['Volume'] for tic, data in all_data.items()})\n",
    "\n",
    "print(price.head())\n",
    "print(volume.tail())"
   ]
  },
  {
   "cell_type": "code",
   "execution_count": 38,
   "metadata": {
    "collapsed": false
   },
   "outputs": [
    {
     "name": "stdout",
     "output_type": "stream",
     "text": [
      "                AAPL      GOOG       IBM      MSFT\n",
      "Date                                              \n",
      "2017-04-25  0.006196  0.011058 -0.002240  0.005775\n",
      "2017-04-26 -0.005881 -0.000653 -0.002058 -0.001325\n",
      "2017-04-27  0.000766  0.002891  0.001625  0.006487\n",
      "2017-04-28 -0.000974  0.036271 -0.000187  0.002783\n",
      "2017-05-01  0.020397  0.007296 -0.009046  0.013877\n",
      "\n",
      "0.285837447737\n",
      "\n",
      "          AAPL      GOOG       IBM      MSFT\n",
      "AAPL  1.000000  0.229457  0.223569  0.111288\n",
      "GOOG  0.229457  1.000000  0.250617  0.381876\n",
      "IBM   0.223569  0.250617  1.000000  0.285837\n",
      "MSFT  0.111288  0.381876  0.285837  1.000000\n",
      "\n",
      "          AAPL      GOOG       IBM      MSFT\n",
      "AAPL  0.000085  0.000018  0.000019  0.000007\n",
      "GOOG  0.000018  0.000070  0.000019  0.000022\n",
      "IBM   0.000019  0.000019  0.000086  0.000018\n",
      "MSFT  0.000007  0.000022  0.000018  0.000047\n",
      "\n",
      "AAPL    0.223569\n",
      "GOOG    0.250617\n",
      "IBM     1.000000\n",
      "MSFT    0.285837\n",
      "dtype: float64\n",
      "\n",
      "AAPL    0.676472\n",
      "GOOG   -0.130896\n",
      "IBM    -0.332563\n",
      "MSFT    0.216335\n",
      "dtype: float64\n"
     ]
    }
   ],
   "source": [
    "returns = price.pct_change()\n",
    "\n",
    "print(returns.tail())\n",
    "print()\n",
    "print(returns.MSFT.corr(returns.IBM))\n",
    "print()\n",
    "print(returns.corr())  # 相关性，自己和自己的相关性总是1\n",
    "print()\n",
    "print(returns.cov()) # 协方差\n",
    "print()\n",
    "print(returns.corrwith(returns.IBM))\n",
    "print()\n",
    "print(returns.corrwith(volume))"
   ]
  },
  {
   "cell_type": "markdown",
   "metadata": {},
   "source": [
    "### 3.3 唯一值及成员资格\n",
    "\n",
    "- `is_in` 计算一个表示“Series各值是否包含于传入的值序列中”的布尔型数组\n",
    "- `unique` 计算Series中的唯一值数组，按发现的顺序返回。\n",
    "- `value_counts` 返回一个Series，其索引为唯一值，其值为频率，按计数值降序排列。"
   ]
  },
  {
   "cell_type": "code",
   "execution_count": 39,
   "metadata": {
    "collapsed": false
   },
   "outputs": [
    {
     "name": "stdout",
     "output_type": "stream",
     "text": [
      "去重\n",
      "['c' 'a' 'd' 'b']\n",
      "a    3\n",
      "c    3\n",
      "b    2\n",
      "d    1\n",
      "dtype: int64\n",
      "\n",
      "判断元素存在\n",
      "0     True\n",
      "1    False\n",
      "2    False\n",
      "3    False\n",
      "4    False\n",
      "5     True\n",
      "6     True\n",
      "7     True\n",
      "8     True\n",
      "dtype: bool\n",
      "0    c\n",
      "5    b\n",
      "6    b\n",
      "7    c\n",
      "8    c\n",
      "dtype: object\n"
     ]
    }
   ],
   "source": [
    "print('去重')\n",
    "obj = pd.Series(['c', 'a', 'd', 'a', 'a', 'b', 'b', 'c', 'c'])\n",
    "print(obj.unique())\n",
    "print(obj.value_counts())\n",
    "print()\n",
    "\n",
    "print('判断元素存在')\n",
    "mask = obj.isin(['b', 'c'])\n",
    "print(mask)\n",
    "print(obj[mask]) #只打印元素b和c"
   ]
  },
  {
   "cell_type": "code",
   "execution_count": 41,
   "metadata": {
    "collapsed": false
   },
   "outputs": [
    {
     "name": "stdout",
     "output_type": "stream",
     "text": [
      "   Qu1  Qu2  Qu3\n",
      "0    1    2    1\n",
      "1    3    3    5\n",
      "2    4    1    2\n",
      "3    3    2    4\n",
      "4    4    3    4\n",
      "\n",
      "   Qu1  Qu2  Qu3\n",
      "1  1.0  1.0  1.0\n",
      "2  0.0  2.0  1.0\n",
      "3  2.0  2.0  0.0\n",
      "4  2.0  0.0  2.0\n",
      "5  0.0  0.0  1.0\n",
      "\n",
      "     1    2    3    4    5\n",
      "0  2.0  1.0  0.0  0.0  0.0\n",
      "1  0.0  0.0  2.0  0.0  1.0\n",
      "2  1.0  1.0  0.0  1.0  0.0\n",
      "3  0.0  1.0  1.0  1.0  0.0\n",
      "4  0.0  0.0  1.0  2.0  0.0\n"
     ]
    }
   ],
   "source": [
    "data = pd.DataFrame({'Qu1':[1, 3, 4, 3, 4],\n",
    "                  'Qu2':[2, 3, 1, 2, 3],\n",
    "                  'Qu3':[1, 5, 2, 4, 4]})\n",
    "print(data)\n",
    "print()\n",
    "print(data.apply(pd.value_counts).fillna(0))\n",
    "print()\n",
    "print(data.apply(pd.value_counts, axis = 1).fillna(0))"
   ]
  },
  {
   "cell_type": "markdown",
   "metadata": {},
   "source": [
    "## 4 处理缺失数据\n",
    "\n",
    "- `isnull` 是否是null\n",
    "- `notnull`"
   ]
  },
  {
   "cell_type": "code",
   "execution_count": 42,
   "metadata": {
    "collapsed": false
   },
   "outputs": [
    {
     "name": "stdout",
     "output_type": "stream",
     "text": [
      "作为null处理的值\n",
      "0     aardvark\n",
      "1    artichoke\n",
      "2          NaN\n",
      "3      avocado\n",
      "dtype: object\n",
      "\n",
      "0    False\n",
      "1    False\n",
      "2     True\n",
      "3    False\n",
      "dtype: bool\n",
      "\n",
      "0     True\n",
      "1    False\n",
      "2     True\n",
      "3    False\n",
      "dtype: bool\n"
     ]
    }
   ],
   "source": [
    "print('作为null处理的值')\n",
    "string_data = pd.Series(['aardvark', 'artichoke', np.nan, 'avocado'])\n",
    "print(string_data)\n",
    "print()\n",
    "print(string_data.isnull())\n",
    "\n",
    "string_data[0] = None\n",
    "print()\n",
    "print(string_data.isnull())"
   ]
  },
  {
   "cell_type": "markdown",
   "metadata": {},
   "source": [
    "### 4.1 滤除缺失数据\n",
    "\n",
    "- `dropna` DataFrame时，通过axis制定行或列，通过how控制行为，thresh参数控制留下的数量"
   ]
  },
  {
   "cell_type": "code",
   "execution_count": 43,
   "metadata": {
    "collapsed": false
   },
   "outputs": [
    {
     "name": "stdout",
     "output_type": "stream",
     "text": [
      "0    1.0\n",
      "1    NaN\n",
      "2    3.5\n",
      "3    NaN\n",
      "4    7.0\n",
      "dtype: float64\n",
      "\r\n",
      "丢弃null：\n",
      "0    1.0\n",
      "2    3.5\n",
      "4    7.0\n",
      "dtype: float64\n",
      "\r\n",
      "取非null的值：\r\n",
      "0    1.0\n",
      "2    3.5\n",
      "4    7.0\n",
      "dtype: float64\n"
     ]
    }
   ],
   "source": [
    "data = pd.Series([1, np.nan, 3.5, np.nan, 7])\n",
    "print(data)\n",
    "print('\\r\\n丢弃null：\\n', data.dropna(), sep='')\n",
    "print('\\r\\n取非null的值：\\r\\n', data[data.notnull()], sep='')"
   ]
  },
  {
   "cell_type": "code",
   "execution_count": 44,
   "metadata": {
    "collapsed": false
   },
   "outputs": [
    {
     "name": "stdout",
     "output_type": "stream",
     "text": [
      "DataFrame对丢弃NA的处理\n",
      "\r\n",
      "原始DataFrame：\r\n",
      "     0    1    2\n",
      "0  1.0  6.5  3.0\n",
      "1  1.0  NaN  NaN\n",
      "2  NaN  NaN  NaN\n",
      "3  NaN  6.5  3.0\n",
      "\r\n",
      "默认只要有某行有null就去掉：\r\n",
      "     0    1    2\n",
      "0  1.0  6.5  3.0\n",
      "\r\n",
      "某一行全部为null才去掉：\r\n",
      "     0    1    2\n",
      "0  1.0  6.5  3.0\n",
      "1  1.0  NaN  NaN\n",
      "3  NaN  6.5  3.0\n",
      "\r\n",
      "新增一列：\r\n",
      "     0    1    2   4\n",
      "0  1.0  6.5  3.0 NaN\n",
      "1  1.0  NaN  NaN NaN\n",
      "2  NaN  NaN  NaN NaN\n",
      "3  NaN  6.5  3.0 NaN\n",
      "\r\n",
      "去掉全部为null的列：\r\n",
      "     0    1    2\n",
      "0  1.0  6.5  3.0\n",
      "1  1.0  NaN  NaN\n",
      "2  NaN  NaN  NaN\n",
      "3  NaN  6.5  3.0\n",
      "\r\n",
      "原始DataFrame：\r\n",
      "          0         1         2\n",
      "0  0.309341       NaN       NaN\n",
      "1  0.301170       NaN       NaN\n",
      "2 -0.252570       NaN       NaN\n",
      "3  1.179454       NaN -0.184781\n",
      "4 -0.259945       NaN  0.533471\n",
      "5 -0.226425 -0.068598  0.987732\n",
      "6 -0.091330  0.649268  2.094282\n",
      "\r\n",
      "通过thresh参数控制每行至少要有2个非NA元素：\r\n",
      "          0         1         2\n",
      "3  1.179454       NaN -0.184781\n",
      "4 -0.259945       NaN  0.533471\n",
      "5 -0.226425 -0.068598  0.987732\n",
      "6 -0.091330  0.649268  2.094282\n"
     ]
    }
   ],
   "source": [
    "print('DataFrame对丢弃NA的处理')\n",
    "data = pd.DataFrame([[1., 6.5, 3.], [1., np.nan, np.nan],\n",
    "                  [np.nan, np.nan, np.nan], [np.nan, 6.5, 3.]])\n",
    "\n",
    "print('\\r\\n原始DataFrame：', data, sep='\\r\\n')\n",
    "\n",
    "print('\\r\\n默认只要有某行有null就去掉：', data.dropna(), sep='\\r\\n') # 默认只要某行有NA就全部删除\n",
    "print('\\r\\n某一行全部为null才去掉：', data.dropna(how = 'all'), sep='\\r\\n')  # 全部为NA才删除\n",
    "data[4] = np.nan  # 新增一列\n",
    "print('\\r\\n新增一列：', data, sep='\\r\\n')\n",
    "print('\\r\\n去掉全部为null的列：', data.dropna(axis = 1, how = 'all'), sep='\\r\\n')\n",
    "\n",
    "data = pd.DataFrame(np.random.randn(7, 3))\n",
    "data.ix[:4, 1] = np.nan\n",
    "data.ix[:2, 2] = np.nan\n",
    "print('\\r\\n原始DataFrame：', data, sep='\\r\\n')\n",
    "print('\\r\\n通过thresh参数控制每行至少要有2个非NA元素：', data.dropna(thresh = 2), sep='\\r\\n') # 每行至少要有2个非NA元素"
   ]
  },
  {
   "cell_type": "markdown",
   "metadata": {},
   "source": [
    "### 4.2 填充缺失数据\n",
    "\n",
    "- `fillna`"
   ]
  },
  {
   "cell_type": "code",
   "execution_count": 45,
   "metadata": {
    "collapsed": false
   },
   "outputs": [
    {
     "name": "stdout",
     "output_type": "stream",
     "text": [
      "原始DataFrame：\r\n",
      "          0         1         2\n",
      "0  1.582055       NaN       NaN\n",
      "1 -0.841172       NaN       NaN\n",
      "2  1.496161       NaN       NaN\n",
      "3  1.026256       NaN -0.118024\n",
      "4 -1.015413       NaN -0.106066\n",
      "5  0.085720 -0.931654 -0.239809\n",
      "6  1.441084  0.496320 -1.867016\n",
      "\r\n",
      "填充0：\r\n",
      "          0         1         2\n",
      "0  1.582055  0.000000  0.000000\n",
      "1 -0.841172  0.000000  0.000000\n",
      "2  1.496161  0.000000  0.000000\n",
      "3  1.026256  0.000000 -0.118024\n",
      "4 -1.015413  0.000000 -0.106066\n",
      "5  0.085720 -0.931654 -0.239809\n",
      "6  1.441084  0.496320 -1.867016\n",
      "\r\n",
      "不同行列填充不同的值\n",
      "          0         1         2\n",
      "0  1.582055  0.500000       NaN\n",
      "1 -0.841172  0.500000       NaN\n",
      "2  1.496161  0.500000       NaN\n",
      "3  1.026256  0.500000 -0.118024\n",
      "4 -1.015413  0.500000 -0.106066\n",
      "5  0.085720 -0.931654 -0.239809\n",
      "6  1.441084  0.496320 -1.867016\n",
      "\r\n",
      "原始DataFrame：\r\n",
      "          0         1         2\n",
      "0  0.116167 -1.052178  0.578936\n",
      "1 -0.524586 -1.372279  0.065496\n",
      "2  0.196961       NaN  1.037178\n",
      "3 -0.320959       NaN  0.309113\n",
      "4  0.952992       NaN       NaN\n",
      "5  1.499997       NaN       NaN\n",
      "\r\n",
      "不同的填充方式（ffill）：\r\n",
      "          0         1         2\n",
      "0  0.116167 -1.052178  0.578936\n",
      "1 -0.524586 -1.372279  0.065496\n",
      "2  0.196961 -1.372279  1.037178\n",
      "3 -0.320959 -1.372279  0.309113\n",
      "4  0.952992 -1.372279  0.309113\n",
      "5  1.499997 -1.372279  0.309113\n",
      "\r\n",
      "不同的填充方式（ffill，limit=2）：\r\n",
      "          0         1         2\n",
      "0  0.116167 -1.052178  0.578936\n",
      "1 -0.524586 -1.372279  0.065496\n",
      "2  0.196961 -1.372279  1.037178\n",
      "3 -0.320959 -1.372279  0.309113\n",
      "4  0.952992       NaN  0.309113\n",
      "5  1.499997       NaN  0.309113\n",
      "\r\n",
      "原始Series：\r\n",
      "0    1.0\n",
      "1    NaN\n",
      "2    3.5\n",
      "3    NaN\n",
      "4    7.0\n",
      "dtype: float64\n",
      "\r\n",
      "用均值填充：\r\n",
      "0    1.000000\n",
      "1    3.833333\n",
      "2    3.500000\n",
      "3    3.833333\n",
      "4    7.000000\n",
      "dtype: float64\n"
     ]
    }
   ],
   "source": [
    "df = pd.DataFrame(np.random.randn(7, 3))\n",
    "df.ix[:4, 1] = np.nan\n",
    "df.ix[:2, 2] = np.nan\n",
    "print('原始DataFrame：', df, sep='\\r\\n')\n",
    "print('\\r\\n填充0：', df.fillna(0), sep='\\r\\n')\n",
    "# df.fillna(0, inplace = True)\n",
    "# print('\\r\\n原地填充：', df, sep='\\r\\n')\n",
    "\n",
    "print('\\r\\n不同行列填充不同的值')\n",
    "print(df.fillna({1:0.5, 3:-1}))  # 第3列不存在\n",
    "\n",
    "df = pd.DataFrame(np.random.randn(6, 3))\n",
    "df.ix[2:, 1] = np.nan\n",
    "df.ix[4:, 2] = np.nan\n",
    "print('\\r\\n原始DataFrame：', df, sep='\\r\\n')\n",
    "print('\\r\\n不同的填充方式（ffill）：', df.fillna(method = 'ffill'), sep='\\r\\n')\n",
    "print('\\r\\n不同的填充方式（ffill，limit=2）：', df.fillna(method = 'ffill', limit = 2), sep='\\r\\n')\n",
    "\n",
    "data = pd.Series([1., np.nan, 3.5, np.nan, 7])\n",
    "print('\\r\\n原始Series：', data, sep='\\r\\n')\n",
    "print('\\r\\n用均值填充：', data.fillna(data.mean()), sep='\\r\\n')"
   ]
  },
  {
   "cell_type": "markdown",
   "metadata": {},
   "source": [
    "## 5 层次化索引\n",
    "\n",
    "- 使你能在一个轴上拥有多个(两个以上)索引级别。抽象的说，它使你能以低 纬度形式处理高维度数据。\n",
    "- 通过stack与unstack变换DataFrame"
   ]
  },
  {
   "cell_type": "code",
   "execution_count": 46,
   "metadata": {
    "collapsed": false
   },
   "outputs": [
    {
     "name": "stdout",
     "output_type": "stream",
     "text": [
      "带层次索引的原始数据（Series）：\r\n",
      "a  1    0.512361\n",
      "   2    1.021591\n",
      "   3    0.164692\n",
      "b  1    0.014108\n",
      "   2    0.045842\n",
      "   3   -0.502272\n",
      "c  1   -0.739917\n",
      "   2   -0.653791\n",
      "d  2   -0.775241\n",
      "   3    0.506287\n",
      "dtype: float64\n",
      "\r\n",
      "索引：\r\n",
      "MultiIndex(levels=[['a', 'b', 'c', 'd'], [1, 2, 3]],\n",
      "           labels=[[0, 0, 0, 1, 1, 1, 2, 2, 3, 3], [0, 1, 2, 0, 1, 2, 0, 1, 1, 2]])\n",
      "\r\n",
      "列名为”b“的数据：\r\n",
      "1    0.014108\n",
      "2    0.045842\n",
      "3   -0.502272\n",
      "dtype: float64\n",
      "\r\n",
      "列名为”b“和“c”的数据：\r\n",
      "b  1    0.014108\n",
      "   2    0.045842\n",
      "   3   -0.502272\n",
      "c  1   -0.739917\n",
      "   2   -0.653791\n",
      "dtype: float64\n",
      "\r\n",
      "数字索引为0和1的数据：\r\n",
      "a  1    0.512361\n",
      "   2    1.021591\n",
      "dtype: float64\n",
      "\r\n",
      "unstask：\r\n",
      "          1         2         3\n",
      "a  0.512361  1.021591  0.164692\n",
      "b  0.014108  0.045842 -0.502272\n",
      "c -0.739917 -0.653791       NaN\n",
      "d       NaN -0.775241  0.506287\n",
      "\r\n",
      "unstack之后再stack\r\n",
      "a  1    0.512361\n",
      "   2    1.021591\n",
      "   3    0.164692\n",
      "b  1    0.014108\n",
      "   2    0.045842\n",
      "   3   -0.502272\n",
      "c  1   -0.739917\n",
      "   2   -0.653791\n",
      "d  2   -0.775241\n",
      "   3    0.506287\n",
      "dtype: float64\n"
     ]
    }
   ],
   "source": [
    "data = pd.Series(np.random.randn(10),\n",
    "              index = [['a', 'a', 'a', 'b', 'b', 'b', 'c', 'c', 'd', 'd'],\n",
    "                       [1, 2, 3, 1, 2, 3, 1, 2, 2, 3]])\n",
    "print('带层次索引的原始数据（Series）：', data, sep='\\r\\n')\n",
    "print('\\r\\n索引：', data.index, sep='\\r\\n')\n",
    "print('\\r\\n列名为”b“的数据：', data.b, sep='\\r\\n')\n",
    "print('\\r\\n列名为”b“和“c”的数据：', data['b':'c'], sep='\\r\\n')\n",
    "print('\\r\\n数字索引为0和1的数据：', data[:2], sep='\\r\\n')\n",
    "print('\\r\\nunstask：', data.unstack(), sep='\\r\\n')\n",
    "print('\\r\\nunstack之后再stack', data.unstack().stack(), sep='\\r\\n')"
   ]
  },
  {
   "cell_type": "code",
   "execution_count": 47,
   "metadata": {
    "collapsed": false
   },
   "outputs": [
    {
     "name": "stdout",
     "output_type": "stream",
     "text": [
      "带层次索引的原始数据（DataFrame）：\r\n",
      "     Ohio     Colorado\n",
      "    Green Red    Green\n",
      "a 1     0   1        2\n",
      "  2     3   4        5\n",
      "b 1     6   7        8\n",
      "  2     9  10       11\n",
      "\r\n",
      "给各行各列命名：\r\n",
      "state      Ohio     Colorado\n",
      "color     Green Red    Green\n",
      "key1 key2                   \n",
      "a    1        0   1        2\n",
      "     2        3   4        5\n",
      "b    1        6   7        8\n",
      "     2        9  10       11\n",
      "\r\n",
      "索引为[\"a\", 1]的数据：\r\n",
      "state     color\n",
      "Ohio      Green    0\n",
      "          Red      1\n",
      "Colorado  Green    2\n",
      "Name: (a, 1), dtype: int64\n",
      "\r\n",
      "索引为[\"a\", 2]且列名为Colorado的数据：\r\n",
      "color\n",
      "Green    5\n",
      "Name: (a, 2), dtype: int64\n",
      "\r\n",
      "行、列都有两个索引：\r\n",
      "4\n"
     ]
    }
   ],
   "source": [
    "frame = pd.DataFrame(np.arange(12).reshape((4, 3)),\n",
    "                  index = [['a', 'a', 'b', 'b'], [1, 2, 1, 2]],\n",
    "                  columns = [['Ohio', 'Ohio', 'Colorado'], ['Green', 'Red', 'Green']])\n",
    "print('带层次索引的原始数据（DataFrame）：', frame, sep='\\r\\n')\n",
    "frame.index.names = ['key1', 'key2']\n",
    "frame.columns.names = ['state', 'color']\n",
    "print('\\r\\n给各行各列命名：', frame, sep='\\r\\n')\n",
    "print('\\r\\n索引为[\"a\", 1]的数据：', frame.ix['a', 1], sep='\\r\\n')\n",
    "print('\\r\\n索引为[\"a\", 2]且列名为Colorado的数据：', frame.ix['a', 2]['Colorado'], sep='\\r\\n')\n",
    "print('\\r\\n行、列都有两个索引：', frame.ix['a', 2]['Ohio']['Red'], sep='\\r\\n')"
   ]
  },
  {
   "cell_type": "code",
   "execution_count": 48,
   "metadata": {
    "collapsed": false
   },
   "outputs": [
    {
     "name": "stdout",
     "output_type": "stream",
     "text": [
      "直接用MultiIndex创建层次索引结构\n",
      "MultiIndex(levels=[['Colorado', 'Ohio'], ['Gree', 'Green', 'Red']],\n",
      "           labels=[[1, 1, 0], [0, 2, 1]],\n",
      "           names=['state', 'color'])\n"
     ]
    }
   ],
   "source": [
    "print('直接用MultiIndex创建层次索引结构')\n",
    "print(pd.MultiIndex.from_arrays([['Ohio', 'Ohio', 'Colorado'], ['Gree', 'Red', 'Green']],\n",
    "                             names = ['state', 'color']))"
   ]
  },
  {
   "cell_type": "markdown",
   "metadata": {},
   "source": [
    "### 5.1 重新分级顺序\n",
    "\n",
    "- `swaplevel` 索引交换\n",
    "- `sortlevel` 索引重新排序"
   ]
  },
  {
   "cell_type": "code",
   "execution_count": 49,
   "metadata": {
    "collapsed": false
   },
   "outputs": [
    {
     "name": "stdout",
     "output_type": "stream",
     "text": [
      "原始数据：\r\n",
      "     Ohio     Colorado\n",
      "    Green Red    Green\n",
      "a 1     0   1        2\n",
      "  2     3   4        5\n",
      "b 1     6   7        8\n",
      "  2     9  10       11\n",
      "\r\n",
      "给索引命名：\r\n",
      "           Ohio     Colorado\n",
      "          Green Red    Green\n",
      "key1 key2                   \n",
      "a    1        0   1        2\n",
      "     2        3   4        5\n",
      "b    1        6   7        8\n",
      "     2        9  10       11\n",
      "\r\n",
      "索引交换（按索引名）：\r\n",
      "           Ohio     Colorado\n",
      "          Green Red    Green\n",
      "key2 key1                   \n",
      "1    a        0   1        2\n",
      "2    a        3   4        5\n",
      "1    b        6   7        8\n",
      "2    b        9  10       11\n",
      "\r\n",
      "索引交换（按数字索引）：\r\n",
      "           Ohio     Colorado\n",
      "          Green Red    Green\n",
      "key1 key2                   \n",
      "a    1        0   1        2\n",
      "     2        3   4        5\n",
      "b    1        6   7        8\n",
      "     2        9  10       11\n"
     ]
    }
   ],
   "source": [
    "frame = pd.DataFrame(np.arange(12).reshape((4, 3)),\n",
    "                  index = [['a', 'a', 'b', 'b'], [1, 2, 1, 2]],\n",
    "                  columns = [['Ohio', 'Ohio', 'Colorado'], ['Green', 'Red', 'Green']])\n",
    "print('原始数据：', frame, sep='\\r\\n')\n",
    "frame.index.names = ['key1', 'key2']\n",
    "print('\\r\\n给索引命名：', frame, sep='\\r\\n')\n",
    "frame_swapped = frame.swaplevel('key1', 'key2')\n",
    "print('\\r\\n索引交换（按索引名）：', frame_swapped, sep='\\r\\n')\n",
    "print('\\r\\n索引交换（按数字索引）：', frame_swapped.swaplevel(0, 1), sep='\\r\\n')"
   ]
  },
  {
   "cell_type": "code",
   "execution_count": 50,
   "metadata": {
    "collapsed": false
   },
   "outputs": [
    {
     "name": "stdout",
     "output_type": "stream",
     "text": [
      "根据索引排序\n",
      "           Ohio     Colorado\n",
      "          Green Red    Green\n",
      "key1 key2                   \n",
      "a    1        0   1        2\n",
      "b    1        6   7        8\n",
      "a    2        3   4        5\n",
      "b    2        9  10       11\n",
      "\r\n",
      "\r\n",
      "           Ohio     Colorado\n",
      "          Green Red    Green\n",
      "key2 key1                   \n",
      "1    a        0   1        2\n",
      "     b        6   7        8\n",
      "2    a        3   4        5\n",
      "     b        9  10       11\n"
     ]
    }
   ],
   "source": [
    "print('根据索引排序')\n",
    "print(frame.sortlevel('key2'))\n",
    "print('\\r\\n', frame.swaplevel(0, 1).sortlevel(0), sep='\\r\\n')"
   ]
  },
  {
   "cell_type": "markdown",
   "metadata": {},
   "source": [
    "### 5.2 根据级别汇总统计\n",
    "\n",
    "- 指定索引级别和轴"
   ]
  },
  {
   "cell_type": "code",
   "execution_count": 51,
   "metadata": {
    "collapsed": false
   },
   "outputs": [
    {
     "name": "stdout",
     "output_type": "stream",
     "text": [
      "原始数据：\r\n",
      "     Ohio     Colorado\n",
      "    Green Red    Green\n",
      "a 1     0   1        2\n",
      "  2     3   4        5\n",
      "b 1     6   7        8\n",
      "  2     9  10       11\n",
      "\r\n",
      "指定索引名：\r\n",
      "           Ohio     Colorado\n",
      "          Green Red    Green\n",
      "key1 key2                   \n",
      "a    1        0   1        2\n",
      "     2        3   4        5\n",
      "b    1        6   7        8\n",
      "     2        9  10       11\n",
      "\r\n",
      "指定索引级别求和：\r\n",
      "      Ohio     Colorado\n",
      "     Green Red    Green\n",
      "key2                   \n",
      "1        6   8       10\n",
      "2       12  14       16\n"
     ]
    }
   ],
   "source": [
    "frame = pd.DataFrame(np.arange(12).reshape((4, 3)),\n",
    "                  index = [['a', 'a', 'b', 'b'], [1, 2, 1, 2]],\n",
    "                  columns = [['Ohio', 'Ohio', 'Colorado'], ['Green', 'Red', 'Green']])\n",
    "print('原始数据：', frame, sep='\\r\\n')\n",
    "frame.index.names = ['key1', 'key2']\n",
    "print('\\r\\n指定索引名：', frame, sep='\\r\\n')\n",
    "print('\\r\\n指定索引级别求和：', frame.sum(level = 'key2'), sep='\\r\\n')"
   ]
  },
  {
   "cell_type": "markdown",
   "metadata": {},
   "source": [
    "### 5.3 使用DataFrame的列\n",
    "\n",
    "- 将指定列变为索引\n",
    "- 移除或保留对象\n",
    "- reset_index恢复"
   ]
  },
  {
   "cell_type": "code",
   "execution_count": 52,
   "metadata": {
    "collapsed": false
   },
   "outputs": [
    {
     "name": "stdout",
     "output_type": "stream",
     "text": [
      "原始数据：\r\n",
      "   a  b    c  d\n",
      "0  0  7  one  0\n",
      "1  1  6  one  1\n",
      "2  2  5  one  2\n",
      "3  3  4  two  0\n",
      "4  4  3  two  1\n",
      "5  5  2  two  2\n",
      "6  6  1  two  3\n",
      "\r\n",
      "把c、d列变成索引：\r\n",
      "       a  b\n",
      "c   d      \n",
      "one 0  0  7\n",
      "    1  1  6\n",
      "    2  2  5\n",
      "two 0  3  4\n",
      "    1  4  3\n",
      "    2  5  2\n",
      "    3  6  1\n",
      "\r\n",
      "把c、d列变成索引，列依然保留：\r\n",
      "       a  b    c  d\n",
      "c   d              \n",
      "one 0  0  7  one  0\n",
      "    1  1  6  one  1\n",
      "    2  2  5  one  2\n",
      "two 0  3  4  two  0\n",
      "    1  4  3  two  1\n",
      "    2  5  2  two  2\n",
      "    3  6  1  two  3\n"
     ]
    }
   ],
   "source": [
    "frame = pd.DataFrame({'a':range(7),\n",
    "                   'b':range(7, 0, -1),\n",
    "                   'c':['one', 'one', 'one', 'two', 'two', 'two', 'two'],\n",
    "                   'd':[0, 1, 2, 0, 1, 2, 3]})\n",
    "print('原始数据：', frame, sep='\\r\\n')\n",
    "print('\\r\\n把c、d列变成索引：', frame.set_index(['c', 'd']), sep='\\r\\n')  # 把c/d列变成索引\n",
    "print('\\r\\n把c、d列变成索引，列依然保留：', frame.set_index(['c', 'd'], drop = False), sep='\\r\\n') # 列依然保留\n"
   ]
  },
  {
   "cell_type": "code",
   "execution_count": 53,
   "metadata": {
    "collapsed": false
   },
   "outputs": [
    {
     "name": "stdout",
     "output_type": "stream",
     "text": [
      "set_index: \r\n",
      "       a  b\n",
      "c   d      \n",
      "one 0  0  7\n",
      "    1  1  6\n",
      "    2  2  5\n",
      "two 0  3  4\n",
      "    1  4  3\n",
      "    2  5  2\n",
      "    3  6  1\n",
      "\r\n",
      "reset_index: \r\n",
      "     c  d  a  b\n",
      "0  one  0  0  7\n",
      "1  one  1  1  6\n",
      "2  one  2  2  5\n",
      "3  two  0  3  4\n",
      "4  two  1  4  3\n",
      "5  two  2  5  2\n",
      "6  two  3  6  1\n"
     ]
    }
   ],
   "source": [
    "frame2 = frame.set_index(['c', 'd'])\n",
    "print('set_index: ', frame2, sep='\\r\\n')\n",
    "print('\\r\\nreset_index: ', frame2.reset_index(), sep='\\r\\n')"
   ]
  },
  {
   "cell_type": "markdown",
   "metadata": {},
   "source": [
    "## 6 其他话题\n",
    "\n",
    "### 6.1 整数索引\n",
    "\n",
    "- 歧义的产生\n",
    "- 可靠的，不考虑索引类型的，基于位置的索引。"
   ]
  },
  {
   "cell_type": "code",
   "execution_count": 54,
   "metadata": {
    "collapsed": false
   },
   "outputs": [
    {
     "name": "stdout",
     "output_type": "stream",
     "text": [
      "原始数据：\r\n",
      "0    0.0\n",
      "1    1.0\n",
      "2    2.0\n",
      "dtype: float64\n",
      "\r\n",
      "exception type: \r\n",
      "<class 'KeyError'>\n",
      "\r\n",
      "原始数据：\r\n",
      "a    0.0\n",
      "b    1.0\n",
      "c    2.0\n",
      "dtype: float64\n",
      "\r\n",
      "index=-1：\r\n",
      "2.0\n",
      "\r\n",
      "原始数据：\r\n",
      "-5    0\n",
      " 1    1\n",
      " 3    2\n",
      "dtype: int64\n",
      "\r\n",
      "避免直接用[2]产生的歧义：\r\n",
      "2\n"
     ]
    }
   ],
   "source": [
    "import sys\n",
    "\n",
    "# Series\n",
    "ser = pd.Series(np.arange(3.))\n",
    "print('原始数据：', ser, sep='\\r\\n')\n",
    "try:\n",
    "    print('\\r\\nindex=-1：', ser[-1], sep='\\r\\n') # 这里会有歧义\n",
    "except:\n",
    "    print('\\r\\nexception type: ', sys.exc_info()[0], sep='\\r\\n')\n",
    "\n",
    "ser2 = pd.Series(np.arange(3.), index = ['a', 'b', 'c'])\n",
    "print('\\r\\n原始数据：', ser2, sep='\\r\\n')\n",
    "print('\\r\\nindex=-1：', ser2[-1], sep='\\r\\n')\n",
    "\n",
    "ser3 = pd.Series(range(3), index = [-5, 1, 3])\n",
    "print('\\r\\n原始数据：', ser3, sep='\\r\\n')\n",
    "print('\\r\\n避免直接用[2]产生的歧义：', ser3.iloc[2], sep='\\r\\n')  # 避免直接用[2]产生的歧义"
   ]
  },
  {
   "cell_type": "code",
   "execution_count": 55,
   "metadata": {
    "collapsed": false
   },
   "outputs": [
    {
     "name": "stdout",
     "output_type": "stream",
     "text": [
      "原始数据：\r\n",
      "   0  1\n",
      "2  0  1\n",
      "0  2  3\n",
      "1  4  5\n",
      "\r\n",
      "位置索引：\r\n",
      "0    0\n",
      "1    1\n",
      "Name: 2, dtype: int64\n",
      "\r\n",
      "位置索引：\r\n",
      "2    1\n",
      "0    3\n",
      "1    5\n",
      "Name: 1, dtype: int64\n"
     ]
    }
   ],
   "source": [
    "# 对DataFrame使用整数索引\n",
    "frame = pd.DataFrame(np.arange(6).reshape((3, 2)), index = [2, 0, 1])\n",
    "print('原始数据：', frame, sep='\\r\\n')\n",
    "print('\\r\\n位置索引：', frame.iloc[0], sep='\\r\\n')\n",
    "print('\\r\\n位置索引：', frame.iloc[:, 1], sep='\\r\\n')"
   ]
  },
  {
   "cell_type": "markdown",
   "metadata": {},
   "source": [
    "### 6.2 面板（Pannel）数据\n",
    "\n",
    "- 通过三维ndarray创建pannel对象\n",
    "- 通过ix[...]选取需要的数据\n",
    "- 访问顺序:item -> major -> minor\n",
    "- 通过stack展现面板数据"
   ]
  },
  {
   "cell_type": "code",
   "execution_count": 56,
   "metadata": {
    "collapsed": false
   },
   "outputs": [
    {
     "name": "stdout",
     "output_type": "stream",
     "text": [
      "Panel原始数据：\r\n",
      "<class 'pandas.core.panel.Panel'>\n",
      "Dimensions: 4 (items) x 9 (major_axis) x 6 (minor_axis)\n",
      "Items axis: AAPL to MSFT\n",
      "Major_axis axis: 2017-01-03 00:00:00 to 2017-01-13 00:00:00\n",
      "Minor_axis axis: Open to Volume\n",
      "\r\n",
      "Panel atfer swapaxes：\r\n",
      "<class 'pandas.core.panel.Panel'>\n",
      "Dimensions: 6 (items) x 9 (major_axis) x 4 (minor_axis)\n",
      "Items axis: Open to Volume\n",
      "Major_axis axis: 2017-01-03 00:00:00 to 2017-01-13 00:00:00\n",
      "Minor_axis axis: AAPL to MSFT\n"
     ]
    }
   ],
   "source": [
    "import pandas_datareader.data as web\n",
    "import datetime\n",
    "\n",
    "start = datetime.datetime(2017, 1, 1)\n",
    "end = datetime.datetime(2017, 1, 15)\n",
    "\n",
    "pdata = pd.Panel(dict((stk, web.DataReader(stk, 'yahoo', start, end)) for stk in ['AAPL', 'GOOG', 'BIDU', 'MSFT']))\n",
    "print('Panel原始数据：', pdata, sep='\\r\\n')\n",
    "pdata = pdata.swapaxes('items', 'minor')\n",
    "print('\\r\\nPanel atfer swapaxes：', pdata, sep='\\r\\n')"
   ]
  },
  {
   "cell_type": "code",
   "execution_count": 57,
   "metadata": {
    "collapsed": false
   },
   "outputs": [
    {
     "name": "stdout",
     "output_type": "stream",
     "text": [
      "访问顺序：# Item -> Major -> Minor\n",
      "                  AAPL        BIDU        GOOG       MSFT\n",
      "Date                                                     \n",
      "2017-01-03  115.173210  168.300003  786.140015  61.848385\n",
      "2017-01-04  115.044304  171.960007  786.900024  61.571655\n",
      "2017-01-05  115.629341  177.470001  794.020020  61.571655\n",
      "2017-01-06  116.918411  176.380005  806.150024  62.105343\n",
      "2017-01-09  117.989319  177.160004  806.650024  61.907681\n",
      "2017-01-10  118.108315  180.309998  804.789978  61.887917\n",
      "2017-01-11  118.742935  179.320007  807.909973  62.451252\n",
      "2017-01-12  118.247139  177.570007  806.359985  61.878033\n",
      "2017-01-13  118.038902  176.479996  807.880005  61.966984\n",
      "\n",
      "            Open        High         Low       Close   Adj Close      Volume\n",
      "AAPL  115.919998  116.860001  115.809998  116.610001  115.629341  22193600.0\n",
      "BIDU  172.649994  177.839996  172.500000  177.470001  177.470001   2733000.0\n",
      "GOOG  786.080017  794.479980  785.020020  794.020020  794.020020   1335200.0\n",
      "MSFT   62.189999   62.660000   62.029999   62.299999   61.571655  24876000.0\n",
      "\n",
      "AAPL    116.918411\n",
      "BIDU    176.380005\n",
      "GOOG    806.150024\n",
      "MSFT     62.105343\n",
      "Name: 2017-01-06 00:00:00, dtype: float64\n"
     ]
    }
   ],
   "source": [
    "print(\"访问顺序：# Item -> Major -> Minor\")\n",
    "print(pdata['Adj Close'])\n",
    "print()\n",
    "print(pdata[:, '1/5/2017', :])\n",
    "print()\n",
    "print(pdata['Adj Close', '1/6/2017', :])"
   ]
  },
  {
   "cell_type": "code",
   "execution_count": 58,
   "metadata": {
    "collapsed": false
   },
   "outputs": [
    {
     "name": "stdout",
     "output_type": "stream",
     "text": [
      "Panel与DataFrame相互转换\n",
      "                        Open        High         Low       Close   Adj Close  \\\n",
      "Date       minor                                                               \n",
      "2017-01-03 AAPL   115.800003  116.330002  114.760002  116.150002  115.173210   \n",
      "           BIDU   166.300003  169.660004  165.820007  168.300003  168.300003   \n",
      "           GOOG   778.809998  789.630005  775.799988  786.140015  786.140015   \n",
      "           MSFT    62.790001   62.840000   62.130001   62.580002   61.848385   \n",
      "2017-01-04 AAPL   115.849998  116.510002  115.750000  116.019997  115.044304   \n",
      "           BIDU   169.740005  173.259995  168.300003  171.960007  171.960007   \n",
      "           GOOG   788.359985  791.340027  783.159973  786.900024  786.900024   \n",
      "           MSFT    62.480000   62.750000   62.119999   62.299999   61.571655   \n",
      "2017-01-05 AAPL   115.919998  116.860001  115.809998  116.610001  115.629341   \n",
      "           BIDU   172.649994  177.839996  172.500000  177.470001  177.470001   \n",
      "           GOOG   786.080017  794.479980  785.020020  794.020020  794.020020   \n",
      "           MSFT    62.189999   62.660000   62.029999   62.299999   61.571655   \n",
      "2017-01-06 AAPL   116.779999  118.160004  116.470001  117.910004  116.918411   \n",
      "           BIDU   176.279999  177.279999  173.250000  176.380005  176.380005   \n",
      "           GOOG   795.260010  807.900024  792.203979  806.150024  806.150024   \n",
      "           MSFT    62.299999   63.150002   62.040001   62.840000   62.105343   \n",
      "2017-01-09 AAPL   117.949997  119.430000  117.940002  118.989998  117.989319   \n",
      "           BIDU   178.000000  179.720001  176.820007  177.160004  177.160004   \n",
      "           GOOG   806.400024  809.966003  802.830017  806.650024  806.650024   \n",
      "           MSFT    62.759998   63.080002   62.540001   62.639999   61.907681   \n",
      "2017-01-10 AAPL   118.769997  119.379997  118.300003  119.110001  118.108315   \n",
      "           BIDU   179.830002  183.000000  178.300003  180.309998  180.309998   \n",
      "           GOOG   807.859985  809.130005  803.510010  804.789978  804.789978   \n",
      "           MSFT    62.730000   63.070000   62.279999   62.619999   61.887917   \n",
      "2017-01-11 AAPL   118.739998  119.930000  118.599998  119.750000  118.742935   \n",
      "           BIDU   179.570007  180.179993  176.800003  179.320007  179.320007   \n",
      "           GOOG   805.000000  808.150024  801.369995  807.909973  807.909973   \n",
      "           MSFT    62.610001   63.230000   62.430000   63.189999   62.451252   \n",
      "2017-01-12 AAPL   118.900002  119.300003  118.209999  119.250000  118.247139   \n",
      "           BIDU   178.800003  179.470001  175.660004  177.570007  177.570007   \n",
      "           GOOG   807.140015  807.390015  799.169983  806.359985  806.359985   \n",
      "           MSFT    63.060001   63.400002   61.950001   62.610001   61.878033   \n",
      "2017-01-13 AAPL   119.110001  119.620003  118.809998  119.040001  118.038902   \n",
      "           BIDU   178.000000  178.710007  176.360001  176.479996  176.479996   \n",
      "           GOOG   807.479980  811.223999  806.690002  807.880005  807.880005   \n",
      "           MSFT    62.619999   62.869999   62.349998   62.700001   61.966984   \n",
      "\n",
      "                      Volume  \n",
      "Date       minor              \n",
      "2017-01-03 AAPL   28781900.0  \n",
      "           BIDU    2314700.0  \n",
      "           GOOG    1657300.0  \n",
      "           MSFT   20694100.0  \n",
      "2017-01-04 AAPL   21118100.0  \n",
      "           BIDU    2033200.0  \n",
      "           GOOG    1073000.0  \n",
      "           MSFT   21340000.0  \n",
      "2017-01-05 AAPL   22193600.0  \n",
      "           BIDU    2733000.0  \n",
      "           GOOG    1335200.0  \n",
      "           MSFT   24876000.0  \n",
      "2017-01-06 AAPL   31751900.0  \n",
      "           BIDU    2254700.0  \n",
      "           GOOG    1640200.0  \n",
      "           MSFT   19922900.0  \n",
      "2017-01-09 AAPL   33561900.0  \n",
      "           BIDU    1760400.0  \n",
      "           GOOG    1274600.0  \n",
      "           MSFT   20382700.0  \n",
      "2017-01-10 AAPL   24462100.0  \n",
      "           BIDU    2922300.0  \n",
      "           GOOG    1176800.0  \n",
      "           MSFT   18593000.0  \n",
      "2017-01-11 AAPL   27588600.0  \n",
      "           BIDU    1929900.0  \n",
      "           GOOG    1065900.0  \n",
      "           MSFT   21517300.0  \n",
      "2017-01-12 AAPL   27086200.0  \n",
      "           BIDU    2680100.0  \n",
      "           GOOG    1353100.0  \n",
      "           MSFT   20968200.0  \n",
      "2017-01-13 AAPL   26111900.0  \n",
      "           BIDU    1411900.0  \n",
      "           GOOG    1099200.0  \n",
      "           MSFT   19422300.0  \n",
      "\n",
      "<class 'pandas.core.panel.Panel'>\n",
      "Dimensions: 6 (items) x 9 (major_axis) x 4 (minor_axis)\n",
      "Items axis: Open to Volume\n",
      "Major_axis axis: 2017-01-03 00:00:00 to 2017-01-13 00:00:00\n",
      "Minor_axis axis: AAPL to MSFT\n"
     ]
    }
   ],
   "source": [
    "print('Panel与DataFrame相互转换')\n",
    "stacked = pdata.ix[:, '1/7/2016':, :].to_frame()\n",
    "print(stacked)\n",
    "print()\n",
    "print(stacked.to_panel())"
   ]
  }
 ],
 "metadata": {
  "kernelspec": {
   "display_name": "Python 3",
   "language": "python",
   "name": "python3"
  },
  "language_info": {
   "codemirror_mode": {
    "name": "ipython",
    "version": 3
   },
   "file_extension": ".py",
   "mimetype": "text/x-python",
   "name": "python",
   "nbconvert_exporter": "python",
   "pygments_lexer": "ipython3",
   "version": "3.5.1"
  }
 },
 "nbformat": 4,
 "nbformat_minor": 0
}
