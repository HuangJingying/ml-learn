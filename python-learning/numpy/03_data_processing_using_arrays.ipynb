{
 "cells": [
  {
   "cell_type": "markdown",
   "metadata": {},
   "source": [
    "# 利用数组进行数据处理\n",
    "\n",
    "NumPy数组使你可以将许多种数据处理任务表述为简洁的数组表达式（否则需要编写循环）。\n",
    "\n",
    "**用数组表达式代替循环的做法，通常被称为矢量化。**\n",
    "\n",
    "矢量化数组运算要比等价的纯Python方式快上一两个数量级"
   ]
  },
  {
   "cell_type": "code",
   "execution_count": 3,
   "metadata": {
    "collapsed": false
   },
   "outputs": [
    {
     "name": "stdout",
     "output_type": "stream",
     "text": [
      "(1000,)\n",
      "[[-5.   -4.99 -4.98 ...,  4.97  4.98  4.99]\n",
      " [-5.   -4.99 -4.98 ...,  4.97  4.98  4.99]\n",
      " [-5.   -4.99 -4.98 ...,  4.97  4.98  4.99]\n",
      " ..., \n",
      " [-5.   -4.99 -4.98 ...,  4.97  4.98  4.99]\n",
      " [-5.   -4.99 -4.98 ...,  4.97  4.98  4.99]\n",
      " [-5.   -4.99 -4.98 ...,  4.97  4.98  4.99]]\n",
      "[[-5.   -5.   -5.   ..., -5.   -5.   -5.  ]\n",
      " [-4.99 -4.99 -4.99 ..., -4.99 -4.99 -4.99]\n",
      " [-4.98 -4.98 -4.98 ..., -4.98 -4.98 -4.98]\n",
      " ..., \n",
      " [ 4.97  4.97  4.97 ...,  4.97  4.97  4.97]\n",
      " [ 4.98  4.98  4.98 ...,  4.98  4.98  4.98]\n",
      " [ 4.99  4.99  4.99 ...,  4.99  4.99  4.99]]\n",
      "[[ 7.07106781  7.06400028  7.05693985 ...,  7.04988652  7.05693985\n",
      "   7.06400028]\n",
      " [ 7.06400028  7.05692568  7.04985815 ...,  7.04279774  7.04985815\n",
      "   7.05692568]\n",
      " [ 7.05693985  7.04985815  7.04278354 ...,  7.03571603  7.04278354\n",
      "   7.04985815]\n",
      " ..., \n",
      " [ 7.04988652  7.04279774  7.03571603 ...,  7.0286414   7.03571603\n",
      "   7.04279774]\n",
      " [ 7.05693985  7.04985815  7.04278354 ...,  7.03571603  7.04278354\n",
      "   7.04985815]\n",
      " [ 7.06400028  7.05692568  7.04985815 ...,  7.04279774  7.04985815\n",
      "   7.05692568]]\n"
     ]
    },
    {
     "data": {
      "image/png": "[encoded data removed]",
      "text/plain": [
       "<matplotlib.figure.Figure at 0x10c87d0b8>"
      ]
     },
     "metadata": {},
     "output_type": "display_data"
    }
   ],
   "source": [
    "import matplotlib.pyplot as plt\n",
    "import numpy as np\n",
    "import pylab\n",
    "\n",
    "%matplotlib inline\n",
    "\n",
    "points = np.arange(-5, 5, 0.01)\n",
    "print(points.shape)\n",
    "xs, ys = np.meshgrid(points, points) # xs,ys互为转置矩阵\n",
    "print(xs)\n",
    "print(ys)\n",
    "\n",
    "z = np.sqrt(xs ** 2 + ys ** 2)\n",
    "print(z)\n",
    "\n",
    "plt.imshow(z, cmap=plt.cm.gray)\n",
    "plt.colorbar()\n",
    "pylab.show()"
   ]
  },
  {
   "cell_type": "markdown",
   "metadata": {
    "collapsed": true
   },
   "source": [
    "## 1 numpy.where与列表推导\n",
    "\n",
    "### 通过真值表选择元素"
   ]
  },
  {
   "cell_type": "code",
   "execution_count": 4,
   "metadata": {
    "collapsed": false
   },
   "outputs": [
    {
     "name": "stdout",
     "output_type": "stream",
     "text": [
      "[1.1000000000000001, 2.2000000000000002, 1.3, 1.3999999999999999, 2.5]\n",
      "[ 1.1  2.2  1.3  1.4  2.5]\n"
     ]
    }
   ],
   "source": [
    "import numpy.random as np_random\n",
    "\n",
    "'''\n",
    "关于zip函数的一点解释，zip可以接受任意多参数，然后重新组合成1个tuple列表。\n",
    "zip([1, 2, 3], [4, 5, 6], [7, 8, 9])\n",
    "返回结果：[(1, 4, 7), (2, 5, 8), (3, 6, 9)]\n",
    "'''\n",
    "x_arr = np.array([1.1, 1.2, 1.3, 1.4, 1.5])\n",
    "y_arr = np.array([2.1, 2.2, 2.3, 2.4, 2.5])\n",
    "cond = np.array([True, False, True, True, False])\n",
    "result = [(x if c else y) for x, y, c in zip(x_arr, y_arr, cond)] #通过列表推导实现\n",
    "print(result)\n",
    "print(np.where(cond, x_arr, y_arr)) #使用NumPy的where函数"
   ]
  },
  {
   "cell_type": "markdown",
   "metadata": {
    "collapsed": true
   },
   "source": [
    "### 更多where的例子"
   ]
  },
  {
   "cell_type": "code",
   "execution_count": 5,
   "metadata": {
    "collapsed": false
   },
   "outputs": [
    {
     "name": "stdout",
     "output_type": "stream",
     "text": [
      "[[ 1.05928189 -0.27376963  1.06130172  0.42273141]\n",
      " [-0.82918045 -0.74254052 -1.44580587  0.64511942]\n",
      " [-0.78302217  0.13073776  0.70065122  0.29592315]\n",
      " [-0.48800042  0.64468457 -2.2037462   0.21877382]]\n",
      "[[ 2 -2  2  2]\n",
      " [-2 -2 -2  2]\n",
      " [-2  2  2  2]\n",
      " [-2  2 -2  2]]\n",
      "[[ 2.         -0.27376963  2.          2.        ]\n",
      " [-0.82918045 -0.74254052 -1.44580587  2.        ]\n",
      " [-0.78302217  2.          2.          2.        ]\n",
      " [-0.48800042  2.         -2.2037462   2.        ]]\n"
     ]
    }
   ],
   "source": [
    "arr = np_random.randn(4, 4)\n",
    "print(arr)\n",
    "print(np.where(arr > 0, 2, -2))\n",
    "print(np.where(arr > 0, 2, arr))"
   ]
  },
  {
   "cell_type": "markdown",
   "metadata": {
    "collapsed": true
   },
   "source": [
    "### where嵌套"
   ]
  },
  {
   "cell_type": "code",
   "execution_count": 8,
   "metadata": {
    "collapsed": false
   },
   "outputs": [
    {
     "name": "stdout",
     "output_type": "stream",
     "text": [
      "[1, 2, 1, 0, 3]\n",
      "[1 2 1 0 3]\n"
     ]
    }
   ],
   "source": [
    "cond_1 = np.array([True, False, True, True, False])\n",
    "cond_2 = np.array([False, True, False, True, False])\n",
    "\n",
    "# 传统代码如下\n",
    "result = []\n",
    "for i in range(len(cond_1)):\n",
    "    if cond_1[i] and cond_2[i]:\n",
    "        result.append(0)\n",
    "    elif cond_1[i]:\n",
    "        result.append(1)\n",
    "    elif cond_2[i]:\n",
    "        result.append(2)\n",
    "    else:\n",
    "        result.append(3)\n",
    "print(result)\n",
    "\n",
    "# np.where实现\n",
    "result = np.where(cond_1 & cond_2, 0, np.where(cond_1, 1, np.where(cond_2, 2, 3)))\n",
    "print(result)"
   ]
  },
  {
   "cell_type": "markdown",
   "metadata": {},
   "source": [
    "## 2 数学和统计方法\n",
    "\n",
    "- `sum` 对数组中全部或某轴向的元素求和，零长度的数组的sum为0\n",
    "- `mean` 算数平均数。零长度的数组的mean为NaN\n",
    "- `std`,`var` 标准差和方差，自由度可调（默认为n）\n",
    "- `min`, `max` 最小值、最大值\n",
    "- `argmin`, `argmax` 最小值和最大值的索引\n",
    "- `cumsum` 所有元素的累计和\n",
    "- `cumprod` 所有元素的累计积"
   ]
  },
  {
   "cell_type": "code",
   "execution_count": 9,
   "metadata": {
    "collapsed": false
   },
   "outputs": [
    {
     "name": "stdout",
     "output_type": "stream",
     "text": [
      "[[-0.34615362  0.04716783 -0.0268702  -0.62468002]\n",
      " [ 0.48476761  0.55157618  0.01399086  1.07869027]\n",
      " [ 0.76508267 -0.46575716  0.12261686  0.08336009]\n",
      " [-0.22052255 -0.54400122  1.2041668   1.36511926]\n",
      " [-0.07406488  0.29523003  0.2899758  -0.50621092]]\n",
      "0.174674185152\n",
      "3.49348370304\n",
      "[-0.237634    0.53225623  0.12632562  0.45119057  0.00123251]\n",
      "[ 0.60910923 -0.11578434  1.60388012  1.39627869]\n"
     ]
    }
   ],
   "source": [
    "arr = np_random.randn(5, 4)\n",
    "print(arr)\n",
    "print(arr.mean())\n",
    "print(arr.sum())\n",
    "print(arr.mean(axis=1)) # 对每一行的元素求平均\n",
    "print(arr.sum(0)) # 对每一列元素求和，axis可以省略"
   ]
  },
  {
   "cell_type": "code",
   "execution_count": 13,
   "metadata": {
    "collapsed": false
   },
   "outputs": [
    {
     "name": "stdout",
     "output_type": "stream",
     "text": [
      "[[ 0  1  2]\n",
      " [ 3  5  7]\n",
      " [ 9 12 15]]\n",
      "[[ 0  1  3]\n",
      " [ 3  7 12]\n",
      " [ 6 13 21]]\n",
      "[[  0   0   0]\n",
      " [  3  12  60]\n",
      " [  6  42 336]]\n"
     ]
    }
   ],
   "source": [
    "'''\n",
    "cumsum:\n",
    "- 按列操作：a[i][j] += a[i - 1][j]\n",
    "- 按行操作：a[i][j] += a[i][j - 1]\n",
    "cumprod:\n",
    "- 按列操作：a[i][j] *= a[i - 1][j]\n",
    "- 按行操作：a[i][j] *= a[i][j - 1]\n",
    "'''\n",
    "arr = np.array([[0, 1, 2], [3, 4, 5], [6, 7, 8]])\n",
    "print(arr.cumsum(0))\n",
    "print(arr.cumsum(1))\n",
    "print(arr.cumprod(1))"
   ]
  },
  {
   "cell_type": "markdown",
   "metadata": {},
   "source": [
    "## 3 用于布尔型数组的方法"
   ]
  },
  {
   "cell_type": "code",
   "execution_count": 19,
   "metadata": {
    "collapsed": false
   },
   "outputs": [
    {
     "name": "stdout",
     "output_type": "stream",
     "text": [
      "49\n"
     ]
    }
   ],
   "source": [
    "# sum方法可用于对True的值求和\n",
    "arr = np_random.randn(100)\n",
    "print((arr > 0).sum())"
   ]
  },
  {
   "cell_type": "code",
   "execution_count": 20,
   "metadata": {
    "collapsed": false
   },
   "outputs": [
    {
     "name": "stdout",
     "output_type": "stream",
     "text": [
      "True\n",
      "False\n"
     ]
    }
   ],
   "source": [
    "bools = np.array([False, False, True, False])\n",
    "print(bools.any()) # 有一个为True则返回True\n",
    "print(bools.all()) # 有一个为False则返回Fasle"
   ]
  },
  {
   "cell_type": "markdown",
   "metadata": {},
   "source": [
    "## 4 排序"
   ]
  },
  {
   "cell_type": "code",
   "execution_count": 22,
   "metadata": {
    "collapsed": false
   },
   "outputs": [
    {
     "name": "stdout",
     "output_type": "stream",
     "text": [
      "[-1.62094812  0.13833623  0.25068432  0.32077066  0.37219267  0.76590899\n",
      "  1.74735652  1.7473705 ]\n"
     ]
    }
   ],
   "source": [
    "arr = np_random.randn(8)\n",
    "arr.sort()\n",
    "print(arr)"
   ]
  },
  {
   "cell_type": "code",
   "execution_count": 25,
   "metadata": {
    "collapsed": false
   },
   "outputs": [
    {
     "name": "stdout",
     "output_type": "stream",
     "text": [
      "[[ 1.26844468 -1.85416959  0.57290924]\n",
      " [ 1.51149966 -0.2085402  -1.25923731]\n",
      " [ 1.10142082 -0.24663852 -0.87046472]\n",
      " [ 1.29722086  1.07958825  0.90108216]\n",
      " [-1.50479089 -0.75102328  0.36179587]]\n",
      "[[-1.85416959  0.57290924  1.26844468]\n",
      " [-1.25923731 -0.2085402   1.51149966]\n",
      " [-0.87046472 -0.24663852  1.10142082]\n",
      " [ 0.90108216  1.07958825  1.29722086]\n",
      " [-1.50479089 -0.75102328  0.36179587]]\n"
     ]
    }
   ],
   "source": [
    "# 二维数组排序\n",
    "arr = np_random.randn(5, 3)\n",
    "print(arr)\n",
    "arr.sort(1) # 对每一行元素做排序\n",
    "print(arr)"
   ]
  },
  {
   "cell_type": "code",
   "execution_count": 26,
   "metadata": {
    "collapsed": false
   },
   "outputs": [
    {
     "name": "stdout",
     "output_type": "stream",
     "text": [
      "-1.60947474053\n"
     ]
    }
   ],
   "source": [
    "# 找位置在5%的数字\n",
    "large_arr = np_random.randn(1000)\n",
    "large_arr.sort()\n",
    "print(large_arr[int(0.05 * len(large_arr))])"
   ]
  },
  {
   "cell_type": "markdown",
   "metadata": {},
   "source": [
    "## 5 去重及其他集合运算\n",
    "\n",
    "- `unique(x)` 计算x中的唯一元素，并返回有序结果\n",
    "- `intersect1d(x, y)` 计算x和y中的公共元素，并返回有序结果\n",
    "- `union1d(x, y)` 计算x和y的并集，并返回有序结果\n",
    "- `in1d(x, y)` 得到一个表述【x的元素是否包含于y】的布尔型数组\n",
    "- `setdiff1d(x, y)` 集合的差，即元素在x中且不在y中\n",
    "- `setxor1d(x, y)` 集合的异或，即存在于一个数组中但不同时存在于两个数组中的元素"
   ]
  },
  {
   "cell_type": "code",
   "execution_count": 32,
   "metadata": {
    "collapsed": false
   },
   "outputs": [
    {
     "name": "stdout",
     "output_type": "stream",
     "text": [
      "['Bob', 'Joe', 'Will']\n",
      "['Bob' 'Joe' 'Will']\n",
      "[1 2 3 4]\n"
     ]
    }
   ],
   "source": [
    "# 用unique函数去重\n",
    "names = np.array(['Bob', 'Joe', 'Will', 'Bob', 'Will', 'Joe', 'Joe'])\n",
    "print(sorted(set(names))) # 传统Python做法\n",
    "print(np.unique(names))\n",
    "ints = np.array([3, 3, 3, 2, 2, 1, 1, 4, 4])\n",
    "print(np.unique(ints))"
   ]
  },
  {
   "cell_type": "code",
   "execution_count": 31,
   "metadata": {
    "collapsed": false
   },
   "outputs": [
    {
     "name": "stdout",
     "output_type": "stream",
     "text": [
      "[ True False False  True  True False  True]\n"
     ]
    }
   ],
   "source": [
    "# 查找数组元素是否在另一数组\n",
    "values = np.array([6, 0, 0, 3, 2, 5, 6])\n",
    "print(np.in1d(values, [2, 3, 6]))"
   ]
  }
 ],
 "metadata": {
  "kernelspec": {
   "display_name": "Python 3",
   "language": "python",
   "name": "python3"
  },
  "language_info": {
   "codemirror_mode": {
    "name": "ipython",
    "version": 3
   },
   "file_extension": ".py",
   "mimetype": "text/x-python",
   "name": "python",
   "nbconvert_exporter": "python",
   "pygments_lexer": "ipython3",
   "version": "3.5.1"
  }
 },
 "nbformat": 4,
 "nbformat_minor": 2
}
