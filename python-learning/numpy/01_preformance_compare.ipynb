{
 "cells": [
  {
   "cell_type": "markdown",
   "metadata": {},
   "source": [
    "## list、array、numpy.array性能比较\n",
    "\n",
    "我们通过求和的时间开销来直观的对list、array、numpy.array的性能进行认识"
   ]
  },
  {
   "cell_type": "code",
   "execution_count": 1,
   "metadata": {
    "collapsed": false
   },
   "outputs": [],
   "source": [
    "import timeit\n",
    "\n",
    "# for循环求和执行的语句\n",
    "comm_for = \"\"\"\n",
    "for d in data:\n",
    "    s += d\n",
    "\"\"\"\n",
    "\n",
    "# sum求和执行的语句\n",
    "comm_sum = \"sum(data)\"\n",
    "\n",
    "# numpy.sum求和执行的语句\n",
    "comm_numpy_sum = \"np.sum(data)\""
   ]
  },
  {
   "cell_type": "markdown",
   "metadata": {},
   "source": [
    "### list求和时间"
   ]
  },
  {
   "cell_type": "code",
   "execution_count": 9,
   "metadata": {
    "collapsed": false
   },
   "outputs": [
    {
     "name": "stdout",
     "output_type": "stream",
     "text": [
      "对list进行for循环求和的时间：\t 1.87560704399948\n",
      "对list调用sum求和的时间：\t\t 0.28090472001349553\n",
      "对list调用numpy.sum求和的时间：\t 1.6328043859975878\n"
     ]
    }
   ],
   "source": [
    "# list求和前的准备工作\n",
    "list_setup = \"import numpy as np; s = 0; data = [1] * 50000\"\n",
    "\n",
    "# list求和时间\n",
    "print(\"对list进行for循环求和的时间：\\t\", timeit.timeit(comm_for, list_setup, number = 500))\n",
    "print(\"对list调用sum求和的时间：\\t\\t\", timeit.timeit(comm_sum, list_setup, number = 500))\n",
    "print(\"对list调用numpy.sum求和的时间：\\t\", timeit.timeit(comm_numpy_sum, list_setup, number = 500))"
   ]
  },
  {
   "cell_type": "markdown",
   "metadata": {},
   "source": [
    "### array求和时间"
   ]
  },
  {
   "cell_type": "code",
   "execution_count": 10,
   "metadata": {
    "collapsed": false
   },
   "outputs": [
    {
     "name": "stdout",
     "output_type": "stream",
     "text": [
      "对array进行for循环求和的时间：\t 1.9459773609996773\n",
      "对array调用sum求和的时间：\t\t 0.41172623899183236\n",
      "对array调用numpy.sum求和的时间：\t 0.015927915985230356\n"
     ]
    }
   ],
   "source": [
    "# list求和前的准备工作\n",
    "array_setup = \"import numpy as np; import array; s = 0; data = array.array('L', [1] * 50000)\"\n",
    "\n",
    "# list求和时间\n",
    "print(\"对array进行for循环求和的时间：\\t\", timeit.timeit(comm_for, array_setup, number = 500))\n",
    "print(\"对array调用sum求和的时间：\\t\\t\", timeit.timeit(comm_sum, array_setup, number = 500))\n",
    "print(\"对array调用numpy.sum求和的时间：\\t\", timeit.timeit(comm_numpy_sum, array_setup, number = 500))"
   ]
  },
  {
   "cell_type": "markdown",
   "metadata": {},
   "source": [
    "### numpy.array求和时间"
   ]
  },
  {
   "cell_type": "code",
   "execution_count": 12,
   "metadata": {
    "collapsed": false
   },
   "outputs": [
    {
     "name": "stdout",
     "output_type": "stream",
     "text": [
      "对numpy.array进行for循环求和的时间：\t 3.3417641750129405\n",
      "对numpy.array调用sum求和的时间：\t\t 2.368062789988471\n",
      "对numpy.array调用numpy.sum求和的时间：\t 0.014022197981830686\n"
     ]
    }
   ],
   "source": [
    "# list求和前的准备工作\n",
    "numpy_setup = \"import numpy as np; s = 0; data = np.array([1] * 50000)\"\n",
    "\n",
    "# list求和时间\n",
    "print(\"对numpy.array进行for循环求和的时间：\\t\", timeit.timeit(comm_for, numpy_setup, number = 500))\n",
    "print(\"对numpy.array调用sum求和的时间：\\t\\t\", timeit.timeit(comm_sum, numpy_setup, number = 500))\n",
    "print(\"对numpy.array调用numpy.sum求和的时间：\\t\", timeit.timeit(comm_numpy_sum, numpy_setup, number = 500))"
   ]
  },
  {
   "cell_type": "markdown",
   "metadata": {},
   "source": [
    "从上面可以看出numpy.sum对numpy.array求和的速度是最快的。"
   ]
  }
 ],
 "metadata": {
  "kernelspec": {
   "display_name": "Python 3",
   "language": "python",
   "name": "python3"
  },
  "language_info": {
   "codemirror_mode": {
    "name": "ipython",
    "version": 3
   },
   "file_extension": ".py",
   "mimetype": "text/x-python",
   "name": "python",
   "nbconvert_exporter": "python",
   "pygments_lexer": "ipython3",
   "version": "3.5.1"
  }
 },
 "nbformat": 4,
 "nbformat_minor": 0
}
