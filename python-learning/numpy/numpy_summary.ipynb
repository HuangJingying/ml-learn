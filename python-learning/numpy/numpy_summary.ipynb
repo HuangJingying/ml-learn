{
 "cells": [
  {
   "cell_type": "markdown",
   "metadata": {},
   "source": [
    "# NumPy\n",
    "\n",
    "首先介绍`numpy.info`函数，它用于获取NumPy内函数的帮助："
   ]
  },
  {
   "cell_type": "code",
   "execution_count": 1,
   "metadata": {
    "collapsed": false
   },
   "outputs": [
    {
     "name": "stdout",
     "output_type": "stream",
     "text": [
      "array(object, dtype=None, copy=True, order=None, subok=False, ndmin=0)\n",
      "\n",
      "Create an array.\n",
      "\n",
      "Parameters\n",
      "----------\n",
      "object : array_like\n",
      "    An array, any object exposing the array interface, an\n",
      "    object whose __array__ method returns an array, or any\n",
      "    (nested) sequence.\n",
      "dtype : data-type, optional\n",
      "    The desired data-type for the array.  If not given, then\n",
      "    the type will be determined as the minimum type required\n",
      "    to hold the objects in the sequence.  This argument can only\n",
      "    be used to 'upcast' the array.  For downcasting, use the\n",
      "    .astype(t) method.\n",
      "copy : bool, optional\n",
      "    If true (default), then the object is copied.  Otherwise, a copy\n",
      "    will only be made if __array__ returns a copy, if obj is a\n",
      "    nested sequence, or if a copy is needed to satisfy any of the other\n",
      "    requirements (`dtype`, `order`, etc.).\n",
      "order : {'C', 'F', 'A'}, optional\n",
      "    Specify the order of the array.  If order is 'C', then the array\n",
      "    will be in C-contiguous order (last-index varies the fastest).\n",
      "    If order is 'F', then the returned array will be in\n",
      "    Fortran-contiguous order (first-index varies the fastest).\n",
      "    If order is 'A' (default), then the returned array may be\n",
      "    in any order (either C-, Fortran-contiguous, or even discontiguous),\n",
      "    unless a copy is required, in which case it will be C-contiguous.\n",
      "subok : bool, optional\n",
      "    If True, then sub-classes will be passed-through, otherwise\n",
      "    the returned array will be forced to be a base-class array (default).\n",
      "ndmin : int, optional\n",
      "    Specifies the minimum number of dimensions that the resulting\n",
      "    array should have.  Ones will be pre-pended to the shape as\n",
      "    needed to meet this requirement.\n",
      "\n",
      "Returns\n",
      "-------\n",
      "out : ndarray\n",
      "    An array object satisfying the specified requirements.\n",
      "\n",
      "See Also\n",
      "--------\n",
      "empty, empty_like, zeros, zeros_like, ones, ones_like, fill\n",
      "\n",
      "Examples\n",
      "--------\n",
      ">>> np.array([1, 2, 3])\n",
      "array([1, 2, 3])\n",
      "\n",
      "Upcasting:\n",
      "\n",
      ">>> np.array([1, 2, 3.0])\n",
      "array([ 1.,  2.,  3.])\n",
      "\n",
      "More than one dimension:\n",
      "\n",
      ">>> np.array([[1, 2], [3, 4]])\n",
      "array([[1, 2],\n",
      "       [3, 4]])\n",
      "\n",
      "Minimum dimensions 2:\n",
      "\n",
      ">>> np.array([1, 2, 3], ndmin=2)\n",
      "array([[1, 2, 3]])\n",
      "\n",
      "Type provided:\n",
      "\n",
      ">>> np.array([1, 2, 3], dtype=complex)\n",
      "array([ 1.+0.j,  2.+0.j,  3.+0.j])\n",
      "\n",
      "Data-type consisting of more than one element:\n",
      "\n",
      ">>> x = np.array([(1,2),(3,4)],dtype=[('a','<i4'),('b','<i4')])\n",
      ">>> x['a']\n",
      "array([1, 3])\n",
      "\n",
      "Creating an array from sub-classes:\n",
      "\n",
      ">>> np.array(np.mat('1 2; 3 4'))\n",
      "array([[1, 2],\n",
      "       [3, 4]])\n",
      "\n",
      ">>> np.array(np.mat('1 2; 3 4'), subok=True)\n",
      "matrix([[1, 2],\n",
      "        [3, 4]])\n"
     ]
    }
   ],
   "source": [
    "import numpy as np\n",
    "\n",
    "np.info(np.array)"
   ]
  },
  {
   "cell_type": "markdown",
   "metadata": {},
   "source": [
    "## 1. NumPy的ndarray\n",
    "\n",
    "### 1.1 创建ndarray\n",
    "\n",
    "- `array` 将输入数据（列表、元组、数组或其它序列类型）转换为ndarray。要么推断出dtype，要么显示指定dtype。默认直接复制输入数据。\n",
    "- `asarray` 将输入转换为ndarray，如果输入本身就是一个ndarray就不进行复制。\n",
    "- `arange` 类似于Python内置的`range`，但返回一个ndarray而不是列表。\n",
    "- `ones`, `ones_like` 根据指定形状和dtype创建一个全1的数组。ones_like以另一个数组为参数，并根据其形状和dtype创建一个全1数组。\n",
    "- `zeros`, `zeros_like` 类似于`ones`和`ones_like`，只不过产生的是全0数组而已。\n",
    "- `empty`, `empty_like` 创建数组，只分配内存空间但不填充任何值\n",
    "- `eye`, `identity` 创建对角矩阵、单位矩阵。单位矩阵一定是方阵，但对角矩阵不一定"
   ]
  },
  {
   "cell_type": "code",
   "execution_count": 2,
   "metadata": {
    "collapsed": false
   },
   "outputs": [
    {
     "name": "stdout",
     "output_type": "stream",
     "text": [
      "[ 2  4  1  6 10]\n",
      "[  2.   4.   1.   6.  10.]\n",
      "[[ 1.  0.  0.]\n",
      " [ 0.  1.  0.]\n",
      " [ 0.  0.  1.]]\n"
     ]
    }
   ],
   "source": [
    "Z = np.array([2, 4, 1, 6, 10])\n",
    "print(Z)\n",
    "Z = np.array([2, 4, 1, 6, 10], dtype=float)\n",
    "print(Z)\n",
    "\n",
    "Z = np.eye(3)\n",
    "print(Z)"
   ]
  },
  {
   "cell_type": "markdown",
   "metadata": {},
   "source": [
    "### 1.2 数据类型\n",
    "\n",
    "- `int8`, `uint8` 有/无符号的8位整型\n",
    "- `int16`, `uint16` 有/无符号的16位整型\n",
    "- `int32`, `uint32` 有/无符号的32位整型\n",
    "- `int64`, `uint64` 有/无符号的64位整型\n",
    "- `float16` 半精度浮点数\n",
    "- `float32` 标准的单精度浮点数，与C的float兼容\n",
    "- `float64` 标准的双精度浮点数，与C的double和Python的float兼容\n",
    "- `float128` 扩展精度浮点数\n",
    "- `complex`, `comples64`, `complex128` 分别用128位、64位、128位表示的复数\n",
    "- `bool` 存储True和Flase值的布尔类型\n",
    "- `object` Python对象类型\n",
    "- `string_` 字符串\n",
    "- `unicode_` unicode类型\n",
    "\n",
    "除了创建ndarray时使用`dtype`参数指定数据类型外，可以使用`astype`函数显示的转换类型。\n",
    "\n",
    "`itemsize`函数可以查看数据类型的size。"
   ]
  },
  {
   "cell_type": "code",
   "execution_count": 3,
   "metadata": {
    "collapsed": false
   },
   "outputs": [
    {
     "name": "stdout",
     "output_type": "stream",
     "text": [
      "16\n",
      "8\n"
     ]
    }
   ],
   "source": [
    "Z = np.array([2, 4, 1, 6, 10], dtype=np.complex)\n",
    "print(Z.itemsize)\n",
    "Z = Z.astype(np.complex64)\n",
    "print(Z.itemsize)"
   ]
  },
  {
   "cell_type": "markdown",
   "metadata": {},
   "source": [
    "### 1.3 ndarray与标量的运算\n",
    "\n",
    "- 数组与标量（包括长度为1的数组）的算术运算：将标量值运用到数组的每个元素\n",
    "- 数组与数组：大小相等才能运算，也是运用到数组的每个元素"
   ]
  },
  {
   "cell_type": "code",
   "execution_count": 4,
   "metadata": {
    "collapsed": false
   },
   "outputs": [
    {
     "name": "stdout",
     "output_type": "stream",
     "text": [
      "[ 1.          0.5         0.33333333]\n",
      "[ 3  4 15]\n"
     ]
    }
   ],
   "source": [
    "X = np.array([1, 2, 3])\n",
    "Y = np.array([3, 2, 5])\n",
    "print(1 / X)\n",
    "print(X * Y)"
   ]
  },
  {
   "cell_type": "markdown",
   "metadata": {},
   "source": [
    "### 1.4 索引与切片\n",
    "\n",
    "索引和切片跟Python默认的索引和切片出入不大，其强大之处需要慢慢体会，下面两个例子自己感受下："
   ]
  },
  {
   "cell_type": "code",
   "execution_count": 5,
   "metadata": {
    "collapsed": false
   },
   "outputs": [
    {
     "name": "stdout",
     "output_type": "stream",
     "text": [
      "[[ 1.  1.  1.  1.  1.  1.]\n",
      " [ 1.  0.  0.  0.  0.  1.]\n",
      " [ 1.  0.  0.  0.  0.  1.]\n",
      " [ 1.  0.  0.  0.  0.  1.]\n",
      " [ 1.  0.  0.  0.  0.  1.]\n",
      " [ 1.  1.  1.  1.  1.  1.]]\n",
      "[[ 0.  1.  0.  1.  0.  1.]\n",
      " [ 1.  0.  1.  0.  1.  0.]\n",
      " [ 0.  1.  0.  1.  0.  1.]\n",
      " [ 1.  0.  1.  0.  1.  0.]\n",
      " [ 0.  1.  0.  1.  0.  1.]\n",
      " [ 1.  0.  1.  0.  1.  0.]]\n"
     ]
    }
   ],
   "source": [
    "# 创建一个2维数组，使所有边界上的元素都为1，内部的元素都为0\n",
    "Z = np.ones((6, 6))\n",
    "Z[1:-1, 1:-1] = 0\n",
    "print(Z)\n",
    "\n",
    "# 创建一个跳棋盘布局的数组\n",
    "Z = np.zeros((6, 6))\n",
    "Z[::2,1::2] = 1\n",
    "Z[1::2, ::2] =1\n",
    "print(Z)"
   ]
  },
  {
   "cell_type": "markdown",
   "metadata": {},
   "source": [
    "### 1.5 布尔型索引\n",
    "\n",
    "- 布尔型数组的长度必须跟被索引的轴长度一致。\n",
    "- 可以将布尔型数组跟切片、整数（或整数序列）混合使用"
   ]
  },
  {
   "cell_type": "code",
   "execution_count": 6,
   "metadata": {
    "collapsed": false
   },
   "outputs": [
    {
     "name": "stdout",
     "output_type": "stream",
     "text": [
      "[[ 0.42286617  0.30998478 -0.31831699 -1.35331278]\n",
      " [-0.13421332  0.0221499   0.0670902  -1.03952096]\n",
      " [ 0.08907855 -1.75310949  1.17816816  1.16147521]\n",
      " [-1.28143778  0.48154283 -0.16842682 -1.22729346]\n",
      " [-0.25983256  0.14054863  0.45825513  1.07096256]\n",
      " [ 0.33208552 -0.91572126  0.50263819 -0.41414271]\n",
      " [-0.73465064 -0.20116999  1.72050893  0.12195229]]\n",
      "[ True False False  True False False False]\n",
      "[[ 0.42286617  0.30998478 -0.31831699 -1.35331278]\n",
      " [-1.28143778  0.48154283 -0.16842682 -1.22729346]]\n",
      "[[ 0.42286617  0.30998478]\n",
      " [-1.28143778  0.48154283]]\n"
     ]
    }
   ],
   "source": [
    "name_arr = np.array(['Bob', 'Joe', 'Will', 'Bob', 'Will', 'Joe', 'Joe'])\n",
    "rnd_arr = np.random.randn(7, 4)\n",
    "\n",
    "print(rnd_arr)\n",
    "print(name_arr == 'Bob') # 返回布尔数组，元素等于'Bob'为True，否则False。\n",
    "print(rnd_arr[name_arr == 'Bob']) # 利用布尔数组选择行\n",
    "print(rnd_arr[name_arr == 'Bob', :2]) # 增加限制打印列的范围"
   ]
  },
  {
   "cell_type": "markdown",
   "metadata": {},
   "source": [
    "### 1.6 花式索引\n",
    "\n",
    "- 花式索引（Fancy indexing）是一个NumPy术语，它指的是利用整数数组进行索引。"
   ]
  },
  {
   "cell_type": "code",
   "execution_count": 7,
   "metadata": {
    "collapsed": false
   },
   "outputs": [
    {
     "name": "stdout",
     "output_type": "stream",
     "text": [
      "[[ 0.  0.  0.  0.]\n",
      " [ 1.  1.  1.  1.]\n",
      " [ 2.  2.  2.  2.]\n",
      " [ 3.  3.  3.  3.]\n",
      " [ 4.  4.  4.  4.]\n",
      " [ 5.  5.  5.  5.]\n",
      " [ 6.  6.  6.  6.]\n",
      " [ 7.  7.  7.  7.]]\n",
      "打印arr[4]、arr[3]、arr[0]和arr[6]\n",
      "[[ 4.  4.  4.  4.]\n",
      " [ 3.  3.  3.  3.]\n",
      " [ 0.  0.  0.  0.]\n",
      " [ 6.  6.  6.  6.]]\n",
      "打印arr[1, 0]、arr[5, 3]，arr[7, 1]和arr[2, 2]\n",
      "[ 1.  5.  7.  2.]\n",
      "1572行的0312列\n",
      "[[ 1.  1.  1.  1.]\n",
      " [ 5.  5.  5.  5.]\n",
      " [ 7.  7.  7.  7.]\n",
      " [ 2.  2.  2.  2.]]\n",
      "[[ 1.  1.  1.  1.]\n",
      " [ 5.  5.  5.  5.]\n",
      " [ 7.  7.  7.  7.]\n",
      " [ 2.  2.  2.  2.]]\n"
     ]
    }
   ],
   "source": [
    "arr = np.tile(np.arange(8).reshape(8, -1), (1, 4)).astype(float)\n",
    "print(arr)\n",
    "\n",
    "print('打印arr[4]、arr[3]、arr[0]和arr[6]')\n",
    "print(arr[[4, 3, 0, 6]]) # 打印arr[4]、arr[3]、arr[0]和arr[6]。\n",
    "print('打印arr[1, 0]、arr[5, 3]，arr[7, 1]和arr[2, 2]')\n",
    "print(arr[[1, 5, 7, 2], [0, 3, 1, 2]]) # 打印arr[1, 0]、arr[5, 3]，arr[7, 1]和arr[2, 2]\n",
    "print('1572行的0312列')\n",
    "print(arr[[1, 5, 7, 2]][:, [0, 3, 1, 2]]) # 1572行的0312列\n",
    "print(arr[np.ix_([1, 5, 7, 2], [0, 3, 1, 2])]) # 可读性更好的写法"
   ]
  },
  {
   "cell_type": "markdown",
   "metadata": {},
   "source": [
    "### 1.7 数组转置和轴对换\n",
    "\n",
    "- 转置：`arr.T`比较简单，就是常规的转置，`arr.transpose`可以增加坐标作为参数\n",
    "- 点积：`numpy.dot`\n",
    "- 轴交换：`swapaxes`"
   ]
  },
  {
   "cell_type": "code",
   "execution_count": 10,
   "metadata": {
    "collapsed": false
   },
   "outputs": [
    {
     "name": "stdout",
     "output_type": "stream",
     "text": [
      "转置\n",
      "[[0 3 6]\n",
      " [1 4 7]\n",
      " [2 5 8]]\n",
      "[[0 3 6]\n",
      " [1 4 7]\n",
      " [2 5 8]]\n",
      "\n",
      "reshape\n",
      "[[[ 0  1  2  3]\n",
      "  [ 4  5  6  7]]\n",
      "\n",
      " [[ 8  9 10 11]\n",
      "  [12 13 14 15]]]\n",
      "transpose\n",
      "[[[ 0  1  2  3]\n",
      "  [ 8  9 10 11]]\n",
      "\n",
      " [[ 4  5  6  7]\n",
      "  [12 13 14 15]]]\n",
      "swapaxes\n",
      "[[[ 0  4]\n",
      "  [ 1  5]\n",
      "  [ 2  6]\n",
      "  [ 3  7]]\n",
      "\n",
      " [[ 8 12]\n",
      "  [ 9 13]\n",
      "  [10 14]\n",
      "  [11 15]]]\n"
     ]
    }
   ],
   "source": [
    "Z = np.arange(9).reshape((3, 3))\n",
    "print('转置')\n",
    "print(Z.T)\n",
    "print(Z.transpose())\n",
    "\n",
    "\n",
    "print('')\n",
    "\n",
    "'''\n",
    "详细解释：\n",
    "arr数组的内容为\n",
    "- a[0][0] = [0, 1, 2, 3]\n",
    "- a[0][1] = [4, 5, 6, 7]\n",
    "- a[1][0] = [8, 9, 10, 11]\n",
    "- a[1][1] = [12, 13, 14, 15]\n",
    "transpose的参数为坐标，正常顺序为(0, 1, 2, ... , n - 1)，\n",
    "现在传入的为(1, 0, 2)代表a[x][y][z] = a[y][x][z]，第0个和第1个坐标互换。\n",
    "- a'[0][0] = a[0][0] = [0, 1, 2, 3]\n",
    "- a'[0][1] = a[1][0] = [8, 9, 10, 11]\n",
    "- a'[1][0] = a[0][1] = [4, 5, 6, 7]\n",
    "- a'[1][1] = a[1][1] = [12, 13, 14, 15]\n",
    "'''\n",
    "print('reshape')\n",
    "Z = np.arange(16).reshape((2, 2, 4))\n",
    "print(Z)\n",
    "print('transpose')\n",
    "print(Z.transpose((1, 0, 2)))\n",
    "\n",
    "\n",
    "print('swapaxes')\n",
    "print(Z.swapaxes(1, 2))"
   ]
  },
  {
   "cell_type": "markdown",
   "metadata": {},
   "source": [
    "### 1.8 快速的元素级函数\n",
    "\n",
    "一元函数：\n",
    "\n",
    "- `abs`, `fabs` 计算整数、浮点数或复数的绝对值。对于非复数值，可以使用更快的fabs。\n",
    "- `sqrt` 计算各元素的平方根。相当于arr\\*\\*0.5\n",
    "- `sqare` 计算各元素的平方。相当于arr\\*\\*2\n",
    "- `exp` 计算各元素的e^x\n",
    "- `log`, `log10`, `log2`, `log1p` 分别为自然对数、底数为10的log、底数为2的log和log(1+x)\n",
    "- `sign` 计算各元素的正负号：1（正数）、0（零）、-1（负数）\n",
    "- `ceil` 计算各元素的ceiling值，即大于等于该值的最小整数\n",
    "- `floor` 计算各元素的floor值，即小于等于该值的最小整数\n",
    "- `rint` 将各元素值四舍五入到最接近的整数，保留dtype\n",
    "- `modf` 将数组的小数部分与整数部分以两个独立数组的形式返还\n",
    "- `isnan` 返回一个表示“哪些值时NaN”的布尔型数组\n",
    "- `isfinite`, `isinf` 分别返回一个表示“哪些元素是有限的（非inf，非NaN）”或“哪些元素是无穷的”的布尔型数组\n",
    "- `cos`, `cosh`, `sin`, `sinh`, `tan`, `tanh` 普通型或双曲型三角函数\n",
    "- `arccos`, `arccosh`, `arcsin`, `arcsinh`, `arctan`, `arctanh` 反三角函数\n",
    "- `logical_not` 计算各元素not x的真值，相当于~arr\n",
    "\n",
    "二元函数：\n",
    "\n",
    "- `add` 将数组中对应元素相加\n",
    "- `subtract` 从第一个数组中减去第二个数组中的元素\n",
    "- `multiply` 数组元素相乘\n",
    "- `divide`, `floor_divide` 除法或向下取整除法\n",
    "- `power` 对第一个数组中的元素A和第二个数组中对应位置的元素B，计算A^B\n",
    "- `maximum`, `fmax` 元素级的最大值计算。`fmax`将忽略NaN\n",
    "- `minimum`, `fmin` 元素级的最小值计算。`fmin`将忽略NaN\n",
    "- `mod` 元素级的求模计算\n",
    "- `copysign` 将第二个数组中的符号复制给第一个数组中的值\n",
    "- `greater`, `greater_equal`, `less`, `less_equal`, `equal`, `not_equal` 执行元素级的比较，最终产生布尔型数组\n",
    "- `logical_and`, `logical_or`, `logical_xor` 执行元素级的真值逻辑运算，最终产生布尔型数组\n"
   ]
  },
  {
   "cell_type": "markdown",
   "metadata": {},
   "source": [
    "## 2. 数据处理\n",
    "\n",
    "- NumPy数组使你可以将许多种数据处理任务表述为简洁的数组表达式（否则需要编写循环）。用数组表达式代替循环的做法，通常被称为矢量化。\n",
    "- 矢量化数组运算要比等价的纯Python方式快上一两个数量级\n",
    "\n",
    "### 2.1 将条件逻辑表述为数组运算\n",
    "\n",
    "- `numpy.where` 根据条件来分别从两个数组中选择值。对比下面例子中的“列表推导”方法（速度不够快、无法应用于高维数组）"
   ]
  },
  {
   "cell_type": "code",
   "execution_count": 14,
   "metadata": {
    "collapsed": false
   },
   "outputs": [
    {
     "name": "stdout",
     "output_type": "stream",
     "text": [
      "通过真值表选择元素\n",
      "[1.1000000000000001, 2.2000000000000002, 1.3, 1.3999999999999999, 2.5]\n",
      "[ 1.1  2.2  1.3  1.4  2.5]\n",
      "where嵌套\n",
      "[1, 2, 1, 0, 3]\n",
      "[1 2 1 0 3]\n"
     ]
    }
   ],
   "source": [
    "'''\n",
    "关于zip函数的一点解释，zip可以接受任意多参数，然后重新组合成1个tuple列表。\n",
    "zip([1, 2, 3], [4, 5, 6], [7, 8, 9])\n",
    "返回结果：[(1, 4, 7), (2, 5, 8), (3, 6, 9)]\n",
    "'''\n",
    "print('通过真值表选择元素')\n",
    "x_arr = np.array([1.1, 1.2, 1.3, 1.4, 1.5])\n",
    "y_arr = np.array([2.1, 2.2, 2.3, 2.4, 2.5])\n",
    "cond = np.array([True, False, True, True, False])\n",
    "result = [(x if c else y) for x, y, c in zip(x_arr, y_arr, cond)] # 通过列表推导实现\n",
    "print(result)\n",
    "print(np.where(cond, x_arr, y_arr))  # 使用NumPy的where函数\n",
    "\n",
    "print('where嵌套')\n",
    "cond_1 = np.array([True, False, True, True, False])\n",
    "cond_2 = np.array([False, True, False, True, False])\n",
    "# 传统代码如下\n",
    "result = []\n",
    "for i in range(len(cond)):\n",
    "    if cond_1[i] and cond_2[i]:\n",
    "        result.append(0)\n",
    "    elif cond_1[i]:\n",
    "        result.append(1)\n",
    "    elif cond_2[i]:\n",
    "        result.append(2)\n",
    "    else:\n",
    "        result.append(3)\n",
    "print(result)\n",
    "# np版本代码\n",
    "result = np.where(cond_1 & cond_2, 0, \\\n",
    "          np.where(cond_1, 1, np.where(cond_2, 2, 3)))\n",
    "print(result)"
   ]
  },
  {
   "cell_type": "markdown",
   "metadata": {},
   "source": [
    "### 2.2 数学和统计方法\n",
    "\n",
    "- `sum` 对数组中全部或某轴向的元素求和。零长度的数组的`sum`为0。\n",
    "- `mean` 算数平均数。零长度的数组的mean为NaN。\n",
    "- `std`, `var` 分别为标准差和方差，自由度可调（默认为n）。\n",
    "- `min`, `max` 最大值和最小值\n",
    "- `argmin`, `argmax` 最大值、最小值的索引\n",
    "- `cumsum` 所有元素的累计和\n",
    "- `cumprod` 所有元素的累计积"
   ]
  },
  {
   "cell_type": "code",
   "execution_count": 15,
   "metadata": {
    "collapsed": false
   },
   "outputs": [
    {
     "name": "stdout",
     "output_type": "stream",
     "text": [
      "[[ 0  1  2]\n",
      " [ 3  5  7]\n",
      " [ 9 12 15]]\n",
      "[[  0   0   0]\n",
      " [  3  12  60]\n",
      " [  6  42 336]]\n"
     ]
    }
   ],
   "source": [
    "'''\n",
    "cumsum:\n",
    "- 按列操作：a[i][j] += a[i - 1][j]\n",
    "- 按行操作：a[i][j] *= a[i][j - 1]\n",
    "cumprod:\n",
    "- 按列操作：a[i][j] += a[i - 1][j]\n",
    "- 按行操作：a[i][j] *= a[i][j - 1]\n",
    "'''\n",
    "\n",
    "arr = np.array([[0, 1, 2], [3, 4, 5], [6, 7, 8]])\n",
    "print(arr.cumsum(0))\n",
    "print(arr.cumprod(1))"
   ]
  },
  {
   "cell_type": "markdown",
   "metadata": {},
   "source": [
    "### 2.3 用于布尔型数组的方法\n",
    "\n",
    "- `sum` 对True值求和\n",
    "- `any`， `all` 测试布尔型数组，对于非布尔型数组，所有非0元素将会被当做True"
   ]
  },
  {
   "cell_type": "code",
   "execution_count": 7,
   "metadata": {
    "collapsed": false
   },
   "outputs": [
    {
     "name": "stdout",
     "output_type": "stream",
     "text": [
      "对正数求和\n",
      "41\n",
      "\n",
      "对数组逻辑操作\n",
      "True\n",
      "False\n"
     ]
    }
   ],
   "source": [
    "print('对正数求和')\n",
    "arr = np.random.randn(100)\n",
    "print((arr > 0).sum())\n",
    "print()\n",
    "\n",
    "print('对数组逻辑操作')\n",
    "bools = np.array([False, False, True, False])\n",
    "print(bools.any()) # 有一个为True则返回True\n",
    "print(bools.all()) # 有一个为False则返回False"
   ]
  },
  {
   "cell_type": "markdown",
   "metadata": {},
   "source": [
    "### 2.4 排序\n",
    "\n",
    "- `sort`"
   ]
  },
  {
   "cell_type": "code",
   "execution_count": 9,
   "metadata": {
    "collapsed": false
   },
   "outputs": [
    {
     "name": "stdout",
     "output_type": "stream",
     "text": [
      "一维数组排序\n",
      "[-1.88798454 -1.33638953 -0.42141938 -0.04608526  0.14441075  0.39346946\n",
      "  1.52665623  2.09972977]\n",
      "\n",
      "二维数组排序\n",
      "[[ 0.17461474  0.4211186  -0.67991351]\n",
      " [-0.29591595  0.86198354  1.02935778]\n",
      " [-0.48080538  2.21353449 -0.87515987]\n",
      " [ 1.17343378  0.11057103  0.30526849]\n",
      " [-0.7806683   0.14657662  0.64120193]]\n",
      "[[-0.67991351  0.17461474  0.4211186 ]\n",
      " [-0.29591595  0.86198354  1.02935778]\n",
      " [-0.87515987 -0.48080538  2.21353449]\n",
      " [ 0.11057103  0.30526849  1.17343378]\n",
      " [-0.7806683   0.14657662  0.64120193]]\n",
      "找位置在5%的数字\n",
      "-1.65442330606\n"
     ]
    }
   ],
   "source": [
    "print('一维数组排序')\n",
    "arr = np.random.randn(8)\n",
    "arr.sort()\n",
    "print(arr)\n",
    "print()\n",
    "\n",
    "print('二维数组排序')\n",
    "arr = np.random.randn(5, 3)\n",
    "print(arr)\n",
    "arr.sort(1) # 对每一行元素做排序\n",
    "print(arr)\n",
    "\n",
    "print('找位置在5%的数字')\n",
    "large_arr = np.random.randn(1000)\n",
    "large_arr.sort()\n",
    "print(large_arr[int(0.05 * len(large_arr))])"
   ]
  },
  {
   "cell_type": "markdown",
   "metadata": {},
   "source": [
    "### 2.5 去重以及其它集合运算\n",
    "\n",
    "- `unique(x)` 计算x中的唯一元素，并返回有序结果\n",
    "- `intersect1d(x, y)` 计算x和y中的公共元素，并返回有序结果\n",
    "- `union1d(x, y)` 计算x和y的并集，并返回有序结果\n",
    "- `in1d(x, y)` 得到一个表述【x的元素是否包含于y】的布尔型数组\n",
    "- `setdiff1d(x, y)` 集合的差，即元素在x中且不在y中\n",
    "- `setxor1d(x, y)` 集合的异或，即存在于一个数组中但不同时存在于两个数组中的元素"
   ]
  },
  {
   "cell_type": "markdown",
   "metadata": {},
   "source": [
    "## 3. 数组文件的输入输出\n",
    "\n",
    "- `save`\n",
    "- `load`"
   ]
  },
  {
   "cell_type": "code",
   "execution_count": 12,
   "metadata": {
    "collapsed": false
   },
   "outputs": [
    {
     "name": "stdout",
     "output_type": "stream",
     "text": [
      "数组文件读写\n",
      "[0 1 2 3 4 5 6 7 8 9]\n",
      "\n",
      "多个数组压缩存储\n",
      "[0 1 2 3 4 5 6 7 8 9]\n"
     ]
    }
   ],
   "source": [
    "print('数组文件读写')\n",
    "arr = np.arange(10)\n",
    "np.save('some_array', arr)\n",
    "print(np.load('some_array.npy'))\n",
    "print()\n",
    "\n",
    "print('多个数组压缩存储')\n",
    "np.savez('array_archive.npz', a = arr, b = arr)\n",
    "arch = np.load('array_archive.npz')\n",
    "print(arch['b'])"
   ]
  },
  {
   "cell_type": "markdown",
   "metadata": {},
   "source": [
    "## 4. 线性代数\n",
    "\n",
    "常用的numpy.linalg函数\n",
    "\n",
    "- `diag` 以一维数组的形式返回方针的对角线（或非对角线元素），或将一维数组转换为方针（非对角线元素为0）\n",
    "- `dot` 矩阵乘法\n",
    "- `trace` 迹：对角线元素的和\n",
    "- `det` 计算矩阵行列式\n",
    "- `eig` 计算方阵的特征值和特征向量\n",
    "- `inv` 计算方针的逆\n",
    "- `pinv` 计算矩阵的Moore-Penrose伪逆\n",
    "- `qr` 计算QR分解\n",
    "- `svd` 计算奇异值分解\n",
    "- `solve` 解线性方程Ax=b，其中A为一个方阵\n",
    "- `lstsq` 计算Ax=b的最小二乘解"
   ]
  },
  {
   "cell_type": "code",
   "execution_count": 14,
   "metadata": {
    "collapsed": false
   },
   "outputs": [
    {
     "name": "stdout",
     "output_type": "stream",
     "text": [
      "[[ -4.]\n",
      " [-19.]]\n"
     ]
    }
   ],
   "source": [
    "A = np.array([[5, -1], [4, -1]])\n",
    "b = np.array([[-1], [3]])\n",
    "\n",
    "print(np.linalg.solve(A, b))"
   ]
  },
  {
   "cell_type": "markdown",
   "metadata": {},
   "source": [
    "## 5. 随机数生成\n",
    "\n",
    "部分numpy.random函数：\n",
    "\n",
    "- `seed` 确定随机数生成器的种子\n",
    "- `permutation` 返回一个序列的随机排列或返回一个随机排列\n",
    "- `shuffle` 对一个序列就地随机乱序\n",
    "- `rand` 产生均匀分布的样本值\n",
    "- `randint` 从给定的上下限范围内随机选取整数\n",
    "- `randn` 产生正态分布（平均值为0，标准差为1）\n",
    "- `binomial` 产生二项分布的样本值\n",
    "- `normal` 产生正态（高斯）分布的样本值\n",
    "- `beta` 产生Beta分布的样本值\n",
    "- `chisquare` 产生卡方分布的样本值\n",
    "- `gamma` 产生Gamma分布的样本值\n",
    "- `uniform` 产生在[0,1]中均匀分布的样本值"
   ]
  },
  {
   "cell_type": "markdown",
   "metadata": {},
   "source": [
    "## 6. 高级应用\n",
    "\n",
    "### 6.1 数组重塑\n",
    "\n",
    "- `reshape` -1可以自动推导维度大小\n",
    "\n",
    "### 6.2 数组的合并和拆分\n",
    "\n",
    "数组连接函数：\n",
    "\n",
    "- `concatenate` 最一般化的连接，沿一条轴连接一组数组\n",
    "- `vstack`, `row_stack` 以面向行的方式对数组进行堆叠（沿轴0）\n",
    "- `hstack` 以面向列的方式对数组进行堆叠（沿轴1）\n",
    "- `column_stack` 类似于hstack，但是会先将一维数组转换为二维列向量\n",
    "- `split` 沿指定轴在指定的位置拆分数组\n",
    "- `hsplit`, `vsplit`, `dsplit` split的便捷化函数，分别沿着轴0、轴1和轴2进行拆分\n",
    "\n",
    "`np.r_`，`np.c_`对象也可以用于堆叠\n"
   ]
  },
  {
   "cell_type": "code",
   "execution_count": 26,
   "metadata": {
    "collapsed": false
   },
   "outputs": [
    {
     "name": "stdout",
     "output_type": "stream",
     "text": [
      "连接两个二维数组\n",
      "按行连接\n",
      "[[ 1  2  3]\n",
      " [ 4  5  6]\n",
      " [ 7  8  9]\n",
      " [10 11 12]]\n",
      "按列连接\n",
      "[[ 1  2  3  7  8  9]\n",
      " [ 4  5  6 10 11 12]]\n",
      "垂直stack\n",
      "[[ 1  2  3]\n",
      " [ 4  5  6]\n",
      " [ 7  8  9]\n",
      " [10 11 12]]\n",
      "水平stack\n",
      "[[ 1  2  3  7  8  9]\n",
      " [ 4  5  6 10 11 12]]\n",
      "np.r_对象\n",
      "[[ 1  2  3]\n",
      " [ 4  5  6]\n",
      " [ 7  8  9]\n",
      " [10 11 12]]\n",
      "np.c_对象\n",
      "[[ 1  2  3  7  8  9]\n",
      " [ 4  5  6 10 11 12]]\n"
     ]
    }
   ],
   "source": [
    "print('连接两个二维数组')\n",
    "arr1 = np.array([[1, 2, 3], [4, 5, 6]])\n",
    "arr2 = np.array([[7, 8, 9], [10, 11, 12]])\n",
    "print('按行连接')\n",
    "print(np.concatenate([arr1, arr2], axis=0))\n",
    "print('按列连接')\n",
    "print(np.concatenate([arr1, arr2], axis=1))\n",
    "\n",
    "#stack 堆叠，连接的另一种表述\n",
    "print('垂直stack')\n",
    "print(np.vstack((arr1, arr2)))\n",
    "print('水平stack')\n",
    "print(np.hstack((arr1, arr2)))\n",
    "\n",
    "print('np.r_对象')\n",
    "print(np.r_[arr1, arr2])\n",
    "print('np.c_对象')\n",
    "print(np.c_[arr1, arr2])"
   ]
  },
  {
   "cell_type": "code",
   "execution_count": 24,
   "metadata": {
    "collapsed": false
   },
   "outputs": [
    {
     "name": "stdout",
     "output_type": "stream",
     "text": [
      "[[-0.43827749 -0.67662733 -0.81498567  0.57324931  0.99570958]\n",
      " [-0.98483555 -1.04410492 -0.65013576  0.20371232 -0.56536127]\n",
      " [-1.36585398 -0.03024166  1.1815566  -0.19734044  2.20599002]\n",
      " [ 0.18760113 -0.2752184   0.39400399 -0.3491809   0.83605122]\n",
      " [-0.39674696  1.52657751 -1.17487857 -0.48309105 -0.07165582]]\n",
      "水平拆分\n",
      "first\n",
      "[[-0.43827749 -0.67662733 -0.81498567  0.57324931  0.99570958]]\n",
      "second\n",
      "[[-0.98483555 -1.04410492 -0.65013576  0.20371232 -0.56536127]\n",
      " [-1.36585398 -0.03024166  1.1815566  -0.19734044  2.20599002]]\n",
      "third\n",
      "[[ 0.18760113 -0.2752184   0.39400399 -0.3491809   0.83605122]\n",
      " [-0.39674696  1.52657751 -1.17487857 -0.48309105 -0.07165582]]\n",
      "\n",
      "垂直拆分\n",
      "first\n",
      "[[-0.43827749]\n",
      " [-0.98483555]\n",
      " [-1.36585398]\n",
      " [ 0.18760113]\n",
      " [-0.39674696]]\n",
      "second\n",
      "[[-0.67662733 -0.81498567]\n",
      " [-1.04410492 -0.65013576]\n",
      " [-0.03024166  1.1815566 ]\n",
      " [-0.2752184   0.39400399]\n",
      " [ 1.52657751 -1.17487857]]\n",
      "third\n",
      "[[ 0.57324931  0.99570958]\n",
      " [ 0.20371232 -0.56536127]\n",
      " [-0.19734044  2.20599002]\n",
      " [-0.3491809   0.83605122]\n",
      " [-0.48309105 -0.07165582]]\n",
      "[[ 1  2  3  7  8  9]\n",
      " [ 4  5  6 10 11 12]]\n"
     ]
    }
   ],
   "source": [
    "arr = np.random.randn(5, 5)\n",
    "print(arr)\n",
    "print('水平拆分')\n",
    "first, second, third = np.split(arr, [1, 3], axis=0)\n",
    "print('first')\n",
    "print(first)\n",
    "print('second')\n",
    "print(second)\n",
    "print('third')\n",
    "print(third)\n",
    "\n",
    "print()\n",
    "print('垂直拆分')\n",
    "first, second, third = np.split(arr, [1, 3], axis=1)\n",
    "print('first')\n",
    "print(first)\n",
    "print('second')\n",
    "print(second)\n",
    "print('third')\n",
    "print(third)"
   ]
  },
  {
   "cell_type": "markdown",
   "metadata": {},
   "source": [
    "### 6.3 元素的重复操作\n",
    "\n",
    "- `tile`\n",
    "- `repeat`"
   ]
  },
  {
   "cell_type": "code",
   "execution_count": 30,
   "metadata": {
    "collapsed": false
   },
   "outputs": [
    {
     "name": "stdout",
     "output_type": "stream",
     "text": [
      "Repeat: 按元素\n",
      "[0 0 0 1 1 1 2 2 2]\n",
      "[0 0 1 1 1 2 2 2 2]\n",
      "\n",
      "Repeat，指定轴\n",
      "[[ 0.00581547 -0.86366911]\n",
      " [-1.23159223 -0.04260568]]\n",
      "按行repeat\n",
      "[[ 0.00581547 -0.86366911]\n",
      " [ 0.00581547 -0.86366911]\n",
      " [-1.23159223 -0.04260568]\n",
      " [-1.23159223 -0.04260568]]\n",
      "按列repeat\n",
      "[[ 0.00581547  0.00581547 -0.86366911 -0.86366911]\n",
      " [-1.23159223 -1.23159223 -0.04260568 -0.04260568]]\n",
      "\n",
      "Tile: 参考贴瓷砖\n",
      "[[ 0.00581547 -0.86366911  0.00581547 -0.86366911]\n",
      " [-1.23159223 -0.04260568 -1.23159223 -0.04260568]]\n",
      "[[ 0.00581547 -0.86366911  0.00581547 -0.86366911  0.00581547 -0.86366911]\n",
      " [-1.23159223 -0.04260568 -1.23159223 -0.04260568 -1.23159223 -0.04260568]\n",
      " [ 0.00581547 -0.86366911  0.00581547 -0.86366911  0.00581547 -0.86366911]\n",
      " [-1.23159223 -0.04260568 -1.23159223 -0.04260568 -1.23159223 -0.04260568]]\n"
     ]
    }
   ],
   "source": [
    "print('Repeat: 按元素')\n",
    "arr = np.arange(3)\n",
    "print(arr.repeat(3))\n",
    "print(arr.repeat([2, 3, 4])) # 3个元素，分别复制2, 3, 4次。长度要匹配！\n",
    "print()\n",
    "\n",
    "print('Repeat，指定轴')\n",
    "arr = np.random.randn(2, 2)\n",
    "print(arr)\n",
    "print('按行repeat')\n",
    "print(arr.repeat(2, axis = 0)) # 按行repeat\n",
    "print('按列repeat')\n",
    "print(arr.repeat(2, axis = 1)) # 按列repeat\n",
    "print()\n",
    "\n",
    "print('Tile: 参考贴瓷砖')\n",
    "print(np.tile(arr, 2))\n",
    "print(np.tile(arr, (2, 3)))  # 指定每个轴的tile次数"
   ]
  }
 ],
 "metadata": {
  "kernelspec": {
   "display_name": "Python 3",
   "language": "python",
   "name": "python3"
  },
  "language_info": {
   "codemirror_mode": {
    "name": "ipython",
    "version": 3
   },
   "file_extension": ".py",
   "mimetype": "text/x-python",
   "name": "python",
   "nbconvert_exporter": "python",
   "pygments_lexer": "ipython3",
   "version": "3.5.1"
  }
 },
 "nbformat": 4,
 "nbformat_minor": 2
}
