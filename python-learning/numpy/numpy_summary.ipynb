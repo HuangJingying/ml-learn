{
 "cells": [
  {
   "cell_type": "markdown",
   "metadata": {},
   "source": [
    "# NumPy\n",
    "\n",
    "首先介绍`numpy.info`函数，它用于获取NumPy内函数的帮助："
   ]
  },
  {
   "cell_type": "code",
   "execution_count": 8,
   "metadata": {
    "collapsed": false
   },
   "outputs": [
    {
     "name": "stdout",
     "output_type": "stream",
     "text": [
      "array(object, dtype=None, copy=True, order=None, subok=False, ndmin=0)\n",
      "\n",
      "Create an array.\n",
      "\n",
      "Parameters\n",
      "----------\n",
      "object : array_like\n",
      "    An array, any object exposing the array interface, an\n",
      "    object whose __array__ method returns an array, or any\n",
      "    (nested) sequence.\n",
      "dtype : data-type, optional\n",
      "    The desired data-type for the array.  If not given, then\n",
      "    the type will be determined as the minimum type required\n",
      "    to hold the objects in the sequence.  This argument can only\n",
      "    be used to 'upcast' the array.  For downcasting, use the\n",
      "    .astype(t) method.\n",
      "copy : bool, optional\n",
      "    If true (default), then the object is copied.  Otherwise, a copy\n",
      "    will only be made if __array__ returns a copy, if obj is a\n",
      "    nested sequence, or if a copy is needed to satisfy any of the other\n",
      "    requirements (`dtype`, `order`, etc.).\n",
      "order : {'C', 'F', 'A'}, optional\n",
      "    Specify the order of the array.  If order is 'C', then the array\n",
      "    will be in C-contiguous order (last-index varies the fastest).\n",
      "    If order is 'F', then the returned array will be in\n",
      "    Fortran-contiguous order (first-index varies the fastest).\n",
      "    If order is 'A' (default), then the returned array may be\n",
      "    in any order (either C-, Fortran-contiguous, or even discontiguous),\n",
      "    unless a copy is required, in which case it will be C-contiguous.\n",
      "subok : bool, optional\n",
      "    If True, then sub-classes will be passed-through, otherwise\n",
      "    the returned array will be forced to be a base-class array (default).\n",
      "ndmin : int, optional\n",
      "    Specifies the minimum number of dimensions that the resulting\n",
      "    array should have.  Ones will be pre-pended to the shape as\n",
      "    needed to meet this requirement.\n",
      "\n",
      "Returns\n",
      "-------\n",
      "out : ndarray\n",
      "    An array object satisfying the specified requirements.\n",
      "\n",
      "See Also\n",
      "--------\n",
      "empty, empty_like, zeros, zeros_like, ones, ones_like, fill\n",
      "\n",
      "Examples\n",
      "--------\n",
      ">>> np.array([1, 2, 3])\n",
      "array([1, 2, 3])\n",
      "\n",
      "Upcasting:\n",
      "\n",
      ">>> np.array([1, 2, 3.0])\n",
      "array([ 1.,  2.,  3.])\n",
      "\n",
      "More than one dimension:\n",
      "\n",
      ">>> np.array([[1, 2], [3, 4]])\n",
      "array([[1, 2],\n",
      "       [3, 4]])\n",
      "\n",
      "Minimum dimensions 2:\n",
      "\n",
      ">>> np.array([1, 2, 3], ndmin=2)\n",
      "array([[1, 2, 3]])\n",
      "\n",
      "Type provided:\n",
      "\n",
      ">>> np.array([1, 2, 3], dtype=complex)\n",
      "array([ 1.+0.j,  2.+0.j,  3.+0.j])\n",
      "\n",
      "Data-type consisting of more than one element:\n",
      "\n",
      ">>> x = np.array([(1,2),(3,4)],dtype=[('a','<i4'),('b','<i4')])\n",
      ">>> x['a']\n",
      "array([1, 3])\n",
      "\n",
      "Creating an array from sub-classes:\n",
      "\n",
      ">>> np.array(np.mat('1 2; 3 4'))\n",
      "array([[1, 2],\n",
      "       [3, 4]])\n",
      "\n",
      ">>> np.array(np.mat('1 2; 3 4'), subok=True)\n",
      "matrix([[1, 2],\n",
      "        [3, 4]])\n"
     ]
    }
   ],
   "source": [
    "import numpy as np\n",
    "\n",
    "np.info(np.array)"
   ]
  },
  {
   "cell_type": "markdown",
   "metadata": {},
   "source": [
    "## 1. NumPy的ndarray\n",
    "\n",
    "### 1.1 创建ndarray\n",
    "\n",
    "- `array` 将输入数据（列表、元组、数组或其它序列类型）转换为ndarray。要么推断出dtype，要么显示指定dtype。默认直接复制输入数据。\n",
    "- `asarray` 将输入转换为ndarray，如果输入本身就是一个ndarray就不进行复制。\n",
    "- `arange` 类似于Python内置的`range`，但返回一个ndarray而不是列表。\n",
    "- `ones`, `ones_like` 根据指定形状和dtype创建一个全1的数组。ones_like以另一个数组为参数，并根据其形状和dtype创建一个全1数组。\n",
    "- `zeros`, `zeros_like` 类似于`ones`和`ones_like`，只不过产生的是全0数组而已。\n",
    "- `empty`, `empty_like` 创建数组，只分配内存空间但不填充任何值\n",
    "- `eye`, `identity` 创建对角矩阵、单位矩阵。单位矩阵一定是方阵，但对角矩阵不一定"
   ]
  },
  {
   "cell_type": "code",
   "execution_count": 18,
   "metadata": {
    "collapsed": false
   },
   "outputs": [
    {
     "name": "stdout",
     "output_type": "stream",
     "text": [
      "[ 2  4  1  6 10]\n",
      "[  2.   4.   1.   6.  10.]\n",
      "[[ 1.  0.  0.]\n",
      " [ 0.  1.  0.]\n",
      " [ 0.  0.  1.]]\n"
     ]
    }
   ],
   "source": [
    "Z = np.array([2, 4, 1, 6, 10])\n",
    "print(Z)\n",
    "Z = np.array([2, 4, 1, 6, 10], dtype=float)\n",
    "print(Z)\n",
    "\n",
    "Z = np.eye(3)\n",
    "print(Z)"
   ]
  },
  {
   "cell_type": "markdown",
   "metadata": {},
   "source": [
    "### 1.2 数据类型\n",
    "\n",
    "- `int8`, `uint8` 有/无符号的8位整型\n",
    "- `int16`, `uint16` 有/无符号的16位整型\n",
    "- `int32`, `uint32` 有/无符号的32位整型\n",
    "- `int64`, `uint64` 有/无符号的64位整型\n",
    "- `float16` 半精度浮点数\n",
    "- `float32` 标准的单精度浮点数，与C的float兼容\n",
    "- `float64` 标准的双精度浮点数，与C的double和Python的float兼容\n",
    "- `float128` 扩展精度浮点数\n",
    "- `complex`, `comples64`, `complex128` 分别用128位、64位、128位表示的复数\n",
    "- `bool` 存储True和Flase值的布尔类型\n",
    "- `object` Python对象类型\n",
    "- `string_` 字符串\n",
    "- `unicode_` unicode类型\n",
    "\n",
    "除了创建ndarray时使用`dtype`参数指定数据类型外，可以使用`astype`函数显示的转换类型。\n",
    "\n",
    "`itemsize`函数可以查看数据类型的size。"
   ]
  },
  {
   "cell_type": "code",
   "execution_count": 37,
   "metadata": {
    "collapsed": false
   },
   "outputs": [
    {
     "name": "stdout",
     "output_type": "stream",
     "text": [
      "16\n",
      "8\n"
     ]
    }
   ],
   "source": [
    "Z = np.array([2, 4, 1, 6, 10], dtype=np.complex)\n",
    "print(Z.itemsize)\n",
    "Z = Z.astype(np.complex64)\n",
    "print(Z.itemsize)"
   ]
  },
  {
   "cell_type": "markdown",
   "metadata": {},
   "source": [
    "### 1.3 ndarray与标量的运算\n",
    "\n",
    "- 数组与标量（包括长度为1的数组）的算术运算：将标量值运用到数组的每个元素\n",
    "- 数组与数组：大小相等才能运算，也是运用到数组的每个元素"
   ]
  },
  {
   "cell_type": "code",
   "execution_count": 41,
   "metadata": {
    "collapsed": false
   },
   "outputs": [
    {
     "name": "stdout",
     "output_type": "stream",
     "text": [
      "[ 1.          0.5         0.33333333]\n",
      "[ 3  4 15]\n"
     ]
    }
   ],
   "source": [
    "X = np.array([1, 2, 3])\n",
    "Y = np.array([3, 2, 5])\n",
    "print(1 / X)\n",
    "print(X * Y)"
   ]
  },
  {
   "cell_type": "markdown",
   "metadata": {},
   "source": [
    "### 1.4 索引与切片\n",
    "\n",
    "索引和切片跟Python默认的索引和切片出入不大，其强大之处需要慢慢体会，下面两个例子自己感受下："
   ]
  },
  {
   "cell_type": "code",
   "execution_count": 45,
   "metadata": {
    "collapsed": false
   },
   "outputs": [
    {
     "name": "stdout",
     "output_type": "stream",
     "text": [
      "[[ 1.  1.  1.  1.  1.  1.]\n",
      " [ 1.  0.  0.  0.  0.  1.]\n",
      " [ 1.  0.  0.  0.  0.  1.]\n",
      " [ 1.  0.  0.  0.  0.  1.]\n",
      " [ 1.  0.  0.  0.  0.  1.]\n",
      " [ 1.  1.  1.  1.  1.  1.]]\n",
      "[[ 0.  1.  0.  1.  0.  1.]\n",
      " [ 1.  0.  1.  0.  1.  0.]\n",
      " [ 0.  1.  0.  1.  0.  1.]\n",
      " [ 1.  0.  1.  0.  1.  0.]\n",
      " [ 0.  1.  0.  1.  0.  1.]\n",
      " [ 1.  0.  1.  0.  1.  0.]]\n"
     ]
    }
   ],
   "source": [
    "# 创建一个2维数组，使所有边界上的元素都为1，内部的元素都为0\n",
    "Z = np.ones((6, 6))\n",
    "Z[1:-1, 1:-1] = 0\n",
    "print(Z)\n",
    "\n",
    "# 创建一个跳棋盘布局的数组\n",
    "Z = np.zeros((6, 6))\n",
    "Z[::2,1::2] = 1\n",
    "Z[1::2, ::2] =1\n",
    "print(Z)"
   ]
  },
  {
   "cell_type": "markdown",
   "metadata": {},
   "source": [
    "### 1.5 布尔型索引\n",
    "\n",
    "- 布尔型数组的长度必须跟被索引的轴长度一致。\n",
    "- 可以将布尔型数组跟切片、整数（或整数序列）混合使用"
   ]
  },
  {
   "cell_type": "code",
   "execution_count": 54,
   "metadata": {
    "collapsed": false
   },
   "outputs": [
    {
     "name": "stdout",
     "output_type": "stream",
     "text": [
      "[[ 0.0467935  -2.23240704 -0.84316688 -0.93206582]\n",
      " [ 0.335597   -0.91785137 -0.84906898 -0.34904434]\n",
      " [ 0.88452287 -0.57010837  1.30963692 -0.79191444]\n",
      " [ 0.38402722 -0.58489885  0.69678608  0.23887355]\n",
      " [-0.65352635 -0.57346281  1.61155421  0.62501593]\n",
      " [ 0.16888557  0.3387558   0.05291106  1.07061632]\n",
      " [-1.4870258   0.30384522  1.14928683  1.57219728]]\n",
      "[ True False False  True False False False]\n",
      "[[ 0.0467935  -2.23240704 -0.84316688 -0.93206582]\n",
      " [ 0.38402722 -0.58489885  0.69678608  0.23887355]]\n",
      "[[ 0.0467935  -2.23240704]\n",
      " [ 0.38402722 -0.58489885]]\n"
     ]
    }
   ],
   "source": [
    "name_arr = np.array(['Bob', 'Joe', 'Will', 'Bob', 'Will', 'Joe', 'Joe'])\n",
    "rnd_arr = np.random.randn(7, 4)\n",
    "\n",
    "print(rnd_arr)\n",
    "print(name_arr == 'Bob') # 返回布尔数组，元素等于'Bob'为True，否则False。\n",
    "print(rnd_arr[name_arr == 'Bob']) # 利用布尔数组选择行\n",
    "print(rnd_arr[name_arr == 'Bob', :2]) # 增加限制打印列的范围"
   ]
  },
  {
   "cell_type": "markdown",
   "metadata": {},
   "source": [
    "### 1.6 花式索引\n",
    "\n",
    "- 花式索引（Fancy indexing）是一个NumPy术语，它指的是利用整数数组进行索引。"
   ]
  },
  {
   "cell_type": "code",
   "execution_count": 67,
   "metadata": {
    "collapsed": false
   },
   "outputs": [
    {
     "name": "stdout",
     "output_type": "stream",
     "text": [
      "[[ 0.  0.  0.  0.]\n",
      " [ 1.  1.  1.  1.]\n",
      " [ 2.  2.  2.  2.]\n",
      " [ 3.  3.  3.  3.]\n",
      " [ 4.  4.  4.  4.]\n",
      " [ 5.  5.  5.  5.]\n",
      " [ 6.  6.  6.  6.]\n",
      " [ 7.  7.  7.  7.]]\n",
      "[[ 4.  4.  4.  4.]\n",
      " [ 3.  3.  3.  3.]\n",
      " [ 0.  0.  0.  0.]\n",
      " [ 6.  6.  6.  6.]]\n",
      "[ 1.  5.  7.  2.]\n",
      "[[ 1.  1.  1.  1.]\n",
      " [ 5.  5.  5.  5.]\n",
      " [ 7.  7.  7.  7.]\n",
      " [ 2.  2.  2.  2.]]\n",
      "[[ 1.  1.  1.  1.]\n",
      " [ 5.  5.  5.  5.]\n",
      " [ 7.  7.  7.  7.]\n",
      " [ 2.  2.  2.  2.]]\n"
     ]
    }
   ],
   "source": [
    "arr = np.tile(np.arange(8).reshape(8, -1), (1, 4)).astype(float)\n",
    "print(arr)\n",
    "\n",
    "print(arr[[4, 3, 0, 6]]) # 打印arr[4]、arr[3]、arr[0]和arr[6]。\n",
    "print(arr[[1, 5, 7, 2], [0, 3, 1, 2]]) # 打印arr[1, 0]、arr[5, 3]，arr[7, 1]和arr[2, 2]\n",
    "print(arr[[1, 5, 7, 2]][:, [0, 3, 1, 2]]) # 1572行的0312列\n",
    "print(arr[np.ix_([1, 5, 7, 2], [0, 3, 1, 2])]) # 可读性更好的写法"
   ]
  },
  {
   "cell_type": "markdown",
   "metadata": {},
   "source": [
    "### 1.7 数组转置和轴对换\n",
    "\n",
    "- 转置：`arr.T`比较简单，就是常规的转置，`arr.transpose`可以增加坐标作为参数\n",
    "- 点积：`numpy.dot`\n",
    "- 轴交换：`swapaxes`"
   ]
  },
  {
   "cell_type": "code",
   "execution_count": 86,
   "metadata": {
    "collapsed": false
   },
   "outputs": [
    {
     "name": "stdout",
     "output_type": "stream",
     "text": [
      "[[0 3 6]\n",
      " [1 4 7]\n",
      " [2 5 8]]\n",
      "[[0 3 6]\n",
      " [1 4 7]\n",
      " [2 5 8]]\n",
      "\n",
      "[[[ 0  1  2  3]\n",
      "  [ 4  5  6  7]]\n",
      "\n",
      " [[ 8  9 10 11]\n",
      "  [12 13 14 15]]]\n",
      "[[[ 0  1  2  3]\n",
      "  [ 8  9 10 11]]\n",
      "\n",
      " [[ 4  5  6  7]\n",
      "  [12 13 14 15]]]\n",
      "\n",
      "[[[ 0  4]\n",
      "  [ 1  5]\n",
      "  [ 2  6]\n",
      "  [ 3  7]]\n",
      "\n",
      " [[ 8 12]\n",
      "  [ 9 13]\n",
      "  [10 14]\n",
      "  [11 15]]]\n",
      "15\n"
     ]
    }
   ],
   "source": [
    "Z = np.arange(9).reshape((3, 3))\n",
    "print(Z.T)\n",
    "print(Z.transpose())\n",
    "\n",
    "\n",
    "print('')\n",
    "\n",
    "'''\n",
    "详细解释：\n",
    "arr数组的内容为\n",
    "- a[0][0] = [0, 1, 2, 3]\n",
    "- a[0][1] = [4, 5, 6, 7]\n",
    "- a[1][0] = [8, 9, 10, 11]\n",
    "- a[1][1] = [12, 13, 14, 15]\n",
    "transpose的参数为坐标，正常顺序为(0, 1, 2, ... , n - 1)，\n",
    "现在传入的为(1, 0, 2)代表a[x][y][z] = a[y][x][z]，第0个和第1个坐标互换。\n",
    "- a'[0][0] = a[0][0] = [0, 1, 2, 3]\n",
    "- a'[0][1] = a[1][0] = [8, 9, 10, 11]\n",
    "- a'[1][0] = a[0][1] = [4, 5, 6, 7]\n",
    "- a'[1][1] = a[1][1] = [12, 13, 14, 15]\n",
    "'''\n",
    "Z = np.arange(16).reshape((2, 2, 4))\n",
    "print(Z)\n",
    "print(Z.transpose((1, 0, 2)))\n",
    "\n",
    "\n",
    "print('')\n",
    "print(Z.swapaxes(1, 2))\n",
    "\n",
    "print(Z[1,1,3])"
   ]
  },
  {
   "cell_type": "markdown",
   "metadata": {},
   "source": [
    "### 1.8 快速的元素级函数\n",
    "\n",
    "一元函数：\n",
    "\n",
    "- `abs`, `fabs` 计算整数、浮点数或复数的绝对值。对于非复数值，可以使用更快的fabs。\n",
    "- `sqrt` 计算各元素的平方根。相当于arr\\*\\*0.5\n",
    "- `sqare` 计算各元素的平方。相当于arr\\*\\*2\n",
    "- `exp` 计算各元素的e^x\n",
    "- `log`, `log10`, `log2`, `log1p` 分别为自然对数、底数为10的log、底数为2的log和log(1+x)\n",
    "- `sign` 计算各元素的正负号：1（正数）、0（零）、-1（负数）\n",
    "- `ceil` 计算各元素的ceiling值，即大于等于该值的最小整数\n",
    "- `floor` 计算各元素的floor值，即小于等于该值的最小整数\n",
    "- `rint` 将各元素值四舍五入到最接近的整数，保留dtype\n",
    "- `modf` 将数组的小数部分与整数部分以两个独立数组的形式返还\n",
    "- `isnan` 返回一个表示“哪些值时NaN”的布尔型数组\n",
    "- `isfinite`, `isinf` 分别返回一个表示“哪些元素是有限的（非inf，非NaN）”或“哪些元素是无穷的”的布尔型数组\n",
    "- `cos`, `cosh`, `sin`, `sinh`, `tan`, `tanh` 普通型或双曲型三角函数\n",
    "- `arccos`, `arccosh`, `arcsin`, `arcsinh`, `arctan`, `arctanh` 反三角函数\n",
    "- `logical_not` 计算各元素not x的真值，相当于~arr\n",
    "\n",
    "二元函数：\n",
    "\n",
    "- `add` 将数组中对应元素相加\n",
    "- `subtract` 从第一个数组中减去第二个数组中的元素\n",
    "- `multiply` 数组元素相乘\n",
    "- `divide`, `floor_divide` 除法或向下取整除法\n",
    "- `power` 对第一个数组中的元素A和第二个数组中对应位置的元素B，计算A^B\n",
    "- `maximum`, `fmax` 元素级的最大值计算。`fmax`将忽略NaN\n",
    "- `minimum`, `fmin` 元素级的最小值计算。`fmin`将忽略NaN\n",
    "- `mod` 元素级的求模计算\n",
    "- `copysign` 将第二个数组中的符号复制给第一个数组中的值\n",
    "- `greater`, `greater_equal`, `less`, `less_equal`, `equal`, `not_equal` 执行元素级的比较，最终产生布尔型数组\n",
    "- `logical_and`, `logical_or`, `logical_xor` 执行元素级的真值逻辑运算，最终产生布尔型数组\n"
   ]
  },
  {
   "cell_type": "markdown",
   "metadata": {},
   "source": [
    "## 2. 数据处理\n",
    "\n",
    "- NumPy数组使你可以将许多种数据处理任务表述为简洁的数组表达式（否则需要编写循环）。用数组表达式代替循环的做法，通常被称为矢量化。\n",
    "- 矢量化数组运算要比等价的纯Python方式快上一两个数量级\n",
    "\n",
    "### 2.1 将条件逻辑表述为数组运算\n",
    "\n",
    "- `numpy.where` 根据条件来分别从两个数组中选择值。对比下面例子中的“列表推导”方法（速度不够快、无法应用于高维数组）"
   ]
  },
  {
   "cell_type": "code",
   "execution_count": 89,
   "metadata": {
    "collapsed": false
   },
   "outputs": [
    {
     "name": "stdout",
     "output_type": "stream",
     "text": [
      "[1.1000000000000001, 2.2000000000000002, 1.3, 1.3999999999999999, 2.5]\n",
      "[ 1.1  2.2  1.3  1.4  2.5]\n"
     ]
    }
   ],
   "source": [
    "'''\n",
    "关于zip函数的一点解释，zip可以接受任意多参数，然后重新组合成1个tuple列表。\n",
    "zip([1, 2, 3], [4, 5, 6], [7, 8, 9])\n",
    "返回结果：[(1, 4, 7), (2, 5, 8), (3, 6, 9)]\n",
    "'''\n",
    "print()'通过真值表选择元素'\n",
    "x_arr = np.array([1.1, 1.2, 1.3, 1.4, 1.5])\n",
    "y_arr = np.array([2.1, 2.2, 2.3, 2.4, 2.5])\n",
    "cond = np.array([True, False, True, True, False])\n",
    "result = [(x if c else y) for x, y, c in zip(x_arr, y_arr, cond)] # 通过列表推导实现\n",
    "print(result)\n",
    "print(np.where(cond, x_arr, y_arr))  # 使用NumPy的where函数\n",
    "\n",
    "print 'where嵌套'\n",
    "cond_1 = np.array([True, False, True, True, False])\n",
    "cond_2 = np.array([False, True, False, True, False])\n",
    "# 传统代码如下\n",
    "result = []\n",
    "for i in xrange(len(cond)):\n",
    "    if cond_1[i] and cond_2[i]:\n",
    "        result.append(0)\n",
    "    elif cond_1[i]:\n",
    "        result.append(1)\n",
    "    elif cond_2[i]:\n",
    "        result.append(2)\n",
    "    else:\n",
    "        result.append(3)\n",
    "print result\n",
    "# np版本代码\n",
    "result = np.where(cond_1 & cond_2, 0, \\\n",
    "          np.where(cond_1, 1, np.where(cond_2, 2, 3)))\n",
    "print result"
   ]
  }
 ],
 "metadata": {
  "kernelspec": {
   "display_name": "Python 3",
   "language": "python",
   "name": "python3"
  },
  "language_info": {
   "codemirror_mode": {
    "name": "ipython",
    "version": 3
   },
   "file_extension": ".py",
   "mimetype": "text/x-python",
   "name": "python",
   "nbconvert_exporter": "python",
   "pygments_lexer": "ipython3",
   "version": "3.6.0"
  }
 },
 "nbformat": 4,
 "nbformat_minor": 2
}
