{
 "cells": [
  {
   "cell_type": "markdown",
   "metadata": {},
   "source": [
    "# 垃圾邮件分类\n",
    "\n",
    "数据来源:\n",
    "\n",
    "- [enron_email](http://csmining.org/index.php/enron-spam-datasets.html)\n",
    "- [ling_email](http://csmining.org/index.php/ling-spam-datasets.html)\n",
    "- [CSDMC2010_email](http://csmining.org/index.php/spam-email-datasets-.html)"
   ]
  },
  {
   "cell_type": "code",
   "execution_count": 1,
   "metadata": {
    "collapsed": false
   },
   "outputs": [],
   "source": [
    "import os\n",
    "import sys\n",
    "import re\n",
    "import random\n",
    "import chardet\n",
    "\n",
    "stop_word_list = [\n",
    "    \"a\",\"about\",\"above\",\"after\",\"again\",\"against\",\"all\",\"am\",\"an\",\"and\",\"any\",\"are\",\n",
    "    \"aren't\",\"as\",\"at\",\"be\",\"because\",\"been\",\"before\",\"being\",\"below\",\"between\",\"both\",\n",
    "    \"but\",\"by\",\"can't\",\"cannot\",\"could\",\"couldn't\",\"did\",\"didn't\",\"do\",\"does\",\"doesn't\",\n",
    "    \"doing\",\"don't\",\"down\",\"during\",\"each\",\"few\",\"for\",\"from\",\"further\",\"had\",\"hadn't\",\n",
    "    \"has\",\"hasn't\",\"have\",\"haven't\",\"having\",\"he\",\"he'd\",\"he'll\",\"he's\",\"her\",\"here\",\n",
    "    \"here's\",\"hers\",\"herself\",\"him\",\"himself\",\"his\",\"how\",\"how's\",\"i\",\"i'd\",\"i'll\",\"i'm\",\n",
    "    \"i've\",\"if\",\"in\",\"into\",\"is\",\"isn't\",\"it\",\"it's\",\"its\",\"itself\",\"let's\",\"me\",\"more\",\n",
    "    \"most\",\"mustn't\",\"my\",\"myself\",\"no\",\"nor\",\"not\",\"of\",\"off\",\"on\",\"once\",\"only\",\"or\",\n",
    "    \"other\",\"ought\",\"our\",\"ours\",\"ourselves\",\"out\",\"over\",\"own\",\"same\",\"shan't\",\"she\",\n",
    "    \"she'd\",\"she'll\",\"she's\",\"should\",\"shouldn't\",\"so\",\"some\",\"such\",\"than\",\"that\",\n",
    "    \"that's\",\"the\",\"their\",\"theirs\",\"them\",\"themselves\",\"then\",\"there\",\"there's\",\"these\",\n",
    "    \"they\",\"they'd\",\"they'll\",\"they're\",\"they've\",\"this\",\"those\",\"through\",\"to\",\"too\",\n",
    "    \"under\",\"until\",\"up\",\"very\",\"was\",\"wasn't\",\"we\",\"we'd\",\"we'll\",\"we're\",\"we've\",\"were\",\n",
    "    \"weren't\",\"what\",\"what's\",\"when\",\"when's\",\"where\",\"where's\",\"which\",\"while\",\"who\",\n",
    "    \"who's\",\"whom\",\"why\",\"why's\",\"with\",\"won't\",\"would\",\"wouldn't\",\"you\",\"you'd\",\"you'll\",\n",
    "    \"you're\",\"you've\",\"your\",\"yours\",\"yourself\",\"yourselves\",\"re\",\"subject\"\n",
    "]\n",
    "\n",
    "stop_words = dict(zip(stop_word_list, [1] * len(stop_word_list)))"
   ]
  },
  {
   "cell_type": "markdown",
   "metadata": {},
   "source": [
    "## 基础函数"
   ]
  },
  {
   "cell_type": "code",
   "execution_count": 2,
   "metadata": {
    "collapsed": false
   },
   "outputs": [],
   "source": [
    "def extract_words(text, _stop_words):\n",
    "    \"\"\" 提取邮件中的单词（重复单词只提取一次）\n",
    "\n",
    "    :param text: 邮件正文\n",
    "    :param _stop_words: 停用词\n",
    "    :return: 单词列表\n",
    "    \"\"\"\n",
    "    _words = re.findall('[a-zA-Z\\d]{2,}', text)\n",
    "    _word_set = []\n",
    "    for w in _words:\n",
    "        if w in _stop_words.keys() or re.search('\\d', w):\n",
    "            continue\n",
    "        _word_set.append(w.lower())\n",
    "    _word_set = list(set(_word_set))\n",
    "\n",
    "    return _word_set\n",
    "    \n",
    "    \n",
    "def load_email(filename, _stop_words):\n",
    "    \"\"\" 根据文件名加载邮件\n",
    "    \n",
    "    :param filename: 文件名\n",
    "    :param _stop_words: 停用词\n",
    "    :return: 邮件（用一个单词列表表示）\n",
    "    \"\"\"\n",
    "    with open(filename, \"rb\") as _fp:\n",
    "        ec = chardet.detect(_fp.read())['encoding']\n",
    "    with open(filename, \"r\", encoding=ec) as _fp:\n",
    "        _email = extract_words(_fp.read(), _stop_words)\n",
    "    return _email\n",
    "\n",
    "    \n",
    "def load_data_set(data_name):\n",
    "    \"\"\" 加载数据\n",
    "\n",
    "    :param data_name: 数据名：enron_email, ling_bare_email, CSDMC2010_email\n",
    "    :return: 正常邮件集，垃圾邮件集\n",
    "    \"\"\"\n",
    "    _emails_ham = {}; _emails_spam = {}\n",
    "    for _fn in  os.listdir('./data/%s/ham' % data_name):\n",
    "        if _fn == '.DS_Store':\n",
    "            continue\n",
    "\n",
    "        _email_list = load_email('./data/%s/ham/%s' % (data_name, _fn), stop_words)\n",
    "        if len(_email_list) > 5:\n",
    "            _emails_ham[_fn] = _email_list\n",
    "\n",
    "    for _fn in  os.listdir('./data/%s/spam' % data_name):\n",
    "        if _fn == '.DS_Store':\n",
    "            continue\n",
    "\n",
    "        _email_list = load_email('./data/%s/spam/%s' % (data_name, _fn), stop_words)\n",
    "        if len(_email_list) > 5:\n",
    "            _emails_spam[_fn] = _email_list\n",
    "\n",
    "    return _emails_ham, _emails_spam"
   ]
  },
  {
   "cell_type": "markdown",
   "metadata": {},
   "source": [
    "## 加载enron_email数据作为训练集"
   ]
  },
  {
   "cell_type": "code",
   "execution_count": 3,
   "metadata": {
    "collapsed": false
   },
   "outputs": [
    {
     "name": "stdout",
     "output_type": "stream",
     "text": [
      "16436 16816\n"
     ]
    }
   ],
   "source": [
    "# 加载enron_email数据（较慢，可能需要1分钟）\n",
    "enron_hams, enron_spams = load_data_set('enron_email')\n",
    "print(len(enron_hams), len(enron_spams))"
   ]
  },
  {
   "cell_type": "markdown",
   "metadata": {},
   "source": [
    "## 训练\n",
    "\n",
    "enron_email 数据中取2000个作为测试集，不参与训练"
   ]
  },
  {
   "cell_type": "code",
   "execution_count": 4,
   "metadata": {
    "collapsed": false,
    "scrolled": true
   },
   "outputs": [
    {
     "name": "stdout",
     "output_type": "stream",
     "text": [
      "48326 109119\n",
      "0.4942860579814748\n"
     ]
    }
   ],
   "source": [
    "def word_count(emails, test_fns=[]):\n",
    "    \"\"\" 统计每个单词在邮件中出现的次数\n",
    "\n",
    "    :param emails: 所有邮件\n",
    "    :param test_fns: 测试用例的名字\n",
    "    :return: 单词出现的次数\n",
    "    \"\"\"\n",
    "    _word_count = {}\n",
    "    for _fn in emails:\n",
    "        if _fn in test_fns.keys():\n",
    "            continue  # 排除测试用例\n",
    "        for w in emails[_fn]:\n",
    "            _word_count[w] = _word_count.get(w, 0) + 1\n",
    "    return _word_count\n",
    "\n",
    "\n",
    "def calc(email, _p_y1, _p_xi_y0, _p_xi_y1, _p_xi_y0_not_appear, _p_xi_y1_not_appear, is_use_not_appear=True):\n",
    "    \"\"\" 计算一个邮件是否是垃圾邮件\n",
    "    \n",
    "    :param email: 邮件内容，由单词组成的list\n",
    "    :param _p_y1: 样本中正常邮件所占的比率\n",
    "    :param _p_xi_y0: 每个单词在垃圾邮件中出现的概率\n",
    "    :param _p_xi_y1: 每个单词在正常邮件中出现的概率\n",
    "    :param _p_xi_y0_not_appear: 垃圾邮件中未出现过的词，给一个很小的概率\n",
    "    :param _p_xi_y1_not_appear: 正常邮件中未出现过的词，给一个很小的概率\n",
    "    :param is_use_not_appear: 是否使用未出现过的词，True表示使用\n",
    "    :return: 正常邮件与垃圾邮件概率的比值，大于1表示分类结果是正常邮件\n",
    "    \"\"\"\n",
    "    rate = (_p_y1) / (1.0 - _p_y1)\n",
    "    for w in email:\n",
    "        if is_use_not_appear == False and (w not in _p_xi_y1 or w not in _p_xi_y0):\n",
    "            continue\n",
    "        rate *= _p_xi_y1.get(w, _p_xi_y0_not_appear) / _p_xi_y0.get(w, _p_xi_y1_not_appear)\n",
    "        \n",
    "    return rate\n",
    "\n",
    "\n",
    "# 随机选取测试用例\n",
    "test_spam_count = 2000; test_ham_count = 2000\n",
    "enron_test_ham_fns = dict(zip(random.sample(enron_hams.keys(), test_ham_count), [1] * 2000))\n",
    "enron_test_spam_fns = dict(zip(random.sample(enron_spams.keys(), test_ham_count), [1] * 2000))\n",
    "\n",
    "# 统计每个单词分别在正常邮件、垃圾邮件中出现的次数\n",
    "enron_ham_word_count = word_count(enron_hams, enron_test_ham_fns)\n",
    "enron_spam_word_count = word_count(enron_spams, enron_test_spam_fns)\n",
    "print(len(enron_ham_word_count), len(enron_spam_word_count))\n",
    "\n",
    "# 计算概率\n",
    "p_xi_y0 = {}; p_xi_y1 ={}\n",
    "for w in enron_ham_word_count:\n",
    "    p_xi_y1[w] = (enron_ham_word_count[w] + 1.0) / (len(enron_hams) + 2.0)  # 单词xi在正常邮件中出现的概率\n",
    "for w in enron_spam_word_count:\n",
    "    p_xi_y0[w] = (enron_spam_word_count[w] + 1.0) / (len(enron_spams) + 2.0)  # 单词xi在垃圾邮件中出现的概率\n",
    "p_y1 = float(len(enron_hams)) / float(len(enron_hams) + len(enron_spams))  # 正常邮件的概率\n",
    "p_xi_y1_not_appear = 1.0 / (2.0 + len(enron_spams))  # 拉普拉斯平滑，给未见过的词一个很小的概率\n",
    "p_xi_y0_not_appear = 1.0 / (2.0 + len(enron_hams))  # 拉普拉斯平滑，给未见过的词一个很小的概率\n",
    "\n",
    "print(p_y1)"
   ]
  },
  {
   "cell_type": "markdown",
   "metadata": {},
   "source": [
    "## 测试\n",
    "\n",
    "### enron_email 测试集测试"
   ]
  },
  {
   "cell_type": "code",
   "execution_count": 5,
   "metadata": {
    "collapsed": false
   },
   "outputs": [
    {
     "name": "stdout",
     "output_type": "stream",
     "text": [
      "error ham: 14/2000 (0.70%); error spam: 31/2000 (1.55%)\n",
      "error ham: 18/2000 (0.90%); error spam: 56/2000 (2.80%)\n"
     ]
    }
   ],
   "source": [
    "# 测试\n",
    "err_ham_count = 0; err_spam_count = 0\n",
    "for fn in enron_test_ham_fns:\n",
    "    rate = calc(enron_hams[fn], p_y1, p_xi_y0, p_xi_y1, p_xi_y0_not_appear, p_xi_y1_not_appear)\n",
    "    if rate < 1:\n",
    "        err_ham_count += 1\n",
    "\n",
    "for fn in enron_test_spam_fns:\n",
    "    rate = calc(enron_spams[fn], p_y1, p_xi_y0, p_xi_y1, p_xi_y0_not_appear, p_xi_y1_not_appear)\n",
    "    if rate >= 1:\n",
    "        err_spam_count += 1\n",
    "\n",
    "print('error ham: %s/%s (%.2f%%); error spam: %s/%s (%.2f%%)' % \\\n",
    "      (err_ham_count, test_ham_count, 100.0 * err_ham_count / test_ham_count,\\\n",
    "       err_spam_count, test_spam_count, 100.0 * err_spam_count / test_spam_count))\n",
    "\n",
    "# 忽略没有出现过的单词\n",
    "err_ham_count = 0; err_spam_count = 0\n",
    "for fn in enron_test_ham_fns:\n",
    "    rate = calc(enron_hams[fn], p_y1, p_xi_y0, p_xi_y1, p_xi_y0_not_appear, p_xi_y1_not_appear, False)\n",
    "    if rate < 1:\n",
    "        err_ham_count += 1\n",
    "\n",
    "for fn in enron_test_spam_fns:\n",
    "    rate = calc(enron_spams[fn], p_y1, p_xi_y0, p_xi_y1, p_xi_y0_not_appear, p_xi_y1_not_appear, False)\n",
    "    if rate >= 1:\n",
    "        err_spam_count += 1\n",
    "\n",
    "print('error ham: %s/%s (%.2f%%); error spam: %s/%s (%.2f%%)' % \\\n",
    "      (err_ham_count, test_ham_count, 100.0 * err_ham_count / test_ham_count,\\\n",
    "       err_spam_count, test_spam_count, 100.0 * err_spam_count / test_spam_count))"
   ]
  },
  {
   "cell_type": "markdown",
   "metadata": {},
   "source": [
    "### ling_email 数据作为测试集"
   ]
  },
  {
   "cell_type": "code",
   "execution_count": 6,
   "metadata": {
    "collapsed": false
   },
   "outputs": [
    {
     "name": "stdout",
     "output_type": "stream",
     "text": [
      "2410 481\n"
     ]
    }
   ],
   "source": [
    "# 加载ling_email数据\n",
    "ling_hams, ling_spams = load_data_set('ling_email')\n",
    "print(len(ling_hams), len(ling_spams))"
   ]
  },
  {
   "cell_type": "code",
   "execution_count": 7,
   "metadata": {
    "collapsed": false,
    "scrolled": true
   },
   "outputs": [
    {
     "name": "stdout",
     "output_type": "stream",
     "text": [
      "error ham: 574/2410 (23.82%); error spam: 13/481 (2.70%)\n",
      "error ham: 283/2410 (11.74%); error spam: 14/481 (2.91%)\n"
     ]
    }
   ],
   "source": [
    "# 测试ling_email数据\n",
    "err_ling_ham_count = 0; err_ling_spam_count = 0\n",
    "for fn in ling_hams:\n",
    "    rate = calc(ling_hams[fn], p_y1, p_xi_y0, p_xi_y1, p_xi_y0_not_appear, p_xi_y1_not_appear)\n",
    "    if rate < 1:\n",
    "        err_ling_ham_count += 1\n",
    "\n",
    "for fn in ling_spams:\n",
    "    rate = calc(ling_spams[fn], p_y1, p_xi_y0, p_xi_y1, p_xi_y0_not_appear, p_xi_y1_not_appear)\n",
    "    if rate >= 1:\n",
    "        err_ling_spam_count += 1\n",
    "\n",
    "print('error ham: %s/%s (%.2f%%); error spam: %s/%s (%.2f%%)' % \\\n",
    "      (err_ling_ham_count, len(ling_hams), 100.0 * err_ling_ham_count / len(ling_hams),\\\n",
    "       err_ling_spam_count, len(ling_spams), 100.0 * err_ling_spam_count / len(ling_spams)))\n",
    "\n",
    "# 忽略没有出现过的单词\n",
    "err_ling_ham_count = 0; err_ling_spam_count = 0\n",
    "for fn in ling_hams:\n",
    "    rate = calc(ling_hams[fn], p_y1, p_xi_y0, p_xi_y1, p_xi_y0_not_appear, p_xi_y1_not_appear, False)\n",
    "    if rate < 1:\n",
    "        err_ling_ham_count += 1\n",
    "\n",
    "for fn in ling_spams:\n",
    "    rate = calc(ling_spams[fn], p_y1, p_xi_y0, p_xi_y1, p_xi_y0_not_appear, p_xi_y1_not_appear, False)\n",
    "    if rate >= 1:\n",
    "        err_ling_spam_count += 1\n",
    "\n",
    "print('error ham: %s/%s (%.2f%%); error spam: %s/%s (%.2f%%)' % \\\n",
    "      (err_ling_ham_count, len(ling_hams), 100.0 * err_ling_ham_count / len(ling_hams),\\\n",
    "       err_ling_spam_count, len(ling_spams), 100.0 * err_ling_spam_count / len(ling_spams)))"
   ]
  },
  {
   "cell_type": "markdown",
   "metadata": {},
   "source": [
    "### CSDMC2010_email 数据作为测试集\n",
    "\n",
    "可能正常邮件中有大量的单词在样本中没有出现过，导致正确率不高"
   ]
  },
  {
   "cell_type": "code",
   "execution_count": 8,
   "metadata": {
    "collapsed": false
   },
   "outputs": [
    {
     "name": "stdout",
     "output_type": "stream",
     "text": [
      "2948 1376\n"
     ]
    }
   ],
   "source": [
    "# 加载CSDMC2010_email数据\n",
    "csdmc_hams, csdmc_spams = load_data_set('CSDMC2010_email')\n",
    "print(len(csdmc_hams), len(csdmc_spams))"
   ]
  },
  {
   "cell_type": "code",
   "execution_count": 9,
   "metadata": {
    "collapsed": false
   },
   "outputs": [
    {
     "name": "stdout",
     "output_type": "stream",
     "text": [
      "error ham: 2186/2948 (74.15%); error spam: 2/1376 (0.15%)\n",
      "error ham: 1761/2948 (59.74%); error spam: 14/1376 (1.02%)\n"
     ]
    }
   ],
   "source": [
    "# 测试CSDMC2010_email数据\n",
    "err_csdmc_ham_count = 0; err_csdmc_spam_count = 0\n",
    "for fn in csdmc_hams:\n",
    "    rate = calc(csdmc_hams[fn], p_y1, p_xi_y0, p_xi_y1, p_xi_y0_not_appear, p_xi_y1_not_appear)\n",
    "    if rate < 1:\n",
    "        err_csdmc_ham_count += 1\n",
    "\n",
    "for fn in csdmc_spams:\n",
    "    rate = calc(csdmc_spams[fn], p_y1, p_xi_y0, p_xi_y1, p_xi_y0_not_appear, p_xi_y1_not_appear)\n",
    "    if rate >= 1:\n",
    "        err_csdmc_spam_count += 1\n",
    "\n",
    "print('error ham: %s/%s (%.2f%%); error spam: %s/%s (%.2f%%)' % \\\n",
    "      (err_csdmc_ham_count, len(csdmc_hams), 100.0 * err_csdmc_ham_count / len(csdmc_hams),\\\n",
    "       err_csdmc_spam_count, len(csdmc_spams), 100.0 * err_csdmc_spam_count / len(csdmc_spams)))\n",
    "\n",
    "# 忽略没有出现过的单词\n",
    "err_csdmc_ham_count = 0; err_csdmc_spam_count = 0\n",
    "for fn in csdmc_hams:\n",
    "    rate = calc(csdmc_hams[fn], p_y1, p_xi_y0, p_xi_y1, p_xi_y0_not_appear, p_xi_y1_not_appear, False)\n",
    "    if rate < 1:\n",
    "        err_csdmc_ham_count += 1\n",
    "\n",
    "for fn in csdmc_spams:\n",
    "    rate = calc(csdmc_spams[fn], p_y1, p_xi_y0, p_xi_y1, p_xi_y0_not_appear, p_xi_y1_not_appear, False)\n",
    "    if rate >= 1:\n",
    "        err_csdmc_spam_count += 1\n",
    "\n",
    "print('error ham: %s/%s (%.2f%%); error spam: %s/%s (%.2f%%)' % \\\n",
    "      (err_csdmc_ham_count, len(csdmc_hams), 100.0 * err_csdmc_ham_count / len(csdmc_hams),\\\n",
    "       err_csdmc_spam_count, len(csdmc_spams), 100.0 * err_csdmc_spam_count / len(csdmc_spams)))"
   ]
  }
 ],
 "metadata": {
  "kernelspec": {
   "display_name": "Python [Root]",
   "language": "python",
   "name": "Python [Root]"
  },
  "language_info": {
   "codemirror_mode": {
    "name": "ipython",
    "version": 3
   },
   "file_extension": ".py",
   "mimetype": "text/x-python",
   "name": "python",
   "nbconvert_exporter": "python",
   "pygments_lexer": "ipython3",
   "version": "3.5.2"
  }
 },
 "nbformat": 4,
 "nbformat_minor": 0
}
