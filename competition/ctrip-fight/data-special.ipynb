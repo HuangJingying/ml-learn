{
 "cells": [
  {
   "cell_type": "code",
   "execution_count": 1,
   "metadata": {
    "collapsed": true
   },
   "outputs": [],
   "source": [
    "import pandas as pd\n",
    "import numpy as np\n",
    "import matplotlib.pyplot as plt\n",
    "import seaborn as sns\n",
    "import matplotlib.ticker as ticker\n",
    "\n",
    "from datetime import datetime\n",
    "\n",
    "from IPython.display import display\n",
    "\n",
    "%matplotlib inline\n",
    "\n",
    "sns.set(font=\"simhei\")"
   ]
  },
  {
   "cell_type": "code",
   "execution_count": 2,
   "metadata": {
    "collapsed": false
   },
   "outputs": [
    {
     "data": {
      "text/html": [
       "<div>\n",
       "<style>\n",
       "    .dataframe thead tr:only-child th {\n",
       "        text-align: right;\n",
       "    }\n",
       "\n",
       "    .dataframe thead th {\n",
       "        text-align: left;\n",
       "    }\n",
       "\n",
       "    .dataframe tbody tr th {\n",
       "        vertical-align: top;\n",
       "    }\n",
       "</style>\n",
       "<table border=\"1\" class=\"dataframe\">\n",
       "  <thead>\n",
       "    <tr style=\"text-align: right;\">\n",
       "      <th></th>\n",
       "      <th>Airport</th>\n",
       "      <th>CTime</th>\n",
       "      <th>STime</th>\n",
       "      <th>ETime</th>\n",
       "      <th>Content</th>\n",
       "    </tr>\n",
       "  </thead>\n",
       "  <tbody>\n",
       "    <tr>\n",
       "      <th>0</th>\n",
       "      <td>csx</td>\n",
       "      <td>2015-04-30 19:52:45Z</td>\n",
       "      <td>2015-05-01 12:00:00Z</td>\n",
       "      <td>2015-05-01 16:00:00Z</td>\n",
       "      <td>长沙机场航班延误黄色预警提示：预计明日（5月1日）12:00-16:00长沙黄花机场受雷雨天...</td>\n",
       "    </tr>\n",
       "    <tr>\n",
       "      <th>1</th>\n",
       "      <td>wuh</td>\n",
       "      <td>2015-05-01 08:13:39Z</td>\n",
       "      <td>2015-05-01 08:00:00Z</td>\n",
       "      <td>2015-05-01 12:00:00Z</td>\n",
       "      <td>目前，8时-12时雷雨，期间进出港航班可能受到影响。</td>\n",
       "    </tr>\n",
       "    <tr>\n",
       "      <th>2</th>\n",
       "      <td>khn</td>\n",
       "      <td>2015-05-01 08:14:18Z</td>\n",
       "      <td>2015-05-01 14:00:00Z</td>\n",
       "      <td>2015-05-01 17:00:00Z</td>\n",
       "      <td>预计，14时-17时小雷雨，期间进出港航班可能受到影响。</td>\n",
       "    </tr>\n",
       "    <tr>\n",
       "      <th>3</th>\n",
       "      <td>swa</td>\n",
       "      <td>2015-05-01 08:24:28Z</td>\n",
       "      <td>2015-05-01 13:00:00Z</td>\n",
       "      <td>2015-05-01 17:00:00Z</td>\n",
       "      <td>预计，13时-17时雷雨，期间进出港航班可能受到影响。</td>\n",
       "    </tr>\n",
       "    <tr>\n",
       "      <th>4</th>\n",
       "      <td>zha</td>\n",
       "      <td>2015-05-01 08:24:56Z</td>\n",
       "      <td>2015-05-01 13:00:00Z</td>\n",
       "      <td>2015-05-01 17:00:00Z</td>\n",
       "      <td>预计，13时-17时雷雨，期间进出港航班可能受到影响。</td>\n",
       "    </tr>\n",
       "  </tbody>\n",
       "</table>\n",
       "</div>"
      ],
      "text/plain": [
       "  Airport                 CTime                 STime                 ETime  \\\n",
       "0     csx  2015-04-30 19:52:45Z  2015-05-01 12:00:00Z  2015-05-01 16:00:00Z   \n",
       "1     wuh  2015-05-01 08:13:39Z  2015-05-01 08:00:00Z  2015-05-01 12:00:00Z   \n",
       "2     khn  2015-05-01 08:14:18Z  2015-05-01 14:00:00Z  2015-05-01 17:00:00Z   \n",
       "3     swa  2015-05-01 08:24:28Z  2015-05-01 13:00:00Z  2015-05-01 17:00:00Z   \n",
       "4     zha  2015-05-01 08:24:56Z  2015-05-01 13:00:00Z  2015-05-01 17:00:00Z   \n",
       "\n",
       "                                             Content  \n",
       "0  长沙机场航班延误黄色预警提示：预计明日（5月1日）12:00-16:00长沙黄花机场受雷雨天...  \n",
       "1                         目前，8时-12时雷雨，期间进出港航班可能受到影响。  \n",
       "2                       预计，14时-17时小雷雨，期间进出港航班可能受到影响。  \n",
       "3                        预计，13时-17时雷雨，期间进出港航班可能受到影响。  \n",
       "4                        预计，13时-17时雷雨，期间进出港航班可能受到影响。  "
      ]
     },
     "metadata": {},
     "output_type": "display_data"
    },
    {
     "name": "stdout",
     "output_type": "stream",
     "text": [
      "<class 'pandas.core.frame.DataFrame'>\n",
      "RangeIndex: 15880 entries, 0 to 15879\n",
      "Data columns (total 5 columns):\n",
      "Airport    15877 non-null object\n",
      "CTime      15869 non-null object\n",
      "STime      15869 non-null object\n",
      "ETime      15862 non-null object\n",
      "Content    15868 non-null object\n",
      "dtypes: object(5)\n",
      "memory usage: 620.4+ KB\n"
     ]
    }
   ],
   "source": [
    "train_s = pd.read_csv('input/train/special-case.csv')\n",
    "display(train_s.head())\n",
    "train_s.info()"
   ]
  },
  {
   "cell_type": "markdown",
   "metadata": {},
   "source": [
    "时间后面带Z表示是世界标准时间\n",
    "\n",
    "尝试将时间转出unix时间戳"
   ]
  },
  {
   "cell_type": "code",
   "execution_count": 4,
   "metadata": {
    "collapsed": false
   },
   "outputs": [
    {
     "data": {
      "text/html": [
       "<div>\n",
       "<style>\n",
       "    .dataframe thead tr:only-child th {\n",
       "        text-align: right;\n",
       "    }\n",
       "\n",
       "    .dataframe thead th {\n",
       "        text-align: left;\n",
       "    }\n",
       "\n",
       "    .dataframe tbody tr th {\n",
       "        vertical-align: top;\n",
       "    }\n",
       "</style>\n",
       "<table border=\"1\" class=\"dataframe\">\n",
       "  <thead>\n",
       "    <tr style=\"text-align: right;\">\n",
       "      <th></th>\n",
       "      <th>Airport</th>\n",
       "      <th>CTime</th>\n",
       "      <th>STime</th>\n",
       "      <th>ETime</th>\n",
       "      <th>Content</th>\n",
       "      <th>CTimeStamp</th>\n",
       "    </tr>\n",
       "  </thead>\n",
       "  <tbody>\n",
       "    <tr>\n",
       "      <th>0</th>\n",
       "      <td>csx</td>\n",
       "      <td>2015-04-30 19:52:45Z</td>\n",
       "      <td>2015-05-01 12:00:00Z</td>\n",
       "      <td>2015-05-01 16:00:00Z</td>\n",
       "      <td>长沙机场航班延误黄色预警提示：预计明日（5月1日）12:00-16:00长沙黄花机场受雷雨天...</td>\n",
       "      <td>1430423565</td>\n",
       "    </tr>\n",
       "    <tr>\n",
       "      <th>1</th>\n",
       "      <td>wuh</td>\n",
       "      <td>2015-05-01 08:13:39Z</td>\n",
       "      <td>2015-05-01 08:00:00Z</td>\n",
       "      <td>2015-05-01 12:00:00Z</td>\n",
       "      <td>目前，8时-12时雷雨，期间进出港航班可能受到影响。</td>\n",
       "      <td>1430468019</td>\n",
       "    </tr>\n",
       "    <tr>\n",
       "      <th>2</th>\n",
       "      <td>khn</td>\n",
       "      <td>2015-05-01 08:14:18Z</td>\n",
       "      <td>2015-05-01 14:00:00Z</td>\n",
       "      <td>2015-05-01 17:00:00Z</td>\n",
       "      <td>预计，14时-17时小雷雨，期间进出港航班可能受到影响。</td>\n",
       "      <td>1430468058</td>\n",
       "    </tr>\n",
       "    <tr>\n",
       "      <th>3</th>\n",
       "      <td>swa</td>\n",
       "      <td>2015-05-01 08:24:28Z</td>\n",
       "      <td>2015-05-01 13:00:00Z</td>\n",
       "      <td>2015-05-01 17:00:00Z</td>\n",
       "      <td>预计，13时-17时雷雨，期间进出港航班可能受到影响。</td>\n",
       "      <td>1430468668</td>\n",
       "    </tr>\n",
       "    <tr>\n",
       "      <th>4</th>\n",
       "      <td>zha</td>\n",
       "      <td>2015-05-01 08:24:56Z</td>\n",
       "      <td>2015-05-01 13:00:00Z</td>\n",
       "      <td>2015-05-01 17:00:00Z</td>\n",
       "      <td>预计，13时-17时雷雨，期间进出港航班可能受到影响。</td>\n",
       "      <td>1430468696</td>\n",
       "    </tr>\n",
       "  </tbody>\n",
       "</table>\n",
       "</div>"
      ],
      "text/plain": [
       "  Airport                 CTime                 STime                 ETime  \\\n",
       "0     csx  2015-04-30 19:52:45Z  2015-05-01 12:00:00Z  2015-05-01 16:00:00Z   \n",
       "1     wuh  2015-05-01 08:13:39Z  2015-05-01 08:00:00Z  2015-05-01 12:00:00Z   \n",
       "2     khn  2015-05-01 08:14:18Z  2015-05-01 14:00:00Z  2015-05-01 17:00:00Z   \n",
       "3     swa  2015-05-01 08:24:28Z  2015-05-01 13:00:00Z  2015-05-01 17:00:00Z   \n",
       "4     zha  2015-05-01 08:24:56Z  2015-05-01 13:00:00Z  2015-05-01 17:00:00Z   \n",
       "\n",
       "                                             Content  CTimeStamp  \n",
       "0  长沙机场航班延误黄色预警提示：预计明日（5月1日）12:00-16:00长沙黄花机场受雷雨天...  1430423565  \n",
       "1                         目前，8时-12时雷雨，期间进出港航班可能受到影响。  1430468019  \n",
       "2                       预计，14时-17时小雷雨，期间进出港航班可能受到影响。  1430468058  \n",
       "3                        预计，13时-17时雷雨，期间进出港航班可能受到影响。  1430468668  \n",
       "4                        预计，13时-17时雷雨，期间进出港航班可能受到影响。  1430468696  "
      ]
     },
     "execution_count": 4,
     "metadata": {},
     "output_type": "execute_result"
    }
   ],
   "source": [
    "train_s['CTimeStamp'] = pd.to_datetime(train_s['CTime']).astype(np.int64) // 10 ** 9\n",
    "train_s.head()"
   ]
  },
  {
   "cell_type": "code",
   "execution_count": 6,
   "metadata": {
    "collapsed": false
   },
   "outputs": [
    {
     "name": "stdout",
     "output_type": "stream",
     "text": [
      "2015-04-30 19:52:45\n"
     ]
    }
   ],
   "source": [
    "print(pd.to_datetime('1430423565', unit='s'))\n",
    "#这个时间戳并不是北京时间"
   ]
  },
  {
   "cell_type": "code",
   "execution_count": null,
   "metadata": {
    "collapsed": true
   },
   "outputs": [],
   "source": []
  }
 ],
 "metadata": {
  "kernelspec": {
   "display_name": "Python 3",
   "language": "python",
   "name": "python3"
  },
  "language_info": {
   "codemirror_mode": {
    "name": "ipython",
    "version": 3
   },
   "file_extension": ".py",
   "mimetype": "text/x-python",
   "name": "python",
   "nbconvert_exporter": "python",
   "pygments_lexer": "ipython3",
   "version": "3.5.1"
  }
 },
 "nbformat": 4,
 "nbformat_minor": 0
}
