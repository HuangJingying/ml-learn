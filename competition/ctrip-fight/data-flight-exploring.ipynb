{
 "cells": [
  {
   "cell_type": "markdown",
   "metadata": {},
   "source": [
    "航班数据的处理和简单分析"
   ]
  },
  {
   "cell_type": "code",
   "execution_count": 2,
   "metadata": {
    "collapsed": true
   },
   "outputs": [],
   "source": [
    "import pandas as pd\n",
    "import numpy as np\n",
    "import matplotlib.pyplot as plt\n",
    "import seaborn as sns\n",
    "import matplotlib.ticker as ticker\n",
    "\n",
    "from datetime import datetime\n",
    "\n",
    "from IPython.display import display\n",
    "\n",
    "%matplotlib inline\n",
    "\n",
    "sns.set(font=\"simhei\")"
   ]
  },
  {
   "cell_type": "markdown",
   "metadata": {},
   "source": [
    "## 读取数据\n",
    "\n",
    "读取原始数据，原始文件名是中文，手动改成了英文。"
   ]
  },
  {
   "cell_type": "code",
   "execution_count": 3,
   "metadata": {
    "collapsed": false
   },
   "outputs": [
    {
     "data": {
      "text/html": [
       "<div>\n",
       "<style>\n",
       "    .dataframe thead tr:only-child th {\n",
       "        text-align: right;\n",
       "    }\n",
       "\n",
       "    .dataframe thead th {\n",
       "        text-align: left;\n",
       "    }\n",
       "\n",
       "    .dataframe tbody tr th {\n",
       "        vertical-align: top;\n",
       "    }\n",
       "</style>\n",
       "<table border=\"1\" class=\"dataframe\">\n",
       "  <thead>\n",
       "    <tr style=\"text-align: right;\">\n",
       "      <th></th>\n",
       "      <th>出发机场</th>\n",
       "      <th>到达机场</th>\n",
       "      <th>航班编号</th>\n",
       "      <th>计划起飞时间</th>\n",
       "      <th>计划到达时间</th>\n",
       "      <th>实际起飞时间</th>\n",
       "      <th>实际到达时间</th>\n",
       "      <th>飞机编号</th>\n",
       "      <th>航班是否取消</th>\n",
       "    </tr>\n",
       "  </thead>\n",
       "  <tbody>\n",
       "    <tr>\n",
       "      <th>0</th>\n",
       "      <td>HGH</td>\n",
       "      <td>DLC</td>\n",
       "      <td>CZ6328</td>\n",
       "      <td>1453809600</td>\n",
       "      <td>1453817100</td>\n",
       "      <td>1.453813e+09</td>\n",
       "      <td>1.453819e+09</td>\n",
       "      <td>1.0</td>\n",
       "      <td>正常</td>\n",
       "    </tr>\n",
       "    <tr>\n",
       "      <th>1</th>\n",
       "      <td>SHA</td>\n",
       "      <td>XMN</td>\n",
       "      <td>FM9261</td>\n",
       "      <td>1452760800</td>\n",
       "      <td>1452767100</td>\n",
       "      <td>1.452763e+09</td>\n",
       "      <td>1.452768e+09</td>\n",
       "      <td>2.0</td>\n",
       "      <td>正常</td>\n",
       "    </tr>\n",
       "    <tr>\n",
       "      <th>2</th>\n",
       "      <td>CAN</td>\n",
       "      <td>WNZ</td>\n",
       "      <td>ZH9597</td>\n",
       "      <td>1453800900</td>\n",
       "      <td>1453807500</td>\n",
       "      <td>1.453802e+09</td>\n",
       "      <td>1.453807e+09</td>\n",
       "      <td>3.0</td>\n",
       "      <td>正常</td>\n",
       "    </tr>\n",
       "    <tr>\n",
       "      <th>3</th>\n",
       "      <td>SHA</td>\n",
       "      <td>ZUH</td>\n",
       "      <td>9C8819</td>\n",
       "      <td>1452120600</td>\n",
       "      <td>1452131100</td>\n",
       "      <td>1.452121e+09</td>\n",
       "      <td>1.452130e+09</td>\n",
       "      <td>4.0</td>\n",
       "      <td>正常</td>\n",
       "    </tr>\n",
       "    <tr>\n",
       "      <th>4</th>\n",
       "      <td>SHE</td>\n",
       "      <td>TAO</td>\n",
       "      <td>TZ185</td>\n",
       "      <td>1452399000</td>\n",
       "      <td>1452406800</td>\n",
       "      <td>1.452400e+09</td>\n",
       "      <td>1.452404e+09</td>\n",
       "      <td>5.0</td>\n",
       "      <td>正常</td>\n",
       "    </tr>\n",
       "  </tbody>\n",
       "</table>\n",
       "</div>"
      ],
      "text/plain": [
       "  出发机场 到达机场    航班编号      计划起飞时间      计划到达时间        实际起飞时间        实际到达时间  飞机编号  \\\n",
       "0  HGH  DLC  CZ6328  1453809600  1453817100  1.453813e+09  1.453819e+09   1.0   \n",
       "1  SHA  XMN  FM9261  1452760800  1452767100  1.452763e+09  1.452768e+09   2.0   \n",
       "2  CAN  WNZ  ZH9597  1453800900  1453807500  1.453802e+09  1.453807e+09   3.0   \n",
       "3  SHA  ZUH  9C8819  1452120600  1452131100  1.452121e+09  1.452130e+09   4.0   \n",
       "4  SHE  TAO   TZ185  1452399000  1452406800  1.452400e+09  1.452404e+09   5.0   \n",
       "\n",
       "  航班是否取消  \n",
       "0     正常  \n",
       "1     正常  \n",
       "2     正常  \n",
       "3     正常  \n",
       "4     正常  "
      ]
     },
     "metadata": {},
     "output_type": "display_data"
    }
   ],
   "source": [
    "train_f = pd.read_csv('input/train/raw/fight-201505-201705.csv', encoding='gb2312', low_memory=False)\n",
    "\n",
    "display(train_f.head())"
   ]
  },
  {
   "cell_type": "code",
   "execution_count": 4,
   "metadata": {
    "collapsed": false
   },
   "outputs": [
    {
     "data": {
      "text/html": [
       "<div>\n",
       "<style>\n",
       "    .dataframe thead tr:only-child th {\n",
       "        text-align: right;\n",
       "    }\n",
       "\n",
       "    .dataframe thead th {\n",
       "        text-align: left;\n",
       "    }\n",
       "\n",
       "    .dataframe tbody tr th {\n",
       "        vertical-align: top;\n",
       "    }\n",
       "</style>\n",
       "<table border=\"1\" class=\"dataframe\">\n",
       "  <thead>\n",
       "    <tr style=\"text-align: right;\">\n",
       "      <th></th>\n",
       "      <th>Departure</th>\n",
       "      <th>Destination</th>\n",
       "      <th>FLTNo</th>\n",
       "      <th>PDepartureTime</th>\n",
       "      <th>PArrivalTime</th>\n",
       "      <th>ADepartureTime</th>\n",
       "      <th>AArrivalTime</th>\n",
       "      <th>Id</th>\n",
       "      <th>Cancel</th>\n",
       "    </tr>\n",
       "  </thead>\n",
       "  <tbody>\n",
       "    <tr>\n",
       "      <th>0</th>\n",
       "      <td>HGH</td>\n",
       "      <td>DLC</td>\n",
       "      <td>CZ6328</td>\n",
       "      <td>1453809600</td>\n",
       "      <td>1453817100</td>\n",
       "      <td>1.453813e+09</td>\n",
       "      <td>1.453819e+09</td>\n",
       "      <td>1.0</td>\n",
       "      <td>正常</td>\n",
       "    </tr>\n",
       "    <tr>\n",
       "      <th>1</th>\n",
       "      <td>SHA</td>\n",
       "      <td>XMN</td>\n",
       "      <td>FM9261</td>\n",
       "      <td>1452760800</td>\n",
       "      <td>1452767100</td>\n",
       "      <td>1.452763e+09</td>\n",
       "      <td>1.452768e+09</td>\n",
       "      <td>2.0</td>\n",
       "      <td>正常</td>\n",
       "    </tr>\n",
       "    <tr>\n",
       "      <th>2</th>\n",
       "      <td>CAN</td>\n",
       "      <td>WNZ</td>\n",
       "      <td>ZH9597</td>\n",
       "      <td>1453800900</td>\n",
       "      <td>1453807500</td>\n",
       "      <td>1.453802e+09</td>\n",
       "      <td>1.453807e+09</td>\n",
       "      <td>3.0</td>\n",
       "      <td>正常</td>\n",
       "    </tr>\n",
       "    <tr>\n",
       "      <th>3</th>\n",
       "      <td>SHA</td>\n",
       "      <td>ZUH</td>\n",
       "      <td>9C8819</td>\n",
       "      <td>1452120600</td>\n",
       "      <td>1452131100</td>\n",
       "      <td>1.452121e+09</td>\n",
       "      <td>1.452130e+09</td>\n",
       "      <td>4.0</td>\n",
       "      <td>正常</td>\n",
       "    </tr>\n",
       "    <tr>\n",
       "      <th>4</th>\n",
       "      <td>SHE</td>\n",
       "      <td>TAO</td>\n",
       "      <td>TZ185</td>\n",
       "      <td>1452399000</td>\n",
       "      <td>1452406800</td>\n",
       "      <td>1.452400e+09</td>\n",
       "      <td>1.452404e+09</td>\n",
       "      <td>5.0</td>\n",
       "      <td>正常</td>\n",
       "    </tr>\n",
       "  </tbody>\n",
       "</table>\n",
       "</div>"
      ],
      "text/plain": [
       "  Departure Destination   FLTNo  PDepartureTime  PArrivalTime  ADepartureTime  \\\n",
       "0       HGH         DLC  CZ6328      1453809600    1453817100    1.453813e+09   \n",
       "1       SHA         XMN  FM9261      1452760800    1452767100    1.452763e+09   \n",
       "2       CAN         WNZ  ZH9597      1453800900    1453807500    1.453802e+09   \n",
       "3       SHA         ZUH  9C8819      1452120600    1452131100    1.452121e+09   \n",
       "4       SHE         TAO   TZ185      1452399000    1452406800    1.452400e+09   \n",
       "\n",
       "   AArrivalTime   Id Cancel  \n",
       "0  1.453819e+09  1.0     正常  \n",
       "1  1.452768e+09  2.0     正常  \n",
       "2  1.453807e+09  3.0     正常  \n",
       "3  1.452130e+09  4.0     正常  \n",
       "4  1.452404e+09  5.0     正常  "
      ]
     },
     "execution_count": 4,
     "metadata": {},
     "output_type": "execute_result"
    }
   ],
   "source": [
    "train_f.columns = ['Departure', 'Destination', 'FLTNo', 'PDepartureTime', 'PArrivalTime', 'ADepartureTime', 'AArrivalTime', 'Id', 'Cancel']\n",
    "\n",
    "train_f.head()"
   ]
  },
  {
   "cell_type": "markdown",
   "metadata": {},
   "source": [
    "## 减少内存占用\n",
    "\n",
    "默认int和float都是64位的，我们可以适当使用更小的数据结构来存储。Cancel默认是object，它其实只有两个值，也可以转换。"
   ]
  },
  {
   "cell_type": "code",
   "execution_count": 5,
   "metadata": {
    "collapsed": false
   },
   "outputs": [
    {
     "name": "stdout",
     "output_type": "stream",
     "text": [
      "<class 'pandas.core.frame.DataFrame'>\n",
      "RangeIndex: 7518638 entries, 0 to 7518637\n",
      "Data columns (total 9 columns):\n",
      "Departure         object\n",
      "Destination       object\n",
      "FLTNo             object\n",
      "PDepartureTime    int64\n",
      "PArrivalTime      int64\n",
      "ADepartureTime    float64\n",
      "AArrivalTime      float64\n",
      "Id                float64\n",
      "Cancel            object\n",
      "dtypes: float64(3), int64(2), object(4)\n",
      "memory usage: 516.3+ MB\n"
     ]
    }
   ],
   "source": [
    "train_f.info()"
   ]
  },
  {
   "cell_type": "markdown",
   "metadata": {},
   "source": [
    "查看uint32，确认它能够保存我们的时间戳"
   ]
  },
  {
   "cell_type": "code",
   "execution_count": 6,
   "metadata": {
    "collapsed": false
   },
   "outputs": [
    {
     "name": "stdout",
     "output_type": "stream",
     "text": [
      "Machine parameters for uint32\n",
      "---------------------------------------------------------------\n",
      "min = 0\n",
      "max = 4294967295\n",
      "---------------------------------------------------------------\n",
      "\n",
      "Machine parameters for uint16\n",
      "---------------------------------------------------------------\n",
      "min = 0\n",
      "max = 65535\n",
      "---------------------------------------------------------------\n",
      "\n"
     ]
    }
   ],
   "source": [
    "import numpy as np\n",
    "int_types = [\"uint32\", \"uint16\"]\n",
    "for it in int_types:\n",
    "    print(np.iinfo(it))"
   ]
  },
  {
   "cell_type": "markdown",
   "metadata": {},
   "source": [
    "### PDepartureTime、PArrivalTime\n",
    "\n",
    "PDepartureTime、PArrivalTime转换为uint32"
   ]
  },
  {
   "cell_type": "code",
   "execution_count": 7,
   "metadata": {
    "collapsed": false
   },
   "outputs": [
    {
     "name": "stdout",
     "output_type": "stream",
     "text": [
      "57.36 MB\n",
      "28.68 MB\n"
     ]
    }
   ],
   "source": [
    "def mem_usage(pandas_obj):\n",
    "    if isinstance(pandas_obj,pd.DataFrame):\n",
    "        usage_b = pandas_obj.memory_usage(deep=True).sum()\n",
    "    else: # we assume if not a df it's a series\n",
    "        usage_b = pandas_obj.memory_usage(deep=True)\n",
    "    usage_mb = usage_b / 1024 ** 2 # convert bytes to megabytes\n",
    "    return \"{:03.2f} MB\".format(usage_mb)\n",
    "\n",
    "print(mem_usage(train_f['PDepartureTime']))\n",
    "train_f['PDepartureTime'] = pd.to_numeric(train_f['PDepartureTime'], downcast='unsigned')\n",
    "print(mem_usage(train_f['PDepartureTime']))"
   ]
  },
  {
   "cell_type": "code",
   "execution_count": 8,
   "metadata": {
    "collapsed": false
   },
   "outputs": [
    {
     "name": "stdout",
     "output_type": "stream",
     "text": [
      "57.36 MB\n",
      "28.68 MB\n"
     ]
    }
   ],
   "source": [
    "print(mem_usage(train_f['PArrivalTime']))\n",
    "train_f['PArrivalTime'] = pd.to_numeric(train_f['PArrivalTime'], downcast='unsigned')\n",
    "print(mem_usage(train_f['PArrivalTime']))"
   ]
  },
  {
   "cell_type": "markdown",
   "metadata": {},
   "source": [
    "### ADepartureTime、AArrivalTime\n",
    "\n",
    "ADepartureTime、AArrivalTime都有Null，需要先填0，然后再转成uint32。其实它俩可以转成float32，与unit32占用的内存是一样的，但后面的Id可以使用uint16（Null值填0），所以这里也这样处理。"
   ]
  },
  {
   "cell_type": "code",
   "execution_count": 9,
   "metadata": {
    "collapsed": false
   },
   "outputs": [
    {
     "name": "stdout",
     "output_type": "stream",
     "text": [
      "57.36 MB\n",
      "28.68 MB\n"
     ]
    }
   ],
   "source": [
    "print(mem_usage(train_f['ADepartureTime']))\n",
    "train_f['ADepartureTime'] = train_f['ADepartureTime'].fillna(0).astype(int)\n",
    "\n",
    "train_f['ADepartureTime'] = pd.to_numeric(train_f['ADepartureTime'], downcast='unsigned')\n",
    "print(mem_usage(train_f['ADepartureTime']))"
   ]
  },
  {
   "cell_type": "code",
   "execution_count": 10,
   "metadata": {
    "collapsed": false
   },
   "outputs": [
    {
     "name": "stdout",
     "output_type": "stream",
     "text": [
      "57.36 MB\n",
      "28.68 MB\n"
     ]
    }
   ],
   "source": [
    "print(mem_usage(train_f['AArrivalTime']))\n",
    "train_f['AArrivalTime'] = train_f['AArrivalTime'].fillna(0).astype(int)\n",
    "\n",
    "train_f['AArrivalTime'] = pd.to_numeric(train_f['AArrivalTime'], downcast='unsigned')\n",
    "print(mem_usage(train_f['AArrivalTime']))"
   ]
  },
  {
   "cell_type": "markdown",
   "metadata": {},
   "source": [
    "### Id\n",
    "\n",
    "Null填零，使用uint16类型"
   ]
  },
  {
   "cell_type": "code",
   "execution_count": 11,
   "metadata": {
    "collapsed": false
   },
   "outputs": [
    {
     "name": "stdout",
     "output_type": "stream",
     "text": [
      "57.36 MB\n",
      "14.34 MB\n"
     ]
    }
   ],
   "source": [
    "print(mem_usage(train_f['Id']))\n",
    "train_f['Id'] = train_f['Id'].fillna(0).astype(int)\n",
    "\n",
    "train_f['Id'] = pd.to_numeric(train_f['Id'], downcast='unsigned')\n",
    "print(mem_usage(train_f['Id']))"
   ]
  },
  {
   "cell_type": "markdown",
   "metadata": {},
   "source": [
    "### Cancel\n",
    "\n",
    "Cancel是二值标签，转uint8就OK了。"
   ]
  },
  {
   "cell_type": "code",
   "execution_count": 12,
   "metadata": {
    "collapsed": false
   },
   "outputs": [
    {
     "name": "stdout",
     "output_type": "stream",
     "text": [
      "616.65 MB\n",
      "57.36 MB\n",
      "7.17 MB\n"
     ]
    }
   ],
   "source": [
    "print(mem_usage(train_f['Cancel']))\n",
    "train_f['Cancel'] = train_f['Cancel'].map({'正常': 0, '取消': 1})\n",
    "print(mem_usage(train_f['Cancel']))\n",
    "train_f['Cancel'] = pd.to_numeric(train_f['Cancel'], downcast='unsigned')\n",
    "print(mem_usage(train_f['Cancel']))"
   ]
  },
  {
   "cell_type": "code",
   "execution_count": 13,
   "metadata": {
    "collapsed": false
   },
   "outputs": [
    {
     "name": "stdout",
     "output_type": "stream",
     "text": [
      "<class 'pandas.core.frame.DataFrame'>\n",
      "RangeIndex: 7518638 entries, 0 to 7518637\n",
      "Data columns (total 9 columns):\n",
      "Departure         object\n",
      "Destination       object\n",
      "FLTNo             object\n",
      "PDepartureTime    uint32\n",
      "PArrivalTime      uint32\n",
      "ADepartureTime    uint32\n",
      "AArrivalTime      uint32\n",
      "Id                uint16\n",
      "Cancel            uint8\n",
      "dtypes: object(3), uint16(1), uint32(4), uint8(1)\n",
      "memory usage: 308.3+ MB\n"
     ]
    }
   ],
   "source": [
    "train_f.info()"
   ]
  },
  {
   "cell_type": "markdown",
   "metadata": {},
   "source": [
    "内存减少的效果还是比较明显的， 减少了200M+的内存占用。"
   ]
  },
  {
   "cell_type": "markdown",
   "metadata": {},
   "source": [
    "## 时间戳\n",
    "\n",
    "我们以最大的计划起飞时间为样例，来探索一下时间戳有关的问题。"
   ]
  },
  {
   "cell_type": "code",
   "execution_count": 14,
   "metadata": {
    "collapsed": false
   },
   "outputs": [
    {
     "data": {
      "text/html": [
       "<div>\n",
       "<style>\n",
       "    .dataframe thead tr:only-child th {\n",
       "        text-align: right;\n",
       "    }\n",
       "\n",
       "    .dataframe thead th {\n",
       "        text-align: left;\n",
       "    }\n",
       "\n",
       "    .dataframe tbody tr th {\n",
       "        vertical-align: top;\n",
       "    }\n",
       "</style>\n",
       "<table border=\"1\" class=\"dataframe\">\n",
       "  <thead>\n",
       "    <tr style=\"text-align: right;\">\n",
       "      <th></th>\n",
       "      <th>Departure</th>\n",
       "      <th>Destination</th>\n",
       "      <th>FLTNo</th>\n",
       "      <th>PDepartureTime</th>\n",
       "      <th>PArrivalTime</th>\n",
       "      <th>ADepartureTime</th>\n",
       "      <th>AArrivalTime</th>\n",
       "      <th>Id</th>\n",
       "      <th>Cancel</th>\n",
       "    </tr>\n",
       "  </thead>\n",
       "  <tbody>\n",
       "    <tr>\n",
       "      <th>4906881</th>\n",
       "      <td>DYG</td>\n",
       "      <td>XIY</td>\n",
       "      <td>MU2432</td>\n",
       "      <td>1496246100</td>\n",
       "      <td>1496252100</td>\n",
       "      <td>1496246100</td>\n",
       "      <td>1496250180</td>\n",
       "      <td>1511</td>\n",
       "      <td>0</td>\n",
       "    </tr>\n",
       "    <tr>\n",
       "      <th>4924435</th>\n",
       "      <td>CSX</td>\n",
       "      <td>NKG</td>\n",
       "      <td>MU2746</td>\n",
       "      <td>1496246100</td>\n",
       "      <td>1496251800</td>\n",
       "      <td>1496245980</td>\n",
       "      <td>1496250300</td>\n",
       "      <td>2110</td>\n",
       "      <td>0</td>\n",
       "    </tr>\n",
       "    <tr>\n",
       "      <th>4928507</th>\n",
       "      <td>URC</td>\n",
       "      <td>AKU</td>\n",
       "      <td>CZ6920</td>\n",
       "      <td>1496246100</td>\n",
       "      <td>1496250900</td>\n",
       "      <td>1496246580</td>\n",
       "      <td>1496250120</td>\n",
       "      <td>2902</td>\n",
       "      <td>0</td>\n",
       "    </tr>\n",
       "    <tr>\n",
       "      <th>4933127</th>\n",
       "      <td>JIQ</td>\n",
       "      <td>CTU</td>\n",
       "      <td>3U8564</td>\n",
       "      <td>1496246100</td>\n",
       "      <td>1496251200</td>\n",
       "      <td>1496245440</td>\n",
       "      <td>1496248920</td>\n",
       "      <td>1934</td>\n",
       "      <td>0</td>\n",
       "    </tr>\n",
       "    <tr>\n",
       "      <th>4970563</th>\n",
       "      <td>CSX</td>\n",
       "      <td>CKG</td>\n",
       "      <td>PN6232</td>\n",
       "      <td>1496246100</td>\n",
       "      <td>1496251500</td>\n",
       "      <td>1496245620</td>\n",
       "      <td>1496250120</td>\n",
       "      <td>198</td>\n",
       "      <td>0</td>\n",
       "    </tr>\n",
       "  </tbody>\n",
       "</table>\n",
       "</div>"
      ],
      "text/plain": [
       "        Departure Destination   FLTNo  PDepartureTime  PArrivalTime  \\\n",
       "4906881       DYG         XIY  MU2432      1496246100    1496252100   \n",
       "4924435       CSX         NKG  MU2746      1496246100    1496251800   \n",
       "4928507       URC         AKU  CZ6920      1496246100    1496250900   \n",
       "4933127       JIQ         CTU  3U8564      1496246100    1496251200   \n",
       "4970563       CSX         CKG  PN6232      1496246100    1496251500   \n",
       "\n",
       "         ADepartureTime  AArrivalTime    Id  Cancel  \n",
       "4906881      1496246100    1496250180  1511       0  \n",
       "4924435      1496245980    1496250300  2110       0  \n",
       "4928507      1496246580    1496250120  2902       0  \n",
       "4933127      1496245440    1496248920  1934       0  \n",
       "4970563      1496245620    1496250120   198       0  "
      ]
     },
     "execution_count": 14,
     "metadata": {},
     "output_type": "execute_result"
    }
   ],
   "source": [
    "train_f.loc[train_f['PDepartureTime'] == train_f['PDepartureTime'].max(), :].head()"
   ]
  },
  {
   "cell_type": "markdown",
   "metadata": {},
   "source": [
    "先把第一行的计划起飞时间和实际起飞时间拿出来，组成一个新的DataFrame。"
   ]
  },
  {
   "cell_type": "code",
   "execution_count": 15,
   "metadata": {
    "collapsed": false
   },
   "outputs": [
    {
     "data": {
      "text/html": [
       "<div>\n",
       "<style>\n",
       "    .dataframe thead tr:only-child th {\n",
       "        text-align: right;\n",
       "    }\n",
       "\n",
       "    .dataframe thead th {\n",
       "        text-align: left;\n",
       "    }\n",
       "\n",
       "    .dataframe tbody tr th {\n",
       "        vertical-align: top;\n",
       "    }\n",
       "</style>\n",
       "<table border=\"1\" class=\"dataframe\">\n",
       "  <thead>\n",
       "    <tr style=\"text-align: right;\">\n",
       "      <th></th>\n",
       "      <th>PArrivalTime</th>\n",
       "      <th>PDepartureTime</th>\n",
       "    </tr>\n",
       "  </thead>\n",
       "  <tbody>\n",
       "    <tr>\n",
       "      <th>0</th>\n",
       "      <td>1496252100</td>\n",
       "      <td>1496246100</td>\n",
       "    </tr>\n",
       "  </tbody>\n",
       "</table>\n",
       "</div>"
      ],
      "text/plain": [
       "   PArrivalTime  PDepartureTime\n",
       "0    1496252100      1496246100"
      ]
     },
     "execution_count": 15,
     "metadata": {},
     "output_type": "execute_result"
    }
   ],
   "source": [
    "data = {'PDepartureTime': [1496246100], 'PArrivalTime': [1496252100]}\n",
    "df = pd.DataFrame(data, columns=data.keys())\n",
    "df"
   ]
  },
  {
   "cell_type": "markdown",
   "metadata": {},
   "source": [
    "用Python的datetime库先转换成datetime.datetime对象，然后按照指定格式转成字符串。"
   ]
  },
  {
   "cell_type": "code",
   "execution_count": 16,
   "metadata": {
    "collapsed": false
   },
   "outputs": [
    {
     "data": {
      "text/html": [
       "<div>\n",
       "<style>\n",
       "    .dataframe thead tr:only-child th {\n",
       "        text-align: right;\n",
       "    }\n",
       "\n",
       "    .dataframe thead th {\n",
       "        text-align: left;\n",
       "    }\n",
       "\n",
       "    .dataframe tbody tr th {\n",
       "        vertical-align: top;\n",
       "    }\n",
       "</style>\n",
       "<table border=\"1\" class=\"dataframe\">\n",
       "  <thead>\n",
       "    <tr style=\"text-align: right;\">\n",
       "      <th></th>\n",
       "      <th>PArrivalTime</th>\n",
       "      <th>PDepartureTime</th>\n",
       "      <th>PDTime</th>\n",
       "      <th>PATime</th>\n",
       "    </tr>\n",
       "  </thead>\n",
       "  <tbody>\n",
       "    <tr>\n",
       "      <th>0</th>\n",
       "      <td>1496252100</td>\n",
       "      <td>1496246100</td>\n",
       "      <td>2017-05-31 23:55:00</td>\n",
       "      <td>2017-06-01 01:35:00</td>\n",
       "    </tr>\n",
       "  </tbody>\n",
       "</table>\n",
       "</div>"
      ],
      "text/plain": [
       "   PArrivalTime  PDepartureTime               PDTime               PATime\n",
       "0    1496252100      1496246100  2017-05-31 23:55:00  2017-06-01 01:35:00"
      ]
     },
     "execution_count": 16,
     "metadata": {},
     "output_type": "execute_result"
    }
   ],
   "source": [
    "def strftime(row):\n",
    "    p_time = datetime.fromtimestamp(row['PDepartureTime']).strftime('%Y-%m-%d %H:%M:%S')\n",
    "    a_time = datetime.fromtimestamp(row['PArrivalTime']).strftime('%Y-%m-%d %H:%M:%S')\n",
    "    return [p_time, a_time]\n",
    "\n",
    "df[['PDTime', 'PATime']] = df.apply(strftime, axis=1)\n",
    "df.head()"
   ]
  },
  {
   "cell_type": "markdown",
   "metadata": {},
   "source": [
    "然后用Pandas的to_datatime函数，转换成pandas._libs.tslib.Timestamp对象。"
   ]
  },
  {
   "cell_type": "code",
   "execution_count": 17,
   "metadata": {
    "collapsed": false
   },
   "outputs": [
    {
     "data": {
      "text/html": [
       "<div>\n",
       "<style>\n",
       "    .dataframe thead tr:only-child th {\n",
       "        text-align: right;\n",
       "    }\n",
       "\n",
       "    .dataframe thead th {\n",
       "        text-align: left;\n",
       "    }\n",
       "\n",
       "    .dataframe tbody tr th {\n",
       "        vertical-align: top;\n",
       "    }\n",
       "</style>\n",
       "<table border=\"1\" class=\"dataframe\">\n",
       "  <thead>\n",
       "    <tr style=\"text-align: right;\">\n",
       "      <th></th>\n",
       "      <th>PArrivalTime</th>\n",
       "      <th>PDepartureTime</th>\n",
       "      <th>PDTime</th>\n",
       "      <th>PATime</th>\n",
       "      <th>PDTime2</th>\n",
       "      <th>PATime2</th>\n",
       "    </tr>\n",
       "  </thead>\n",
       "  <tbody>\n",
       "    <tr>\n",
       "      <th>0</th>\n",
       "      <td>1496252100</td>\n",
       "      <td>1496246100</td>\n",
       "      <td>2017-05-31 23:55:00</td>\n",
       "      <td>2017-06-01 01:35:00</td>\n",
       "      <td>2017-05-31 15:55:00</td>\n",
       "      <td>2017-05-31 17:35:00</td>\n",
       "    </tr>\n",
       "  </tbody>\n",
       "</table>\n",
       "</div>"
      ],
      "text/plain": [
       "   PArrivalTime  PDepartureTime               PDTime               PATime  \\\n",
       "0    1496252100      1496246100  2017-05-31 23:55:00  2017-06-01 01:35:00   \n",
       "\n",
       "              PDTime2             PATime2  \n",
       "0 2017-05-31 15:55:00 2017-05-31 17:35:00  "
      ]
     },
     "execution_count": 17,
     "metadata": {},
     "output_type": "execute_result"
    }
   ],
   "source": [
    "df['PDTime2'] = pd.to_datetime(df['PDepartureTime'], unit='s')\n",
    "df['PATime2'] = pd.to_datetime(df['PArrivalTime'], unit='s')\n",
    "df"
   ]
  },
  {
   "cell_type": "markdown",
   "metadata": {},
   "source": [
    "可以看出Python的datetime转换的结果和Pandas的to_datetime不一致。而且Python的datetime库的结果是正确的。\n",
    "\n",
    "这是因为datetime考虑了时区分布，而to_datetime默认是标准时间（UTC)。使用to_datetime时，用如下方法可以指定时区："
   ]
  },
  {
   "cell_type": "code",
   "execution_count": 18,
   "metadata": {
    "collapsed": false
   },
   "outputs": [
    {
     "data": {
      "text/html": [
       "<div>\n",
       "<style>\n",
       "    .dataframe thead tr:only-child th {\n",
       "        text-align: right;\n",
       "    }\n",
       "\n",
       "    .dataframe thead th {\n",
       "        text-align: left;\n",
       "    }\n",
       "\n",
       "    .dataframe tbody tr th {\n",
       "        vertical-align: top;\n",
       "    }\n",
       "</style>\n",
       "<table border=\"1\" class=\"dataframe\">\n",
       "  <thead>\n",
       "    <tr style=\"text-align: right;\">\n",
       "      <th></th>\n",
       "      <th>PArrivalTime</th>\n",
       "      <th>PDepartureTime</th>\n",
       "      <th>PDTime</th>\n",
       "      <th>PATime</th>\n",
       "      <th>PDTime2</th>\n",
       "      <th>PATime2</th>\n",
       "      <th>PDTime3</th>\n",
       "      <th>PATime3</th>\n",
       "    </tr>\n",
       "  </thead>\n",
       "  <tbody>\n",
       "    <tr>\n",
       "      <th>0</th>\n",
       "      <td>1496252100</td>\n",
       "      <td>1496246100</td>\n",
       "      <td>2017-05-31 23:55:00</td>\n",
       "      <td>2017-06-01 01:35:00</td>\n",
       "      <td>2017-05-31 15:55:00</td>\n",
       "      <td>2017-05-31 17:35:00</td>\n",
       "      <td>2017-05-31 23:55:00+08:00</td>\n",
       "      <td>2017-06-01 01:35:00+08:00</td>\n",
       "    </tr>\n",
       "  </tbody>\n",
       "</table>\n",
       "</div>"
      ],
      "text/plain": [
       "   PArrivalTime  PDepartureTime               PDTime               PATime  \\\n",
       "0    1496252100      1496246100  2017-05-31 23:55:00  2017-06-01 01:35:00   \n",
       "\n",
       "              PDTime2             PATime2                   PDTime3  \\\n",
       "0 2017-05-31 15:55:00 2017-05-31 17:35:00 2017-05-31 23:55:00+08:00   \n",
       "\n",
       "                    PATime3  \n",
       "0 2017-06-01 01:35:00+08:00  "
      ]
     },
     "execution_count": 18,
     "metadata": {},
     "output_type": "execute_result"
    }
   ],
   "source": [
    "df['PDTime3'] = pd.to_datetime(df['PDepartureTime'], unit='s').dt.tz_localize('UTC').dt.tz_convert('Asia/Shanghai')\n",
    "df['PATime3'] = pd.to_datetime(df['PArrivalTime'], unit='s').dt.tz_localize('UTC').dt.tz_convert('Asia/Shanghai')\n",
    "df"
   ]
  },
  {
   "cell_type": "markdown",
   "metadata": {},
   "source": [
    "可以发现，to_datetime指定了时区后的结果与Python的datetime库的结果相同了。\n",
    "\n",
    "如果要想再讲PDTime、PDTime3转换成uninx时间戳的形式，可以使用如下方法："
   ]
  },
  {
   "cell_type": "code",
   "execution_count": 19,
   "metadata": {
    "collapsed": false
   },
   "outputs": [
    {
     "name": "stdout",
     "output_type": "stream",
     "text": [
      "PDTime to unix timestamp: 1496246100\n",
      "PDTime3 to unix timestamp: 1496246100\n",
      "PDTime3 to datetime.datetime to uninx timestamp: 1496246100\n"
     ]
    }
   ],
   "source": [
    "print('PDTime to unix timestamp:', int(datetime.strptime(df.loc[0, 'PDTime'], '%Y-%m-%d %H:%M:%S').strftime(\"%s\")))\n",
    "\n",
    "print('PDTime3 to unix timestamp:', (df['PDTime3'].astype(int) // 10 ** 9).loc[0])\n",
    "\n",
    "print('PDTime3 to datetime.datetime to uninx timestamp:', int(df.loc[0, 'PDTime3'].to_pydatetime().strftime(\"%s\")))"
   ]
  },
  {
   "cell_type": "markdown",
   "metadata": {},
   "source": [
    "总之，我们确定了航班数据中的时间戳为北京时间，而如果使用Pandas的to_datetime的时候需要考虑时区的问题，否则时间转换就出问题了。"
   ]
  },
  {
   "cell_type": "markdown",
   "metadata": {},
   "source": [
    "## 空值\n",
    "\n",
    "Departure、Destination、FLTNo、PDepartureTime、PArrivalTime、Cancle都没有Null。\n",
    "\n",
    "### ADepartureTime\n",
    "\n",
    "ADepartureTime有很多Null值，可以发现其中绝大部门都是因为航班取消了，这也能够理解，航班取消了自然就不会有出发时间了。这种继续保持NaN值就好，后面这个特征肯定会被转换成其他特征而拿掉的。"
   ]
  },
  {
   "cell_type": "code",
   "execution_count": 20,
   "metadata": {
    "collapsed": false
   },
   "outputs": [
    {
     "name": "stdout",
     "output_type": "stream",
     "text": [
      "ADepartureTime NaN:  2912490\n"
     ]
    },
    {
     "data": {
      "text/html": [
       "<div>\n",
       "<style>\n",
       "    .dataframe thead tr:only-child th {\n",
       "        text-align: right;\n",
       "    }\n",
       "\n",
       "    .dataframe thead th {\n",
       "        text-align: left;\n",
       "    }\n",
       "\n",
       "    .dataframe tbody tr th {\n",
       "        vertical-align: top;\n",
       "    }\n",
       "</style>\n",
       "<table border=\"1\" class=\"dataframe\">\n",
       "  <thead>\n",
       "    <tr style=\"text-align: right;\">\n",
       "      <th></th>\n",
       "      <th>Departure</th>\n",
       "      <th>Destination</th>\n",
       "      <th>FLTNo</th>\n",
       "      <th>PDepartureTime</th>\n",
       "      <th>PArrivalTime</th>\n",
       "      <th>ADepartureTime</th>\n",
       "      <th>AArrivalTime</th>\n",
       "      <th>Id</th>\n",
       "      <th>Cancel</th>\n",
       "    </tr>\n",
       "  </thead>\n",
       "  <tbody>\n",
       "    <tr>\n",
       "      <th>5</th>\n",
       "      <td>DLC</td>\n",
       "      <td>NNG</td>\n",
       "      <td>ZH953Z</td>\n",
       "      <td>1452385800</td>\n",
       "      <td>1452401700</td>\n",
       "      <td>0</td>\n",
       "      <td>0</td>\n",
       "      <td>6</td>\n",
       "      <td>1</td>\n",
       "    </tr>\n",
       "    <tr>\n",
       "      <th>6</th>\n",
       "      <td>HGH</td>\n",
       "      <td>SZX</td>\n",
       "      <td>CZ6327</td>\n",
       "      <td>1452591900</td>\n",
       "      <td>1452600900</td>\n",
       "      <td>0</td>\n",
       "      <td>0</td>\n",
       "      <td>0</td>\n",
       "      <td>1</td>\n",
       "    </tr>\n",
       "    <tr>\n",
       "      <th>55</th>\n",
       "      <td>HAK</td>\n",
       "      <td>SZX</td>\n",
       "      <td>HU7013</td>\n",
       "      <td>1452032700</td>\n",
       "      <td>1452037500</td>\n",
       "      <td>0</td>\n",
       "      <td>0</td>\n",
       "      <td>55</td>\n",
       "      <td>1</td>\n",
       "    </tr>\n",
       "    <tr>\n",
       "      <th>78</th>\n",
       "      <td>WUX</td>\n",
       "      <td>SZX</td>\n",
       "      <td>MF1094</td>\n",
       "      <td>1452855300</td>\n",
       "      <td>1452864900</td>\n",
       "      <td>0</td>\n",
       "      <td>0</td>\n",
       "      <td>0</td>\n",
       "      <td>1</td>\n",
       "    </tr>\n",
       "    <tr>\n",
       "      <th>98</th>\n",
       "      <td>CAN</td>\n",
       "      <td>URC</td>\n",
       "      <td>CZ6884</td>\n",
       "      <td>1453976100</td>\n",
       "      <td>1453996200</td>\n",
       "      <td>0</td>\n",
       "      <td>0</td>\n",
       "      <td>0</td>\n",
       "      <td>1</td>\n",
       "    </tr>\n",
       "  </tbody>\n",
       "</table>\n",
       "</div>"
      ],
      "text/plain": [
       "   Departure Destination   FLTNo  PDepartureTime  PArrivalTime  \\\n",
       "5        DLC         NNG  ZH953Z      1452385800    1452401700   \n",
       "6        HGH         SZX  CZ6327      1452591900    1452600900   \n",
       "55       HAK         SZX  HU7013      1452032700    1452037500   \n",
       "78       WUX         SZX  MF1094      1452855300    1452864900   \n",
       "98       CAN         URC  CZ6884      1453976100    1453996200   \n",
       "\n",
       "    ADepartureTime  AArrivalTime  Id  Cancel  \n",
       "5                0             0   6       1  \n",
       "6                0             0   0       1  \n",
       "55               0             0  55       1  \n",
       "78               0             0   0       1  \n",
       "98               0             0   0       1  "
      ]
     },
     "execution_count": 20,
     "metadata": {},
     "output_type": "execute_result"
    }
   ],
   "source": [
    "print('ADepartureTime NaN: ', train_f[train_f['ADepartureTime'] == 0].size)\n",
    "\n",
    "train_f[train_f['ADepartureTime'] == 0].head()"
   ]
  },
  {
   "cell_type": "markdown",
   "metadata": {},
   "source": [
    "而下面这些航班没有取消，却没有实际出发时间的就很难弄了。"
   ]
  },
  {
   "cell_type": "code",
   "execution_count": 21,
   "metadata": {
    "collapsed": false
   },
   "outputs": [
    {
     "name": "stdout",
     "output_type": "stream",
     "text": [
      "ADepartureTime NaN:  15444\n"
     ]
    },
    {
     "data": {
      "text/html": [
       "<div>\n",
       "<style>\n",
       "    .dataframe thead tr:only-child th {\n",
       "        text-align: right;\n",
       "    }\n",
       "\n",
       "    .dataframe thead th {\n",
       "        text-align: left;\n",
       "    }\n",
       "\n",
       "    .dataframe tbody tr th {\n",
       "        vertical-align: top;\n",
       "    }\n",
       "</style>\n",
       "<table border=\"1\" class=\"dataframe\">\n",
       "  <thead>\n",
       "    <tr style=\"text-align: right;\">\n",
       "      <th></th>\n",
       "      <th>Departure</th>\n",
       "      <th>Destination</th>\n",
       "      <th>FLTNo</th>\n",
       "      <th>PDepartureTime</th>\n",
       "      <th>PArrivalTime</th>\n",
       "      <th>ADepartureTime</th>\n",
       "      <th>AArrivalTime</th>\n",
       "      <th>Id</th>\n",
       "      <th>Cancel</th>\n",
       "    </tr>\n",
       "  </thead>\n",
       "  <tbody>\n",
       "    <tr>\n",
       "      <th>183</th>\n",
       "      <td>HGH</td>\n",
       "      <td>CKG</td>\n",
       "      <td>OQ2380</td>\n",
       "      <td>1453606500</td>\n",
       "      <td>1453616400</td>\n",
       "      <td>0</td>\n",
       "      <td>1453607040</td>\n",
       "      <td>176</td>\n",
       "      <td>0</td>\n",
       "    </tr>\n",
       "    <tr>\n",
       "      <th>2767</th>\n",
       "      <td>FOC</td>\n",
       "      <td>PVG</td>\n",
       "      <td>MU5506</td>\n",
       "      <td>1452815700</td>\n",
       "      <td>1452820500</td>\n",
       "      <td>0</td>\n",
       "      <td>1452821940</td>\n",
       "      <td>1239</td>\n",
       "      <td>0</td>\n",
       "    </tr>\n",
       "    <tr>\n",
       "      <th>13891</th>\n",
       "      <td>LZH</td>\n",
       "      <td>CTU</td>\n",
       "      <td>EU2202</td>\n",
       "      <td>1453044600</td>\n",
       "      <td>1453050900</td>\n",
       "      <td>0</td>\n",
       "      <td>1453052400</td>\n",
       "      <td>1559</td>\n",
       "      <td>0</td>\n",
       "    </tr>\n",
       "    <tr>\n",
       "      <th>15737</th>\n",
       "      <td>KWE</td>\n",
       "      <td>DLC</td>\n",
       "      <td>HU762Z</td>\n",
       "      <td>1451865600</td>\n",
       "      <td>1451883000</td>\n",
       "      <td>0</td>\n",
       "      <td>1451881200</td>\n",
       "      <td>498</td>\n",
       "      <td>0</td>\n",
       "    </tr>\n",
       "    <tr>\n",
       "      <th>17352</th>\n",
       "      <td>TCZ</td>\n",
       "      <td>KMG</td>\n",
       "      <td>KY8288</td>\n",
       "      <td>1453020000</td>\n",
       "      <td>1453023600</td>\n",
       "      <td>0</td>\n",
       "      <td>1453023900</td>\n",
       "      <td>168</td>\n",
       "      <td>0</td>\n",
       "    </tr>\n",
       "  </tbody>\n",
       "</table>\n",
       "</div>"
      ],
      "text/plain": [
       "      Departure Destination   FLTNo  PDepartureTime  PArrivalTime  \\\n",
       "183         HGH         CKG  OQ2380      1453606500    1453616400   \n",
       "2767        FOC         PVG  MU5506      1452815700    1452820500   \n",
       "13891       LZH         CTU  EU2202      1453044600    1453050900   \n",
       "15737       KWE         DLC  HU762Z      1451865600    1451883000   \n",
       "17352       TCZ         KMG  KY8288      1453020000    1453023600   \n",
       "\n",
       "       ADepartureTime  AArrivalTime    Id  Cancel  \n",
       "183                 0    1453607040   176       0  \n",
       "2767                0    1452821940  1239       0  \n",
       "13891               0    1453052400  1559       0  \n",
       "15737               0    1451881200   498       0  \n",
       "17352               0    1453023900   168       0  "
      ]
     },
     "execution_count": 21,
     "metadata": {},
     "output_type": "execute_result"
    }
   ],
   "source": [
    "print('ADepartureTime NaN: ', train_f[(train_f['ADepartureTime']==0) & (train_f['Cancel']!=1)].size)\n",
    "\n",
    "train_f[(train_f['ADepartureTime']==0) & (train_f['Cancel']!=1)].head()"
   ]
  },
  {
   "cell_type": "markdown",
   "metadata": {},
   "source": [
    "那么我就看航班到达晚点了多少吧，姑且认为到达晚点了多少出发就晚点多少。"
   ]
  },
  {
   "cell_type": "code",
   "execution_count": 22,
   "metadata": {
    "collapsed": false
   },
   "outputs": [],
   "source": [
    "# 根据到达晚点的时间 填补 实际出发时间\n",
    "train_f['ADelay'] = train_f['AArrivalTime'] - train_f['PArrivalTime']\n",
    "\n",
    "cond = (train_f['ADepartureTime']==0) & (train_f['Cancel']!=1)\n",
    "train_f.loc[cond, 'ADepartureTime'] = train_f.loc[cond, 'PDepartureTime'] + train_f.loc[cond, 'ADelay']\n",
    "train_f.drop('ADelay', axis=1, inplace=True)"
   ]
  },
  {
   "cell_type": "markdown",
   "metadata": {},
   "source": [
    "OK，我们再确认一下剩余的ADepartureTime为空的记录都是已取消的航班。"
   ]
  },
  {
   "cell_type": "code",
   "execution_count": 23,
   "metadata": {
    "collapsed": false
   },
   "outputs": [
    {
     "data": {
      "text/html": [
       "<div>\n",
       "<style>\n",
       "    .dataframe thead tr:only-child th {\n",
       "        text-align: right;\n",
       "    }\n",
       "\n",
       "    .dataframe thead th {\n",
       "        text-align: left;\n",
       "    }\n",
       "\n",
       "    .dataframe tbody tr th {\n",
       "        vertical-align: top;\n",
       "    }\n",
       "</style>\n",
       "<table border=\"1\" class=\"dataframe\">\n",
       "  <thead>\n",
       "    <tr style=\"text-align: right;\">\n",
       "      <th></th>\n",
       "      <th>Departure</th>\n",
       "      <th>Destination</th>\n",
       "      <th>FLTNo</th>\n",
       "      <th>PDepartureTime</th>\n",
       "      <th>PArrivalTime</th>\n",
       "      <th>ADepartureTime</th>\n",
       "      <th>AArrivalTime</th>\n",
       "      <th>Id</th>\n",
       "      <th>Cancel</th>\n",
       "    </tr>\n",
       "  </thead>\n",
       "  <tbody>\n",
       "  </tbody>\n",
       "</table>\n",
       "</div>"
      ],
      "text/plain": [
       "Empty DataFrame\n",
       "Columns: [Departure, Destination, FLTNo, PDepartureTime, PArrivalTime, ADepartureTime, AArrivalTime, Id, Cancel]\n",
       "Index: []"
      ]
     },
     "execution_count": 23,
     "metadata": {},
     "output_type": "execute_result"
    }
   ],
   "source": [
    "train_f[(train_f['ADepartureTime']==0) & (train_f['Cancel']!=1)].head()"
   ]
  },
  {
   "cell_type": "markdown",
   "metadata": {},
   "source": [
    "### AArrivalTime\n",
    "\n",
    "AArrivalTime的Null值也不少，幸运的是，AArrivalTime为Null的航班全部都取消了，我们无需对Null做处理。"
   ]
  },
  {
   "cell_type": "code",
   "execution_count": 24,
   "metadata": {
    "collapsed": false
   },
   "outputs": [
    {
     "name": "stdout",
     "output_type": "stream",
     "text": [
      "AArrivalTime NaN:  2908188\n",
      "AArrivalTime NaN and not Cancel:  0\n"
     ]
    }
   ],
   "source": [
    "print('AArrivalTime NaN: ', train_f[train_f['AArrivalTime']==0].size)\n",
    "\n",
    "print('AArrivalTime NaN and not Cancel: ', train_f[(train_f['AArrivalTime']==0) & (train_f['Cancel']!=1)].size)\n"
   ]
  },
  {
   "cell_type": "markdown",
   "metadata": {},
   "source": [
    "### Id\n",
    "\n",
    "Id为Null且航班未取消的有27w+，真头疼！\n",
    "\n",
    "从数据说明和之前的认识中，我已经知道每天同一架飞机的Id是一样的，因此如果要填充Id，就需要根据航班号、出发、到达机场找到前序、后续航班，拿前序、后续航班的Id进行填充。\n",
    "\n",
    "但这个数据量太大，具体实现要想想办法。"
   ]
  },
  {
   "cell_type": "code",
   "execution_count": 25,
   "metadata": {
    "collapsed": false
   },
   "outputs": [
    {
     "name": "stdout",
     "output_type": "stream",
     "text": [
      "Id NaN:  246249\n"
     ]
    },
    {
     "data": {
      "text/html": [
       "<div>\n",
       "<style>\n",
       "    .dataframe thead tr:only-child th {\n",
       "        text-align: right;\n",
       "    }\n",
       "\n",
       "    .dataframe thead th {\n",
       "        text-align: left;\n",
       "    }\n",
       "\n",
       "    .dataframe tbody tr th {\n",
       "        vertical-align: top;\n",
       "    }\n",
       "</style>\n",
       "<table border=\"1\" class=\"dataframe\">\n",
       "  <thead>\n",
       "    <tr style=\"text-align: right;\">\n",
       "      <th></th>\n",
       "      <th>Departure</th>\n",
       "      <th>Destination</th>\n",
       "      <th>FLTNo</th>\n",
       "      <th>PDepartureTime</th>\n",
       "      <th>PArrivalTime</th>\n",
       "      <th>ADepartureTime</th>\n",
       "      <th>AArrivalTime</th>\n",
       "      <th>Id</th>\n",
       "      <th>Cancel</th>\n",
       "    </tr>\n",
       "  </thead>\n",
       "  <tbody>\n",
       "    <tr>\n",
       "      <th>2720</th>\n",
       "      <td>DNH</td>\n",
       "      <td>LHW</td>\n",
       "      <td>MU7582</td>\n",
       "      <td>1452936900</td>\n",
       "      <td>1452942600</td>\n",
       "      <td>1452935940</td>\n",
       "      <td>1452940440</td>\n",
       "      <td>0</td>\n",
       "      <td>0</td>\n",
       "    </tr>\n",
       "    <tr>\n",
       "      <th>9012</th>\n",
       "      <td>JHG</td>\n",
       "      <td>CKG</td>\n",
       "      <td>PN6216A</td>\n",
       "      <td>1454255400</td>\n",
       "      <td>1454265900</td>\n",
       "      <td>1454259780</td>\n",
       "      <td>1454269320</td>\n",
       "      <td>0</td>\n",
       "      <td>0</td>\n",
       "    </tr>\n",
       "    <tr>\n",
       "      <th>15058</th>\n",
       "      <td>DNH</td>\n",
       "      <td>XIY</td>\n",
       "      <td>GS7680A</td>\n",
       "      <td>1454002200</td>\n",
       "      <td>1454013300</td>\n",
       "      <td>1454002800</td>\n",
       "      <td>1454013420</td>\n",
       "      <td>0</td>\n",
       "      <td>0</td>\n",
       "    </tr>\n",
       "    <tr>\n",
       "      <th>15792</th>\n",
       "      <td>CKG</td>\n",
       "      <td>KWE</td>\n",
       "      <td>CZ3641A</td>\n",
       "      <td>1452362400</td>\n",
       "      <td>1452365100</td>\n",
       "      <td>1452368640</td>\n",
       "      <td>1452371640</td>\n",
       "      <td>0</td>\n",
       "      <td>0</td>\n",
       "    </tr>\n",
       "    <tr>\n",
       "      <th>16320</th>\n",
       "      <td>CAN</td>\n",
       "      <td>HAK</td>\n",
       "      <td>CZ6778A</td>\n",
       "      <td>1453479300</td>\n",
       "      <td>1453483500</td>\n",
       "      <td>1453480440</td>\n",
       "      <td>1453484040</td>\n",
       "      <td>0</td>\n",
       "      <td>0</td>\n",
       "    </tr>\n",
       "  </tbody>\n",
       "</table>\n",
       "</div>"
      ],
      "text/plain": [
       "      Departure Destination    FLTNo  PDepartureTime  PArrivalTime  \\\n",
       "2720        DNH         LHW   MU7582      1452936900    1452942600   \n",
       "9012        JHG         CKG  PN6216A      1454255400    1454265900   \n",
       "15058       DNH         XIY  GS7680A      1454002200    1454013300   \n",
       "15792       CKG         KWE  CZ3641A      1452362400    1452365100   \n",
       "16320       CAN         HAK  CZ6778A      1453479300    1453483500   \n",
       "\n",
       "       ADepartureTime  AArrivalTime  Id  Cancel  \n",
       "2720       1452935940    1452940440   0       0  \n",
       "9012       1454259780    1454269320   0       0  \n",
       "15058      1454002800    1454013420   0       0  \n",
       "15792      1452368640    1452371640   0       0  \n",
       "16320      1453480440    1453484040   0       0  "
      ]
     },
     "execution_count": 25,
     "metadata": {},
     "output_type": "execute_result"
    }
   ],
   "source": [
    "print('Id NaN: ', train_f[(train_f['Id']==0) & (train_f['Cancel']!=1)].size)\n",
    "\n",
    "train_f[(train_f['Id']==0) & (train_f['Cancel']!=1)].head()"
   ]
  },
  {
   "cell_type": "markdown",
   "metadata": {},
   "source": [
    "## 前序、后序\n",
    "\n",
    "探索前序、后续航班之间的关系。\n",
    "\n",
    "先将计划出发时间分割成日期、时间，方便对每天的航班进行分析。"
   ]
  },
  {
   "cell_type": "code",
   "execution_count": 26,
   "metadata": {
    "collapsed": false
   },
   "outputs": [
    {
     "data": {
      "text/html": [
       "<div>\n",
       "<style>\n",
       "    .dataframe thead tr:only-child th {\n",
       "        text-align: right;\n",
       "    }\n",
       "\n",
       "    .dataframe thead th {\n",
       "        text-align: left;\n",
       "    }\n",
       "\n",
       "    .dataframe tbody tr th {\n",
       "        vertical-align: top;\n",
       "    }\n",
       "</style>\n",
       "<table border=\"1\" class=\"dataframe\">\n",
       "  <thead>\n",
       "    <tr style=\"text-align: right;\">\n",
       "      <th></th>\n",
       "      <th>Departure</th>\n",
       "      <th>Destination</th>\n",
       "      <th>FLTNo</th>\n",
       "      <th>PDepartureTime</th>\n",
       "      <th>PArrivalTime</th>\n",
       "      <th>ADepartureTime</th>\n",
       "      <th>AArrivalTime</th>\n",
       "      <th>Id</th>\n",
       "      <th>Cancel</th>\n",
       "      <th>PDDate</th>\n",
       "      <th>PDTime</th>\n",
       "    </tr>\n",
       "  </thead>\n",
       "  <tbody>\n",
       "    <tr>\n",
       "      <th>4906881</th>\n",
       "      <td>DYG</td>\n",
       "      <td>XIY</td>\n",
       "      <td>MU2432</td>\n",
       "      <td>1496246100</td>\n",
       "      <td>1496252100</td>\n",
       "      <td>1496246100</td>\n",
       "      <td>1496250180</td>\n",
       "      <td>1511</td>\n",
       "      <td>0</td>\n",
       "      <td>2017-05-31</td>\n",
       "      <td>23:55:00</td>\n",
       "    </tr>\n",
       "    <tr>\n",
       "      <th>4924435</th>\n",
       "      <td>CSX</td>\n",
       "      <td>NKG</td>\n",
       "      <td>MU2746</td>\n",
       "      <td>1496246100</td>\n",
       "      <td>1496251800</td>\n",
       "      <td>1496245980</td>\n",
       "      <td>1496250300</td>\n",
       "      <td>2110</td>\n",
       "      <td>0</td>\n",
       "      <td>2017-05-31</td>\n",
       "      <td>23:55:00</td>\n",
       "    </tr>\n",
       "    <tr>\n",
       "      <th>4928507</th>\n",
       "      <td>URC</td>\n",
       "      <td>AKU</td>\n",
       "      <td>CZ6920</td>\n",
       "      <td>1496246100</td>\n",
       "      <td>1496250900</td>\n",
       "      <td>1496246580</td>\n",
       "      <td>1496250120</td>\n",
       "      <td>2902</td>\n",
       "      <td>0</td>\n",
       "      <td>2017-05-31</td>\n",
       "      <td>23:55:00</td>\n",
       "    </tr>\n",
       "    <tr>\n",
       "      <th>4933127</th>\n",
       "      <td>JIQ</td>\n",
       "      <td>CTU</td>\n",
       "      <td>3U8564</td>\n",
       "      <td>1496246100</td>\n",
       "      <td>1496251200</td>\n",
       "      <td>1496245440</td>\n",
       "      <td>1496248920</td>\n",
       "      <td>1934</td>\n",
       "      <td>0</td>\n",
       "      <td>2017-05-31</td>\n",
       "      <td>23:55:00</td>\n",
       "    </tr>\n",
       "    <tr>\n",
       "      <th>4970563</th>\n",
       "      <td>CSX</td>\n",
       "      <td>CKG</td>\n",
       "      <td>PN6232</td>\n",
       "      <td>1496246100</td>\n",
       "      <td>1496251500</td>\n",
       "      <td>1496245620</td>\n",
       "      <td>1496250120</td>\n",
       "      <td>198</td>\n",
       "      <td>0</td>\n",
       "      <td>2017-05-31</td>\n",
       "      <td>23:55:00</td>\n",
       "    </tr>\n",
       "  </tbody>\n",
       "</table>\n",
       "</div>"
      ],
      "text/plain": [
       "        Departure Destination   FLTNo  PDepartureTime  PArrivalTime  \\\n",
       "4906881       DYG         XIY  MU2432      1496246100    1496252100   \n",
       "4924435       CSX         NKG  MU2746      1496246100    1496251800   \n",
       "4928507       URC         AKU  CZ6920      1496246100    1496250900   \n",
       "4933127       JIQ         CTU  3U8564      1496246100    1496251200   \n",
       "4970563       CSX         CKG  PN6232      1496246100    1496251500   \n",
       "\n",
       "         ADepartureTime  AArrivalTime    Id  Cancel      PDDate    PDTime  \n",
       "4906881      1496246100    1496250180  1511       0  2017-05-31  23:55:00  \n",
       "4924435      1496245980    1496250300  2110       0  2017-05-31  23:55:00  \n",
       "4928507      1496246580    1496250120  2902       0  2017-05-31  23:55:00  \n",
       "4933127      1496245440    1496248920  1934       0  2017-05-31  23:55:00  \n",
       "4970563      1496245620    1496250120   198       0  2017-05-31  23:55:00  "
      ]
     },
     "execution_count": 26,
     "metadata": {},
     "output_type": "execute_result"
    }
   ],
   "source": [
    "# 执行时间较长，可以喝杯茶、撒泡尿\n",
    "train_f[['PDDate', 'PDTime']] = pd.to_datetime(train_f['PDepartureTime'], unit='s')\\\n",
    ".dt.tz_localize('UTC').dt.tz_convert('Asia/Shanghai')\\\n",
    ".dt.strftime('%Y-%m-%d %H:%M:%S').str.split(' ', expand=True)\n",
    "\n",
    "train_f[train_f['PDepartureTime']==train_f['PDepartureTime'].max()].head()"
   ]
  },
  {
   "cell_type": "code",
   "execution_count": null,
   "metadata": {
    "collapsed": true
   },
   "outputs": [],
   "source": []
  },
  {
   "cell_type": "code",
   "execution_count": null,
   "metadata": {
    "collapsed": true
   },
   "outputs": [],
   "source": []
  },
  {
   "cell_type": "code",
   "execution_count": null,
   "metadata": {
    "collapsed": true
   },
   "outputs": [],
   "source": []
  },
  {
   "cell_type": "code",
   "execution_count": null,
   "metadata": {
    "collapsed": true
   },
   "outputs": [],
   "source": []
  },
  {
   "cell_type": "code",
   "execution_count": null,
   "metadata": {
    "collapsed": true
   },
   "outputs": [],
   "source": []
  },
  {
   "cell_type": "code",
   "execution_count": null,
   "metadata": {
    "collapsed": true
   },
   "outputs": [],
   "source": []
  }
 ],
 "metadata": {
  "kernelspec": {
   "display_name": "Python 3",
   "language": "python",
   "name": "python3"
  },
  "language_info": {
   "codemirror_mode": {
    "name": "ipython",
    "version": 3
   },
   "file_extension": ".py",
   "mimetype": "text/x-python",
   "name": "python",
   "nbconvert_exporter": "python",
   "pygments_lexer": "ipython3",
   "version": "3.5.1"
  }
 },
 "nbformat": 4,
 "nbformat_minor": 2
}
