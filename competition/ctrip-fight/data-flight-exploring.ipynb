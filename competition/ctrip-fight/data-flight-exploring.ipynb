{
 "cells": [
  {
   "cell_type": "markdown",
   "metadata": {},
   "source": [
    "航班数据的处理和简单分析"
   ]
  },
  {
   "cell_type": "code",
   "execution_count": 1,
   "metadata": {
    "collapsed": true
   },
   "outputs": [],
   "source": [
    "import pandas as pd\n",
    "import numpy as np\n",
    "import matplotlib.pyplot as plt\n",
    "import seaborn as sns\n",
    "import matplotlib.ticker as ticker\n",
    "\n",
    "from datetime import datetime\n",
    "\n",
    "from IPython.display import display\n",
    "\n",
    "%matplotlib inline\n",
    "\n",
    "sns.set(font=\"simhei\")"
   ]
  },
  {
   "cell_type": "markdown",
   "metadata": {},
   "source": [
    "## 读取数据\n",
    "\n",
    "读取原始数据，原始文件名是中文，手动改成了英文。"
   ]
  },
  {
   "cell_type": "code",
   "execution_count": 42,
   "metadata": {
    "collapsed": false
   },
   "outputs": [
    {
     "data": {
      "text/html": [
       "<div>\n",
       "<style>\n",
       "    .dataframe thead tr:only-child th {\n",
       "        text-align: right;\n",
       "    }\n",
       "\n",
       "    .dataframe thead th {\n",
       "        text-align: left;\n",
       "    }\n",
       "\n",
       "    .dataframe tbody tr th {\n",
       "        vertical-align: top;\n",
       "    }\n",
       "</style>\n",
       "<table border=\"1\" class=\"dataframe\">\n",
       "  <thead>\n",
       "    <tr style=\"text-align: right;\">\n",
       "      <th></th>\n",
       "      <th>出发机场</th>\n",
       "      <th>到达机场</th>\n",
       "      <th>航班编号</th>\n",
       "      <th>计划起飞时间</th>\n",
       "      <th>计划到达时间</th>\n",
       "      <th>实际起飞时间</th>\n",
       "      <th>实际到达时间</th>\n",
       "      <th>飞机编号</th>\n",
       "      <th>航班是否取消</th>\n",
       "    </tr>\n",
       "  </thead>\n",
       "  <tbody>\n",
       "    <tr>\n",
       "      <th>0</th>\n",
       "      <td>HGH</td>\n",
       "      <td>DLC</td>\n",
       "      <td>CZ6328</td>\n",
       "      <td>1453809600</td>\n",
       "      <td>1453817100</td>\n",
       "      <td>1.453813e+09</td>\n",
       "      <td>1.453819e+09</td>\n",
       "      <td>1.0</td>\n",
       "      <td>正常</td>\n",
       "    </tr>\n",
       "    <tr>\n",
       "      <th>1</th>\n",
       "      <td>SHA</td>\n",
       "      <td>XMN</td>\n",
       "      <td>FM9261</td>\n",
       "      <td>1452760800</td>\n",
       "      <td>1452767100</td>\n",
       "      <td>1.452763e+09</td>\n",
       "      <td>1.452768e+09</td>\n",
       "      <td>2.0</td>\n",
       "      <td>正常</td>\n",
       "    </tr>\n",
       "    <tr>\n",
       "      <th>2</th>\n",
       "      <td>CAN</td>\n",
       "      <td>WNZ</td>\n",
       "      <td>ZH9597</td>\n",
       "      <td>1453800900</td>\n",
       "      <td>1453807500</td>\n",
       "      <td>1.453802e+09</td>\n",
       "      <td>1.453807e+09</td>\n",
       "      <td>3.0</td>\n",
       "      <td>正常</td>\n",
       "    </tr>\n",
       "    <tr>\n",
       "      <th>3</th>\n",
       "      <td>SHA</td>\n",
       "      <td>ZUH</td>\n",
       "      <td>9C8819</td>\n",
       "      <td>1452120600</td>\n",
       "      <td>1452131100</td>\n",
       "      <td>1.452121e+09</td>\n",
       "      <td>1.452130e+09</td>\n",
       "      <td>4.0</td>\n",
       "      <td>正常</td>\n",
       "    </tr>\n",
       "    <tr>\n",
       "      <th>4</th>\n",
       "      <td>SHE</td>\n",
       "      <td>TAO</td>\n",
       "      <td>TZ185</td>\n",
       "      <td>1452399000</td>\n",
       "      <td>1452406800</td>\n",
       "      <td>1.452400e+09</td>\n",
       "      <td>1.452404e+09</td>\n",
       "      <td>5.0</td>\n",
       "      <td>正常</td>\n",
       "    </tr>\n",
       "  </tbody>\n",
       "</table>\n",
       "</div>"
      ],
      "text/plain": [
       "  出发机场 到达机场    航班编号      计划起飞时间      计划到达时间        实际起飞时间        实际到达时间  飞机编号  \\\n",
       "0  HGH  DLC  CZ6328  1453809600  1453817100  1.453813e+09  1.453819e+09   1.0   \n",
       "1  SHA  XMN  FM9261  1452760800  1452767100  1.452763e+09  1.452768e+09   2.0   \n",
       "2  CAN  WNZ  ZH9597  1453800900  1453807500  1.453802e+09  1.453807e+09   3.0   \n",
       "3  SHA  ZUH  9C8819  1452120600  1452131100  1.452121e+09  1.452130e+09   4.0   \n",
       "4  SHE  TAO   TZ185  1452399000  1452406800  1.452400e+09  1.452404e+09   5.0   \n",
       "\n",
       "  航班是否取消  \n",
       "0     正常  \n",
       "1     正常  \n",
       "2     正常  \n",
       "3     正常  \n",
       "4     正常  "
      ]
     },
     "metadata": {},
     "output_type": "display_data"
    },
    {
     "name": "stdout",
     "output_type": "stream",
     "text": [
      "<class 'pandas.core.frame.DataFrame'>\n",
      "RangeIndex: 7518638 entries, 0 to 7518637\n",
      "Data columns (total 9 columns):\n",
      "出发机场      object\n",
      "到达机场      object\n",
      "航班编号      object\n",
      "计划起飞时间    int64\n",
      "计划到达时间    int64\n",
      "实际起飞时间    float64\n",
      "实际到达时间    float64\n",
      "飞机编号      float64\n",
      "航班是否取消    object\n",
      "dtypes: float64(3), int64(2), object(4)\n",
      "memory usage: 516.3+ MB\n"
     ]
    }
   ],
   "source": [
    "train_f = pd.read_csv('input/train/raw/fight-201505-201705.csv', encoding='gb2312', low_memory=False)\n",
    "\n",
    "display(train_f.head())\n",
    "train_f.info()"
   ]
  },
  {
   "cell_type": "code",
   "execution_count": 43,
   "metadata": {
    "collapsed": false
   },
   "outputs": [
    {
     "data": {
      "text/html": [
       "<div>\n",
       "<style>\n",
       "    .dataframe thead tr:only-child th {\n",
       "        text-align: right;\n",
       "    }\n",
       "\n",
       "    .dataframe thead th {\n",
       "        text-align: left;\n",
       "    }\n",
       "\n",
       "    .dataframe tbody tr th {\n",
       "        vertical-align: top;\n",
       "    }\n",
       "</style>\n",
       "<table border=\"1\" class=\"dataframe\">\n",
       "  <thead>\n",
       "    <tr style=\"text-align: right;\">\n",
       "      <th></th>\n",
       "      <th>Departure</th>\n",
       "      <th>Destination</th>\n",
       "      <th>FLTNo</th>\n",
       "      <th>PDepartureTime</th>\n",
       "      <th>PArrivalTime</th>\n",
       "      <th>ADepartureTime</th>\n",
       "      <th>AArrivalTime</th>\n",
       "      <th>Id</th>\n",
       "      <th>Cancel</th>\n",
       "    </tr>\n",
       "  </thead>\n",
       "  <tbody>\n",
       "    <tr>\n",
       "      <th>0</th>\n",
       "      <td>HGH</td>\n",
       "      <td>DLC</td>\n",
       "      <td>CZ6328</td>\n",
       "      <td>1453809600</td>\n",
       "      <td>1453817100</td>\n",
       "      <td>1.453813e+09</td>\n",
       "      <td>1.453819e+09</td>\n",
       "      <td>1.0</td>\n",
       "      <td>正常</td>\n",
       "    </tr>\n",
       "    <tr>\n",
       "      <th>1</th>\n",
       "      <td>SHA</td>\n",
       "      <td>XMN</td>\n",
       "      <td>FM9261</td>\n",
       "      <td>1452760800</td>\n",
       "      <td>1452767100</td>\n",
       "      <td>1.452763e+09</td>\n",
       "      <td>1.452768e+09</td>\n",
       "      <td>2.0</td>\n",
       "      <td>正常</td>\n",
       "    </tr>\n",
       "    <tr>\n",
       "      <th>2</th>\n",
       "      <td>CAN</td>\n",
       "      <td>WNZ</td>\n",
       "      <td>ZH9597</td>\n",
       "      <td>1453800900</td>\n",
       "      <td>1453807500</td>\n",
       "      <td>1.453802e+09</td>\n",
       "      <td>1.453807e+09</td>\n",
       "      <td>3.0</td>\n",
       "      <td>正常</td>\n",
       "    </tr>\n",
       "    <tr>\n",
       "      <th>3</th>\n",
       "      <td>SHA</td>\n",
       "      <td>ZUH</td>\n",
       "      <td>9C8819</td>\n",
       "      <td>1452120600</td>\n",
       "      <td>1452131100</td>\n",
       "      <td>1.452121e+09</td>\n",
       "      <td>1.452130e+09</td>\n",
       "      <td>4.0</td>\n",
       "      <td>正常</td>\n",
       "    </tr>\n",
       "    <tr>\n",
       "      <th>4</th>\n",
       "      <td>SHE</td>\n",
       "      <td>TAO</td>\n",
       "      <td>TZ185</td>\n",
       "      <td>1452399000</td>\n",
       "      <td>1452406800</td>\n",
       "      <td>1.452400e+09</td>\n",
       "      <td>1.452404e+09</td>\n",
       "      <td>5.0</td>\n",
       "      <td>正常</td>\n",
       "    </tr>\n",
       "  </tbody>\n",
       "</table>\n",
       "</div>"
      ],
      "text/plain": [
       "  Departure Destination   FLTNo  PDepartureTime  PArrivalTime  ADepartureTime  \\\n",
       "0       HGH         DLC  CZ6328      1453809600    1453817100    1.453813e+09   \n",
       "1       SHA         XMN  FM9261      1452760800    1452767100    1.452763e+09   \n",
       "2       CAN         WNZ  ZH9597      1453800900    1453807500    1.453802e+09   \n",
       "3       SHA         ZUH  9C8819      1452120600    1452131100    1.452121e+09   \n",
       "4       SHE         TAO   TZ185      1452399000    1452406800    1.452400e+09   \n",
       "\n",
       "   AArrivalTime   Id Cancel  \n",
       "0  1.453819e+09  1.0     正常  \n",
       "1  1.452768e+09  2.0     正常  \n",
       "2  1.453807e+09  3.0     正常  \n",
       "3  1.452130e+09  4.0     正常  \n",
       "4  1.452404e+09  5.0     正常  "
      ]
     },
     "execution_count": 43,
     "metadata": {},
     "output_type": "execute_result"
    }
   ],
   "source": [
    "train_f.columns = ['Departure', 'Destination', 'FLTNo', 'PDepartureTime', 'PArrivalTime', 'ADepartureTime', 'AArrivalTime', 'Id', 'Cancel']\n",
    "\n",
    "train_f.head()"
   ]
  },
  {
   "cell_type": "markdown",
   "metadata": {},
   "source": [
    "## 空值\n",
    "\n",
    "Departure、Destination、FLTNo、PDepartureTime、PArrivalTime都没有Null。"
   ]
  },
  {
   "cell_type": "code",
   "execution_count": 44,
   "metadata": {
    "collapsed": false
   },
   "outputs": [
    {
     "data": {
      "text/html": [
       "<div>\n",
       "<style>\n",
       "    .dataframe thead tr:only-child th {\n",
       "        text-align: right;\n",
       "    }\n",
       "\n",
       "    .dataframe thead th {\n",
       "        text-align: left;\n",
       "    }\n",
       "\n",
       "    .dataframe tbody tr th {\n",
       "        vertical-align: top;\n",
       "    }\n",
       "</style>\n",
       "<table border=\"1\" class=\"dataframe\">\n",
       "  <thead>\n",
       "    <tr style=\"text-align: right;\">\n",
       "      <th></th>\n",
       "      <th>Departure</th>\n",
       "      <th>Destination</th>\n",
       "      <th>FLTNo</th>\n",
       "      <th>PDepartureTime</th>\n",
       "      <th>PArrivalTime</th>\n",
       "      <th>ADepartureTime</th>\n",
       "      <th>AArrivalTime</th>\n",
       "      <th>Id</th>\n",
       "      <th>Cancel</th>\n",
       "    </tr>\n",
       "  </thead>\n",
       "  <tbody>\n",
       "  </tbody>\n",
       "</table>\n",
       "</div>"
      ],
      "text/plain": [
       "Empty DataFrame\n",
       "Columns: [Departure, Destination, FLTNo, PDepartureTime, PArrivalTime, ADepartureTime, AArrivalTime, Id, Cancel]\n",
       "Index: []"
      ]
     },
     "execution_count": 44,
     "metadata": {},
     "output_type": "execute_result"
    }
   ],
   "source": [
    "train_f[train_f['Departure'].isnull()]"
   ]
  },
  {
   "cell_type": "code",
   "execution_count": 45,
   "metadata": {
    "collapsed": false
   },
   "outputs": [
    {
     "data": {
      "text/html": [
       "<div>\n",
       "<style>\n",
       "    .dataframe thead tr:only-child th {\n",
       "        text-align: right;\n",
       "    }\n",
       "\n",
       "    .dataframe thead th {\n",
       "        text-align: left;\n",
       "    }\n",
       "\n",
       "    .dataframe tbody tr th {\n",
       "        vertical-align: top;\n",
       "    }\n",
       "</style>\n",
       "<table border=\"1\" class=\"dataframe\">\n",
       "  <thead>\n",
       "    <tr style=\"text-align: right;\">\n",
       "      <th></th>\n",
       "      <th>Departure</th>\n",
       "      <th>Destination</th>\n",
       "      <th>FLTNo</th>\n",
       "      <th>PDepartureTime</th>\n",
       "      <th>PArrivalTime</th>\n",
       "      <th>ADepartureTime</th>\n",
       "      <th>AArrivalTime</th>\n",
       "      <th>Id</th>\n",
       "      <th>Cancel</th>\n",
       "    </tr>\n",
       "  </thead>\n",
       "  <tbody>\n",
       "  </tbody>\n",
       "</table>\n",
       "</div>"
      ],
      "text/plain": [
       "Empty DataFrame\n",
       "Columns: [Departure, Destination, FLTNo, PDepartureTime, PArrivalTime, ADepartureTime, AArrivalTime, Id, Cancel]\n",
       "Index: []"
      ]
     },
     "execution_count": 45,
     "metadata": {},
     "output_type": "execute_result"
    }
   ],
   "source": [
    "train_f[train_f['Destination'].isnull()]"
   ]
  },
  {
   "cell_type": "code",
   "execution_count": 46,
   "metadata": {
    "collapsed": false
   },
   "outputs": [
    {
     "data": {
      "text/html": [
       "<div>\n",
       "<style>\n",
       "    .dataframe thead tr:only-child th {\n",
       "        text-align: right;\n",
       "    }\n",
       "\n",
       "    .dataframe thead th {\n",
       "        text-align: left;\n",
       "    }\n",
       "\n",
       "    .dataframe tbody tr th {\n",
       "        vertical-align: top;\n",
       "    }\n",
       "</style>\n",
       "<table border=\"1\" class=\"dataframe\">\n",
       "  <thead>\n",
       "    <tr style=\"text-align: right;\">\n",
       "      <th></th>\n",
       "      <th>Departure</th>\n",
       "      <th>Destination</th>\n",
       "      <th>FLTNo</th>\n",
       "      <th>PDepartureTime</th>\n",
       "      <th>PArrivalTime</th>\n",
       "      <th>ADepartureTime</th>\n",
       "      <th>AArrivalTime</th>\n",
       "      <th>Id</th>\n",
       "      <th>Cancel</th>\n",
       "    </tr>\n",
       "  </thead>\n",
       "  <tbody>\n",
       "  </tbody>\n",
       "</table>\n",
       "</div>"
      ],
      "text/plain": [
       "Empty DataFrame\n",
       "Columns: [Departure, Destination, FLTNo, PDepartureTime, PArrivalTime, ADepartureTime, AArrivalTime, Id, Cancel]\n",
       "Index: []"
      ]
     },
     "execution_count": 46,
     "metadata": {},
     "output_type": "execute_result"
    }
   ],
   "source": [
    "train_f[train_f['FLTNo'].isnull()]"
   ]
  },
  {
   "cell_type": "code",
   "execution_count": 47,
   "metadata": {
    "collapsed": false
   },
   "outputs": [
    {
     "data": {
      "text/html": [
       "<div>\n",
       "<style>\n",
       "    .dataframe thead tr:only-child th {\n",
       "        text-align: right;\n",
       "    }\n",
       "\n",
       "    .dataframe thead th {\n",
       "        text-align: left;\n",
       "    }\n",
       "\n",
       "    .dataframe tbody tr th {\n",
       "        vertical-align: top;\n",
       "    }\n",
       "</style>\n",
       "<table border=\"1\" class=\"dataframe\">\n",
       "  <thead>\n",
       "    <tr style=\"text-align: right;\">\n",
       "      <th></th>\n",
       "      <th>Departure</th>\n",
       "      <th>Destination</th>\n",
       "      <th>FLTNo</th>\n",
       "      <th>PDepartureTime</th>\n",
       "      <th>PArrivalTime</th>\n",
       "      <th>ADepartureTime</th>\n",
       "      <th>AArrivalTime</th>\n",
       "      <th>Id</th>\n",
       "      <th>Cancel</th>\n",
       "    </tr>\n",
       "  </thead>\n",
       "  <tbody>\n",
       "  </tbody>\n",
       "</table>\n",
       "</div>"
      ],
      "text/plain": [
       "Empty DataFrame\n",
       "Columns: [Departure, Destination, FLTNo, PDepartureTime, PArrivalTime, ADepartureTime, AArrivalTime, Id, Cancel]\n",
       "Index: []"
      ]
     },
     "execution_count": 47,
     "metadata": {},
     "output_type": "execute_result"
    }
   ],
   "source": [
    "train_f[train_f['PDepartureTime'].isnull()]"
   ]
  },
  {
   "cell_type": "code",
   "execution_count": 48,
   "metadata": {
    "collapsed": false
   },
   "outputs": [
    {
     "data": {
      "text/html": [
       "<div>\n",
       "<style>\n",
       "    .dataframe thead tr:only-child th {\n",
       "        text-align: right;\n",
       "    }\n",
       "\n",
       "    .dataframe thead th {\n",
       "        text-align: left;\n",
       "    }\n",
       "\n",
       "    .dataframe tbody tr th {\n",
       "        vertical-align: top;\n",
       "    }\n",
       "</style>\n",
       "<table border=\"1\" class=\"dataframe\">\n",
       "  <thead>\n",
       "    <tr style=\"text-align: right;\">\n",
       "      <th></th>\n",
       "      <th>Departure</th>\n",
       "      <th>Destination</th>\n",
       "      <th>FLTNo</th>\n",
       "      <th>PDepartureTime</th>\n",
       "      <th>PArrivalTime</th>\n",
       "      <th>ADepartureTime</th>\n",
       "      <th>AArrivalTime</th>\n",
       "      <th>Id</th>\n",
       "      <th>Cancel</th>\n",
       "    </tr>\n",
       "  </thead>\n",
       "  <tbody>\n",
       "  </tbody>\n",
       "</table>\n",
       "</div>"
      ],
      "text/plain": [
       "Empty DataFrame\n",
       "Columns: [Departure, Destination, FLTNo, PDepartureTime, PArrivalTime, ADepartureTime, AArrivalTime, Id, Cancel]\n",
       "Index: []"
      ]
     },
     "execution_count": 48,
     "metadata": {},
     "output_type": "execute_result"
    }
   ],
   "source": [
    "train_f[train_f['PArrivalTime'].isnull()]"
   ]
  },
  {
   "cell_type": "markdown",
   "metadata": {},
   "source": [
    "ADepartureTime有很多Null值，可以发现其中绝大部门都是因为航班取消了，这也能够理解，航班取消了自然就不会有出发时间了。这种继续保持NaN值就好，后面这个特征肯定会被转换成其他特征而拿掉的。"
   ]
  },
  {
   "cell_type": "code",
   "execution_count": 49,
   "metadata": {
    "collapsed": false
   },
   "outputs": [
    {
     "name": "stdout",
     "output_type": "stream",
     "text": [
      "ADepartureTime NaN:  2912418\n"
     ]
    },
    {
     "data": {
      "text/html": [
       "<div>\n",
       "<style>\n",
       "    .dataframe thead tr:only-child th {\n",
       "        text-align: right;\n",
       "    }\n",
       "\n",
       "    .dataframe thead th {\n",
       "        text-align: left;\n",
       "    }\n",
       "\n",
       "    .dataframe tbody tr th {\n",
       "        vertical-align: top;\n",
       "    }\n",
       "</style>\n",
       "<table border=\"1\" class=\"dataframe\">\n",
       "  <thead>\n",
       "    <tr style=\"text-align: right;\">\n",
       "      <th></th>\n",
       "      <th>Departure</th>\n",
       "      <th>Destination</th>\n",
       "      <th>FLTNo</th>\n",
       "      <th>PDepartureTime</th>\n",
       "      <th>PArrivalTime</th>\n",
       "      <th>ADepartureTime</th>\n",
       "      <th>AArrivalTime</th>\n",
       "      <th>Id</th>\n",
       "      <th>Cancel</th>\n",
       "    </tr>\n",
       "  </thead>\n",
       "  <tbody>\n",
       "    <tr>\n",
       "      <th>5</th>\n",
       "      <td>DLC</td>\n",
       "      <td>NNG</td>\n",
       "      <td>ZH953Z</td>\n",
       "      <td>1452385800</td>\n",
       "      <td>1452401700</td>\n",
       "      <td>NaN</td>\n",
       "      <td>NaN</td>\n",
       "      <td>6.0</td>\n",
       "      <td>取消</td>\n",
       "    </tr>\n",
       "    <tr>\n",
       "      <th>6</th>\n",
       "      <td>HGH</td>\n",
       "      <td>SZX</td>\n",
       "      <td>CZ6327</td>\n",
       "      <td>1452591900</td>\n",
       "      <td>1452600900</td>\n",
       "      <td>NaN</td>\n",
       "      <td>NaN</td>\n",
       "      <td>NaN</td>\n",
       "      <td>取消</td>\n",
       "    </tr>\n",
       "    <tr>\n",
       "      <th>55</th>\n",
       "      <td>HAK</td>\n",
       "      <td>SZX</td>\n",
       "      <td>HU7013</td>\n",
       "      <td>1452032700</td>\n",
       "      <td>1452037500</td>\n",
       "      <td>NaN</td>\n",
       "      <td>NaN</td>\n",
       "      <td>55.0</td>\n",
       "      <td>取消</td>\n",
       "    </tr>\n",
       "    <tr>\n",
       "      <th>78</th>\n",
       "      <td>WUX</td>\n",
       "      <td>SZX</td>\n",
       "      <td>MF1094</td>\n",
       "      <td>1452855300</td>\n",
       "      <td>1452864900</td>\n",
       "      <td>NaN</td>\n",
       "      <td>NaN</td>\n",
       "      <td>NaN</td>\n",
       "      <td>取消</td>\n",
       "    </tr>\n",
       "    <tr>\n",
       "      <th>98</th>\n",
       "      <td>CAN</td>\n",
       "      <td>URC</td>\n",
       "      <td>CZ6884</td>\n",
       "      <td>1453976100</td>\n",
       "      <td>1453996200</td>\n",
       "      <td>NaN</td>\n",
       "      <td>NaN</td>\n",
       "      <td>NaN</td>\n",
       "      <td>取消</td>\n",
       "    </tr>\n",
       "  </tbody>\n",
       "</table>\n",
       "</div>"
      ],
      "text/plain": [
       "   Departure Destination   FLTNo  PDepartureTime  PArrivalTime  \\\n",
       "5        DLC         NNG  ZH953Z      1452385800    1452401700   \n",
       "6        HGH         SZX  CZ6327      1452591900    1452600900   \n",
       "55       HAK         SZX  HU7013      1452032700    1452037500   \n",
       "78       WUX         SZX  MF1094      1452855300    1452864900   \n",
       "98       CAN         URC  CZ6884      1453976100    1453996200   \n",
       "\n",
       "    ADepartureTime  AArrivalTime    Id Cancel  \n",
       "5              NaN           NaN   6.0     取消  \n",
       "6              NaN           NaN   NaN     取消  \n",
       "55             NaN           NaN  55.0     取消  \n",
       "78             NaN           NaN   NaN     取消  \n",
       "98             NaN           NaN   NaN     取消  "
      ]
     },
     "execution_count": 49,
     "metadata": {},
     "output_type": "execute_result"
    }
   ],
   "source": [
    "print('ADepartureTime NaN: ', train_f[train_f['ADepartureTime'].isnull()].size)\n",
    "\n",
    "train_f[train_f['ADepartureTime'].isnull()].head()"
   ]
  },
  {
   "cell_type": "markdown",
   "metadata": {},
   "source": [
    "而下面这些航班没有取消，却没有实际出发时间的就很难弄了。"
   ]
  },
  {
   "cell_type": "code",
   "execution_count": 50,
   "metadata": {
    "collapsed": false
   },
   "outputs": [
    {
     "name": "stdout",
     "output_type": "stream",
     "text": [
      "ADepartureTime NaN:  15444\n"
     ]
    },
    {
     "data": {
      "text/html": [
       "<div>\n",
       "<style>\n",
       "    .dataframe thead tr:only-child th {\n",
       "        text-align: right;\n",
       "    }\n",
       "\n",
       "    .dataframe thead th {\n",
       "        text-align: left;\n",
       "    }\n",
       "\n",
       "    .dataframe tbody tr th {\n",
       "        vertical-align: top;\n",
       "    }\n",
       "</style>\n",
       "<table border=\"1\" class=\"dataframe\">\n",
       "  <thead>\n",
       "    <tr style=\"text-align: right;\">\n",
       "      <th></th>\n",
       "      <th>Departure</th>\n",
       "      <th>Destination</th>\n",
       "      <th>FLTNo</th>\n",
       "      <th>PDepartureTime</th>\n",
       "      <th>PArrivalTime</th>\n",
       "      <th>ADepartureTime</th>\n",
       "      <th>AArrivalTime</th>\n",
       "      <th>Id</th>\n",
       "      <th>Cancel</th>\n",
       "    </tr>\n",
       "  </thead>\n",
       "  <tbody>\n",
       "    <tr>\n",
       "      <th>183</th>\n",
       "      <td>HGH</td>\n",
       "      <td>CKG</td>\n",
       "      <td>OQ2380</td>\n",
       "      <td>1453606500</td>\n",
       "      <td>1453616400</td>\n",
       "      <td>NaN</td>\n",
       "      <td>1.453607e+09</td>\n",
       "      <td>176.0</td>\n",
       "      <td>正常</td>\n",
       "    </tr>\n",
       "    <tr>\n",
       "      <th>2767</th>\n",
       "      <td>FOC</td>\n",
       "      <td>PVG</td>\n",
       "      <td>MU5506</td>\n",
       "      <td>1452815700</td>\n",
       "      <td>1452820500</td>\n",
       "      <td>NaN</td>\n",
       "      <td>1.452822e+09</td>\n",
       "      <td>1239.0</td>\n",
       "      <td>正常</td>\n",
       "    </tr>\n",
       "    <tr>\n",
       "      <th>13891</th>\n",
       "      <td>LZH</td>\n",
       "      <td>CTU</td>\n",
       "      <td>EU2202</td>\n",
       "      <td>1453044600</td>\n",
       "      <td>1453050900</td>\n",
       "      <td>NaN</td>\n",
       "      <td>1.453052e+09</td>\n",
       "      <td>1559.0</td>\n",
       "      <td>正常</td>\n",
       "    </tr>\n",
       "    <tr>\n",
       "      <th>15737</th>\n",
       "      <td>KWE</td>\n",
       "      <td>DLC</td>\n",
       "      <td>HU762Z</td>\n",
       "      <td>1451865600</td>\n",
       "      <td>1451883000</td>\n",
       "      <td>NaN</td>\n",
       "      <td>1.451881e+09</td>\n",
       "      <td>498.0</td>\n",
       "      <td>正常</td>\n",
       "    </tr>\n",
       "    <tr>\n",
       "      <th>17352</th>\n",
       "      <td>TCZ</td>\n",
       "      <td>KMG</td>\n",
       "      <td>KY8288</td>\n",
       "      <td>1453020000</td>\n",
       "      <td>1453023600</td>\n",
       "      <td>NaN</td>\n",
       "      <td>1.453024e+09</td>\n",
       "      <td>168.0</td>\n",
       "      <td>正常</td>\n",
       "    </tr>\n",
       "  </tbody>\n",
       "</table>\n",
       "</div>"
      ],
      "text/plain": [
       "      Departure Destination   FLTNo  PDepartureTime  PArrivalTime  \\\n",
       "183         HGH         CKG  OQ2380      1453606500    1453616400   \n",
       "2767        FOC         PVG  MU5506      1452815700    1452820500   \n",
       "13891       LZH         CTU  EU2202      1453044600    1453050900   \n",
       "15737       KWE         DLC  HU762Z      1451865600    1451883000   \n",
       "17352       TCZ         KMG  KY8288      1453020000    1453023600   \n",
       "\n",
       "       ADepartureTime  AArrivalTime      Id Cancel  \n",
       "183               NaN  1.453607e+09   176.0     正常  \n",
       "2767              NaN  1.452822e+09  1239.0     正常  \n",
       "13891             NaN  1.453052e+09  1559.0     正常  \n",
       "15737             NaN  1.451881e+09   498.0     正常  \n",
       "17352             NaN  1.453024e+09   168.0     正常  "
      ]
     },
     "execution_count": 50,
     "metadata": {},
     "output_type": "execute_result"
    }
   ],
   "source": [
    "print('ADepartureTime NaN: ', train_f[train_f['ADepartureTime'].isnull() & (train_f['Cancel'] != '取消')].size)\n",
    "\n",
    "train_f[train_f['ADepartureTime'].isnull() & (train_f['Cancel'] != '取消')].head()"
   ]
  },
  {
   "cell_type": "markdown",
   "metadata": {},
   "source": [
    "那么我就看航班到达晚点了多少吧，姑且认为到达晚点了多少出发就晚点多少。"
   ]
  },
  {
   "cell_type": "code",
   "execution_count": 51,
   "metadata": {
    "collapsed": false
   },
   "outputs": [],
   "source": [
    "# 根据到达晚点的时间 填补 实际出发时间\n",
    "train_f['ADelay'] = train_f['AArrivalTime'] - train_f['PArrivalTime']\n",
    "\n",
    "cond = train_f['ADepartureTime'].isnull() & (train_f['Cancel'] != '取消')\n",
    "train_f.loc[cond, 'ADepartureTime'] = train_f.loc[cond, 'PDepartureTime'] + train_f.loc[cond, 'ADelay']"
   ]
  },
  {
   "cell_type": "code",
   "execution_count": 52,
   "metadata": {
    "collapsed": false
   },
   "outputs": [
    {
     "data": {
      "text/html": [
       "<div>\n",
       "<style>\n",
       "    .dataframe thead tr:only-child th {\n",
       "        text-align: right;\n",
       "    }\n",
       "\n",
       "    .dataframe thead th {\n",
       "        text-align: left;\n",
       "    }\n",
       "\n",
       "    .dataframe tbody tr th {\n",
       "        vertical-align: top;\n",
       "    }\n",
       "</style>\n",
       "<table border=\"1\" class=\"dataframe\">\n",
       "  <thead>\n",
       "    <tr style=\"text-align: right;\">\n",
       "      <th></th>\n",
       "      <th>Departure</th>\n",
       "      <th>Destination</th>\n",
       "      <th>FLTNo</th>\n",
       "      <th>PDepartureTime</th>\n",
       "      <th>PArrivalTime</th>\n",
       "      <th>ADepartureTime</th>\n",
       "      <th>AArrivalTime</th>\n",
       "      <th>Id</th>\n",
       "      <th>Cancel</th>\n",
       "      <th>ADelay</th>\n",
       "    </tr>\n",
       "  </thead>\n",
       "  <tbody>\n",
       "  </tbody>\n",
       "</table>\n",
       "</div>"
      ],
      "text/plain": [
       "Empty DataFrame\n",
       "Columns: [Departure, Destination, FLTNo, PDepartureTime, PArrivalTime, ADepartureTime, AArrivalTime, Id, Cancel, ADelay]\n",
       "Index: []"
      ]
     },
     "execution_count": 52,
     "metadata": {},
     "output_type": "execute_result"
    }
   ],
   "source": [
    "train_f[train_f['ADepartureTime'].isnull() & (train_f['Cancel'] != '取消')].head()"
   ]
  },
  {
   "cell_type": "markdown",
   "metadata": {},
   "source": [
    "AArrivalTime的Null值也不少，幸运的是，AArrivalTime为Null的航班全部都取消了，我们无需对Null做处理。"
   ]
  },
  {
   "cell_type": "code",
   "execution_count": 54,
   "metadata": {
    "collapsed": false
   },
   "outputs": [
    {
     "name": "stdout",
     "output_type": "stream",
     "text": [
      "AArrivalTime NaN:  3231240\n",
      "AArrivalTime NaN and not Cancel:  0\n"
     ]
    }
   ],
   "source": [
    "print('AArrivalTime NaN: ', train_f[train_f['AArrivalTime'].isnull()].size)\n",
    "\n",
    "print('AArrivalTime NaN and not Cancel: ', train_f[train_f['AArrivalTime'].isnull() & (train_f['Cancel'] != '取消')].size)\n"
   ]
  },
  {
   "cell_type": "markdown",
   "metadata": {},
   "source": [
    "Id为Null且航班未取消的有27w+，真头疼！处理思路是根据航班号、出发、到达机场找到前序、后续航班，拿前序、后续航班的Id进行填充，但这个数据量太大，具体实现要想想办法。"
   ]
  },
  {
   "cell_type": "code",
   "execution_count": 55,
   "metadata": {
    "collapsed": false
   },
   "outputs": [
    {
     "name": "stdout",
     "output_type": "stream",
     "text": [
      "Id NaN:  273610\n"
     ]
    },
    {
     "data": {
      "text/html": [
       "<div>\n",
       "<style>\n",
       "    .dataframe thead tr:only-child th {\n",
       "        text-align: right;\n",
       "    }\n",
       "\n",
       "    .dataframe thead th {\n",
       "        text-align: left;\n",
       "    }\n",
       "\n",
       "    .dataframe tbody tr th {\n",
       "        vertical-align: top;\n",
       "    }\n",
       "</style>\n",
       "<table border=\"1\" class=\"dataframe\">\n",
       "  <thead>\n",
       "    <tr style=\"text-align: right;\">\n",
       "      <th></th>\n",
       "      <th>Departure</th>\n",
       "      <th>Destination</th>\n",
       "      <th>FLTNo</th>\n",
       "      <th>PDepartureTime</th>\n",
       "      <th>PArrivalTime</th>\n",
       "      <th>ADepartureTime</th>\n",
       "      <th>AArrivalTime</th>\n",
       "      <th>Id</th>\n",
       "      <th>Cancel</th>\n",
       "      <th>ADelay</th>\n",
       "    </tr>\n",
       "  </thead>\n",
       "  <tbody>\n",
       "    <tr>\n",
       "      <th>2720</th>\n",
       "      <td>DNH</td>\n",
       "      <td>LHW</td>\n",
       "      <td>MU7582</td>\n",
       "      <td>1452936900</td>\n",
       "      <td>1452942600</td>\n",
       "      <td>1.452936e+09</td>\n",
       "      <td>1.452940e+09</td>\n",
       "      <td>NaN</td>\n",
       "      <td>正常</td>\n",
       "      <td>-2160.0</td>\n",
       "    </tr>\n",
       "    <tr>\n",
       "      <th>9012</th>\n",
       "      <td>JHG</td>\n",
       "      <td>CKG</td>\n",
       "      <td>PN6216A</td>\n",
       "      <td>1454255400</td>\n",
       "      <td>1454265900</td>\n",
       "      <td>1.454260e+09</td>\n",
       "      <td>1.454269e+09</td>\n",
       "      <td>NaN</td>\n",
       "      <td>正常</td>\n",
       "      <td>3420.0</td>\n",
       "    </tr>\n",
       "    <tr>\n",
       "      <th>15058</th>\n",
       "      <td>DNH</td>\n",
       "      <td>XIY</td>\n",
       "      <td>GS7680A</td>\n",
       "      <td>1454002200</td>\n",
       "      <td>1454013300</td>\n",
       "      <td>1.454003e+09</td>\n",
       "      <td>1.454013e+09</td>\n",
       "      <td>NaN</td>\n",
       "      <td>正常</td>\n",
       "      <td>120.0</td>\n",
       "    </tr>\n",
       "    <tr>\n",
       "      <th>15792</th>\n",
       "      <td>CKG</td>\n",
       "      <td>KWE</td>\n",
       "      <td>CZ3641A</td>\n",
       "      <td>1452362400</td>\n",
       "      <td>1452365100</td>\n",
       "      <td>1.452369e+09</td>\n",
       "      <td>1.452372e+09</td>\n",
       "      <td>NaN</td>\n",
       "      <td>正常</td>\n",
       "      <td>6540.0</td>\n",
       "    </tr>\n",
       "    <tr>\n",
       "      <th>16320</th>\n",
       "      <td>CAN</td>\n",
       "      <td>HAK</td>\n",
       "      <td>CZ6778A</td>\n",
       "      <td>1453479300</td>\n",
       "      <td>1453483500</td>\n",
       "      <td>1.453480e+09</td>\n",
       "      <td>1.453484e+09</td>\n",
       "      <td>NaN</td>\n",
       "      <td>正常</td>\n",
       "      <td>540.0</td>\n",
       "    </tr>\n",
       "  </tbody>\n",
       "</table>\n",
       "</div>"
      ],
      "text/plain": [
       "      Departure Destination    FLTNo  PDepartureTime  PArrivalTime  \\\n",
       "2720        DNH         LHW   MU7582      1452936900    1452942600   \n",
       "9012        JHG         CKG  PN6216A      1454255400    1454265900   \n",
       "15058       DNH         XIY  GS7680A      1454002200    1454013300   \n",
       "15792       CKG         KWE  CZ3641A      1452362400    1452365100   \n",
       "16320       CAN         HAK  CZ6778A      1453479300    1453483500   \n",
       "\n",
       "       ADepartureTime  AArrivalTime  Id Cancel  ADelay  \n",
       "2720     1.452936e+09  1.452940e+09 NaN     正常 -2160.0  \n",
       "9012     1.454260e+09  1.454269e+09 NaN     正常  3420.0  \n",
       "15058    1.454003e+09  1.454013e+09 NaN     正常   120.0  \n",
       "15792    1.452369e+09  1.452372e+09 NaN     正常  6540.0  \n",
       "16320    1.453480e+09  1.453484e+09 NaN     正常   540.0  "
      ]
     },
     "execution_count": 55,
     "metadata": {},
     "output_type": "execute_result"
    }
   ],
   "source": [
    "print('Id NaN: ', train_f[train_f['Id'].isnull() & (train_f['Cancel'] != '取消')].size)\n",
    "\n",
    "train_f[train_f['Id'].isnull() & (train_f['Cancel'] != '取消')].head()"
   ]
  },
  {
   "cell_type": "code",
   "execution_count": null,
   "metadata": {
    "collapsed": true
   },
   "outputs": [],
   "source": [
    "#id null的填充，待完成"
   ]
  },
  {
   "cell_type": "markdown",
   "metadata": {},
   "source": [
    "Cancel无Null值，只有“正常”和“取消”。这里将正常用0替代，取消用1来替代。"
   ]
  },
  {
   "cell_type": "code",
   "execution_count": 56,
   "metadata": {
    "collapsed": false
   },
   "outputs": [
    {
     "data": {
      "text/plain": [
       "正常    7195285\n",
       "取消     323353\n",
       "Name: Cancel, dtype: int64"
      ]
     },
     "execution_count": 56,
     "metadata": {},
     "output_type": "execute_result"
    }
   ],
   "source": [
    "train_f['Cancel'].value_counts()"
   ]
  },
  {
   "cell_type": "code",
   "execution_count": 57,
   "metadata": {
    "collapsed": false
   },
   "outputs": [
    {
     "data": {
      "text/html": [
       "<div>\n",
       "<style>\n",
       "    .dataframe thead tr:only-child th {\n",
       "        text-align: right;\n",
       "    }\n",
       "\n",
       "    .dataframe thead th {\n",
       "        text-align: left;\n",
       "    }\n",
       "\n",
       "    .dataframe tbody tr th {\n",
       "        vertical-align: top;\n",
       "    }\n",
       "</style>\n",
       "<table border=\"1\" class=\"dataframe\">\n",
       "  <thead>\n",
       "    <tr style=\"text-align: right;\">\n",
       "      <th></th>\n",
       "      <th>Departure</th>\n",
       "      <th>Destination</th>\n",
       "      <th>FLTNo</th>\n",
       "      <th>PDepartureTime</th>\n",
       "      <th>PArrivalTime</th>\n",
       "      <th>ADepartureTime</th>\n",
       "      <th>AArrivalTime</th>\n",
       "      <th>Id</th>\n",
       "      <th>Cancel</th>\n",
       "      <th>ADelay</th>\n",
       "    </tr>\n",
       "  </thead>\n",
       "  <tbody>\n",
       "    <tr>\n",
       "      <th>0</th>\n",
       "      <td>HGH</td>\n",
       "      <td>DLC</td>\n",
       "      <td>CZ6328</td>\n",
       "      <td>1453809600</td>\n",
       "      <td>1453817100</td>\n",
       "      <td>1.453813e+09</td>\n",
       "      <td>1.453819e+09</td>\n",
       "      <td>1.0</td>\n",
       "      <td>0</td>\n",
       "      <td>2280.0</td>\n",
       "    </tr>\n",
       "    <tr>\n",
       "      <th>1</th>\n",
       "      <td>SHA</td>\n",
       "      <td>XMN</td>\n",
       "      <td>FM9261</td>\n",
       "      <td>1452760800</td>\n",
       "      <td>1452767100</td>\n",
       "      <td>1.452763e+09</td>\n",
       "      <td>1.452768e+09</td>\n",
       "      <td>2.0</td>\n",
       "      <td>0</td>\n",
       "      <td>840.0</td>\n",
       "    </tr>\n",
       "    <tr>\n",
       "      <th>2</th>\n",
       "      <td>CAN</td>\n",
       "      <td>WNZ</td>\n",
       "      <td>ZH9597</td>\n",
       "      <td>1453800900</td>\n",
       "      <td>1453807500</td>\n",
       "      <td>1.453802e+09</td>\n",
       "      <td>1.453807e+09</td>\n",
       "      <td>3.0</td>\n",
       "      <td>0</td>\n",
       "      <td>-660.0</td>\n",
       "    </tr>\n",
       "    <tr>\n",
       "      <th>3</th>\n",
       "      <td>SHA</td>\n",
       "      <td>ZUH</td>\n",
       "      <td>9C8819</td>\n",
       "      <td>1452120600</td>\n",
       "      <td>1452131100</td>\n",
       "      <td>1.452121e+09</td>\n",
       "      <td>1.452130e+09</td>\n",
       "      <td>4.0</td>\n",
       "      <td>0</td>\n",
       "      <td>-1260.0</td>\n",
       "    </tr>\n",
       "    <tr>\n",
       "      <th>4</th>\n",
       "      <td>SHE</td>\n",
       "      <td>TAO</td>\n",
       "      <td>TZ185</td>\n",
       "      <td>1452399000</td>\n",
       "      <td>1452406800</td>\n",
       "      <td>1.452400e+09</td>\n",
       "      <td>1.452404e+09</td>\n",
       "      <td>5.0</td>\n",
       "      <td>0</td>\n",
       "      <td>-2460.0</td>\n",
       "    </tr>\n",
       "  </tbody>\n",
       "</table>\n",
       "</div>"
      ],
      "text/plain": [
       "  Departure Destination   FLTNo  PDepartureTime  PArrivalTime  ADepartureTime  \\\n",
       "0       HGH         DLC  CZ6328      1453809600    1453817100    1.453813e+09   \n",
       "1       SHA         XMN  FM9261      1452760800    1452767100    1.452763e+09   \n",
       "2       CAN         WNZ  ZH9597      1453800900    1453807500    1.453802e+09   \n",
       "3       SHA         ZUH  9C8819      1452120600    1452131100    1.452121e+09   \n",
       "4       SHE         TAO   TZ185      1452399000    1452406800    1.452400e+09   \n",
       "\n",
       "   AArrivalTime   Id  Cancel  ADelay  \n",
       "0  1.453819e+09  1.0       0  2280.0  \n",
       "1  1.452768e+09  2.0       0   840.0  \n",
       "2  1.453807e+09  3.0       0  -660.0  \n",
       "3  1.452130e+09  4.0       0 -1260.0  \n",
       "4  1.452404e+09  5.0       0 -2460.0  "
      ]
     },
     "execution_count": 57,
     "metadata": {},
     "output_type": "execute_result"
    }
   ],
   "source": [
    "train_f['Cancel'] = train_f['Cancel'].map({'正常': 0, '取消': 1})\n",
    "train_f.head()"
   ]
  },
  {
   "cell_type": "markdown",
   "metadata": {},
   "source": [
    "## 前序、后序"
   ]
  },
  {
   "cell_type": "code",
   "execution_count": null,
   "metadata": {
    "collapsed": true
   },
   "outputs": [],
   "source": []
  },
  {
   "cell_type": "code",
   "execution_count": null,
   "metadata": {
    "collapsed": true
   },
   "outputs": [],
   "source": []
  },
  {
   "cell_type": "code",
   "execution_count": null,
   "metadata": {
    "collapsed": true
   },
   "outputs": [],
   "source": []
  },
  {
   "cell_type": "code",
   "execution_count": null,
   "metadata": {
    "collapsed": true
   },
   "outputs": [],
   "source": []
  }
 ],
 "metadata": {
  "kernelspec": {
   "display_name": "Python 3",
   "language": "python",
   "name": "python3"
  },
  "language_info": {
   "codemirror_mode": {
    "name": "ipython",
    "version": 3
   },
   "file_extension": ".py",
   "mimetype": "text/x-python",
   "name": "python",
   "nbconvert_exporter": "python",
   "pygments_lexer": "ipython3",
   "version": "3.6.0"
  }
 },
 "nbformat": 4,
 "nbformat_minor": 2
}
