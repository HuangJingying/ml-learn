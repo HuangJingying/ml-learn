{
 "cells": [
  {
   "cell_type": "code",
   "execution_count": 2,
   "metadata": {
    "collapsed": true
   },
   "outputs": [],
   "source": [
    "import pandas as pd\n",
    "import numpy as np\n",
    "import matplotlib.pyplot as plt\n",
    "import seaborn as sns\n",
    "import matplotlib.ticker as ticker\n",
    "\n",
    "from IPython.display import display\n",
    "\n",
    "%matplotlib inline\n",
    "\n",
    "# sns.set(font=\"simhei\")"
   ]
  },
  {
   "cell_type": "markdown",
   "metadata": {},
   "source": [
    "特情数据"
   ]
  },
  {
   "cell_type": "code",
   "execution_count": 3,
   "metadata": {
    "collapsed": false
   },
   "outputs": [
    {
     "data": {
      "text/html": [
       "<div>\n",
       "<style>\n",
       "    .dataframe thead tr:only-child th {\n",
       "        text-align: right;\n",
       "    }\n",
       "\n",
       "    .dataframe thead th {\n",
       "        text-align: left;\n",
       "    }\n",
       "\n",
       "    .dataframe tbody tr th {\n",
       "        vertical-align: top;\n",
       "    }\n",
       "</style>\n",
       "<table border=\"1\" class=\"dataframe\">\n",
       "  <thead>\n",
       "    <tr style=\"text-align: right;\">\n",
       "      <th></th>\n",
       "      <th>Airport</th>\n",
       "      <th>CTime</th>\n",
       "      <th>STime</th>\n",
       "      <th>ETime</th>\n",
       "      <th>Content</th>\n",
       "    </tr>\n",
       "  </thead>\n",
       "  <tbody>\n",
       "    <tr>\n",
       "      <th>0</th>\n",
       "      <td>csx</td>\n",
       "      <td>2015-04-30 19:52:45Z</td>\n",
       "      <td>2015-05-01 12:00:00Z</td>\n",
       "      <td>2015-05-01 16:00:00Z</td>\n",
       "      <td>长沙机场航班延误黄色预警提示：预计明日（5月1日）12:00-16:00长沙黄花机场受雷雨天...</td>\n",
       "    </tr>\n",
       "    <tr>\n",
       "      <th>1</th>\n",
       "      <td>wuh</td>\n",
       "      <td>2015-05-01 08:13:39Z</td>\n",
       "      <td>2015-05-01 08:00:00Z</td>\n",
       "      <td>2015-05-01 12:00:00Z</td>\n",
       "      <td>目前，8时-12时雷雨，期间进出港航班可能受到影响。</td>\n",
       "    </tr>\n",
       "    <tr>\n",
       "      <th>2</th>\n",
       "      <td>khn</td>\n",
       "      <td>2015-05-01 08:14:18Z</td>\n",
       "      <td>2015-05-01 14:00:00Z</td>\n",
       "      <td>2015-05-01 17:00:00Z</td>\n",
       "      <td>预计，14时-17时小雷雨，期间进出港航班可能受到影响。</td>\n",
       "    </tr>\n",
       "    <tr>\n",
       "      <th>3</th>\n",
       "      <td>swa</td>\n",
       "      <td>2015-05-01 08:24:28Z</td>\n",
       "      <td>2015-05-01 13:00:00Z</td>\n",
       "      <td>2015-05-01 17:00:00Z</td>\n",
       "      <td>预计，13时-17时雷雨，期间进出港航班可能受到影响。</td>\n",
       "    </tr>\n",
       "    <tr>\n",
       "      <th>4</th>\n",
       "      <td>zha</td>\n",
       "      <td>2015-05-01 08:24:56Z</td>\n",
       "      <td>2015-05-01 13:00:00Z</td>\n",
       "      <td>2015-05-01 17:00:00Z</td>\n",
       "      <td>预计，13时-17时雷雨，期间进出港航班可能受到影响。</td>\n",
       "    </tr>\n",
       "  </tbody>\n",
       "</table>\n",
       "</div>"
      ],
      "text/plain": [
       "  Airport                 CTime                 STime                 ETime  \\\n",
       "0     csx  2015-04-30 19:52:45Z  2015-05-01 12:00:00Z  2015-05-01 16:00:00Z   \n",
       "1     wuh  2015-05-01 08:13:39Z  2015-05-01 08:00:00Z  2015-05-01 12:00:00Z   \n",
       "2     khn  2015-05-01 08:14:18Z  2015-05-01 14:00:00Z  2015-05-01 17:00:00Z   \n",
       "3     swa  2015-05-01 08:24:28Z  2015-05-01 13:00:00Z  2015-05-01 17:00:00Z   \n",
       "4     zha  2015-05-01 08:24:56Z  2015-05-01 13:00:00Z  2015-05-01 17:00:00Z   \n",
       "\n",
       "                                             Content  \n",
       "0  长沙机场航班延误黄色预警提示：预计明日（5月1日）12:00-16:00长沙黄花机场受雷雨天...  \n",
       "1                         目前，8时-12时雷雨，期间进出港航班可能受到影响。  \n",
       "2                       预计，14时-17时小雷雨，期间进出港航班可能受到影响。  \n",
       "3                        预计，13时-17时雷雨，期间进出港航班可能受到影响。  \n",
       "4                        预计，13时-17时雷雨，期间进出港航班可能受到影响。  "
      ]
     },
     "execution_count": 3,
     "metadata": {},
     "output_type": "execute_result"
    }
   ],
   "source": [
    "train_s = pd.read_csv('input/train/special-case.csv')\n",
    "train_s.head()"
   ]
  },
  {
   "cell_type": "code",
   "execution_count": 3,
   "metadata": {
    "collapsed": false
   },
   "outputs": [
    {
     "name": "stdout",
     "output_type": "stream",
     "text": [
      "<class 'pandas.core.frame.DataFrame'>\n",
      "RangeIndex: 15880 entries, 0 to 15879\n",
      "Data columns (total 5 columns):\n",
      "Airport    15877 non-null object\n",
      "CTime      15869 non-null object\n",
      "STime      15869 non-null object\n",
      "ETime      15862 non-null object\n",
      "Content    15868 non-null object\n",
      "dtypes: object(5)\n",
      "memory usage: 620.4+ KB\n"
     ]
    }
   ],
   "source": [
    "train_s.info()"
   ]
  },
  {
   "cell_type": "code",
   "execution_count": 16,
   "metadata": {
    "collapsed": false
   },
   "outputs": [
    {
     "data": {
      "text/html": [
       "<div>\n",
       "<style>\n",
       "    .dataframe thead tr:only-child th {\n",
       "        text-align: right;\n",
       "    }\n",
       "\n",
       "    .dataframe thead th {\n",
       "        text-align: left;\n",
       "    }\n",
       "\n",
       "    .dataframe tbody tr th {\n",
       "        vertical-align: top;\n",
       "    }\n",
       "</style>\n",
       "<table border=\"1\" class=\"dataframe\">\n",
       "  <thead>\n",
       "    <tr style=\"text-align: right;\">\n",
       "      <th></th>\n",
       "      <th>Airport</th>\n",
       "      <th>CTime</th>\n",
       "      <th>STime</th>\n",
       "      <th>ETime</th>\n",
       "      <th>Content</th>\n",
       "    </tr>\n",
       "  </thead>\n",
       "  <tbody>\n",
       "    <tr>\n",
       "      <th>2732</th>\n",
       "      <td>AAT</td>\n",
       "      <td>1447059964</td>\n",
       "      <td>1447059720</td>\n",
       "      <td>1447074000</td>\n",
       "      <td>道面积冰</td>\n",
       "    </tr>\n",
       "    <tr>\n",
       "      <th>2745</th>\n",
       "      <td>AAT</td>\n",
       "      <td>1447085303</td>\n",
       "      <td>1447080600</td>\n",
       "      <td>1447080600</td>\n",
       "      <td>跑道开放</td>\n",
       "    </tr>\n",
       "    <tr>\n",
       "      <th>2878</th>\n",
       "      <td>AAT</td>\n",
       "      <td>1448036125</td>\n",
       "      <td>1448035920</td>\n",
       "      <td>1448107200</td>\n",
       "      <td>积冰</td>\n",
       "    </tr>\n",
       "    <tr>\n",
       "      <th>2892</th>\n",
       "      <td>AAT</td>\n",
       "      <td>1448105097</td>\n",
       "      <td>1448105040</td>\n",
       "      <td>1448121600</td>\n",
       "      <td>跑道积冰</td>\n",
       "    </tr>\n",
       "    <tr>\n",
       "      <th>2898</th>\n",
       "      <td>AAT</td>\n",
       "      <td>1448118906</td>\n",
       "      <td>1448118720</td>\n",
       "      <td>1448118720</td>\n",
       "      <td>跑道开放</td>\n",
       "    </tr>\n",
       "  </tbody>\n",
       "</table>\n",
       "</div>"
      ],
      "text/plain": [
       "     Airport       CTime       STime       ETime Content\n",
       "2732     AAT  1447059964  1447059720  1447074000    道面积冰\n",
       "2745     AAT  1447085303  1447080600  1447080600    跑道开放\n",
       "2878     AAT  1448036125  1448035920  1448107200      积冰\n",
       "2892     AAT  1448105097  1448105040  1448121600    跑道积冰\n",
       "2898     AAT  1448118906  1448118720  1448118720    跑道开放"
      ]
     },
     "execution_count": 16,
     "metadata": {},
     "output_type": "execute_result"
    }
   ],
   "source": [
    "train_s.dropna(axis=0, inplace=True)\n",
    "\n",
    "train_s['CTime'] = pd.to_datetime(train_s['CTime']).astype(np.int64) // 10 ** 9\n",
    "train_s['STime'] = pd.to_datetime(train_s['STime']).astype(np.int64) // 10 ** 9\n",
    "train_s['ETime'] = pd.to_datetime(train_s['ETime']).astype(np.int64) // 10 ** 9\n",
    "\n",
    "train_s.sort_values(['Airport', 'STime', 'ETime'], ascending=True, inplace=True)\n",
    "\n",
    "train_s['Airport'] = train_s['Airport'].str.upper()\n",
    "\n",
    "train_s.head()"
   ]
  },
  {
   "cell_type": "markdown",
   "metadata": {
    "collapsed": true
   },
   "source": [
    "航班数据"
   ]
  },
  {
   "cell_type": "code",
   "execution_count": 5,
   "metadata": {
    "collapsed": false
   },
   "outputs": [
    {
     "data": {
      "text/html": [
       "<div>\n",
       "<style>\n",
       "    .dataframe thead tr:only-child th {\n",
       "        text-align: right;\n",
       "    }\n",
       "\n",
       "    .dataframe thead th {\n",
       "        text-align: left;\n",
       "    }\n",
       "\n",
       "    .dataframe tbody tr th {\n",
       "        vertical-align: top;\n",
       "    }\n",
       "</style>\n",
       "<table border=\"1\" class=\"dataframe\">\n",
       "  <thead>\n",
       "    <tr style=\"text-align: right;\">\n",
       "      <th></th>\n",
       "      <th>Departure</th>\n",
       "      <th>Destination</th>\n",
       "      <th>FLTNo</th>\n",
       "      <th>PDepartureTime</th>\n",
       "      <th>PArrivalTime</th>\n",
       "      <th>ADepartureTime</th>\n",
       "      <th>AArrivalTime</th>\n",
       "      <th>Id</th>\n",
       "      <th>IsCancel</th>\n",
       "    </tr>\n",
       "  </thead>\n",
       "  <tbody>\n",
       "    <tr>\n",
       "      <th>0</th>\n",
       "      <td>PVG</td>\n",
       "      <td>CKG</td>\n",
       "      <td>9C8867</td>\n",
       "      <td>1495602600</td>\n",
       "      <td>1495613700</td>\n",
       "      <td>1.495605e+09</td>\n",
       "      <td>1.495613e+09</td>\n",
       "      <td>2798.0</td>\n",
       "      <td>正常</td>\n",
       "    </tr>\n",
       "    <tr>\n",
       "      <th>1</th>\n",
       "      <td>CAN</td>\n",
       "      <td>TAO</td>\n",
       "      <td>HU7275</td>\n",
       "      <td>1493947200</td>\n",
       "      <td>1493958600</td>\n",
       "      <td>1.493948e+09</td>\n",
       "      <td>1.493958e+09</td>\n",
       "      <td>1479.0</td>\n",
       "      <td>正常</td>\n",
       "    </tr>\n",
       "    <tr>\n",
       "      <th>2</th>\n",
       "      <td>KWE</td>\n",
       "      <td>KMG</td>\n",
       "      <td>GJ8661</td>\n",
       "      <td>1494775200</td>\n",
       "      <td>1494779400</td>\n",
       "      <td>1.494783e+09</td>\n",
       "      <td>1.494787e+09</td>\n",
       "      <td>2957.0</td>\n",
       "      <td>正常</td>\n",
       "    </tr>\n",
       "    <tr>\n",
       "      <th>3</th>\n",
       "      <td>WNZ</td>\n",
       "      <td>CSX</td>\n",
       "      <td>CZ6956</td>\n",
       "      <td>1495185600</td>\n",
       "      <td>1495191300</td>\n",
       "      <td>1.495188e+09</td>\n",
       "      <td>1.495193e+09</td>\n",
       "      <td>419.0</td>\n",
       "      <td>正常</td>\n",
       "    </tr>\n",
       "    <tr>\n",
       "      <th>4</th>\n",
       "      <td>ENH</td>\n",
       "      <td>WUH</td>\n",
       "      <td>CZ3841</td>\n",
       "      <td>1494460800</td>\n",
       "      <td>1494465000</td>\n",
       "      <td>1.494471e+09</td>\n",
       "      <td>1.494474e+09</td>\n",
       "      <td>1421.0</td>\n",
       "      <td>正常</td>\n",
       "    </tr>\n",
       "  </tbody>\n",
       "</table>\n",
       "</div>"
      ],
      "text/plain": [
       "  Departure Destination   FLTNo  PDepartureTime  PArrivalTime  ADepartureTime  \\\n",
       "0       PVG         CKG  9C8867      1495602600    1495613700    1.495605e+09   \n",
       "1       CAN         TAO  HU7275      1493947200    1493958600    1.493948e+09   \n",
       "2       KWE         KMG  GJ8661      1494775200    1494779400    1.494783e+09   \n",
       "3       WNZ         CSX  CZ6956      1495185600    1495191300    1.495188e+09   \n",
       "4       ENH         WUH  CZ3841      1494460800    1494465000    1.494471e+09   \n",
       "\n",
       "   AArrivalTime      Id IsCancel  \n",
       "0  1.495613e+09  2798.0       正常  \n",
       "1  1.493958e+09  1479.0       正常  \n",
       "2  1.494787e+09  2957.0       正常  \n",
       "3  1.495193e+09   419.0       正常  \n",
       "4  1.494474e+09  1421.0       正常  "
      ]
     },
     "metadata": {},
     "output_type": "display_data"
    },
    {
     "name": "stdout",
     "output_type": "stream",
     "text": [
      "<class 'pandas.core.frame.DataFrame'>\n",
      "RangeIndex: 326557 entries, 0 to 326556\n",
      "Data columns (total 9 columns):\n",
      "Departure         326557 non-null object\n",
      "Destination       326557 non-null object\n",
      "FLTNo             326557 non-null object\n",
      "PDepartureTime    326557 non-null int64\n",
      "PArrivalTime      326557 non-null int64\n",
      "ADepartureTime    317996 non-null float64\n",
      "AArrivalTime      317875 non-null float64\n",
      "Id                322561 non-null float64\n",
      "IsCancel          326557 non-null object\n",
      "dtypes: float64(3), int64(2), object(4)\n",
      "memory usage: 22.4+ MB\n"
     ]
    }
   ],
   "source": [
    "train_1705 = pd.read_csv('input/train/fights-2017-05.csv')\n",
    "\n",
    "display(train_1705.head())\n",
    "train_1705.info()"
   ]
  },
  {
   "cell_type": "code",
   "execution_count": 6,
   "metadata": {
    "collapsed": false
   },
   "outputs": [],
   "source": [
    "train_1705.sort_values(['Departure', 'PDepartureTime'], ascending=True, inplace=True)"
   ]
  },
  {
   "cell_type": "code",
   "execution_count": 50,
   "metadata": {
    "collapsed": false
   },
   "outputs": [
    {
     "name": "stdout",
     "output_type": "stream",
     "text": [
      "0\n",
      "2\n",
      "414\n",
      "481\n",
      "490\n",
      "997\n",
      "1086\n",
      "1314\n",
      "1523\n",
      "1724\n",
      "1757\n",
      "2484\n",
      "3033\n",
      "3593\n",
      "3752\n",
      "3839\n",
      "3932\n",
      "4181\n",
      "19113\n",
      "19115\n",
      "19302\n",
      "26863\n",
      "30178\n",
      "30263\n",
      "30837\n",
      "31187\n",
      "42598\n",
      "49551\n",
      "62049\n",
      "62067\n",
      "62901\n",
      "63141\n",
      "63331\n",
      "63347\n",
      "63455\n",
      "63534\n",
      "63848\n",
      "69360\n",
      "69973\n",
      "70007\n",
      "70251\n",
      "70472\n",
      "71274\n",
      "72041\n",
      "72074\n",
      "72355\n",
      "72513\n",
      "72601\n",
      "76072\n",
      "76278\n",
      "76474\n",
      "76505\n",
      "76536\n",
      "76569\n",
      "76663\n",
      "76737\n",
      "76841\n",
      "76992\n",
      "82783\n",
      "82806\n",
      "83086\n",
      "83211\n",
      "87262\n",
      "90166\n",
      "99663\n",
      "100175\n",
      "100245\n",
      "100861\n",
      "101223\n",
      "101350\n",
      "101548\n",
      "101572\n",
      "106989\n",
      "107449\n",
      "107869\n",
      "107872\n",
      "108227\n",
      "108258\n",
      "108546\n",
      "108731\n",
      "108828\n",
      "111616\n",
      "111638\n",
      "111787\n",
      "111947\n",
      "112070\n",
      "112254\n",
      "112534\n",
      "113860\n",
      "113950\n",
      "114089\n",
      "115532\n",
      "115536\n",
      "115808\n",
      "116133\n",
      "116224\n",
      "116393\n",
      "116468\n",
      "116596\n",
      "117062\n",
      "117224\n",
      "117334\n",
      "118026\n",
      "121006\n",
      "121393\n",
      "121411\n",
      "135181\n",
      "135595\n"
     ]
    },
    {
     "ename": "KeyboardInterrupt",
     "evalue": "",
     "output_type": "error",
     "traceback": [
      "\u001b[0;31m---------------------------------------------------------------------------\u001b[0m",
      "\u001b[0;31mKeyboardInterrupt\u001b[0m                         Traceback (most recent call last)",
      "\u001b[0;32m<ipython-input-50-b347251e27ba>\u001b[0m in \u001b[0;36m<module>\u001b[0;34m()\u001b[0m\n\u001b[1;32m     14\u001b[0m         \u001b[0mj\u001b[0m \u001b[0;34m=\u001b[0m \u001b[0mm\u001b[0m \u001b[0;34m=\u001b[0m \u001b[0mk\u001b[0m\u001b[0;34m\u001b[0m\u001b[0m\n\u001b[1;32m     15\u001b[0m         \u001b[0mprint\u001b[0m\u001b[0;34m(\u001b[0m\u001b[0mj\u001b[0m\u001b[0;34m)\u001b[0m\u001b[0;34m\u001b[0m\u001b[0m\n\u001b[0;32m---> 16\u001b[0;31m         \u001b[0;32mwhile\u001b[0m \u001b[0mtrain_1705\u001b[0m\u001b[0;34m.\u001b[0m\u001b[0mloc\u001b[0m\u001b[0;34m[\u001b[0m\u001b[0midx\u001b[0m\u001b[0;34m[\u001b[0m\u001b[0mk\u001b[0m\u001b[0;34m]\u001b[0m\u001b[0;34m]\u001b[0m\u001b[0;34m[\u001b[0m\u001b[0;34m'Departure'\u001b[0m\u001b[0;34m]\u001b[0m \u001b[0;34m==\u001b[0m \u001b[0mtrain_1705\u001b[0m\u001b[0;34m.\u001b[0m\u001b[0mloc\u001b[0m\u001b[0;34m[\u001b[0m\u001b[0midx\u001b[0m\u001b[0;34m[\u001b[0m\u001b[0mj\u001b[0m\u001b[0;34m]\u001b[0m\u001b[0;34m]\u001b[0m\u001b[0;34m[\u001b[0m\u001b[0;34m'Departure'\u001b[0m\u001b[0;34m]\u001b[0m \u001b[0;32mand\u001b[0m \u001b[0mk\u001b[0m \u001b[0;34m<\u001b[0m \u001b[0mlen\u001b[0m\u001b[0;34m(\u001b[0m\u001b[0midx\u001b[0m\u001b[0;34m)\u001b[0m\u001b[0;34m:\u001b[0m\u001b[0;34m\u001b[0m\u001b[0m\n\u001b[0m\u001b[1;32m     17\u001b[0m             \u001b[0mk\u001b[0m \u001b[0;34m+=\u001b[0m \u001b[0;36m1\u001b[0m\u001b[0;34m\u001b[0m\u001b[0m\n\u001b[1;32m     18\u001b[0m \u001b[0;34m\u001b[0m\u001b[0m\n",
      "\u001b[0;32m/Library/Frameworks/Python.framework/Versions/3.5/lib/python3.5/site-packages/pandas/core/indexing.py\u001b[0m in \u001b[0;36m__getitem__\u001b[0;34m(self, key)\u001b[0m\n\u001b[1;32m   1326\u001b[0m         \u001b[0;32melse\u001b[0m\u001b[0;34m:\u001b[0m\u001b[0;34m\u001b[0m\u001b[0m\n\u001b[1;32m   1327\u001b[0m             \u001b[0mkey\u001b[0m \u001b[0;34m=\u001b[0m \u001b[0mcom\u001b[0m\u001b[0;34m.\u001b[0m\u001b[0m_apply_if_callable\u001b[0m\u001b[0;34m(\u001b[0m\u001b[0mkey\u001b[0m\u001b[0;34m,\u001b[0m \u001b[0mself\u001b[0m\u001b[0;34m.\u001b[0m\u001b[0mobj\u001b[0m\u001b[0;34m)\u001b[0m\u001b[0;34m\u001b[0m\u001b[0m\n\u001b[0;32m-> 1328\u001b[0;31m             \u001b[0;32mreturn\u001b[0m \u001b[0mself\u001b[0m\u001b[0;34m.\u001b[0m\u001b[0m_getitem_axis\u001b[0m\u001b[0;34m(\u001b[0m\u001b[0mkey\u001b[0m\u001b[0;34m,\u001b[0m \u001b[0maxis\u001b[0m\u001b[0;34m=\u001b[0m\u001b[0;36m0\u001b[0m\u001b[0;34m)\u001b[0m\u001b[0;34m\u001b[0m\u001b[0m\n\u001b[0m\u001b[1;32m   1329\u001b[0m \u001b[0;34m\u001b[0m\u001b[0m\n\u001b[1;32m   1330\u001b[0m     \u001b[0;32mdef\u001b[0m \u001b[0m_is_scalar_access\u001b[0m\u001b[0;34m(\u001b[0m\u001b[0mself\u001b[0m\u001b[0;34m,\u001b[0m \u001b[0mkey\u001b[0m\u001b[0;34m)\u001b[0m\u001b[0;34m:\u001b[0m\u001b[0;34m\u001b[0m\u001b[0m\n",
      "\u001b[0;32m/Library/Frameworks/Python.framework/Versions/3.5/lib/python3.5/site-packages/pandas/core/indexing.py\u001b[0m in \u001b[0;36m_getitem_axis\u001b[0;34m(self, key, axis)\u001b[0m\n\u001b[1;32m   1550\u001b[0m         \u001b[0;31m# fall thru to straight lookup\u001b[0m\u001b[0;34m\u001b[0m\u001b[0;34m\u001b[0m\u001b[0m\n\u001b[1;32m   1551\u001b[0m         \u001b[0mself\u001b[0m\u001b[0;34m.\u001b[0m\u001b[0m_has_valid_type\u001b[0m\u001b[0;34m(\u001b[0m\u001b[0mkey\u001b[0m\u001b[0;34m,\u001b[0m \u001b[0maxis\u001b[0m\u001b[0;34m)\u001b[0m\u001b[0;34m\u001b[0m\u001b[0m\n\u001b[0;32m-> 1552\u001b[0;31m         \u001b[0;32mreturn\u001b[0m \u001b[0mself\u001b[0m\u001b[0;34m.\u001b[0m\u001b[0m_get_label\u001b[0m\u001b[0;34m(\u001b[0m\u001b[0mkey\u001b[0m\u001b[0;34m,\u001b[0m \u001b[0maxis\u001b[0m\u001b[0;34m=\u001b[0m\u001b[0maxis\u001b[0m\u001b[0;34m)\u001b[0m\u001b[0;34m\u001b[0m\u001b[0m\n\u001b[0m\u001b[1;32m   1553\u001b[0m \u001b[0;34m\u001b[0m\u001b[0m\n\u001b[1;32m   1554\u001b[0m \u001b[0;34m\u001b[0m\u001b[0m\n",
      "\u001b[0;32m/Library/Frameworks/Python.framework/Versions/3.5/lib/python3.5/site-packages/pandas/core/indexing.py\u001b[0m in \u001b[0;36m_get_label\u001b[0;34m(self, label, axis)\u001b[0m\n\u001b[1;32m    134\u001b[0m             \u001b[0;32mraise\u001b[0m \u001b[0mIndexingError\u001b[0m\u001b[0;34m(\u001b[0m\u001b[0;34m'no slices here, handle elsewhere'\u001b[0m\u001b[0;34m)\u001b[0m\u001b[0;34m\u001b[0m\u001b[0m\n\u001b[1;32m    135\u001b[0m \u001b[0;34m\u001b[0m\u001b[0m\n\u001b[0;32m--> 136\u001b[0;31m         \u001b[0;32mreturn\u001b[0m \u001b[0mself\u001b[0m\u001b[0;34m.\u001b[0m\u001b[0mobj\u001b[0m\u001b[0;34m.\u001b[0m\u001b[0m_xs\u001b[0m\u001b[0;34m(\u001b[0m\u001b[0mlabel\u001b[0m\u001b[0;34m,\u001b[0m \u001b[0maxis\u001b[0m\u001b[0;34m=\u001b[0m\u001b[0maxis\u001b[0m\u001b[0;34m)\u001b[0m\u001b[0;34m\u001b[0m\u001b[0m\n\u001b[0m\u001b[1;32m    137\u001b[0m \u001b[0;34m\u001b[0m\u001b[0m\n\u001b[1;32m    138\u001b[0m     \u001b[0;32mdef\u001b[0m \u001b[0m_get_loc\u001b[0m\u001b[0;34m(\u001b[0m\u001b[0mself\u001b[0m\u001b[0;34m,\u001b[0m \u001b[0mkey\u001b[0m\u001b[0;34m,\u001b[0m \u001b[0maxis\u001b[0m\u001b[0;34m=\u001b[0m\u001b[0;36m0\u001b[0m\u001b[0;34m)\u001b[0m\u001b[0;34m:\u001b[0m\u001b[0;34m\u001b[0m\u001b[0m\n",
      "\u001b[0;32m/Library/Frameworks/Python.framework/Versions/3.5/lib/python3.5/site-packages/pandas/core/generic.py\u001b[0m in \u001b[0;36mxs\u001b[0;34m(self, key, axis, level, drop_level)\u001b[0m\n\u001b[1;32m   2055\u001b[0m             result = self._constructor_sliced(\n\u001b[1;32m   2056\u001b[0m                 \u001b[0mnew_values\u001b[0m\u001b[0;34m,\u001b[0m \u001b[0mindex\u001b[0m\u001b[0;34m=\u001b[0m\u001b[0mself\u001b[0m\u001b[0;34m.\u001b[0m\u001b[0mcolumns\u001b[0m\u001b[0;34m,\u001b[0m\u001b[0;34m\u001b[0m\u001b[0m\n\u001b[0;32m-> 2057\u001b[0;31m                 name=self.index[loc], dtype=new_values.dtype)\n\u001b[0m\u001b[1;32m   2058\u001b[0m \u001b[0;34m\u001b[0m\u001b[0m\n\u001b[1;32m   2059\u001b[0m         \u001b[0;32melse\u001b[0m\u001b[0;34m:\u001b[0m\u001b[0;34m\u001b[0m\u001b[0m\n",
      "\u001b[0;32m/Library/Frameworks/Python.framework/Versions/3.5/lib/python3.5/site-packages/pandas/core/series.py\u001b[0m in \u001b[0;36m__init__\u001b[0;34m(self, data, index, dtype, name, copy, fastpath)\u001b[0m\n\u001b[1;32m    253\u001b[0m \u001b[0;34m\u001b[0m\u001b[0m\n\u001b[1;32m    254\u001b[0m         \u001b[0mself\u001b[0m\u001b[0;34m.\u001b[0m\u001b[0mname\u001b[0m \u001b[0;34m=\u001b[0m \u001b[0mname\u001b[0m\u001b[0;34m\u001b[0m\u001b[0m\n\u001b[0;32m--> 255\u001b[0;31m         \u001b[0mself\u001b[0m\u001b[0;34m.\u001b[0m\u001b[0m_set_axis\u001b[0m\u001b[0;34m(\u001b[0m\u001b[0;36m0\u001b[0m\u001b[0;34m,\u001b[0m \u001b[0mindex\u001b[0m\u001b[0;34m,\u001b[0m \u001b[0mfastpath\u001b[0m\u001b[0;34m=\u001b[0m\u001b[0;32mTrue\u001b[0m\u001b[0;34m)\u001b[0m\u001b[0;34m\u001b[0m\u001b[0m\n\u001b[0m\u001b[1;32m    256\u001b[0m \u001b[0;34m\u001b[0m\u001b[0m\n\u001b[1;32m    257\u001b[0m     \u001b[0;34m@\u001b[0m\u001b[0mclassmethod\u001b[0m\u001b[0;34m\u001b[0m\u001b[0m\n",
      "\u001b[0;32m/Library/Frameworks/Python.framework/Versions/3.5/lib/python3.5/site-packages/pandas/core/series.py\u001b[0m in \u001b[0;36m_set_axis\u001b[0;34m(self, axis, labels, fastpath)\u001b[0m\n\u001b[1;32m    288\u001b[0m             \u001b[0mlabels\u001b[0m \u001b[0;34m=\u001b[0m \u001b[0m_ensure_index\u001b[0m\u001b[0;34m(\u001b[0m\u001b[0mlabels\u001b[0m\u001b[0;34m)\u001b[0m\u001b[0;34m\u001b[0m\u001b[0m\n\u001b[1;32m    289\u001b[0m \u001b[0;34m\u001b[0m\u001b[0m\n\u001b[0;32m--> 290\u001b[0;31m         \u001b[0mis_all_dates\u001b[0m \u001b[0;34m=\u001b[0m \u001b[0mlabels\u001b[0m\u001b[0;34m.\u001b[0m\u001b[0mis_all_dates\u001b[0m\u001b[0;34m\u001b[0m\u001b[0m\n\u001b[0m\u001b[1;32m    291\u001b[0m         \u001b[0;32mif\u001b[0m \u001b[0mis_all_dates\u001b[0m\u001b[0;34m:\u001b[0m\u001b[0;34m\u001b[0m\u001b[0m\n\u001b[1;32m    292\u001b[0m             if not isinstance(labels,\n",
      "\u001b[0;31mKeyboardInterrupt\u001b[0m: "
     ]
    }
   ],
   "source": [
    "def is_special(row):\n",
    "    return train_s[((train_s['Airport'] == row['Departure']) \\\n",
    "& (train_s['STime'] <= row['PDepartureTime']) \\\n",
    "& (train_s['ETime'] >= row['PDepartureTime']))].size\n",
    "\n",
    "# train_1705.apply(is_special, axis=1)\n",
    "\n",
    "idx = train_1705.index\n",
    "\n",
    "j = -1\n",
    "k = 0\n",
    "m = n = j\n",
    "last_ariport = ''\n",
    "for i, row in train_s.iterrows():\n",
    "    if last_ariport != row['Airport']:\n",
    "        j = m = n = k\n",
    "        print(j)\n",
    "        while train_1705.loc[idx[k]]['Departure'] == train_1705.loc[idx[j]]['Departure'] and k < len(idx):\n",
    "            k += 1\n",
    "    \n",
    "    if row['ETime'] < train_1705.loc[idx[j]]['PDepartureTime']:\n",
    "        j += 1\n",
    "        continue\n",
    "    \n",
    "    m = n\n",
    "    while train_1705.loc[idx[n]]['PDepartureTime'] >= row['STime'] and train_1705.loc[idx[n]]['PDepartureTime'] <= row['ETime']:\n",
    "        n += 1\n",
    "    \n",
    "    if j!=m:\n",
    "        train_1705.loc[idx[j:m], 'IsSpecial'] = \\\n",
    "              (train_1705.loc[idx[j:m], :]['PDepartureTime'] >= row['STime']) \\\n",
    "              & (train_1705.loc[idx[j:m], :]['PDepartureTime'] <= row['ETime'])\n",
    "#     j += 1\n",
    "#     print(j, k)\n",
    "#     break\n",
    "\n"
   ]
  },
  {
   "cell_type": "code",
   "execution_count": 47,
   "metadata": {
    "collapsed": false
   },
   "outputs": [
    {
     "data": {
      "text/html": [
       "<div>\n",
       "<style>\n",
       "    .dataframe thead tr:only-child th {\n",
       "        text-align: right;\n",
       "    }\n",
       "\n",
       "    .dataframe thead th {\n",
       "        text-align: left;\n",
       "    }\n",
       "\n",
       "    .dataframe tbody tr th {\n",
       "        vertical-align: top;\n",
       "    }\n",
       "</style>\n",
       "<table border=\"1\" class=\"dataframe\">\n",
       "  <thead>\n",
       "    <tr style=\"text-align: right;\">\n",
       "      <th></th>\n",
       "      <th>Departure</th>\n",
       "      <th>Destination</th>\n",
       "      <th>FLTNo</th>\n",
       "      <th>PDepartureTime</th>\n",
       "      <th>PArrivalTime</th>\n",
       "      <th>ADepartureTime</th>\n",
       "      <th>AArrivalTime</th>\n",
       "      <th>Id</th>\n",
       "      <th>IsCancel</th>\n",
       "      <th>IsSpecial</th>\n",
       "    </tr>\n",
       "  </thead>\n",
       "  <tbody>\n",
       "    <tr>\n",
       "      <th>66696</th>\n",
       "      <td>DCY</td>\n",
       "      <td>CKG</td>\n",
       "      <td>3U8164</td>\n",
       "      <td>1495167300</td>\n",
       "      <td>1495171800</td>\n",
       "      <td>1.495167e+09</td>\n",
       "      <td>1.495171e+09</td>\n",
       "      <td>1711.0</td>\n",
       "      <td>正常</td>\n",
       "      <td>1</td>\n",
       "    </tr>\n",
       "    <tr>\n",
       "      <th>249609</th>\n",
       "      <td>DCY</td>\n",
       "      <td>CKG</td>\n",
       "      <td>3U8164</td>\n",
       "      <td>1495685700</td>\n",
       "      <td>1495690200</td>\n",
       "      <td>1.495686e+09</td>\n",
       "      <td>1.495690e+09</td>\n",
       "      <td>761.0</td>\n",
       "      <td>正常</td>\n",
       "      <td>1</td>\n",
       "    </tr>\n",
       "  </tbody>\n",
       "</table>\n",
       "</div>"
      ],
      "text/plain": [
       "       Departure Destination   FLTNo  PDepartureTime  PArrivalTime  \\\n",
       "66696        DCY         CKG  3U8164      1495167300    1495171800   \n",
       "249609       DCY         CKG  3U8164      1495685700    1495690200   \n",
       "\n",
       "        ADepartureTime  AArrivalTime      Id IsCancel IsSpecial  \n",
       "66696     1.495167e+09  1.495171e+09  1711.0       正常         1  \n",
       "249609    1.495686e+09  1.495690e+09   761.0       正常         1  "
      ]
     },
     "execution_count": 47,
     "metadata": {},
     "output_type": "execute_result"
    }
   ],
   "source": [
    "train_1705[train_1705['IsSpecial'] == True]"
   ]
  },
  {
   "cell_type": "code",
   "execution_count": 7,
   "metadata": {
    "collapsed": false
   },
   "outputs": [
    {
     "data": {
      "text/html": [
       "<div>\n",
       "<style>\n",
       "    .dataframe thead tr:only-child th {\n",
       "        text-align: right;\n",
       "    }\n",
       "\n",
       "    .dataframe thead th {\n",
       "        text-align: left;\n",
       "    }\n",
       "\n",
       "    .dataframe tbody tr th {\n",
       "        vertical-align: top;\n",
       "    }\n",
       "</style>\n",
       "<table border=\"1\" class=\"dataframe\">\n",
       "  <thead>\n",
       "    <tr style=\"text-align: right;\">\n",
       "      <th></th>\n",
       "      <th>Departure</th>\n",
       "      <th>Destination</th>\n",
       "      <th>FLTNo</th>\n",
       "      <th>PDepartureTime</th>\n",
       "      <th>PArrivalTime</th>\n",
       "      <th>ADepartureTime</th>\n",
       "      <th>AArrivalTime</th>\n",
       "      <th>Id</th>\n",
       "      <th>IsCancel</th>\n",
       "      <th>Delay</th>\n",
       "      <th>DelayRange</th>\n",
       "    </tr>\n",
       "  </thead>\n",
       "  <tbody>\n",
       "    <tr>\n",
       "      <th>300856</th>\n",
       "      <td>AAT</td>\n",
       "      <td>URC</td>\n",
       "      <td>CZ6844</td>\n",
       "      <td>1494136200</td>\n",
       "      <td>1494139800</td>\n",
       "      <td>NaN</td>\n",
       "      <td>NaN</td>\n",
       "      <td>NaN</td>\n",
       "      <td>取消</td>\n",
       "      <td>NaN</td>\n",
       "      <td>NaN</td>\n",
       "    </tr>\n",
       "    <tr>\n",
       "      <th>169467</th>\n",
       "      <td>AAT</td>\n",
       "      <td>AKU</td>\n",
       "      <td>UQ2004</td>\n",
       "      <td>1496068500</td>\n",
       "      <td>1496074200</td>\n",
       "      <td>NaN</td>\n",
       "      <td>NaN</td>\n",
       "      <td>NaN</td>\n",
       "      <td>取消</td>\n",
       "      <td>NaN</td>\n",
       "      <td>NaN</td>\n",
       "    </tr>\n",
       "    <tr>\n",
       "      <th>118525</th>\n",
       "      <td>ACX</td>\n",
       "      <td>KWE</td>\n",
       "      <td>G52930</td>\n",
       "      <td>1493602500</td>\n",
       "      <td>1493605200</td>\n",
       "      <td>1.493602e+09</td>\n",
       "      <td>1.493604e+09</td>\n",
       "      <td>1112.0</td>\n",
       "      <td>正常</td>\n",
       "      <td>-11.0</td>\n",
       "      <td>NaN</td>\n",
       "    </tr>\n",
       "    <tr>\n",
       "      <th>1428</th>\n",
       "      <td>ACX</td>\n",
       "      <td>SHA</td>\n",
       "      <td>MU5817</td>\n",
       "      <td>1493607900</td>\n",
       "      <td>1493618100</td>\n",
       "      <td>1.493609e+09</td>\n",
       "      <td>1.493617e+09</td>\n",
       "      <td>1336.0</td>\n",
       "      <td>正常</td>\n",
       "      <td>15.0</td>\n",
       "      <td>(10.0, 20.0]</td>\n",
       "    </tr>\n",
       "    <tr>\n",
       "      <th>271661</th>\n",
       "      <td>ACX</td>\n",
       "      <td>KWE</td>\n",
       "      <td>G52610</td>\n",
       "      <td>1493609700</td>\n",
       "      <td>1493612100</td>\n",
       "      <td>1.493609e+09</td>\n",
       "      <td>1.493611e+09</td>\n",
       "      <td>834.0</td>\n",
       "      <td>正常</td>\n",
       "      <td>-5.0</td>\n",
       "      <td>NaN</td>\n",
       "    </tr>\n",
       "    <tr>\n",
       "      <th>116235</th>\n",
       "      <td>ACX</td>\n",
       "      <td>LHW</td>\n",
       "      <td>DZ6229</td>\n",
       "      <td>1493611500</td>\n",
       "      <td>1493619900</td>\n",
       "      <td>1.493612e+09</td>\n",
       "      <td>1.493620e+09</td>\n",
       "      <td>1953.0</td>\n",
       "      <td>正常</td>\n",
       "      <td>7.0</td>\n",
       "      <td>(0.0, 10.0]</td>\n",
       "    </tr>\n",
       "    <tr>\n",
       "      <th>55761</th>\n",
       "      <td>ACX</td>\n",
       "      <td>WUH</td>\n",
       "      <td>GJ8818</td>\n",
       "      <td>1493613600</td>\n",
       "      <td>1493620500</td>\n",
       "      <td>1.493613e+09</td>\n",
       "      <td>1.493620e+09</td>\n",
       "      <td>2622.0</td>\n",
       "      <td>正常</td>\n",
       "      <td>-3.0</td>\n",
       "      <td>NaN</td>\n",
       "    </tr>\n",
       "    <tr>\n",
       "      <th>212315</th>\n",
       "      <td>ACX</td>\n",
       "      <td>NAY</td>\n",
       "      <td>KN5202</td>\n",
       "      <td>1493616900</td>\n",
       "      <td>1493628000</td>\n",
       "      <td>1.493617e+09</td>\n",
       "      <td>1.493627e+09</td>\n",
       "      <td>3201.0</td>\n",
       "      <td>正常</td>\n",
       "      <td>-5.0</td>\n",
       "      <td>NaN</td>\n",
       "    </tr>\n",
       "    <tr>\n",
       "      <th>151452</th>\n",
       "      <td>ACX</td>\n",
       "      <td>KWE</td>\n",
       "      <td>G52602</td>\n",
       "      <td>1493619900</td>\n",
       "      <td>1493622600</td>\n",
       "      <td>1.493619e+09</td>\n",
       "      <td>1.493623e+09</td>\n",
       "      <td>834.0</td>\n",
       "      <td>正常</td>\n",
       "      <td>-10.0</td>\n",
       "      <td>NaN</td>\n",
       "    </tr>\n",
       "    <tr>\n",
       "      <th>106606</th>\n",
       "      <td>ACX</td>\n",
       "      <td>KWE</td>\n",
       "      <td>G52614</td>\n",
       "      <td>1493630100</td>\n",
       "      <td>1493632800</td>\n",
       "      <td>1.493631e+09</td>\n",
       "      <td>1.493633e+09</td>\n",
       "      <td>834.0</td>\n",
       "      <td>正常</td>\n",
       "      <td>9.0</td>\n",
       "      <td>(0.0, 10.0]</td>\n",
       "    </tr>\n",
       "    <tr>\n",
       "      <th>281609</th>\n",
       "      <td>ACX</td>\n",
       "      <td>SZX</td>\n",
       "      <td>DZ6230</td>\n",
       "      <td>1493633400</td>\n",
       "      <td>1493639700</td>\n",
       "      <td>1.493633e+09</td>\n",
       "      <td>1.493639e+09</td>\n",
       "      <td>1953.0</td>\n",
       "      <td>正常</td>\n",
       "      <td>-1.0</td>\n",
       "      <td>NaN</td>\n",
       "    </tr>\n",
       "    <tr>\n",
       "      <th>180471</th>\n",
       "      <td>ACX</td>\n",
       "      <td>CAN</td>\n",
       "      <td>CZ3924</td>\n",
       "      <td>1493635200</td>\n",
       "      <td>1493640900</td>\n",
       "      <td>1.493635e+09</td>\n",
       "      <td>1.493640e+09</td>\n",
       "      <td>1377.0</td>\n",
       "      <td>正常</td>\n",
       "      <td>-1.0</td>\n",
       "      <td>NaN</td>\n",
       "    </tr>\n",
       "    <tr>\n",
       "      <th>222928</th>\n",
       "      <td>ACX</td>\n",
       "      <td>KMG</td>\n",
       "      <td>MU5818</td>\n",
       "      <td>1493637900</td>\n",
       "      <td>1493641200</td>\n",
       "      <td>1.493638e+09</td>\n",
       "      <td>1.493641e+09</td>\n",
       "      <td>1336.0</td>\n",
       "      <td>正常</td>\n",
       "      <td>1.0</td>\n",
       "      <td>(0.0, 10.0]</td>\n",
       "    </tr>\n",
       "    <tr>\n",
       "      <th>253523</th>\n",
       "      <td>ACX</td>\n",
       "      <td>KWE</td>\n",
       "      <td>G52714</td>\n",
       "      <td>1493640300</td>\n",
       "      <td>1493643000</td>\n",
       "      <td>1.493641e+09</td>\n",
       "      <td>1.493644e+09</td>\n",
       "      <td>834.0</td>\n",
       "      <td>正常</td>\n",
       "      <td>19.0</td>\n",
       "      <td>(10.0, 20.0]</td>\n",
       "    </tr>\n",
       "    <tr>\n",
       "      <th>194411</th>\n",
       "      <td>ACX</td>\n",
       "      <td>KWE</td>\n",
       "      <td>G52726</td>\n",
       "      <td>1493644500</td>\n",
       "      <td>1493646900</td>\n",
       "      <td>1.493644e+09</td>\n",
       "      <td>1.493647e+09</td>\n",
       "      <td>1112.0</td>\n",
       "      <td>正常</td>\n",
       "      <td>-6.0</td>\n",
       "      <td>NaN</td>\n",
       "    </tr>\n",
       "  </tbody>\n",
       "</table>\n",
       "</div>"
      ],
      "text/plain": [
       "       Departure Destination   FLTNo  PDepartureTime  PArrivalTime  \\\n",
       "300856       AAT         URC  CZ6844      1494136200    1494139800   \n",
       "169467       AAT         AKU  UQ2004      1496068500    1496074200   \n",
       "118525       ACX         KWE  G52930      1493602500    1493605200   \n",
       "1428         ACX         SHA  MU5817      1493607900    1493618100   \n",
       "271661       ACX         KWE  G52610      1493609700    1493612100   \n",
       "116235       ACX         LHW  DZ6229      1493611500    1493619900   \n",
       "55761        ACX         WUH  GJ8818      1493613600    1493620500   \n",
       "212315       ACX         NAY  KN5202      1493616900    1493628000   \n",
       "151452       ACX         KWE  G52602      1493619900    1493622600   \n",
       "106606       ACX         KWE  G52614      1493630100    1493632800   \n",
       "281609       ACX         SZX  DZ6230      1493633400    1493639700   \n",
       "180471       ACX         CAN  CZ3924      1493635200    1493640900   \n",
       "222928       ACX         KMG  MU5818      1493637900    1493641200   \n",
       "253523       ACX         KWE  G52714      1493640300    1493643000   \n",
       "194411       ACX         KWE  G52726      1493644500    1493646900   \n",
       "\n",
       "        ADepartureTime  AArrivalTime      Id IsCancel  Delay    DelayRange  \n",
       "300856             NaN           NaN     NaN       取消    NaN           NaN  \n",
       "169467             NaN           NaN     NaN       取消    NaN           NaN  \n",
       "118525    1.493602e+09  1.493604e+09  1112.0       正常  -11.0           NaN  \n",
       "1428      1.493609e+09  1.493617e+09  1336.0       正常   15.0  (10.0, 20.0]  \n",
       "271661    1.493609e+09  1.493611e+09   834.0       正常   -5.0           NaN  \n",
       "116235    1.493612e+09  1.493620e+09  1953.0       正常    7.0   (0.0, 10.0]  \n",
       "55761     1.493613e+09  1.493620e+09  2622.0       正常   -3.0           NaN  \n",
       "212315    1.493617e+09  1.493627e+09  3201.0       正常   -5.0           NaN  \n",
       "151452    1.493619e+09  1.493623e+09   834.0       正常  -10.0           NaN  \n",
       "106606    1.493631e+09  1.493633e+09   834.0       正常    9.0   (0.0, 10.0]  \n",
       "281609    1.493633e+09  1.493639e+09  1953.0       正常   -1.0           NaN  \n",
       "180471    1.493635e+09  1.493640e+09  1377.0       正常   -1.0           NaN  \n",
       "222928    1.493638e+09  1.493641e+09  1336.0       正常    1.0   (0.0, 10.0]  \n",
       "253523    1.493641e+09  1.493644e+09   834.0       正常   19.0  (10.0, 20.0]  \n",
       "194411    1.493644e+09  1.493647e+09  1112.0       正常   -6.0           NaN  "
      ]
     },
     "execution_count": 7,
     "metadata": {},
     "output_type": "execute_result"
    }
   ],
   "source": [
    "train_1705['Delay'] = (train_1705['ADepartureTime'] - train_1705['PDepartureTime']) / 60\n",
    "\n",
    "train_1705['DelayRange'] = pd.cut(train_1705['Delay'], [0, 10, 20, 30, 60, 120, 180, 300, 720, np.inf])\n",
    "\n",
    "train_1705.head(15)"
   ]
  },
  {
   "cell_type": "markdown",
   "metadata": {},
   "source": [
    "延误时间分布"
   ]
  },
  {
   "cell_type": "code",
   "execution_count": 29,
   "metadata": {
    "collapsed": false
   },
   "outputs": [
    {
     "data": {
      "image/png": "[encoded data removed]",
      "text/plain": [
       "<matplotlib.figure.Figure at 0x116b6fdd8>"
      ]
     },
     "metadata": {},
     "output_type": "display_data"
    }
   ],
   "source": [
    "plt.figure(figsize=(15, 4))\n",
    "g = sns.kdeplot(train_1705.loc[((~train_1705['Delay'].isnull()) & (train_1705['Delay'] > 0)), 'Delay'])\n",
    "g.set_xlim(0, train_1705['Delay'].max())\n",
    "g.xaxis.set_major_locator(ticker.LinearLocator(25))"
   ]
  },
  {
   "cell_type": "code",
   "execution_count": 8,
   "metadata": {
    "collapsed": false
   },
   "outputs": [
    {
     "data": {
      "text/plain": [
       "(0, 10]       69045\n",
       "(10, 20]      64463\n",
       "(30, 60]      49311\n",
       "(20, 30]      36480\n",
       "(60, 120]     34479\n",
       "(120, 180]    13042\n",
       "(180, 300]     8172\n",
       "(300, 720]     2414\n",
       "(720, inf]       57\n",
       "Name: DelayRange, dtype: int64"
      ]
     },
     "execution_count": 8,
     "metadata": {},
     "output_type": "execute_result"
    }
   ],
   "source": [
    "train_1705['DelayRange'].value_counts()"
   ]
  },
  {
   "cell_type": "code",
   "execution_count": 9,
   "metadata": {
    "collapsed": false
   },
   "outputs": [
    {
     "data": {
      "image/png": "[encoded data removed]",
      "text/plain": [
       "<matplotlib.figure.Figure at 0xc2e0198>"
      ]
     },
     "metadata": {},
     "output_type": "display_data"
    }
   ],
   "source": [
    "\n",
    "\n",
    "plt.figure(figsize=(13, 5))\n",
    "g = sns.countplot(train_1705['DelayRange'])\n",
    "\n",
    "\n",
    "ncount = len(train_1705)\n",
    "for p in g.patches:\n",
    "    x=p.get_bbox().get_points()[:,0]\n",
    "    y=p.get_bbox().get_points()[1,1]\n",
    "    g.annotate('{:.2f}%'.format(100.*y/ncount), (x.mean(), y), ha='center', va='bottom') # set the alignment of the text\n",
    "\n",
    "g2 = g.twinx()\n",
    "g2.grid(None)\n",
    "\n",
    "# Use a LinearLocator to ensure the correct number of ticks\n",
    "g.set_ylim(0, 70000)\n",
    "g.yaxis.set_major_locator(ticker.LinearLocator(8))\n",
    "\n",
    "g2.set_ylim(0, 0.25)\n",
    "g2.yaxis.set_major_locator(ticker.LinearLocator(8))"
   ]
  },
  {
   "cell_type": "code",
   "execution_count": 47,
   "metadata": {
    "collapsed": false
   },
   "outputs": [
    {
     "data": {
      "text/html": [
       "<div>\n",
       "<style>\n",
       "    .dataframe thead tr:only-child th {\n",
       "        text-align: right;\n",
       "    }\n",
       "\n",
       "    .dataframe thead th {\n",
       "        text-align: left;\n",
       "    }\n",
       "\n",
       "    .dataframe tbody tr th {\n",
       "        vertical-align: top;\n",
       "    }\n",
       "</style>\n",
       "<table border=\"1\" class=\"dataframe\">\n",
       "  <thead>\n",
       "    <tr style=\"text-align: right;\">\n",
       "      <th></th>\n",
       "      <th>Departure</th>\n",
       "      <th>Destination</th>\n",
       "      <th>FLTNo</th>\n",
       "      <th>PDepartureTime</th>\n",
       "      <th>PArrivalTime</th>\n",
       "      <th>ADepartureTime</th>\n",
       "      <th>AArrivalTime</th>\n",
       "      <th>Id</th>\n",
       "      <th>IsCancel</th>\n",
       "      <th>Delay</th>\n",
       "      <th>DelayRange</th>\n",
       "    </tr>\n",
       "  </thead>\n",
       "  <tbody>\n",
       "    <tr>\n",
       "      <th>0</th>\n",
       "      <td>PVG</td>\n",
       "      <td>CKG</td>\n",
       "      <td>9C8867</td>\n",
       "      <td>2017-05-24 05:10:00</td>\n",
       "      <td>2017-05-24 08:15:00</td>\n",
       "      <td>2017-05-24 05:44:00</td>\n",
       "      <td>2017-05-24 08:07:00</td>\n",
       "      <td>2798.0</td>\n",
       "      <td>正常</td>\n",
       "      <td>34.0</td>\n",
       "      <td>(30.0, 60.0]</td>\n",
       "    </tr>\n",
       "    <tr>\n",
       "      <th>1</th>\n",
       "      <td>CAN</td>\n",
       "      <td>TAO</td>\n",
       "      <td>HU7275</td>\n",
       "      <td>2017-05-05 01:20:00</td>\n",
       "      <td>2017-05-05 04:30:00</td>\n",
       "      <td>2017-05-05 01:38:00</td>\n",
       "      <td>2017-05-05 04:17:00</td>\n",
       "      <td>1479.0</td>\n",
       "      <td>正常</td>\n",
       "      <td>18.0</td>\n",
       "      <td>(10.0, 20.0]</td>\n",
       "    </tr>\n",
       "    <tr>\n",
       "      <th>2</th>\n",
       "      <td>KWE</td>\n",
       "      <td>KMG</td>\n",
       "      <td>GJ8661</td>\n",
       "      <td>2017-05-14 15:20:00</td>\n",
       "      <td>2017-05-14 16:30:00</td>\n",
       "      <td>2017-05-14 17:34:00</td>\n",
       "      <td>2017-05-14 18:32:00</td>\n",
       "      <td>2957.0</td>\n",
       "      <td>正常</td>\n",
       "      <td>134.0</td>\n",
       "      <td>(120.0, 180.0]</td>\n",
       "    </tr>\n",
       "    <tr>\n",
       "      <th>3</th>\n",
       "      <td>WNZ</td>\n",
       "      <td>CSX</td>\n",
       "      <td>CZ6956</td>\n",
       "      <td>2017-05-19 09:20:00</td>\n",
       "      <td>2017-05-19 10:55:00</td>\n",
       "      <td>2017-05-19 10:01:00</td>\n",
       "      <td>2017-05-19 11:19:00</td>\n",
       "      <td>419.0</td>\n",
       "      <td>正常</td>\n",
       "      <td>41.0</td>\n",
       "      <td>(30.0, 60.0]</td>\n",
       "    </tr>\n",
       "    <tr>\n",
       "      <th>4</th>\n",
       "      <td>ENH</td>\n",
       "      <td>WUH</td>\n",
       "      <td>CZ3841</td>\n",
       "      <td>2017-05-11 00:00:00</td>\n",
       "      <td>2017-05-11 01:10:00</td>\n",
       "      <td>2017-05-11 02:47:00</td>\n",
       "      <td>2017-05-11 03:39:00</td>\n",
       "      <td>1421.0</td>\n",
       "      <td>正常</td>\n",
       "      <td>167.0</td>\n",
       "      <td>(120.0, 180.0]</td>\n",
       "    </tr>\n",
       "  </tbody>\n",
       "</table>\n",
       "</div>"
      ],
      "text/plain": [
       "  Departure Destination   FLTNo      PDepartureTime        PArrivalTime  \\\n",
       "0       PVG         CKG  9C8867 2017-05-24 05:10:00 2017-05-24 08:15:00   \n",
       "1       CAN         TAO  HU7275 2017-05-05 01:20:00 2017-05-05 04:30:00   \n",
       "2       KWE         KMG  GJ8661 2017-05-14 15:20:00 2017-05-14 16:30:00   \n",
       "3       WNZ         CSX  CZ6956 2017-05-19 09:20:00 2017-05-19 10:55:00   \n",
       "4       ENH         WUH  CZ3841 2017-05-11 00:00:00 2017-05-11 01:10:00   \n",
       "\n",
       "       ADepartureTime        AArrivalTime      Id IsCancel  Delay  \\\n",
       "0 2017-05-24 05:44:00 2017-05-24 08:07:00  2798.0       正常   34.0   \n",
       "1 2017-05-05 01:38:00 2017-05-05 04:17:00  1479.0       正常   18.0   \n",
       "2 2017-05-14 17:34:00 2017-05-14 18:32:00  2957.0       正常  134.0   \n",
       "3 2017-05-19 10:01:00 2017-05-19 11:19:00   419.0       正常   41.0   \n",
       "4 2017-05-11 02:47:00 2017-05-11 03:39:00  1421.0       正常  167.0   \n",
       "\n",
       "       DelayRange  \n",
       "0    (30.0, 60.0]  \n",
       "1    (10.0, 20.0]  \n",
       "2  (120.0, 180.0]  \n",
       "3    (30.0, 60.0]  \n",
       "4  (120.0, 180.0]  "
      ]
     },
     "execution_count": 47,
     "metadata": {},
     "output_type": "execute_result"
    }
   ],
   "source": [
    "train_1705['PDepartureTime'] = pd.to_datetime(train_1705['PDepartureTime'], unit='s')\n",
    "train_1705['PArrivalTime'] = pd.to_datetime(train_1705['PArrivalTime'], unit='s')\n",
    "train_1705['ADepartureTime'] = pd.to_datetime(train_1705['ADepartureTime'], unit='s')\n",
    "train_1705['AArrivalTime'] = pd.to_datetime(train_1705['AArrivalTime'], unit='s')\n",
    "\n",
    "train_1705.head()"
   ]
  },
  {
   "cell_type": "code",
   "execution_count": 48,
   "metadata": {
    "collapsed": false
   },
   "outputs": [
    {
     "name": "stdout",
     "output_type": "stream",
     "text": [
      "<class 'pandas.core.frame.DataFrame'>\n",
      "RangeIndex: 326557 entries, 0 to 326556\n",
      "Data columns (total 11 columns):\n",
      "Departure         326557 non-null object\n",
      "Destination       326557 non-null object\n",
      "FLTNo             326557 non-null object\n",
      "PDepartureTime    326557 non-null datetime64[ns]\n",
      "PArrivalTime      326557 non-null datetime64[ns]\n",
      "ADepartureTime    317996 non-null datetime64[ns]\n",
      "AArrivalTime      317875 non-null datetime64[ns]\n",
      "Id                322561 non-null float64\n",
      "IsCancel          326557 non-null object\n",
      "Delay             317996 non-null float64\n",
      "DelayRange        277463 non-null category\n",
      "dtypes: category(1), datetime64[ns](4), float64(2), object(4)\n",
      "memory usage: 25.2+ MB\n"
     ]
    }
   ],
   "source": [
    "train_1705.info()"
   ]
  },
  {
   "cell_type": "markdown",
   "metadata": {},
   "source": [
    "机场延误情况"
   ]
  },
  {
   "cell_type": "code",
   "execution_count": 57,
   "metadata": {
    "collapsed": false
   },
   "outputs": [
    {
     "name": "stdout",
     "output_type": "stream",
     "text": [
      "105\n"
     ]
    }
   ],
   "source": [
    "for i, row in train_1705.iterrows():\n",
    "    print(len(train_1705[(train_1705['Departure'] == row['Departure']) \n",
    "                     & (row['PDepartureTime'] - train_1705['PDepartureTime'] > 120 * 60 )\n",
    "                     & (row['PDepartureTime'] - train_1705['PDepartureTime'] < 360 * 60 )]))\n",
    "#     print((row['PDepartureTime'] - train_1705['PDepartureTime'])[1])\n",
    "    break"
   ]
  },
  {
   "cell_type": "code",
   "execution_count": 77,
   "metadata": {
    "collapsed": false
   },
   "outputs": [],
   "source": [
    "train_1705 = train_1705.loc[:2000,]"
   ]
  },
  {
   "cell_type": "code",
   "execution_count": 78,
   "metadata": {
    "collapsed": false
   },
   "outputs": [
    {
     "ename": "KeyboardInterrupt",
     "evalue": "",
     "output_type": "error",
     "traceback": [
      "\u001b[0;31m---------------------------------------------------------------------------\u001b[0m",
      "\u001b[0;31mKeyboardInterrupt\u001b[0m                         Traceback (most recent call last)",
      "\u001b[0;32m<ipython-input-78-27de32bf9f02>\u001b[0m in \u001b[0;36m<module>\u001b[0;34m()\u001b[0m\n\u001b[1;32m      4\u001b[0m                      & (row['PDepartureTime'] - train_1705['PDepartureTime'] < 360 * 60 )])\n\u001b[1;32m      5\u001b[0m \u001b[0;34m\u001b[0m\u001b[0m\n\u001b[0;32m----> 6\u001b[0;31m \u001b[0mtrain_1705\u001b[0m\u001b[0;34m.\u001b[0m\u001b[0mapply\u001b[0m\u001b[0;34m(\u001b[0m\u001b[0mqz_count\u001b[0m\u001b[0;34m,\u001b[0m \u001b[0maxis\u001b[0m\u001b[0;34m=\u001b[0m\u001b[0;36m1\u001b[0m\u001b[0;34m)\u001b[0m\u001b[0;34m\u001b[0m\u001b[0m\n\u001b[0m",
      "\u001b[0;32m/Library/Frameworks/Python.framework/Versions/3.5/lib/python3.5/site-packages/pandas/core/frame.py\u001b[0m in \u001b[0;36mapply\u001b[0;34m(self, func, axis, broadcast, raw, reduce, args, **kwds)\u001b[0m\n\u001b[1;32m   4260\u001b[0m                         \u001b[0mf\u001b[0m\u001b[0;34m,\u001b[0m \u001b[0maxis\u001b[0m\u001b[0;34m,\u001b[0m\u001b[0;34m\u001b[0m\u001b[0m\n\u001b[1;32m   4261\u001b[0m                         \u001b[0mreduce\u001b[0m\u001b[0;34m=\u001b[0m\u001b[0mreduce\u001b[0m\u001b[0;34m,\u001b[0m\u001b[0;34m\u001b[0m\u001b[0m\n\u001b[0;32m-> 4262\u001b[0;31m                         ignore_failures=ignore_failures)\n\u001b[0m\u001b[1;32m   4263\u001b[0m             \u001b[0;32melse\u001b[0m\u001b[0;34m:\u001b[0m\u001b[0;34m\u001b[0m\u001b[0m\n\u001b[1;32m   4264\u001b[0m                 \u001b[0;32mreturn\u001b[0m \u001b[0mself\u001b[0m\u001b[0;34m.\u001b[0m\u001b[0m_apply_broadcast\u001b[0m\u001b[0;34m(\u001b[0m\u001b[0mf\u001b[0m\u001b[0;34m,\u001b[0m \u001b[0maxis\u001b[0m\u001b[0;34m)\u001b[0m\u001b[0;34m\u001b[0m\u001b[0m\n",
      "\u001b[0;32m/Library/Frameworks/Python.framework/Versions/3.5/lib/python3.5/site-packages/pandas/core/frame.py\u001b[0m in \u001b[0;36m_apply_standard\u001b[0;34m(self, func, axis, ignore_failures, reduce)\u001b[0m\n\u001b[1;32m   4316\u001b[0m                     \u001b[0mlabels\u001b[0m \u001b[0;34m=\u001b[0m \u001b[0mself\u001b[0m\u001b[0;34m.\u001b[0m\u001b[0m_get_agg_axis\u001b[0m\u001b[0;34m(\u001b[0m\u001b[0maxis\u001b[0m\u001b[0;34m)\u001b[0m\u001b[0;34m\u001b[0m\u001b[0m\n\u001b[1;32m   4317\u001b[0m                     result = lib.reduce(values, func, axis=axis, dummy=dummy,\n\u001b[0;32m-> 4318\u001b[0;31m                                         labels=labels)\n\u001b[0m\u001b[1;32m   4319\u001b[0m                     \u001b[0;32mreturn\u001b[0m \u001b[0mSeries\u001b[0m\u001b[0;34m(\u001b[0m\u001b[0mresult\u001b[0m\u001b[0;34m,\u001b[0m \u001b[0mindex\u001b[0m\u001b[0;34m=\u001b[0m\u001b[0mlabels\u001b[0m\u001b[0;34m)\u001b[0m\u001b[0;34m\u001b[0m\u001b[0m\n\u001b[1;32m   4320\u001b[0m                 \u001b[0;32mexcept\u001b[0m \u001b[0mException\u001b[0m\u001b[0;34m:\u001b[0m\u001b[0;34m\u001b[0m\u001b[0m\n",
      "\u001b[0;32mpandas/_libs/src/reduce.pyx\u001b[0m in \u001b[0;36mpandas._libs.lib.reduce (pandas/_libs/lib.c:44036)\u001b[0;34m()\u001b[0m\n",
      "\u001b[0;32mpandas/_libs/src/reduce.pyx\u001b[0m in \u001b[0;36mpandas._libs.lib.Reducer.get_result (pandas/_libs/lib.c:33629)\u001b[0;34m()\u001b[0m\n",
      "\u001b[0;32m<ipython-input-78-27de32bf9f02>\u001b[0m in \u001b[0;36mqz_count\u001b[0;34m(row)\u001b[0m\n\u001b[1;32m      2\u001b[0m     return len(train_1705[(train_1705['Departure'] == row['Departure']) \n\u001b[1;32m      3\u001b[0m                      \u001b[0;34m&\u001b[0m \u001b[0;34m(\u001b[0m\u001b[0mrow\u001b[0m\u001b[0;34m[\u001b[0m\u001b[0;34m'PDepartureTime'\u001b[0m\u001b[0;34m]\u001b[0m \u001b[0;34m-\u001b[0m \u001b[0mtrain_1705\u001b[0m\u001b[0;34m[\u001b[0m\u001b[0;34m'PDepartureTime'\u001b[0m\u001b[0;34m]\u001b[0m \u001b[0;34m>\u001b[0m \u001b[0;36m120\u001b[0m \u001b[0;34m*\u001b[0m \u001b[0;36m60\u001b[0m \u001b[0;34m)\u001b[0m\u001b[0;34m\u001b[0m\u001b[0m\n\u001b[0;32m----> 4\u001b[0;31m                      & (row['PDepartureTime'] - train_1705['PDepartureTime'] < 360 * 60 )])\n\u001b[0m\u001b[1;32m      5\u001b[0m \u001b[0;34m\u001b[0m\u001b[0m\n\u001b[1;32m      6\u001b[0m \u001b[0mtrain_1705\u001b[0m\u001b[0;34m.\u001b[0m\u001b[0mapply\u001b[0m\u001b[0;34m(\u001b[0m\u001b[0mqz_count\u001b[0m\u001b[0;34m,\u001b[0m \u001b[0maxis\u001b[0m\u001b[0;34m=\u001b[0m\u001b[0;36m1\u001b[0m\u001b[0;34m)\u001b[0m\u001b[0;34m\u001b[0m\u001b[0m\n",
      "\u001b[0;32m/Library/Frameworks/Python.framework/Versions/3.5/lib/python3.5/site-packages/pandas/core/ops.py\u001b[0m in \u001b[0;36mwrapper\u001b[0;34m(left, right, name, na_op)\u001b[0m\n\u001b[1;32m    725\u001b[0m             \u001b[0mindex\u001b[0m\u001b[0;34m=\u001b[0m\u001b[0mleft\u001b[0m\u001b[0;34m.\u001b[0m\u001b[0mindex\u001b[0m\u001b[0;34m,\u001b[0m\u001b[0;34m\u001b[0m\u001b[0m\n\u001b[1;32m    726\u001b[0m             \u001b[0mname\u001b[0m\u001b[0;34m=\u001b[0m\u001b[0mname\u001b[0m\u001b[0;34m,\u001b[0m\u001b[0;34m\u001b[0m\u001b[0m\n\u001b[0;32m--> 727\u001b[0;31m             \u001b[0mdtype\u001b[0m\u001b[0;34m=\u001b[0m\u001b[0mdtype\u001b[0m\u001b[0;34m,\u001b[0m\u001b[0;34m\u001b[0m\u001b[0m\n\u001b[0m\u001b[1;32m    728\u001b[0m         )\n\u001b[1;32m    729\u001b[0m \u001b[0;34m\u001b[0m\u001b[0m\n",
      "\u001b[0;32m/Library/Frameworks/Python.framework/Versions/3.5/lib/python3.5/site-packages/pandas/core/ops.py\u001b[0m in \u001b[0;36m_construct_result\u001b[0;34m(left, result, index, name, dtype)\u001b[0m\n\u001b[1;32m    633\u001b[0m \u001b[0;34m\u001b[0m\u001b[0m\n\u001b[1;32m    634\u001b[0m \u001b[0;32mdef\u001b[0m \u001b[0m_construct_result\u001b[0m\u001b[0;34m(\u001b[0m\u001b[0mleft\u001b[0m\u001b[0;34m,\u001b[0m \u001b[0mresult\u001b[0m\u001b[0;34m,\u001b[0m \u001b[0mindex\u001b[0m\u001b[0;34m,\u001b[0m \u001b[0mname\u001b[0m\u001b[0;34m,\u001b[0m \u001b[0mdtype\u001b[0m\u001b[0;34m)\u001b[0m\u001b[0;34m:\u001b[0m\u001b[0;34m\u001b[0m\u001b[0m\n\u001b[0;32m--> 635\u001b[0;31m     \u001b[0;32mreturn\u001b[0m \u001b[0mleft\u001b[0m\u001b[0;34m.\u001b[0m\u001b[0m_constructor\u001b[0m\u001b[0;34m(\u001b[0m\u001b[0mresult\u001b[0m\u001b[0;34m,\u001b[0m \u001b[0mindex\u001b[0m\u001b[0;34m=\u001b[0m\u001b[0mindex\u001b[0m\u001b[0;34m,\u001b[0m \u001b[0mname\u001b[0m\u001b[0;34m=\u001b[0m\u001b[0mname\u001b[0m\u001b[0;34m,\u001b[0m \u001b[0mdtype\u001b[0m\u001b[0;34m=\u001b[0m\u001b[0mdtype\u001b[0m\u001b[0;34m)\u001b[0m\u001b[0;34m\u001b[0m\u001b[0m\n\u001b[0m\u001b[1;32m    636\u001b[0m \u001b[0;34m\u001b[0m\u001b[0m\n\u001b[1;32m    637\u001b[0m \u001b[0;34m\u001b[0m\u001b[0m\n",
      "\u001b[0;32m/Library/Frameworks/Python.framework/Versions/3.5/lib/python3.5/site-packages/pandas/core/series.py\u001b[0m in \u001b[0;36m__init__\u001b[0;34m(self, data, index, dtype, name, copy, fastpath)\u001b[0m\n\u001b[1;32m    246\u001b[0m             \u001b[0;32melse\u001b[0m\u001b[0;34m:\u001b[0m\u001b[0;34m\u001b[0m\u001b[0m\n\u001b[1;32m    247\u001b[0m                 data = _sanitize_array(data, index, dtype, copy,\n\u001b[0;32m--> 248\u001b[0;31m                                        raise_cast_failure=True)\n\u001b[0m\u001b[1;32m    249\u001b[0m \u001b[0;34m\u001b[0m\u001b[0m\n\u001b[1;32m    250\u001b[0m                 \u001b[0mdata\u001b[0m \u001b[0;34m=\u001b[0m \u001b[0mSingleBlockManager\u001b[0m\u001b[0;34m(\u001b[0m\u001b[0mdata\u001b[0m\u001b[0;34m,\u001b[0m \u001b[0mindex\u001b[0m\u001b[0;34m,\u001b[0m \u001b[0mfastpath\u001b[0m\u001b[0;34m=\u001b[0m\u001b[0;32mTrue\u001b[0m\u001b[0;34m)\u001b[0m\u001b[0;34m\u001b[0m\u001b[0m\n",
      "\u001b[0;32m/Library/Frameworks/Python.framework/Versions/3.5/lib/python3.5/site-packages/pandas/core/series.py\u001b[0m in \u001b[0;36m_sanitize_array\u001b[0;34m(data, index, dtype, copy, raise_cast_failure)\u001b[0m\n\u001b[1;32m   2950\u001b[0m             \u001b[0msubarr\u001b[0m \u001b[0;34m=\u001b[0m \u001b[0m_sanitize_index\u001b[0m\u001b[0;34m(\u001b[0m\u001b[0mdata\u001b[0m\u001b[0;34m,\u001b[0m \u001b[0mindex\u001b[0m\u001b[0;34m,\u001b[0m \u001b[0mcopy\u001b[0m\u001b[0;34m=\u001b[0m\u001b[0;32mTrue\u001b[0m\u001b[0;34m)\u001b[0m\u001b[0;34m\u001b[0m\u001b[0m\n\u001b[1;32m   2951\u001b[0m         \u001b[0;32melse\u001b[0m\u001b[0;34m:\u001b[0m\u001b[0;34m\u001b[0m\u001b[0m\n\u001b[0;32m-> 2952\u001b[0;31m             \u001b[0msubarr\u001b[0m \u001b[0;34m=\u001b[0m \u001b[0m_try_cast\u001b[0m\u001b[0;34m(\u001b[0m\u001b[0mdata\u001b[0m\u001b[0;34m,\u001b[0m \u001b[0;32mTrue\u001b[0m\u001b[0;34m)\u001b[0m\u001b[0;34m\u001b[0m\u001b[0m\n\u001b[0m\u001b[1;32m   2953\u001b[0m \u001b[0;34m\u001b[0m\u001b[0m\n\u001b[1;32m   2954\u001b[0m         \u001b[0;32mif\u001b[0m \u001b[0mcopy\u001b[0m\u001b[0;34m:\u001b[0m\u001b[0;34m\u001b[0m\u001b[0m\n",
      "\u001b[0;32m/Library/Frameworks/Python.framework/Versions/3.5/lib/python3.5/site-packages/pandas/core/series.py\u001b[0m in \u001b[0;36m_try_cast\u001b[0;34m(arr, take_fast_path)\u001b[0m\n\u001b[1;32m   2917\u001b[0m \u001b[0;34m\u001b[0m\u001b[0m\n\u001b[1;32m   2918\u001b[0m         \u001b[0;32mtry\u001b[0m\u001b[0;34m:\u001b[0m\u001b[0;34m\u001b[0m\u001b[0m\n\u001b[0;32m-> 2919\u001b[0;31m             \u001b[0msubarr\u001b[0m \u001b[0;34m=\u001b[0m \u001b[0mmaybe_cast_to_datetime\u001b[0m\u001b[0;34m(\u001b[0m\u001b[0marr\u001b[0m\u001b[0;34m,\u001b[0m \u001b[0mdtype\u001b[0m\u001b[0;34m)\u001b[0m\u001b[0;34m\u001b[0m\u001b[0m\n\u001b[0m\u001b[1;32m   2920\u001b[0m             \u001b[0;32mif\u001b[0m \u001b[0;32mnot\u001b[0m \u001b[0mis_extension_type\u001b[0m\u001b[0;34m(\u001b[0m\u001b[0msubarr\u001b[0m\u001b[0;34m)\u001b[0m\u001b[0;34m:\u001b[0m\u001b[0;34m\u001b[0m\u001b[0m\n\u001b[1;32m   2921\u001b[0m                 \u001b[0msubarr\u001b[0m \u001b[0;34m=\u001b[0m \u001b[0mnp\u001b[0m\u001b[0;34m.\u001b[0m\u001b[0marray\u001b[0m\u001b[0;34m(\u001b[0m\u001b[0msubarr\u001b[0m\u001b[0;34m,\u001b[0m \u001b[0mdtype\u001b[0m\u001b[0;34m=\u001b[0m\u001b[0mdtype\u001b[0m\u001b[0;34m,\u001b[0m \u001b[0mcopy\u001b[0m\u001b[0;34m=\u001b[0m\u001b[0mcopy\u001b[0m\u001b[0;34m)\u001b[0m\u001b[0;34m\u001b[0m\u001b[0m\n",
      "\u001b[0;32m/Library/Frameworks/Python.framework/Versions/3.5/lib/python3.5/site-packages/pandas/core/dtypes/cast.py\u001b[0m in \u001b[0;36mmaybe_cast_to_datetime\u001b[0;34m(value, dtype, errors)\u001b[0m\n\u001b[1;32m    870\u001b[0m     \u001b[0mnan\u001b[0m \u001b[0mto\u001b[0m \u001b[0miNaT\u001b[0m\u001b[0;34m\u001b[0m\u001b[0m\n\u001b[1;32m    871\u001b[0m     \"\"\"\n\u001b[0;32m--> 872\u001b[0;31m     \u001b[0;32mfrom\u001b[0m \u001b[0mpandas\u001b[0m\u001b[0;34m.\u001b[0m\u001b[0mcore\u001b[0m\u001b[0;34m.\u001b[0m\u001b[0mtools\u001b[0m\u001b[0;34m.\u001b[0m\u001b[0mtimedeltas\u001b[0m \u001b[0;32mimport\u001b[0m \u001b[0mto_timedelta\u001b[0m\u001b[0;34m\u001b[0m\u001b[0m\n\u001b[0m\u001b[1;32m    873\u001b[0m     \u001b[0;32mfrom\u001b[0m \u001b[0mpandas\u001b[0m\u001b[0;34m.\u001b[0m\u001b[0mcore\u001b[0m\u001b[0;34m.\u001b[0m\u001b[0mtools\u001b[0m\u001b[0;34m.\u001b[0m\u001b[0mdatetimes\u001b[0m \u001b[0;32mimport\u001b[0m \u001b[0mto_datetime\u001b[0m\u001b[0;34m\u001b[0m\u001b[0m\n\u001b[1;32m    874\u001b[0m \u001b[0;34m\u001b[0m\u001b[0m\n",
      "\u001b[0;32m/Library/Frameworks/Python.framework/Versions/3.5/lib/python3.5/importlib/_bootstrap.py\u001b[0m in \u001b[0;36m_handle_fromlist\u001b[0;34m(module, fromlist, import_)\u001b[0m\n",
      "\u001b[0;31mKeyboardInterrupt\u001b[0m: "
     ]
    }
   ],
   "source": [
    "def qz_count(row):\n",
    "    return len(train_1705[(train_1705['Departure'] == row['Departure']) \n",
    "                     & (row['PDepartureTime'] - train_1705['PDepartureTime'] > 120 * 60 )\n",
    "                     & (row['PDepartureTime'] - train_1705['PDepartureTime'] < 360 * 60 )])\n",
    "\n",
    "train_1705.apply(qz_count, axis=1)"
   ]
  },
  {
   "cell_type": "code",
   "execution_count": null,
   "metadata": {
    "collapsed": true
   },
   "outputs": [],
   "source": []
  },
  {
   "cell_type": "code",
   "execution_count": null,
   "metadata": {
    "collapsed": true
   },
   "outputs": [],
   "source": []
  },
  {
   "cell_type": "code",
   "execution_count": null,
   "metadata": {
    "collapsed": true
   },
   "outputs": [],
   "source": []
  },
  {
   "cell_type": "code",
   "execution_count": null,
   "metadata": {
    "collapsed": true
   },
   "outputs": [],
   "source": []
  },
  {
   "cell_type": "code",
   "execution_count": null,
   "metadata": {
    "collapsed": true
   },
   "outputs": [],
   "source": []
  },
  {
   "cell_type": "code",
   "execution_count": null,
   "metadata": {
    "collapsed": true
   },
   "outputs": [],
   "source": []
  },
  {
   "cell_type": "code",
   "execution_count": null,
   "metadata": {
    "collapsed": true
   },
   "outputs": [],
   "source": []
  },
  {
   "cell_type": "code",
   "execution_count": null,
   "metadata": {
    "collapsed": true
   },
   "outputs": [],
   "source": []
  },
  {
   "cell_type": "code",
   "execution_count": null,
   "metadata": {
    "collapsed": true
   },
   "outputs": [],
   "source": []
  },
  {
   "cell_type": "code",
   "execution_count": null,
   "metadata": {
    "collapsed": true
   },
   "outputs": [],
   "source": []
  },
  {
   "cell_type": "code",
   "execution_count": null,
   "metadata": {
    "collapsed": true
   },
   "outputs": [],
   "source": []
  },
  {
   "cell_type": "code",
   "execution_count": null,
   "metadata": {
    "collapsed": true
   },
   "outputs": [],
   "source": []
  },
  {
   "cell_type": "code",
   "execution_count": null,
   "metadata": {
    "collapsed": true
   },
   "outputs": [],
   "source": []
  },
  {
   "cell_type": "code",
   "execution_count": null,
   "metadata": {
    "collapsed": true
   },
   "outputs": [],
   "source": []
  },
  {
   "cell_type": "code",
   "execution_count": null,
   "metadata": {
    "collapsed": true
   },
   "outputs": [],
   "source": []
  },
  {
   "cell_type": "code",
   "execution_count": null,
   "metadata": {
    "collapsed": true
   },
   "outputs": [],
   "source": []
  },
  {
   "cell_type": "code",
   "execution_count": null,
   "metadata": {
    "collapsed": true
   },
   "outputs": [],
   "source": []
  },
  {
   "cell_type": "code",
   "execution_count": null,
   "metadata": {
    "collapsed": true
   },
   "outputs": [],
   "source": []
  },
  {
   "cell_type": "code",
   "execution_count": null,
   "metadata": {
    "collapsed": true
   },
   "outputs": [],
   "source": []
  }
 ],
 "metadata": {
  "kernelspec": {
   "display_name": "Python 3",
   "language": "python",
   "name": "python3"
  },
  "language_info": {
   "codemirror_mode": {
    "name": "ipython",
    "version": 3
   },
   "file_extension": ".py",
   "mimetype": "text/x-python",
   "name": "python",
   "nbconvert_exporter": "python",
   "pygments_lexer": "ipython3",
   "version": "3.5.1"
  }
 },
 "nbformat": 4,
 "nbformat_minor": 2
}
