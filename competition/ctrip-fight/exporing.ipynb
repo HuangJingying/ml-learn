{
 "cells": [
  {
   "cell_type": "code",
   "execution_count": 1,
   "metadata": {
    "collapsed": true
   },
   "outputs": [],
   "source": [
    "import pandas as pd\n",
    "import numpy as np\n",
    "import matplotlib.pyplot as plt\n",
    "import seaborn as sns\n",
    "import matplotlib.ticker as ticker\n",
    "\n",
    "from IPython.display import display\n",
    "\n",
    "%matplotlib inline\n",
    "\n",
    "sns.set(font=\"simhei\")"
   ]
  },
  {
   "cell_type": "markdown",
   "metadata": {},
   "source": [
    "特情数据"
   ]
  },
  {
   "cell_type": "code",
   "execution_count": 27,
   "metadata": {
    "collapsed": false
   },
   "outputs": [
    {
     "data": {
      "text/html": [
       "<div>\n",
       "<style>\n",
       "    .dataframe thead tr:only-child th {\n",
       "        text-align: right;\n",
       "    }\n",
       "\n",
       "    .dataframe thead th {\n",
       "        text-align: left;\n",
       "    }\n",
       "\n",
       "    .dataframe tbody tr th {\n",
       "        vertical-align: top;\n",
       "    }\n",
       "</style>\n",
       "<table border=\"1\" class=\"dataframe\">\n",
       "  <thead>\n",
       "    <tr style=\"text-align: right;\">\n",
       "      <th></th>\n",
       "      <th>Airport</th>\n",
       "      <th>CTime</th>\n",
       "      <th>STime</th>\n",
       "      <th>ETime</th>\n",
       "      <th>Content</th>\n",
       "    </tr>\n",
       "  </thead>\n",
       "  <tbody>\n",
       "    <tr>\n",
       "      <th>0</th>\n",
       "      <td>csx</td>\n",
       "      <td>2015-04-30 19:52:45Z</td>\n",
       "      <td>2015-05-01 12:00:00Z</td>\n",
       "      <td>2015-05-01 16:00:00Z</td>\n",
       "      <td>长沙机场航班延误黄色预警提示：预计明日（5月1日）12:00-16:00长沙黄花机场受雷雨天...</td>\n",
       "    </tr>\n",
       "    <tr>\n",
       "      <th>1</th>\n",
       "      <td>wuh</td>\n",
       "      <td>2015-05-01 08:13:39Z</td>\n",
       "      <td>2015-05-01 08:00:00Z</td>\n",
       "      <td>2015-05-01 12:00:00Z</td>\n",
       "      <td>目前，8时-12时雷雨，期间进出港航班可能受到影响。</td>\n",
       "    </tr>\n",
       "    <tr>\n",
       "      <th>2</th>\n",
       "      <td>khn</td>\n",
       "      <td>2015-05-01 08:14:18Z</td>\n",
       "      <td>2015-05-01 14:00:00Z</td>\n",
       "      <td>2015-05-01 17:00:00Z</td>\n",
       "      <td>预计，14时-17时小雷雨，期间进出港航班可能受到影响。</td>\n",
       "    </tr>\n",
       "    <tr>\n",
       "      <th>3</th>\n",
       "      <td>swa</td>\n",
       "      <td>2015-05-01 08:24:28Z</td>\n",
       "      <td>2015-05-01 13:00:00Z</td>\n",
       "      <td>2015-05-01 17:00:00Z</td>\n",
       "      <td>预计，13时-17时雷雨，期间进出港航班可能受到影响。</td>\n",
       "    </tr>\n",
       "    <tr>\n",
       "      <th>4</th>\n",
       "      <td>zha</td>\n",
       "      <td>2015-05-01 08:24:56Z</td>\n",
       "      <td>2015-05-01 13:00:00Z</td>\n",
       "      <td>2015-05-01 17:00:00Z</td>\n",
       "      <td>预计，13时-17时雷雨，期间进出港航班可能受到影响。</td>\n",
       "    </tr>\n",
       "  </tbody>\n",
       "</table>\n",
       "</div>"
      ],
      "text/plain": [
       "  Airport                 CTime                 STime                 ETime  \\\n",
       "0     csx  2015-04-30 19:52:45Z  2015-05-01 12:00:00Z  2015-05-01 16:00:00Z   \n",
       "1     wuh  2015-05-01 08:13:39Z  2015-05-01 08:00:00Z  2015-05-01 12:00:00Z   \n",
       "2     khn  2015-05-01 08:14:18Z  2015-05-01 14:00:00Z  2015-05-01 17:00:00Z   \n",
       "3     swa  2015-05-01 08:24:28Z  2015-05-01 13:00:00Z  2015-05-01 17:00:00Z   \n",
       "4     zha  2015-05-01 08:24:56Z  2015-05-01 13:00:00Z  2015-05-01 17:00:00Z   \n",
       "\n",
       "                                             Content  \n",
       "0  长沙机场航班延误黄色预警提示：预计明日（5月1日）12:00-16:00长沙黄花机场受雷雨天...  \n",
       "1                         目前，8时-12时雷雨，期间进出港航班可能受到影响。  \n",
       "2                       预计，14时-17时小雷雨，期间进出港航班可能受到影响。  \n",
       "3                        预计，13时-17时雷雨，期间进出港航班可能受到影响。  \n",
       "4                        预计，13时-17时雷雨，期间进出港航班可能受到影响。  "
      ]
     },
     "metadata": {},
     "output_type": "display_data"
    },
    {
     "name": "stdout",
     "output_type": "stream",
     "text": [
      "<class 'pandas.core.frame.DataFrame'>\n",
      "RangeIndex: 15880 entries, 0 to 15879\n",
      "Data columns (total 5 columns):\n",
      "Airport    15877 non-null object\n",
      "CTime      15869 non-null object\n",
      "STime      15869 non-null object\n",
      "ETime      15862 non-null object\n",
      "Content    15868 non-null object\n",
      "dtypes: object(5)\n",
      "memory usage: 620.4+ KB\n"
     ]
    }
   ],
   "source": [
    "train_s = pd.read_csv('input/train/special-case.csv')\n",
    "display(train_s.head())\n",
    "train_s.info()"
   ]
  },
  {
   "cell_type": "markdown",
   "metadata": {},
   "source": [
    "时间转成int，机场名大写"
   ]
  },
  {
   "cell_type": "code",
   "execution_count": 28,
   "metadata": {
    "collapsed": false
   },
   "outputs": [
    {
     "data": {
      "text/html": [
       "<div>\n",
       "<style>\n",
       "    .dataframe thead tr:only-child th {\n",
       "        text-align: right;\n",
       "    }\n",
       "\n",
       "    .dataframe thead th {\n",
       "        text-align: left;\n",
       "    }\n",
       "\n",
       "    .dataframe tbody tr th {\n",
       "        vertical-align: top;\n",
       "    }\n",
       "</style>\n",
       "<table border=\"1\" class=\"dataframe\">\n",
       "  <thead>\n",
       "    <tr style=\"text-align: right;\">\n",
       "      <th></th>\n",
       "      <th>Airport</th>\n",
       "      <th>CTime</th>\n",
       "      <th>STime</th>\n",
       "      <th>ETime</th>\n",
       "      <th>Content</th>\n",
       "    </tr>\n",
       "  </thead>\n",
       "  <tbody>\n",
       "    <tr>\n",
       "      <th>7063</th>\n",
       "      <td>ACX</td>\n",
       "      <td>1467573963</td>\n",
       "      <td>1467572400</td>\n",
       "      <td>1467576000</td>\n",
       "      <td>目前兴义机场有小雨雷，期间进出港航班可能会受到影响。</td>\n",
       "    </tr>\n",
       "    <tr>\n",
       "      <th>7080</th>\n",
       "      <td>ACX</td>\n",
       "      <td>1467620784</td>\n",
       "      <td>1467619200</td>\n",
       "      <td>1467626400</td>\n",
       "      <td>目前，兴义机场有雾，低云，期间进出港航班可能会受到影响。</td>\n",
       "    </tr>\n",
       "    <tr>\n",
       "      <th>6784</th>\n",
       "      <td>AHJ</td>\n",
       "      <td>1467008145</td>\n",
       "      <td>1467007200</td>\n",
       "      <td>1467014400</td>\n",
       "      <td>目前阿坝机场有雾，能见度600米，期间进出港航班可能会受到影响。</td>\n",
       "    </tr>\n",
       "    <tr>\n",
       "      <th>6621</th>\n",
       "      <td>AKU</td>\n",
       "      <td>1466544316</td>\n",
       "      <td>1466544000</td>\n",
       "      <td>1466550000</td>\n",
       "      <td>目前阿克苏机场有雷，期间进出港航班可能会受到影响。</td>\n",
       "    </tr>\n",
       "    <tr>\n",
       "      <th>6540</th>\n",
       "      <td>AQG</td>\n",
       "      <td>1466324409</td>\n",
       "      <td>1466323200</td>\n",
       "      <td>1466334000</td>\n",
       "      <td>目前安庆机场有雷雨，期间进出港航班可能会受到影响。</td>\n",
       "    </tr>\n",
       "  </tbody>\n",
       "</table>\n",
       "</div>"
      ],
      "text/plain": [
       "     Airport       CTime       STime       ETime  \\\n",
       "7063     ACX  1467573963  1467572400  1467576000   \n",
       "7080     ACX  1467620784  1467619200  1467626400   \n",
       "6784     AHJ  1467008145  1467007200  1467014400   \n",
       "6621     AKU  1466544316  1466544000  1466550000   \n",
       "6540     AQG  1466324409  1466323200  1466334000   \n",
       "\n",
       "                               Content  \n",
       "7063        目前兴义机场有小雨雷，期间进出港航班可能会受到影响。  \n",
       "7080      目前，兴义机场有雾，低云，期间进出港航班可能会受到影响。  \n",
       "6784  目前阿坝机场有雾，能见度600米，期间进出港航班可能会受到影响。  \n",
       "6621         目前阿克苏机场有雷，期间进出港航班可能会受到影响。  \n",
       "6540         目前安庆机场有雷雨，期间进出港航班可能会受到影响。  "
      ]
     },
     "execution_count": 28,
     "metadata": {},
     "output_type": "execute_result"
    }
   ],
   "source": [
    "train_s.dropna(axis=0, inplace=True)\n",
    "\n",
    "train_s['CTime'] = pd.to_datetime(train_s['CTime']).astype(np.int64) // 10 ** 9\n",
    "train_s['STime'] = pd.to_datetime(train_s['STime']).astype(np.int64) // 10 ** 9\n",
    "train_s['ETime'] = pd.to_datetime(train_s['ETime']).astype(np.int64) // 10 ** 9\n",
    "\n",
    "train_s.sort_values(['Airport', 'STime', 'ETime'], ascending=True, inplace=True)\n",
    "\n",
    "train_s['Airport'] = train_s['Airport'].str.upper()\n",
    "\n",
    "train_s.head()"
   ]
  },
  {
   "cell_type": "markdown",
   "metadata": {},
   "source": [
    "天气数据"
   ]
  },
  {
   "cell_type": "code",
   "execution_count": 26,
   "metadata": {
    "collapsed": false
   },
   "outputs": [
    {
     "data": {
      "text/html": [
       "<div>\n",
       "<style>\n",
       "    .dataframe thead tr:only-child th {\n",
       "        text-align: right;\n",
       "    }\n",
       "\n",
       "    .dataframe thead th {\n",
       "        text-align: left;\n",
       "    }\n",
       "\n",
       "    .dataframe tbody tr th {\n",
       "        vertical-align: top;\n",
       "    }\n",
       "</style>\n",
       "<table border=\"1\" class=\"dataframe\">\n",
       "  <thead>\n",
       "    <tr style=\"text-align: right;\">\n",
       "      <th></th>\n",
       "      <th>City</th>\n",
       "      <th>Weather</th>\n",
       "      <th>MinTp</th>\n",
       "      <th>MaxTp</th>\n",
       "      <th>Date</th>\n",
       "    </tr>\n",
       "  </thead>\n",
       "  <tbody>\n",
       "    <tr>\n",
       "      <th>0</th>\n",
       "      <td>厦门</td>\n",
       "      <td>阴</td>\n",
       "      <td>21</td>\n",
       "      <td>26</td>\n",
       "      <td>2015-05-01</td>\n",
       "    </tr>\n",
       "    <tr>\n",
       "      <th>1</th>\n",
       "      <td>宁德</td>\n",
       "      <td>阵雨</td>\n",
       "      <td>19</td>\n",
       "      <td>25</td>\n",
       "      <td>2015-05-01</td>\n",
       "    </tr>\n",
       "    <tr>\n",
       "      <th>2</th>\n",
       "      <td>莆田</td>\n",
       "      <td>阵雨转阴</td>\n",
       "      <td>20</td>\n",
       "      <td>26</td>\n",
       "      <td>2015-05-01</td>\n",
       "    </tr>\n",
       "    <tr>\n",
       "      <th>3</th>\n",
       "      <td>泉州</td>\n",
       "      <td>阴</td>\n",
       "      <td>22</td>\n",
       "      <td>26</td>\n",
       "      <td>2015-05-01</td>\n",
       "    </tr>\n",
       "    <tr>\n",
       "      <th>4</th>\n",
       "      <td>漳州</td>\n",
       "      <td>阵雨转阴</td>\n",
       "      <td>22</td>\n",
       "      <td>28</td>\n",
       "      <td>2015-05-01</td>\n",
       "    </tr>\n",
       "  </tbody>\n",
       "</table>\n",
       "</div>"
      ],
      "text/plain": [
       "  City Weather MinTp MaxTp        Date\n",
       "0   厦门       阴    21    26  2015-05-01\n",
       "1   宁德      阵雨    19    25  2015-05-01\n",
       "2   莆田    阵雨转阴    20    26  2015-05-01\n",
       "3   泉州       阴    22    26  2015-05-01\n",
       "4   漳州    阵雨转阴    22    28  2015-05-01"
      ]
     },
     "metadata": {},
     "output_type": "display_data"
    },
    {
     "name": "stdout",
     "output_type": "stream",
     "text": [
      "<class 'pandas.core.frame.DataFrame'>\n",
      "RangeIndex: 828469 entries, 0 to 828468\n",
      "Data columns (total 5 columns):\n",
      "City       828469 non-null object\n",
      "Weather    828399 non-null object\n",
      "MinTp      778400 non-null object\n",
      "MaxTp      678990 non-null object\n",
      "Date       828469 non-null object\n",
      "dtypes: object(5)\n",
      "memory usage: 31.6+ MB\n"
     ]
    }
   ],
   "source": [
    "train_w = pd.read_csv('input/train/weather.csv', low_memory=False)\n",
    "display(train_w.head())\n",
    "train_w.info()"
   ]
  },
  {
   "cell_type": "code",
   "execution_count": 29,
   "metadata": {
    "collapsed": false
   },
   "outputs": [
    {
     "data": {
      "text/plain": [
       "多云            160028\n",
       "小雨            158126\n",
       "晴             111083\n",
       "阴              40797\n",
       "多云转晴           31667\n",
       "晴转多云           30307\n",
       "多云转小雨          25097\n",
       "小雨转多云          23468\n",
       "多云转阴           23164\n",
       "阴转多云           14859\n",
       "阴转小雨           14461\n",
       "小雨转阴           13986\n",
       "中雨             12126\n",
       "中雨转小雨          10721\n",
       "小雪              9727\n",
       "阵雨              8602\n",
       "雨夹雪             8041\n",
       "小雨转中雨           7394\n",
       "大雨              7336\n",
       "雷阵雨             7020\n",
       "阵雨转多云           5653\n",
       "小雨转晴            4780\n",
       "多云转阵雨           4197\n",
       "多云转阴到多云间晴       3652\n",
       "晴转小雨            3611\n",
       "雷阵雨转多云          3133\n",
       "晴间多云            3094\n",
       "晴转阴             2749\n",
       "阵雨转小雨           2360\n",
       "小雨转雨夹雪          2241\n",
       "               ...  \n",
       "扬沙转雨夹雪             1\n",
       "暴雪转阴               1\n",
       "阵雨转扬沙              1\n",
       "冻雨转多云              1\n",
       "阴转雷阵雨伴有冰雹          1\n",
       "大雪转雾               1\n",
       "雷阵雨转扬沙             1\n",
       "雷雨变得更频繁            1\n",
       "有少量雪或小雪            1\n",
       "间歇性降雨，雨势增强         1\n",
       "一场或两场小雪            1\n",
       "有几场大风雪             1\n",
       "冻雨转晴               1\n",
       "转小雪                1\n",
       "时有雪、冰霰和雨           1\n",
       "雪、冰霰夹雨             1\n",
       "大到暴雨转小雨            1\n",
       "中到大雨转中雨            1\n",
       "中雪转中雨              1\n",
       "沙尘暴转小雨             1\n",
       "时大时小的雪             1\n",
       "中到大雨转阵雨            1\n",
       "中到大雪               1\n",
       "雷阵雨伴有冰雹转晴          1\n",
       "小雪转雷阵雨伴有冰雹         1\n",
       "小雪、冰雪和雨            1\n",
       "晴转浓雾               1\n",
       "中雨转扬沙              1\n",
       "低云，有雾              1\n",
       "重度霾转雾              1\n",
       "Name: Weather, Length: 436, dtype: int64"
      ]
     },
     "execution_count": 29,
     "metadata": {},
     "output_type": "execute_result"
    }
   ],
   "source": [
    "train_w['Weather'].value_counts()"
   ]
  },
  {
   "cell_type": "code",
   "execution_count": null,
   "metadata": {
    "collapsed": true
   },
   "outputs": [],
   "source": []
  },
  {
   "cell_type": "code",
   "execution_count": null,
   "metadata": {
    "collapsed": true
   },
   "outputs": [],
   "source": []
  },
  {
   "cell_type": "code",
   "execution_count": null,
   "metadata": {
    "collapsed": true
   },
   "outputs": [],
   "source": []
  },
  {
   "cell_type": "markdown",
   "metadata": {
    "collapsed": true
   },
   "source": [
    "航班数据"
   ]
  },
  {
   "cell_type": "code",
   "execution_count": 4,
   "metadata": {
    "collapsed": false
   },
   "outputs": [
    {
     "data": {
      "text/html": [
       "<div>\n",
       "<style>\n",
       "    .dataframe thead tr:only-child th {\n",
       "        text-align: right;\n",
       "    }\n",
       "\n",
       "    .dataframe thead th {\n",
       "        text-align: left;\n",
       "    }\n",
       "\n",
       "    .dataframe tbody tr th {\n",
       "        vertical-align: top;\n",
       "    }\n",
       "</style>\n",
       "<table border=\"1\" class=\"dataframe\">\n",
       "  <thead>\n",
       "    <tr style=\"text-align: right;\">\n",
       "      <th></th>\n",
       "      <th>Departure</th>\n",
       "      <th>Destination</th>\n",
       "      <th>FLTNo</th>\n",
       "      <th>PDepartureTime</th>\n",
       "      <th>PArrivalTime</th>\n",
       "      <th>ADepartureTime</th>\n",
       "      <th>AArrivalTime</th>\n",
       "      <th>Id</th>\n",
       "      <th>IsCancel</th>\n",
       "    </tr>\n",
       "  </thead>\n",
       "  <tbody>\n",
       "    <tr>\n",
       "      <th>0</th>\n",
       "      <td>PVG</td>\n",
       "      <td>CKG</td>\n",
       "      <td>9C8867</td>\n",
       "      <td>1495602600</td>\n",
       "      <td>1495613700</td>\n",
       "      <td>1.495605e+09</td>\n",
       "      <td>1.495613e+09</td>\n",
       "      <td>2798.0</td>\n",
       "      <td>正常</td>\n",
       "    </tr>\n",
       "    <tr>\n",
       "      <th>1</th>\n",
       "      <td>CAN</td>\n",
       "      <td>TAO</td>\n",
       "      <td>HU7275</td>\n",
       "      <td>1493947200</td>\n",
       "      <td>1493958600</td>\n",
       "      <td>1.493948e+09</td>\n",
       "      <td>1.493958e+09</td>\n",
       "      <td>1479.0</td>\n",
       "      <td>正常</td>\n",
       "    </tr>\n",
       "    <tr>\n",
       "      <th>2</th>\n",
       "      <td>KWE</td>\n",
       "      <td>KMG</td>\n",
       "      <td>GJ8661</td>\n",
       "      <td>1494775200</td>\n",
       "      <td>1494779400</td>\n",
       "      <td>1.494783e+09</td>\n",
       "      <td>1.494787e+09</td>\n",
       "      <td>2957.0</td>\n",
       "      <td>正常</td>\n",
       "    </tr>\n",
       "    <tr>\n",
       "      <th>3</th>\n",
       "      <td>WNZ</td>\n",
       "      <td>CSX</td>\n",
       "      <td>CZ6956</td>\n",
       "      <td>1495185600</td>\n",
       "      <td>1495191300</td>\n",
       "      <td>1.495188e+09</td>\n",
       "      <td>1.495193e+09</td>\n",
       "      <td>419.0</td>\n",
       "      <td>正常</td>\n",
       "    </tr>\n",
       "    <tr>\n",
       "      <th>4</th>\n",
       "      <td>ENH</td>\n",
       "      <td>WUH</td>\n",
       "      <td>CZ3841</td>\n",
       "      <td>1494460800</td>\n",
       "      <td>1494465000</td>\n",
       "      <td>1.494471e+09</td>\n",
       "      <td>1.494474e+09</td>\n",
       "      <td>1421.0</td>\n",
       "      <td>正常</td>\n",
       "    </tr>\n",
       "  </tbody>\n",
       "</table>\n",
       "</div>"
      ],
      "text/plain": [
       "  Departure Destination   FLTNo  PDepartureTime  PArrivalTime  ADepartureTime  \\\n",
       "0       PVG         CKG  9C8867      1495602600    1495613700    1.495605e+09   \n",
       "1       CAN         TAO  HU7275      1493947200    1493958600    1.493948e+09   \n",
       "2       KWE         KMG  GJ8661      1494775200    1494779400    1.494783e+09   \n",
       "3       WNZ         CSX  CZ6956      1495185600    1495191300    1.495188e+09   \n",
       "4       ENH         WUH  CZ3841      1494460800    1494465000    1.494471e+09   \n",
       "\n",
       "   AArrivalTime      Id IsCancel  \n",
       "0  1.495613e+09  2798.0       正常  \n",
       "1  1.493958e+09  1479.0       正常  \n",
       "2  1.494787e+09  2957.0       正常  \n",
       "3  1.495193e+09   419.0       正常  \n",
       "4  1.494474e+09  1421.0       正常  "
      ]
     },
     "metadata": {},
     "output_type": "display_data"
    },
    {
     "name": "stdout",
     "output_type": "stream",
     "text": [
      "<class 'pandas.core.frame.DataFrame'>\n",
      "RangeIndex: 326557 entries, 0 to 326556\n",
      "Data columns (total 9 columns):\n",
      "Departure         326557 non-null object\n",
      "Destination       326557 non-null object\n",
      "FLTNo             326557 non-null object\n",
      "PDepartureTime    326557 non-null int64\n",
      "PArrivalTime      326557 non-null int64\n",
      "ADepartureTime    317996 non-null float64\n",
      "AArrivalTime      317875 non-null float64\n",
      "Id                322561 non-null float64\n",
      "IsCancel          326557 non-null object\n",
      "dtypes: float64(3), int64(2), object(4)\n",
      "memory usage: 22.4+ MB\n"
     ]
    }
   ],
   "source": [
    "train_1705 = pd.read_csv('input/train/fights-2017-05.csv')\n",
    "\n",
    "display(train_1705.head())\n",
    "train_1705.info()"
   ]
  },
  {
   "cell_type": "code",
   "execution_count": 5,
   "metadata": {
    "collapsed": false
   },
   "outputs": [
    {
     "data": {
      "text/html": [
       "<div>\n",
       "<style>\n",
       "    .dataframe thead tr:only-child th {\n",
       "        text-align: right;\n",
       "    }\n",
       "\n",
       "    .dataframe thead th {\n",
       "        text-align: left;\n",
       "    }\n",
       "\n",
       "    .dataframe tbody tr th {\n",
       "        vertical-align: top;\n",
       "    }\n",
       "</style>\n",
       "<table border=\"1\" class=\"dataframe\">\n",
       "  <thead>\n",
       "    <tr style=\"text-align: right;\">\n",
       "      <th></th>\n",
       "      <th>Departure</th>\n",
       "      <th>Destination</th>\n",
       "      <th>FLTNo</th>\n",
       "      <th>PDepartureTime</th>\n",
       "      <th>PArrivalTime</th>\n",
       "      <th>ADepartureTime</th>\n",
       "      <th>AArrivalTime</th>\n",
       "      <th>Id</th>\n",
       "      <th>IsCancel</th>\n",
       "      <th>Delay</th>\n",
       "      <th>DelayRange</th>\n",
       "    </tr>\n",
       "  </thead>\n",
       "  <tbody>\n",
       "    <tr>\n",
       "      <th>300856</th>\n",
       "      <td>AAT</td>\n",
       "      <td>URC</td>\n",
       "      <td>CZ6844</td>\n",
       "      <td>1494136200</td>\n",
       "      <td>1494139800</td>\n",
       "      <td>NaN</td>\n",
       "      <td>NaN</td>\n",
       "      <td>NaN</td>\n",
       "      <td>取消</td>\n",
       "      <td>NaN</td>\n",
       "      <td>1440-inf</td>\n",
       "    </tr>\n",
       "    <tr>\n",
       "      <th>169467</th>\n",
       "      <td>AAT</td>\n",
       "      <td>AKU</td>\n",
       "      <td>UQ2004</td>\n",
       "      <td>1496068500</td>\n",
       "      <td>1496074200</td>\n",
       "      <td>NaN</td>\n",
       "      <td>NaN</td>\n",
       "      <td>NaN</td>\n",
       "      <td>取消</td>\n",
       "      <td>NaN</td>\n",
       "      <td>1440-inf</td>\n",
       "    </tr>\n",
       "    <tr>\n",
       "      <th>118525</th>\n",
       "      <td>ACX</td>\n",
       "      <td>KWE</td>\n",
       "      <td>G52930</td>\n",
       "      <td>1493602500</td>\n",
       "      <td>1493605200</td>\n",
       "      <td>1.493602e+09</td>\n",
       "      <td>1.493604e+09</td>\n",
       "      <td>1112.0</td>\n",
       "      <td>正常</td>\n",
       "      <td>-11.0</td>\n",
       "      <td>&lt;0</td>\n",
       "    </tr>\n",
       "    <tr>\n",
       "      <th>1428</th>\n",
       "      <td>ACX</td>\n",
       "      <td>SHA</td>\n",
       "      <td>MU5817</td>\n",
       "      <td>1493607900</td>\n",
       "      <td>1493618100</td>\n",
       "      <td>1.493609e+09</td>\n",
       "      <td>1.493617e+09</td>\n",
       "      <td>1336.0</td>\n",
       "      <td>正常</td>\n",
       "      <td>15.0</td>\n",
       "      <td>10-20</td>\n",
       "    </tr>\n",
       "    <tr>\n",
       "      <th>271661</th>\n",
       "      <td>ACX</td>\n",
       "      <td>KWE</td>\n",
       "      <td>G52610</td>\n",
       "      <td>1493609700</td>\n",
       "      <td>1493612100</td>\n",
       "      <td>1.493609e+09</td>\n",
       "      <td>1.493611e+09</td>\n",
       "      <td>834.0</td>\n",
       "      <td>正常</td>\n",
       "      <td>-5.0</td>\n",
       "      <td>&lt;0</td>\n",
       "    </tr>\n",
       "  </tbody>\n",
       "</table>\n",
       "</div>"
      ],
      "text/plain": [
       "       Departure Destination   FLTNo  PDepartureTime  PArrivalTime  \\\n",
       "300856       AAT         URC  CZ6844      1494136200    1494139800   \n",
       "169467       AAT         AKU  UQ2004      1496068500    1496074200   \n",
       "118525       ACX         KWE  G52930      1493602500    1493605200   \n",
       "1428         ACX         SHA  MU5817      1493607900    1493618100   \n",
       "271661       ACX         KWE  G52610      1493609700    1493612100   \n",
       "\n",
       "        ADepartureTime  AArrivalTime      Id IsCancel  Delay DelayRange  \n",
       "300856             NaN           NaN     NaN       取消    NaN   1440-inf  \n",
       "169467             NaN           NaN     NaN       取消    NaN   1440-inf  \n",
       "118525    1.493602e+09  1.493604e+09  1112.0       正常  -11.0         <0  \n",
       "1428      1.493609e+09  1.493617e+09  1336.0       正常   15.0      10-20  \n",
       "271661    1.493609e+09  1.493611e+09   834.0       正常   -5.0         <0  "
      ]
     },
     "execution_count": 5,
     "metadata": {},
     "output_type": "execute_result"
    }
   ],
   "source": [
    "train_1705.sort_values(['Departure', 'PDepartureTime'], ascending=True, inplace=True)\n",
    "\n",
    "train_1705['Delay'] = (train_1705['ADepartureTime'] - train_1705['PDepartureTime']) / 60\n",
    "\n",
    "train_1705['DelayRange'] = pd.cut(train_1705['Delay'], [-np.inf, 0, 10, 20, 30, 60, 120, 180, 300, 720, 1440, np.inf], \n",
    "                                  labels=['<0', '0-10', '10-20', '20-30', '30-60', '60-120', '120-180', '180-300', '300-720', '720-1440', '1440-inf'])\n",
    "train_1705['DelayRange'].fillna(\"1440-inf\", inplace=True) # nan值代表航班取消\n",
    "\n",
    "train_1705.head()"
   ]
  },
  {
   "cell_type": "code",
   "execution_count": 6,
   "metadata": {
    "collapsed": false
   },
   "outputs": [
    {
     "data": {
      "text/plain": [
       "0-10        69045\n",
       "10-20       64463\n",
       "30-60       49311\n",
       "<0          40533\n",
       "20-30       36480\n",
       "60-120      34479\n",
       "120-180     13042\n",
       "1440-inf     8561\n",
       "180-300      8172\n",
       "300-720      2414\n",
       "720-1440       57\n",
       "Name: DelayRange, dtype: int64"
      ]
     },
     "execution_count": 6,
     "metadata": {},
     "output_type": "execute_result"
    }
   ],
   "source": [
    "train_1705['DelayRange'].value_counts()"
   ]
  },
  {
   "cell_type": "markdown",
   "metadata": {},
   "source": [
    "将特情信息合并进航班信息。每条航班增加如下字段：\n",
    "\n",
    "- IsSpecial 标记该航班是否在特情范围内\n",
    "- Msg 特情消息\n",
    "- STime 特情开始时间\n",
    "- ETime 特情结束时间"
   ]
  },
  {
   "cell_type": "code",
   "execution_count": 7,
   "metadata": {
    "collapsed": false
   },
   "outputs": [],
   "source": [
    "train_1705.loc[:, 'IsSpecial'] = False\n",
    "\n",
    "maxPTime = train_1705['PDepartureTime'].max()\n",
    "minPTime = train_1705['PDepartureTime'].min()\n",
    "train_s2 = train_s[(train_s['STime'] >= minPTime) & (train_s['ETime'] <= maxPTime)]\n",
    "\n",
    "last_ariport = ''\n",
    "for i, row in train_s2.iterrows():\n",
    "    if last_ariport != row['Airport']:\n",
    "        last_ariport = row['Airport']\n",
    "        idx = train_1705.loc[train_1705['Departure'] == row['Airport'], :].index\n",
    "        \n",
    "    is_in = ((train_1705.loc[idx, 'PDepartureTime'] >= row['STime']) & (train_1705.loc[idx, 'PDepartureTime'] <= row['ETime']))\n",
    "    \n",
    "    \n",
    "    train_1705.loc[idx, 'IsSpecial'] = train_1705.loc[idx, 'IsSpecial'] | is_in\n",
    "    \n",
    "    train_1705.loc[is_in[is_in==True].index, 'Msg'] = row['Content']\n",
    "    train_1705.loc[is_in[is_in==True].index, 'STime'] = row['STime']\n",
    "    train_1705.loc[is_in[is_in==True].index, 'ETime'] = row['ETime']\n",
    "    train_1705.loc[is_in[is_in==True].index, 'CurSpecial'] = (row['STime'] >= row['CTime'])\n"
   ]
  },
  {
   "cell_type": "code",
   "execution_count": 8,
   "metadata": {
    "collapsed": false
   },
   "outputs": [
    {
     "data": {
      "text/html": [
       "<div>\n",
       "<style>\n",
       "    .dataframe thead tr:only-child th {\n",
       "        text-align: right;\n",
       "    }\n",
       "\n",
       "    .dataframe thead th {\n",
       "        text-align: left;\n",
       "    }\n",
       "\n",
       "    .dataframe tbody tr th {\n",
       "        vertical-align: top;\n",
       "    }\n",
       "</style>\n",
       "<table border=\"1\" class=\"dataframe\">\n",
       "  <thead>\n",
       "    <tr style=\"text-align: right;\">\n",
       "      <th></th>\n",
       "      <th>Departure</th>\n",
       "      <th>Destination</th>\n",
       "      <th>FLTNo</th>\n",
       "      <th>PDepartureTime</th>\n",
       "      <th>PArrivalTime</th>\n",
       "      <th>ADepartureTime</th>\n",
       "      <th>AArrivalTime</th>\n",
       "      <th>Id</th>\n",
       "      <th>IsCancel</th>\n",
       "      <th>Delay</th>\n",
       "      <th>DelayRange</th>\n",
       "      <th>IsSpecial</th>\n",
       "      <th>Msg</th>\n",
       "      <th>STime</th>\n",
       "      <th>ETime</th>\n",
       "      <th>CurSpecial</th>\n",
       "    </tr>\n",
       "  </thead>\n",
       "  <tbody>\n",
       "    <tr>\n",
       "      <th>8289</th>\n",
       "      <td>CAN</td>\n",
       "      <td>WUX</td>\n",
       "      <td>MU2928</td>\n",
       "      <td>1493823600</td>\n",
       "      <td>1493833200</td>\n",
       "      <td>1.493825e+09</td>\n",
       "      <td>1.493832e+09</td>\n",
       "      <td>1142.0</td>\n",
       "      <td>正常</td>\n",
       "      <td>28.0</td>\n",
       "      <td>20-30</td>\n",
       "      <td>True</td>\n",
       "      <td>5月3日，广州管制区空域繁忙至17:50。【空中交通网】</td>\n",
       "      <td>1.493823e+09</td>\n",
       "      <td>1.493834e+09</td>\n",
       "      <td>False</td>\n",
       "    </tr>\n",
       "    <tr>\n",
       "      <th>239378</th>\n",
       "      <td>CAN</td>\n",
       "      <td>DYG</td>\n",
       "      <td>CZ3381</td>\n",
       "      <td>1493823600</td>\n",
       "      <td>1493829600</td>\n",
       "      <td>NaN</td>\n",
       "      <td>NaN</td>\n",
       "      <td>1033.0</td>\n",
       "      <td>取消</td>\n",
       "      <td>NaN</td>\n",
       "      <td>1440-inf</td>\n",
       "      <td>True</td>\n",
       "      <td>5月3日，广州管制区空域繁忙至17:50。【空中交通网】</td>\n",
       "      <td>1.493823e+09</td>\n",
       "      <td>1.493834e+09</td>\n",
       "      <td>False</td>\n",
       "    </tr>\n",
       "    <tr>\n",
       "      <th>270356</th>\n",
       "      <td>CAN</td>\n",
       "      <td>ZHA</td>\n",
       "      <td>CZ3329</td>\n",
       "      <td>1493823600</td>\n",
       "      <td>1493829000</td>\n",
       "      <td>1.493824e+09</td>\n",
       "      <td>1.493827e+09</td>\n",
       "      <td>937.0</td>\n",
       "      <td>正常</td>\n",
       "      <td>1.0</td>\n",
       "      <td>0-10</td>\n",
       "      <td>True</td>\n",
       "      <td>5月3日，广州管制区空域繁忙至17:50。【空中交通网】</td>\n",
       "      <td>1.493823e+09</td>\n",
       "      <td>1.493834e+09</td>\n",
       "      <td>False</td>\n",
       "    </tr>\n",
       "    <tr>\n",
       "      <th>77430</th>\n",
       "      <td>CAN</td>\n",
       "      <td>CKG</td>\n",
       "      <td>PN6206</td>\n",
       "      <td>1493823900</td>\n",
       "      <td>1493831400</td>\n",
       "      <td>NaN</td>\n",
       "      <td>NaN</td>\n",
       "      <td>491.0</td>\n",
       "      <td>取消</td>\n",
       "      <td>NaN</td>\n",
       "      <td>1440-inf</td>\n",
       "      <td>True</td>\n",
       "      <td>5月3日，广州管制区空域繁忙至17:50。【空中交通网】</td>\n",
       "      <td>1.493823e+09</td>\n",
       "      <td>1.493834e+09</td>\n",
       "      <td>False</td>\n",
       "    </tr>\n",
       "    <tr>\n",
       "      <th>163750</th>\n",
       "      <td>CAN</td>\n",
       "      <td>NKG</td>\n",
       "      <td>CZ3871</td>\n",
       "      <td>1493823900</td>\n",
       "      <td>1493832300</td>\n",
       "      <td>1.493826e+09</td>\n",
       "      <td>1.493840e+09</td>\n",
       "      <td>1662.0</td>\n",
       "      <td>正常</td>\n",
       "      <td>32.0</td>\n",
       "      <td>30-60</td>\n",
       "      <td>True</td>\n",
       "      <td>5月3日，广州管制区空域繁忙至17:50。【空中交通网】</td>\n",
       "      <td>1.493823e+09</td>\n",
       "      <td>1.493834e+09</td>\n",
       "      <td>False</td>\n",
       "    </tr>\n",
       "  </tbody>\n",
       "</table>\n",
       "</div>"
      ],
      "text/plain": [
       "       Departure Destination   FLTNo  PDepartureTime  PArrivalTime  \\\n",
       "8289         CAN         WUX  MU2928      1493823600    1493833200   \n",
       "239378       CAN         DYG  CZ3381      1493823600    1493829600   \n",
       "270356       CAN         ZHA  CZ3329      1493823600    1493829000   \n",
       "77430        CAN         CKG  PN6206      1493823900    1493831400   \n",
       "163750       CAN         NKG  CZ3871      1493823900    1493832300   \n",
       "\n",
       "        ADepartureTime  AArrivalTime      Id IsCancel  Delay DelayRange  \\\n",
       "8289      1.493825e+09  1.493832e+09  1142.0       正常   28.0      20-30   \n",
       "239378             NaN           NaN  1033.0       取消    NaN   1440-inf   \n",
       "270356    1.493824e+09  1.493827e+09   937.0       正常    1.0       0-10   \n",
       "77430              NaN           NaN   491.0       取消    NaN   1440-inf   \n",
       "163750    1.493826e+09  1.493840e+09  1662.0       正常   32.0      30-60   \n",
       "\n",
       "        IsSpecial                           Msg         STime         ETime  \\\n",
       "8289         True  5月3日，广州管制区空域繁忙至17:50。【空中交通网】  1.493823e+09  1.493834e+09   \n",
       "239378       True  5月3日，广州管制区空域繁忙至17:50。【空中交通网】  1.493823e+09  1.493834e+09   \n",
       "270356       True  5月3日，广州管制区空域繁忙至17:50。【空中交通网】  1.493823e+09  1.493834e+09   \n",
       "77430        True  5月3日，广州管制区空域繁忙至17:50。【空中交通网】  1.493823e+09  1.493834e+09   \n",
       "163750       True  5月3日，广州管制区空域繁忙至17:50。【空中交通网】  1.493823e+09  1.493834e+09   \n",
       "\n",
       "       CurSpecial  \n",
       "8289        False  \n",
       "239378      False  \n",
       "270356      False  \n",
       "77430       False  \n",
       "163750      False  "
      ]
     },
     "execution_count": 8,
     "metadata": {},
     "output_type": "execute_result"
    }
   ],
   "source": [
    "train_1705[train_1705['IsSpecial'] == True].head()"
   ]
  },
  {
   "cell_type": "markdown",
   "metadata": {},
   "source": [
    "延误时间分布"
   ]
  },
  {
   "cell_type": "code",
   "execution_count": 9,
   "metadata": {
    "collapsed": false
   },
   "outputs": [
    {
     "data": {
      "image/png": "[encoded data removed]",
      "text/plain": [
       "<matplotlib.figure.Figure at 0x10fb54400>"
      ]
     },
     "metadata": {},
     "output_type": "display_data"
    }
   ],
   "source": [
    "plt.figure(figsize=(15, 4))\n",
    "g = sns.kdeplot(train_1705.loc[((~train_1705['Delay'].isnull()) & (train_1705['Delay'] > 0)), 'Delay'])\n",
    "g2 = sns.kdeplot(train_1705.loc[((~train_1705['Delay'].isnull()) & (train_1705['Delay'] > 0) & (train_1705['IsSpecial'] == True)), 'Delay'], label='Delay with Special')\n",
    "g.set_xlim(0, train_1705['Delay'].max())\n",
    "g.set_title('延误时间分布')\n",
    "g.xaxis.set_major_locator(ticker.LinearLocator(25))"
   ]
  },
  {
   "cell_type": "markdown",
   "metadata": {},
   "source": [
    "可以看出，带特情的延误时间比全部延误时间还是要大的。\n",
    "\n",
    "\n",
    "绘制每个延误时间段的情况。区分所有数据、带特情的数据。"
   ]
  },
  {
   "cell_type": "code",
   "execution_count": 10,
   "metadata": {
    "collapsed": false,
    "scrolled": false
   },
   "outputs": [
    {
     "data": {
      "image/png": "[encoded data removed]",
      "text/plain": [
       "<matplotlib.figure.Figure at 0x10fb540f0>"
      ]
     },
     "metadata": {},
     "output_type": "display_data"
    },
    {
     "data": {
      "image/png": "[encoded data removed]",
      "text/plain": [
       "<matplotlib.figure.Figure at 0x10fb54898>"
      ]
     },
     "metadata": {},
     "output_type": "display_data"
    }
   ],
   "source": [
    "def plot_count_and_percentage(data, title='', t=8):\n",
    "    plt.figure(figsize=(13, 5))\n",
    "    g = sns.countplot(data)\n",
    "    ncount = len(data)\n",
    "    max_y = 0\n",
    "\n",
    "    for p in g.patches:\n",
    "        x = p.get_bbox().get_points()[:,0]\n",
    "        y = p.get_bbox().get_points()[1,1]\n",
    "        max_y = max_y if max_y >= y else y\n",
    "        g.annotate('{:.2f}%'.format(100.*y/ncount), (x.mean(), y), ha='center', va='bottom') # set the alignment of the text\n",
    "    \n",
    "    if title != '':\n",
    "        g.set_title(title, loc='right')\n",
    "\n",
    "    g.set_ylim(0, max_y)\n",
    "    g.yaxis.set_major_locator(ticker.LinearLocator(t))\n",
    "    \n",
    "    g2 = g.twinx()\n",
    "    g2.grid(None)\n",
    "    g2.set_ylim(0, max_y/ncount)\n",
    "    g2.yaxis.set_major_locator(ticker.LinearLocator(t))\n",
    "    \n",
    "plot_count_and_percentage(train_1705['DelayRange'], '延误范围统计')\n",
    "plot_count_and_percentage(train_1705.loc[train_1705['IsSpecial'] == True, 'DelayRange'], '带特情的延误范围统计')"
   ]
  },
  {
   "cell_type": "markdown",
   "metadata": {
    "collapsed": true
   },
   "source": [
    "有上图可以看出，全部航班的延误在0-10分钟、10-20分钟的比例比较高。而带特情的航班的延误在30-60、60-120的比例比较到。而且带特请的航班延误3小时以上的概率明显增加。\n",
    "\n",
    "绘制带特情数据的延误时间段的情况。区分特情的类型：“预计”、“目前”。"
   ]
  },
  {
   "cell_type": "code",
   "execution_count": 11,
   "metadata": {
    "collapsed": false
   },
   "outputs": [
    {
     "data": {
      "image/png": "[encoded data removed]",
      "text/plain": [
       "<matplotlib.figure.Figure at 0x10e332080>"
      ]
     },
     "metadata": {},
     "output_type": "display_data"
    },
    {
     "data": {
      "image/png": "[encoded data removed]",
      "text/plain": [
       "<matplotlib.figure.Figure at 0x10e332588>"
      ]
     },
     "metadata": {},
     "output_type": "display_data"
    }
   ],
   "source": [
    "plot_count_and_percentage(train_1705.loc[train_1705['CurSpecial'] == True, 'DelayRange'], '特情类型：目前')\n",
    "plot_count_and_percentage(train_1705.loc[train_1705['CurSpecial'] != True, 'DelayRange'], '特情类型：预计')"
   ]
  },
  {
   "cell_type": "markdown",
   "metadata": {},
   "source": [
    "通过进一步分析带特情的航班，可以发现，特情类型为“目前”的航班比特情类型为“预计”的航班的延误时间明显要长。"
   ]
  },
  {
   "cell_type": "markdown",
   "metadata": {},
   "source": [
    "看看延误超过3小时的航班的特情情况，可以发现绝大部分延误的航班并没有特情。"
   ]
  },
  {
   "cell_type": "code",
   "execution_count": 24,
   "metadata": {
    "collapsed": false
   },
   "outputs": [
    {
     "data": {
      "image/png": "[encoded data removed]",
      "text/plain": [
       "<matplotlib.figure.Figure at 0x10e36c518>"
      ]
     },
     "metadata": {},
     "output_type": "display_data"
    }
   ],
   "source": [
    "# train_1705[train_1705['Delay'] > 180]\n",
    "\n",
    "g = sns.countplot('IsSpecial', data=train_1705[train_1705['Delay'] > 180])"
   ]
  },
  {
   "cell_type": "code",
   "execution_count": null,
   "metadata": {
    "collapsed": true
   },
   "outputs": [],
   "source": []
  },
  {
   "cell_type": "code",
   "execution_count": null,
   "metadata": {
    "collapsed": true
   },
   "outputs": [],
   "source": []
  },
  {
   "cell_type": "code",
   "execution_count": null,
   "metadata": {
    "collapsed": true
   },
   "outputs": [],
   "source": []
  },
  {
   "cell_type": "code",
   "execution_count": null,
   "metadata": {
    "collapsed": true
   },
   "outputs": [],
   "source": []
  },
  {
   "cell_type": "code",
   "execution_count": null,
   "metadata": {
    "collapsed": true
   },
   "outputs": [],
   "source": []
  },
  {
   "cell_type": "markdown",
   "metadata": {
    "collapsed": true
   },
   "source": [
    "航班与在它前面起飞航班的延误关系"
   ]
  },
  {
   "cell_type": "code",
   "execution_count": 30,
   "metadata": {
    "collapsed": false
   },
   "outputs": [],
   "source": [
    "idx = train_1705.index\n",
    "\n",
    "j = 0\n",
    "for i, row in train_1705.iterrows():\n",
    "    k =idx.get_loc(i)\n",
    "    m = 1\n",
    "    n = 0\n",
    "    nn = 0\n",
    "    j += 1\n",
    "    \n",
    "    while k-m >= 0:\n",
    "        diff = (row['PDepartureTime'] - train_1705.iloc[k-m]['PDepartureTime']) / 60\n",
    "        if diff < 120:\n",
    "            m += 1\n",
    "            continue\n",
    "        elif diff >= 120 and diff <= 180:\n",
    "            nn += 1\n",
    "            if train_1705.iloc[k-m]['Delay'] >= 180:\n",
    "                n += 1\n",
    "            m += 1\n",
    "        else:\n",
    "            m += 1\n",
    "            break\n",
    "    \n",
    "    train_1705.loc[i, 'PreCount'] = nn\n",
    "    train_1705.loc[i, 'PreDelay'] = n\n",
    "        \n",
    "    if j > 4000:\n",
    "        break"
   ]
  },
  {
   "cell_type": "code",
   "execution_count": null,
   "metadata": {
    "collapsed": true
   },
   "outputs": [],
   "source": []
  },
  {
   "cell_type": "code",
   "execution_count": null,
   "metadata": {
    "collapsed": true
   },
   "outputs": [],
   "source": []
  },
  {
   "cell_type": "code",
   "execution_count": null,
   "metadata": {
    "collapsed": true
   },
   "outputs": [],
   "source": []
  },
  {
   "cell_type": "code",
   "execution_count": null,
   "metadata": {
    "collapsed": true
   },
   "outputs": [],
   "source": []
  },
  {
   "cell_type": "code",
   "execution_count": null,
   "metadata": {
    "collapsed": true
   },
   "outputs": [],
   "source": []
  },
  {
   "cell_type": "code",
   "execution_count": null,
   "metadata": {
    "collapsed": true
   },
   "outputs": [],
   "source": []
  },
  {
   "cell_type": "code",
   "execution_count": null,
   "metadata": {
    "collapsed": true
   },
   "outputs": [],
   "source": []
  },
  {
   "cell_type": "code",
   "execution_count": null,
   "metadata": {
    "collapsed": true
   },
   "outputs": [],
   "source": []
  },
  {
   "cell_type": "code",
   "execution_count": null,
   "metadata": {
    "collapsed": true
   },
   "outputs": [],
   "source": []
  },
  {
   "cell_type": "code",
   "execution_count": null,
   "metadata": {
    "collapsed": true
   },
   "outputs": [],
   "source": []
  },
  {
   "cell_type": "code",
   "execution_count": null,
   "metadata": {
    "collapsed": true
   },
   "outputs": [],
   "source": []
  }
 ],
 "metadata": {
  "kernelspec": {
   "display_name": "Python 3",
   "language": "python",
   "name": "python3"
  },
  "language_info": {
   "codemirror_mode": {
    "name": "ipython",
    "version": 3
   },
   "file_extension": ".py",
   "mimetype": "text/x-python",
   "name": "python",
   "nbconvert_exporter": "python",
   "pygments_lexer": "ipython3",
   "version": "3.5.1"
  }
 },
 "nbformat": 4,
 "nbformat_minor": 2
}
