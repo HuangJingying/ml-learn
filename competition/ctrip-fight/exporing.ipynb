{
 "cells": [
  {
   "cell_type": "code",
   "execution_count": 6,
   "metadata": {
    "collapsed": true
   },
   "outputs": [],
   "source": [
    "import pandas as pd\n",
    "import numpy as np\n",
    "import matplotlib.pyplot as plt\n",
    "import seaborn as sns\n",
    "import matplotlib.ticker as ticker\n",
    "\n",
    "from IPython.display import display\n",
    "\n",
    "%matplotlib inline\n",
    "\n",
    "sns.set(font=\"simhei\")"
   ]
  },
  {
   "cell_type": "markdown",
   "metadata": {},
   "source": [
    "特情数据"
   ]
  },
  {
   "cell_type": "code",
   "execution_count": 20,
   "metadata": {
    "collapsed": false
   },
   "outputs": [
    {
     "data": {
      "text/html": [
       "<div>\n",
       "<style>\n",
       "    .dataframe thead tr:only-child th {\n",
       "        text-align: right;\n",
       "    }\n",
       "\n",
       "    .dataframe thead th {\n",
       "        text-align: left;\n",
       "    }\n",
       "\n",
       "    .dataframe tbody tr th {\n",
       "        vertical-align: top;\n",
       "    }\n",
       "</style>\n",
       "<table border=\"1\" class=\"dataframe\">\n",
       "  <thead>\n",
       "    <tr style=\"text-align: right;\">\n",
       "      <th></th>\n",
       "      <th>Airport</th>\n",
       "      <th>CTime</th>\n",
       "      <th>STime</th>\n",
       "      <th>ETime</th>\n",
       "      <th>Content</th>\n",
       "    </tr>\n",
       "  </thead>\n",
       "  <tbody>\n",
       "    <tr>\n",
       "      <th>0</th>\n",
       "      <td>csx</td>\n",
       "      <td>2015-04-30 19:52:45Z</td>\n",
       "      <td>2015-05-01 12:00:00Z</td>\n",
       "      <td>2015-05-01 16:00:00Z</td>\n",
       "      <td>长沙机场航班延误黄色预警提示：预计明日（5月1日）12:00-16:00长沙黄花机场受雷雨天...</td>\n",
       "    </tr>\n",
       "    <tr>\n",
       "      <th>1</th>\n",
       "      <td>wuh</td>\n",
       "      <td>2015-05-01 08:13:39Z</td>\n",
       "      <td>2015-05-01 08:00:00Z</td>\n",
       "      <td>2015-05-01 12:00:00Z</td>\n",
       "      <td>目前，8时-12时雷雨，期间进出港航班可能受到影响。</td>\n",
       "    </tr>\n",
       "    <tr>\n",
       "      <th>2</th>\n",
       "      <td>khn</td>\n",
       "      <td>2015-05-01 08:14:18Z</td>\n",
       "      <td>2015-05-01 14:00:00Z</td>\n",
       "      <td>2015-05-01 17:00:00Z</td>\n",
       "      <td>预计，14时-17时小雷雨，期间进出港航班可能受到影响。</td>\n",
       "    </tr>\n",
       "    <tr>\n",
       "      <th>3</th>\n",
       "      <td>swa</td>\n",
       "      <td>2015-05-01 08:24:28Z</td>\n",
       "      <td>2015-05-01 13:00:00Z</td>\n",
       "      <td>2015-05-01 17:00:00Z</td>\n",
       "      <td>预计，13时-17时雷雨，期间进出港航班可能受到影响。</td>\n",
       "    </tr>\n",
       "    <tr>\n",
       "      <th>4</th>\n",
       "      <td>zha</td>\n",
       "      <td>2015-05-01 08:24:56Z</td>\n",
       "      <td>2015-05-01 13:00:00Z</td>\n",
       "      <td>2015-05-01 17:00:00Z</td>\n",
       "      <td>预计，13时-17时雷雨，期间进出港航班可能受到影响。</td>\n",
       "    </tr>\n",
       "  </tbody>\n",
       "</table>\n",
       "</div>"
      ],
      "text/plain": [
       "  Airport                 CTime                 STime                 ETime  \\\n",
       "0     csx  2015-04-30 19:52:45Z  2015-05-01 12:00:00Z  2015-05-01 16:00:00Z   \n",
       "1     wuh  2015-05-01 08:13:39Z  2015-05-01 08:00:00Z  2015-05-01 12:00:00Z   \n",
       "2     khn  2015-05-01 08:14:18Z  2015-05-01 14:00:00Z  2015-05-01 17:00:00Z   \n",
       "3     swa  2015-05-01 08:24:28Z  2015-05-01 13:00:00Z  2015-05-01 17:00:00Z   \n",
       "4     zha  2015-05-01 08:24:56Z  2015-05-01 13:00:00Z  2015-05-01 17:00:00Z   \n",
       "\n",
       "                                             Content  \n",
       "0  长沙机场航班延误黄色预警提示：预计明日（5月1日）12:00-16:00长沙黄花机场受雷雨天...  \n",
       "1                         目前，8时-12时雷雨，期间进出港航班可能受到影响。  \n",
       "2                       预计，14时-17时小雷雨，期间进出港航班可能受到影响。  \n",
       "3                        预计，13时-17时雷雨，期间进出港航班可能受到影响。  \n",
       "4                        预计，13时-17时雷雨，期间进出港航班可能受到影响。  "
      ]
     },
     "execution_count": 20,
     "metadata": {},
     "output_type": "execute_result"
    }
   ],
   "source": [
    "train_s = pd.read_csv('input/train/special-case.csv')\n",
    "train_s.head()"
   ]
  },
  {
   "cell_type": "code",
   "execution_count": 23,
   "metadata": {
    "collapsed": false
   },
   "outputs": [
    {
     "name": "stdout",
     "output_type": "stream",
     "text": [
      "<class 'pandas.core.frame.DataFrame'>\n",
      "RangeIndex: 15880 entries, 0 to 15879\n",
      "Data columns (total 5 columns):\n",
      "Airport    15877 non-null object\n",
      "CTime      15869 non-null object\n",
      "STime      15869 non-null object\n",
      "ETime      15862 non-null object\n",
      "Content    15868 non-null object\n",
      "dtypes: object(5)\n",
      "memory usage: 620.4+ KB\n"
     ]
    }
   ],
   "source": [
    "train_s.info()"
   ]
  },
  {
   "cell_type": "code",
   "execution_count": 26,
   "metadata": {
    "collapsed": false
   },
   "outputs": [
    {
     "data": {
      "text/html": [
       "<div>\n",
       "<style>\n",
       "    .dataframe thead tr:only-child th {\n",
       "        text-align: right;\n",
       "    }\n",
       "\n",
       "    .dataframe thead th {\n",
       "        text-align: left;\n",
       "    }\n",
       "\n",
       "    .dataframe tbody tr th {\n",
       "        vertical-align: top;\n",
       "    }\n",
       "</style>\n",
       "<table border=\"1\" class=\"dataframe\">\n",
       "  <thead>\n",
       "    <tr style=\"text-align: right;\">\n",
       "      <th></th>\n",
       "      <th>Airport</th>\n",
       "      <th>CTime</th>\n",
       "      <th>STime</th>\n",
       "      <th>ETime</th>\n",
       "      <th>Content</th>\n",
       "    </tr>\n",
       "  </thead>\n",
       "  <tbody>\n",
       "    <tr>\n",
       "      <th>0</th>\n",
       "      <td>csx</td>\n",
       "      <td>2015-04-30 19:52:45</td>\n",
       "      <td>2015-05-01 12:00:00</td>\n",
       "      <td>2015-05-01 16:00:00</td>\n",
       "      <td>长沙机场航班延误黄色预警提示：预计明日（5月1日）12:00-16:00长沙黄花机场受雷雨天...</td>\n",
       "    </tr>\n",
       "    <tr>\n",
       "      <th>1</th>\n",
       "      <td>wuh</td>\n",
       "      <td>2015-05-01 08:13:39</td>\n",
       "      <td>2015-05-01 08:00:00</td>\n",
       "      <td>2015-05-01 12:00:00</td>\n",
       "      <td>目前，8时-12时雷雨，期间进出港航班可能受到影响。</td>\n",
       "    </tr>\n",
       "    <tr>\n",
       "      <th>2</th>\n",
       "      <td>khn</td>\n",
       "      <td>2015-05-01 08:14:18</td>\n",
       "      <td>2015-05-01 14:00:00</td>\n",
       "      <td>2015-05-01 17:00:00</td>\n",
       "      <td>预计，14时-17时小雷雨，期间进出港航班可能受到影响。</td>\n",
       "    </tr>\n",
       "    <tr>\n",
       "      <th>3</th>\n",
       "      <td>swa</td>\n",
       "      <td>2015-05-01 08:24:28</td>\n",
       "      <td>2015-05-01 13:00:00</td>\n",
       "      <td>2015-05-01 17:00:00</td>\n",
       "      <td>预计，13时-17时雷雨，期间进出港航班可能受到影响。</td>\n",
       "    </tr>\n",
       "    <tr>\n",
       "      <th>4</th>\n",
       "      <td>zha</td>\n",
       "      <td>2015-05-01 08:24:56</td>\n",
       "      <td>2015-05-01 13:00:00</td>\n",
       "      <td>2015-05-01 17:00:00</td>\n",
       "      <td>预计，13时-17时雷雨，期间进出港航班可能受到影响。</td>\n",
       "    </tr>\n",
       "  </tbody>\n",
       "</table>\n",
       "</div>"
      ],
      "text/plain": [
       "  Airport               CTime               STime               ETime  \\\n",
       "0     csx 2015-04-30 19:52:45 2015-05-01 12:00:00 2015-05-01 16:00:00   \n",
       "1     wuh 2015-05-01 08:13:39 2015-05-01 08:00:00 2015-05-01 12:00:00   \n",
       "2     khn 2015-05-01 08:14:18 2015-05-01 14:00:00 2015-05-01 17:00:00   \n",
       "3     swa 2015-05-01 08:24:28 2015-05-01 13:00:00 2015-05-01 17:00:00   \n",
       "4     zha 2015-05-01 08:24:56 2015-05-01 13:00:00 2015-05-01 17:00:00   \n",
       "\n",
       "                                             Content  \n",
       "0  长沙机场航班延误黄色预警提示：预计明日（5月1日）12:00-16:00长沙黄花机场受雷雨天...  \n",
       "1                         目前，8时-12时雷雨，期间进出港航班可能受到影响。  \n",
       "2                       预计，14时-17时小雷雨，期间进出港航班可能受到影响。  \n",
       "3                        预计，13时-17时雷雨，期间进出港航班可能受到影响。  \n",
       "4                        预计，13时-17时雷雨，期间进出港航班可能受到影响。  "
      ]
     },
     "execution_count": 26,
     "metadata": {},
     "output_type": "execute_result"
    }
   ],
   "source": [
    "train_s['CTime'] = pd.to_datetime(train_s['CTime'])\n",
    "train_s['STime'] = pd.to_datetime(train_s['STime'])\n",
    "train_s['ETime'] = pd.to_datetime(train_s['ETime'])\n",
    "train_s.head()"
   ]
  },
  {
   "cell_type": "code",
   "execution_count": null,
   "metadata": {
    "collapsed": true
   },
   "outputs": [],
   "source": []
  },
  {
   "cell_type": "code",
   "execution_count": null,
   "metadata": {
    "collapsed": true
   },
   "outputs": [],
   "source": []
  },
  {
   "cell_type": "code",
   "execution_count": null,
   "metadata": {
    "collapsed": true
   },
   "outputs": [],
   "source": []
  },
  {
   "cell_type": "code",
   "execution_count": null,
   "metadata": {
    "collapsed": true
   },
   "outputs": [],
   "source": []
  },
  {
   "cell_type": "code",
   "execution_count": null,
   "metadata": {
    "collapsed": true
   },
   "outputs": [],
   "source": []
  },
  {
   "cell_type": "code",
   "execution_count": null,
   "metadata": {
    "collapsed": true
   },
   "outputs": [],
   "source": []
  },
  {
   "cell_type": "code",
   "execution_count": null,
   "metadata": {
    "collapsed": true
   },
   "outputs": [],
   "source": []
  },
  {
   "cell_type": "code",
   "execution_count": null,
   "metadata": {
    "collapsed": true
   },
   "outputs": [],
   "source": []
  },
  {
   "cell_type": "code",
   "execution_count": null,
   "metadata": {
    "collapsed": true
   },
   "outputs": [],
   "source": []
  },
  {
   "cell_type": "code",
   "execution_count": null,
   "metadata": {
    "collapsed": true
   },
   "outputs": [],
   "source": []
  },
  {
   "cell_type": "code",
   "execution_count": null,
   "metadata": {
    "collapsed": true
   },
   "outputs": [],
   "source": []
  },
  {
   "cell_type": "code",
   "execution_count": null,
   "metadata": {
    "collapsed": true
   },
   "outputs": [],
   "source": []
  },
  {
   "cell_type": "code",
   "execution_count": null,
   "metadata": {
    "collapsed": true
   },
   "outputs": [],
   "source": []
  },
  {
   "cell_type": "code",
   "execution_count": 2,
   "metadata": {
    "collapsed": false
   },
   "outputs": [
    {
     "data": {
      "text/html": [
       "<div>\n",
       "<style>\n",
       "    .dataframe thead tr:only-child th {\n",
       "        text-align: right;\n",
       "    }\n",
       "\n",
       "    .dataframe thead th {\n",
       "        text-align: left;\n",
       "    }\n",
       "\n",
       "    .dataframe tbody tr th {\n",
       "        vertical-align: top;\n",
       "    }\n",
       "</style>\n",
       "<table border=\"1\" class=\"dataframe\">\n",
       "  <thead>\n",
       "    <tr style=\"text-align: right;\">\n",
       "      <th></th>\n",
       "      <th>Departure</th>\n",
       "      <th>Destination</th>\n",
       "      <th>FLTNo</th>\n",
       "      <th>PDepartureTime</th>\n",
       "      <th>PArrivalTime</th>\n",
       "      <th>ADepartureTime</th>\n",
       "      <th>AArrivalTime</th>\n",
       "      <th>Id</th>\n",
       "      <th>IsCancel</th>\n",
       "    </tr>\n",
       "  </thead>\n",
       "  <tbody>\n",
       "    <tr>\n",
       "      <th>0</th>\n",
       "      <td>PVG</td>\n",
       "      <td>CKG</td>\n",
       "      <td>9C8867</td>\n",
       "      <td>1495602600</td>\n",
       "      <td>1495613700</td>\n",
       "      <td>1.495605e+09</td>\n",
       "      <td>1.495613e+09</td>\n",
       "      <td>2798.0</td>\n",
       "      <td>正常</td>\n",
       "    </tr>\n",
       "    <tr>\n",
       "      <th>1</th>\n",
       "      <td>CAN</td>\n",
       "      <td>TAO</td>\n",
       "      <td>HU7275</td>\n",
       "      <td>1493947200</td>\n",
       "      <td>1493958600</td>\n",
       "      <td>1.493948e+09</td>\n",
       "      <td>1.493958e+09</td>\n",
       "      <td>1479.0</td>\n",
       "      <td>正常</td>\n",
       "    </tr>\n",
       "    <tr>\n",
       "      <th>2</th>\n",
       "      <td>KWE</td>\n",
       "      <td>KMG</td>\n",
       "      <td>GJ8661</td>\n",
       "      <td>1494775200</td>\n",
       "      <td>1494779400</td>\n",
       "      <td>1.494783e+09</td>\n",
       "      <td>1.494787e+09</td>\n",
       "      <td>2957.0</td>\n",
       "      <td>正常</td>\n",
       "    </tr>\n",
       "    <tr>\n",
       "      <th>3</th>\n",
       "      <td>WNZ</td>\n",
       "      <td>CSX</td>\n",
       "      <td>CZ6956</td>\n",
       "      <td>1495185600</td>\n",
       "      <td>1495191300</td>\n",
       "      <td>1.495188e+09</td>\n",
       "      <td>1.495193e+09</td>\n",
       "      <td>419.0</td>\n",
       "      <td>正常</td>\n",
       "    </tr>\n",
       "    <tr>\n",
       "      <th>4</th>\n",
       "      <td>ENH</td>\n",
       "      <td>WUH</td>\n",
       "      <td>CZ3841</td>\n",
       "      <td>1494460800</td>\n",
       "      <td>1494465000</td>\n",
       "      <td>1.494471e+09</td>\n",
       "      <td>1.494474e+09</td>\n",
       "      <td>1421.0</td>\n",
       "      <td>正常</td>\n",
       "    </tr>\n",
       "  </tbody>\n",
       "</table>\n",
       "</div>"
      ],
      "text/plain": [
       "  Departure Destination   FLTNo  PDepartureTime  PArrivalTime  ADepartureTime  \\\n",
       "0       PVG         CKG  9C8867      1495602600    1495613700    1.495605e+09   \n",
       "1       CAN         TAO  HU7275      1493947200    1493958600    1.493948e+09   \n",
       "2       KWE         KMG  GJ8661      1494775200    1494779400    1.494783e+09   \n",
       "3       WNZ         CSX  CZ6956      1495185600    1495191300    1.495188e+09   \n",
       "4       ENH         WUH  CZ3841      1494460800    1494465000    1.494471e+09   \n",
       "\n",
       "   AArrivalTime      Id IsCancel  \n",
       "0  1.495613e+09  2798.0       正常  \n",
       "1  1.493958e+09  1479.0       正常  \n",
       "2  1.494787e+09  2957.0       正常  \n",
       "3  1.495193e+09   419.0       正常  \n",
       "4  1.494474e+09  1421.0       正常  "
      ]
     },
     "metadata": {},
     "output_type": "display_data"
    },
    {
     "name": "stdout",
     "output_type": "stream",
     "text": [
      "<class 'pandas.core.frame.DataFrame'>\n",
      "RangeIndex: 326557 entries, 0 to 326556\n",
      "Data columns (total 9 columns):\n",
      "Departure         326557 non-null object\n",
      "Destination       326557 non-null object\n",
      "FLTNo             326557 non-null object\n",
      "PDepartureTime    326557 non-null int64\n",
      "PArrivalTime      326557 non-null int64\n",
      "ADepartureTime    317996 non-null float64\n",
      "AArrivalTime      317875 non-null float64\n",
      "Id                322561 non-null float64\n",
      "IsCancel          326557 non-null object\n",
      "dtypes: float64(3), int64(2), object(4)\n",
      "memory usage: 22.4+ MB\n"
     ]
    }
   ],
   "source": [
    "train_1705 = pd.read_csv('input/train/fights-2017-05.csv')\n",
    "\n",
    "display(train_1705.head())\n",
    "train_1705.info()"
   ]
  },
  {
   "cell_type": "markdown",
   "metadata": {},
   "source": [
    "延误时间分布"
   ]
  },
  {
   "cell_type": "code",
   "execution_count": 4,
   "metadata": {
    "collapsed": false
   },
   "outputs": [
    {
     "data": {
      "text/html": [
       "<div>\n",
       "<style>\n",
       "    .dataframe thead tr:only-child th {\n",
       "        text-align: right;\n",
       "    }\n",
       "\n",
       "    .dataframe thead th {\n",
       "        text-align: left;\n",
       "    }\n",
       "\n",
       "    .dataframe tbody tr th {\n",
       "        vertical-align: top;\n",
       "    }\n",
       "</style>\n",
       "<table border=\"1\" class=\"dataframe\">\n",
       "  <thead>\n",
       "    <tr style=\"text-align: right;\">\n",
       "      <th></th>\n",
       "      <th>Departure</th>\n",
       "      <th>Destination</th>\n",
       "      <th>FLTNo</th>\n",
       "      <th>PDepartureTime</th>\n",
       "      <th>PArrivalTime</th>\n",
       "      <th>ADepartureTime</th>\n",
       "      <th>AArrivalTime</th>\n",
       "      <th>Id</th>\n",
       "      <th>IsCancel</th>\n",
       "      <th>Delay</th>\n",
       "      <th>DelayRange</th>\n",
       "    </tr>\n",
       "  </thead>\n",
       "  <tbody>\n",
       "    <tr>\n",
       "      <th>0</th>\n",
       "      <td>PVG</td>\n",
       "      <td>CKG</td>\n",
       "      <td>9C8867</td>\n",
       "      <td>1495602600</td>\n",
       "      <td>1495613700</td>\n",
       "      <td>1.495605e+09</td>\n",
       "      <td>1.495613e+09</td>\n",
       "      <td>2798.0</td>\n",
       "      <td>正常</td>\n",
       "      <td>34.0</td>\n",
       "      <td>(30.0, 60.0]</td>\n",
       "    </tr>\n",
       "    <tr>\n",
       "      <th>1</th>\n",
       "      <td>CAN</td>\n",
       "      <td>TAO</td>\n",
       "      <td>HU7275</td>\n",
       "      <td>1493947200</td>\n",
       "      <td>1493958600</td>\n",
       "      <td>1.493948e+09</td>\n",
       "      <td>1.493958e+09</td>\n",
       "      <td>1479.0</td>\n",
       "      <td>正常</td>\n",
       "      <td>18.0</td>\n",
       "      <td>(10.0, 20.0]</td>\n",
       "    </tr>\n",
       "    <tr>\n",
       "      <th>2</th>\n",
       "      <td>KWE</td>\n",
       "      <td>KMG</td>\n",
       "      <td>GJ8661</td>\n",
       "      <td>1494775200</td>\n",
       "      <td>1494779400</td>\n",
       "      <td>1.494783e+09</td>\n",
       "      <td>1.494787e+09</td>\n",
       "      <td>2957.0</td>\n",
       "      <td>正常</td>\n",
       "      <td>134.0</td>\n",
       "      <td>(120.0, 180.0]</td>\n",
       "    </tr>\n",
       "    <tr>\n",
       "      <th>3</th>\n",
       "      <td>WNZ</td>\n",
       "      <td>CSX</td>\n",
       "      <td>CZ6956</td>\n",
       "      <td>1495185600</td>\n",
       "      <td>1495191300</td>\n",
       "      <td>1.495188e+09</td>\n",
       "      <td>1.495193e+09</td>\n",
       "      <td>419.0</td>\n",
       "      <td>正常</td>\n",
       "      <td>41.0</td>\n",
       "      <td>(30.0, 60.0]</td>\n",
       "    </tr>\n",
       "    <tr>\n",
       "      <th>4</th>\n",
       "      <td>ENH</td>\n",
       "      <td>WUH</td>\n",
       "      <td>CZ3841</td>\n",
       "      <td>1494460800</td>\n",
       "      <td>1494465000</td>\n",
       "      <td>1.494471e+09</td>\n",
       "      <td>1.494474e+09</td>\n",
       "      <td>1421.0</td>\n",
       "      <td>正常</td>\n",
       "      <td>167.0</td>\n",
       "      <td>(120.0, 180.0]</td>\n",
       "    </tr>\n",
       "  </tbody>\n",
       "</table>\n",
       "</div>"
      ],
      "text/plain": [
       "  Departure Destination   FLTNo  PDepartureTime  PArrivalTime  ADepartureTime  \\\n",
       "0       PVG         CKG  9C8867      1495602600    1495613700    1.495605e+09   \n",
       "1       CAN         TAO  HU7275      1493947200    1493958600    1.493948e+09   \n",
       "2       KWE         KMG  GJ8661      1494775200    1494779400    1.494783e+09   \n",
       "3       WNZ         CSX  CZ6956      1495185600    1495191300    1.495188e+09   \n",
       "4       ENH         WUH  CZ3841      1494460800    1494465000    1.494471e+09   \n",
       "\n",
       "   AArrivalTime      Id IsCancel  Delay      DelayRange  \n",
       "0  1.495613e+09  2798.0       正常   34.0    (30.0, 60.0]  \n",
       "1  1.493958e+09  1479.0       正常   18.0    (10.0, 20.0]  \n",
       "2  1.494787e+09  2957.0       正常  134.0  (120.0, 180.0]  \n",
       "3  1.495193e+09   419.0       正常   41.0    (30.0, 60.0]  \n",
       "4  1.494474e+09  1421.0       正常  167.0  (120.0, 180.0]  "
      ]
     },
     "execution_count": 4,
     "metadata": {},
     "output_type": "execute_result"
    }
   ],
   "source": [
    "train_1705['Delay'] = (train_1705['ADepartureTime'] - train_1705['PDepartureTime']) / 60\n",
    "\n",
    "train_1705['DelayRange'] = pd.cut(train_1705['Delay'], [0, 10, 20, 30, 60, 120, 180, 300, 720, np.inf])\n",
    "\n",
    "train_1705.head()"
   ]
  },
  {
   "cell_type": "code",
   "execution_count": 7,
   "metadata": {
    "collapsed": false
   },
   "outputs": [
    {
     "data": {
      "image/png": "[encoded data removed]",
      "text/plain": [
       "<matplotlib.figure.Figure at 0xbf3b0f0>"
      ]
     },
     "metadata": {},
     "output_type": "display_data"
    }
   ],
   "source": [
    "plt.figure(figsize=(15, 4))\n",
    "g = sns.kdeplot(train_1705.loc[((~train_1705['Delay'].isnull()) & (train_1705['Delay'] > 0)), 'Delay'])\n",
    "g.set_xlim(0, train_1705['Delay'].max())\n",
    "g.xaxis.set_major_locator(ticker.LinearLocator(25))"
   ]
  },
  {
   "cell_type": "code",
   "execution_count": 8,
   "metadata": {
    "collapsed": false
   },
   "outputs": [
    {
     "data": {
      "text/plain": [
       "(0.0, 10.0]       69045\n",
       "(10.0, 20.0]      64463\n",
       "(30.0, 60.0]      49311\n",
       "(20.0, 30.0]      36480\n",
       "(60.0, 120.0]     34479\n",
       "(120.0, 180.0]    13042\n",
       "(180.0, 300.0]     8172\n",
       "(300.0, 720.0]     2414\n",
       "(720.0, inf]         57\n",
       "Name: DelayRange, dtype: int64"
      ]
     },
     "execution_count": 8,
     "metadata": {},
     "output_type": "execute_result"
    }
   ],
   "source": [
    "train_1705['DelayRange'].value_counts()"
   ]
  },
  {
   "cell_type": "code",
   "execution_count": 9,
   "metadata": {
    "collapsed": false
   },
   "outputs": [
    {
     "data": {
      "image/png": "[encoded data removed]",
      "text/plain": [
       "<matplotlib.figure.Figure at 0xc2e0198>"
      ]
     },
     "metadata": {},
     "output_type": "display_data"
    }
   ],
   "source": [
    "\n",
    "\n",
    "plt.figure(figsize=(13, 5))\n",
    "g = sns.countplot(train_1705['DelayRange'])\n",
    "\n",
    "\n",
    "ncount = len(train_1705)\n",
    "for p in g.patches:\n",
    "    x=p.get_bbox().get_points()[:,0]\n",
    "    y=p.get_bbox().get_points()[1,1]\n",
    "    g.annotate('{:.2f}%'.format(100.*y/ncount), (x.mean(), y), ha='center', va='bottom') # set the alignment of the text\n",
    "\n",
    "g2 = g.twinx()\n",
    "g2.grid(None)\n",
    "\n",
    "# Use a LinearLocator to ensure the correct number of ticks\n",
    "g.set_ylim(0, 70000)\n",
    "g.yaxis.set_major_locator(ticker.LinearLocator(8))\n",
    "\n",
    "g2.set_ylim(0, 0.25)\n",
    "g2.yaxis.set_major_locator(ticker.LinearLocator(8))"
   ]
  },
  {
   "cell_type": "markdown",
   "metadata": {},
   "source": [
    "机场延误情况"
   ]
  },
  {
   "cell_type": "code",
   "execution_count": 19,
   "metadata": {
    "collapsed": false
   },
   "outputs": [
    {
     "data": {
      "text/html": [
       "<div>\n",
       "<style>\n",
       "    .dataframe thead tr:only-child th {\n",
       "        text-align: right;\n",
       "    }\n",
       "\n",
       "    .dataframe thead th {\n",
       "        text-align: left;\n",
       "    }\n",
       "\n",
       "    .dataframe tbody tr th {\n",
       "        vertical-align: top;\n",
       "    }\n",
       "</style>\n",
       "<table border=\"1\" class=\"dataframe\">\n",
       "  <thead>\n",
       "    <tr style=\"text-align: right;\">\n",
       "      <th></th>\n",
       "      <th>Departure</th>\n",
       "      <th>Destination</th>\n",
       "      <th>FLTNo</th>\n",
       "      <th>PDepartureTime</th>\n",
       "      <th>PArrivalTime</th>\n",
       "      <th>ADepartureTime</th>\n",
       "      <th>AArrivalTime</th>\n",
       "      <th>Id</th>\n",
       "      <th>IsCancel</th>\n",
       "      <th>Delay</th>\n",
       "      <th>DelayRange</th>\n",
       "    </tr>\n",
       "  </thead>\n",
       "  <tbody>\n",
       "    <tr>\n",
       "      <th>3113</th>\n",
       "      <td>SHA</td>\n",
       "      <td>KMG</td>\n",
       "      <td>MU5804</td>\n",
       "      <td>1495453500</td>\n",
       "      <td>1495465200</td>\n",
       "      <td>1.495454e+09</td>\n",
       "      <td>1.495465e+09</td>\n",
       "      <td>8.0</td>\n",
       "      <td>正常</td>\n",
       "      <td>13.0</td>\n",
       "      <td>(10.0, 20.0]</td>\n",
       "    </tr>\n",
       "    <tr>\n",
       "      <th>16875</th>\n",
       "      <td>SHA</td>\n",
       "      <td>PEK</td>\n",
       "      <td>FM9107</td>\n",
       "      <td>1495632000</td>\n",
       "      <td>1495640400</td>\n",
       "      <td>1.495634e+09</td>\n",
       "      <td>1.495641e+09</td>\n",
       "      <td>2.0</td>\n",
       "      <td>正常</td>\n",
       "      <td>39.0</td>\n",
       "      <td>(30.0, 60.0]</td>\n",
       "    </tr>\n",
       "    <tr>\n",
       "      <th>20176</th>\n",
       "      <td>SHA</td>\n",
       "      <td>TSN</td>\n",
       "      <td>FM9264</td>\n",
       "      <td>1495432800</td>\n",
       "      <td>1495441500</td>\n",
       "      <td>1.495439e+09</td>\n",
       "      <td>1.495445e+09</td>\n",
       "      <td>2.0</td>\n",
       "      <td>正常</td>\n",
       "      <td>97.0</td>\n",
       "      <td>(60.0, 120.0]</td>\n",
       "    </tr>\n",
       "    <tr>\n",
       "      <th>24154</th>\n",
       "      <td>SHA</td>\n",
       "      <td>SWA</td>\n",
       "      <td>FM9297</td>\n",
       "      <td>1495160700</td>\n",
       "      <td>1495169100</td>\n",
       "      <td>1.495164e+09</td>\n",
       "      <td>1.495170e+09</td>\n",
       "      <td>2.0</td>\n",
       "      <td>正常</td>\n",
       "      <td>53.0</td>\n",
       "      <td>(30.0, 60.0]</td>\n",
       "    </tr>\n",
       "    <tr>\n",
       "      <th>33457</th>\n",
       "      <td>SHA</td>\n",
       "      <td>FOC</td>\n",
       "      <td>MF8542</td>\n",
       "      <td>1495177500</td>\n",
       "      <td>1495182600</td>\n",
       "      <td>1.495179e+09</td>\n",
       "      <td>1.495184e+09</td>\n",
       "      <td>13.0</td>\n",
       "      <td>正常</td>\n",
       "      <td>32.0</td>\n",
       "      <td>(30.0, 60.0]</td>\n",
       "    </tr>\n",
       "    <tr>\n",
       "      <th>34958</th>\n",
       "      <td>SHA</td>\n",
       "      <td>XMN</td>\n",
       "      <td>FM9263</td>\n",
       "      <td>1495411500</td>\n",
       "      <td>1495417800</td>\n",
       "      <td>1.495417e+09</td>\n",
       "      <td>1.495422e+09</td>\n",
       "      <td>2.0</td>\n",
       "      <td>正常</td>\n",
       "      <td>93.0</td>\n",
       "      <td>(60.0, 120.0]</td>\n",
       "    </tr>\n",
       "    <tr>\n",
       "      <th>41860</th>\n",
       "      <td>SHA</td>\n",
       "      <td>CKG</td>\n",
       "      <td>CA4544</td>\n",
       "      <td>1494906000</td>\n",
       "      <td>1494916500</td>\n",
       "      <td>1.494907e+09</td>\n",
       "      <td>1.494916e+09</td>\n",
       "      <td>11.0</td>\n",
       "      <td>正常</td>\n",
       "      <td>23.0</td>\n",
       "      <td>(20.0, 30.0]</td>\n",
       "    </tr>\n",
       "    <tr>\n",
       "      <th>88071</th>\n",
       "      <td>SHA</td>\n",
       "      <td>LJG</td>\n",
       "      <td>MU5868</td>\n",
       "      <td>1494061500</td>\n",
       "      <td>1494075000</td>\n",
       "      <td>1.494062e+09</td>\n",
       "      <td>1.494075e+09</td>\n",
       "      <td>8.0</td>\n",
       "      <td>正常</td>\n",
       "      <td>9.0</td>\n",
       "      <td>(0.0, 10.0]</td>\n",
       "    </tr>\n",
       "    <tr>\n",
       "      <th>101310</th>\n",
       "      <td>SHA</td>\n",
       "      <td>HAK</td>\n",
       "      <td>FM9251</td>\n",
       "      <td>1495764000</td>\n",
       "      <td>1495774200</td>\n",
       "      <td>1.495765e+09</td>\n",
       "      <td>1.495774e+09</td>\n",
       "      <td>2.0</td>\n",
       "      <td>正常</td>\n",
       "      <td>10.0</td>\n",
       "      <td>(0.0, 10.0]</td>\n",
       "    </tr>\n",
       "    <tr>\n",
       "      <th>115226</th>\n",
       "      <td>SHA</td>\n",
       "      <td>TEN</td>\n",
       "      <td>MU5882</td>\n",
       "      <td>1494891900</td>\n",
       "      <td>1494901800</td>\n",
       "      <td>1.494893e+09</td>\n",
       "      <td>1.494901e+09</td>\n",
       "      <td>8.0</td>\n",
       "      <td>正常</td>\n",
       "      <td>22.0</td>\n",
       "      <td>(20.0, 30.0]</td>\n",
       "    </tr>\n",
       "    <tr>\n",
       "      <th>133677</th>\n",
       "      <td>SHA</td>\n",
       "      <td>LPF</td>\n",
       "      <td>MU5816</td>\n",
       "      <td>1494546300</td>\n",
       "      <td>1494557700</td>\n",
       "      <td>1.494552e+09</td>\n",
       "      <td>1.494561e+09</td>\n",
       "      <td>8.0</td>\n",
       "      <td>正常</td>\n",
       "      <td>90.0</td>\n",
       "      <td>(60.0, 120.0]</td>\n",
       "    </tr>\n",
       "    <tr>\n",
       "      <th>163433</th>\n",
       "      <td>SHA</td>\n",
       "      <td>JGS</td>\n",
       "      <td>FM9269</td>\n",
       "      <td>1495329000</td>\n",
       "      <td>1495336500</td>\n",
       "      <td>1.495329e+09</td>\n",
       "      <td>1.495334e+09</td>\n",
       "      <td>2.0</td>\n",
       "      <td>正常</td>\n",
       "      <td>5.0</td>\n",
       "      <td>(0.0, 10.0]</td>\n",
       "    </tr>\n",
       "    <tr>\n",
       "      <th>172211</th>\n",
       "      <td>SHA</td>\n",
       "      <td>CKG</td>\n",
       "      <td>FM9423</td>\n",
       "      <td>1494489900</td>\n",
       "      <td>1494500700</td>\n",
       "      <td>1.494504e+09</td>\n",
       "      <td>1.494512e+09</td>\n",
       "      <td>2.0</td>\n",
       "      <td>正常</td>\n",
       "      <td>238.0</td>\n",
       "      <td>(180.0, 300.0]</td>\n",
       "    </tr>\n",
       "    <tr>\n",
       "      <th>175477</th>\n",
       "      <td>SHA</td>\n",
       "      <td>CTU</td>\n",
       "      <td>CA4502</td>\n",
       "      <td>1496148300</td>\n",
       "      <td>1496160300</td>\n",
       "      <td>1.496149e+09</td>\n",
       "      <td>1.496159e+09</td>\n",
       "      <td>29.0</td>\n",
       "      <td>正常</td>\n",
       "      <td>13.0</td>\n",
       "      <td>(10.0, 20.0]</td>\n",
       "    </tr>\n",
       "    <tr>\n",
       "      <th>176946</th>\n",
       "      <td>SHA</td>\n",
       "      <td>DLU</td>\n",
       "      <td>MU9750</td>\n",
       "      <td>1494027600</td>\n",
       "      <td>1494041400</td>\n",
       "      <td>1.494029e+09</td>\n",
       "      <td>1.494042e+09</td>\n",
       "      <td>8.0</td>\n",
       "      <td>正常</td>\n",
       "      <td>22.0</td>\n",
       "      <td>(20.0, 30.0]</td>\n",
       "    </tr>\n",
       "    <tr>\n",
       "      <th>181143</th>\n",
       "      <td>SHA</td>\n",
       "      <td>PEK</td>\n",
       "      <td>CA1550</td>\n",
       "      <td>1495972500</td>\n",
       "      <td>1495980600</td>\n",
       "      <td>1.495978e+09</td>\n",
       "      <td>1.495984e+09</td>\n",
       "      <td>29.0</td>\n",
       "      <td>正常</td>\n",
       "      <td>92.0</td>\n",
       "      <td>(60.0, 120.0]</td>\n",
       "    </tr>\n",
       "    <tr>\n",
       "      <th>182352</th>\n",
       "      <td>SHA</td>\n",
       "      <td>TSN</td>\n",
       "      <td>FM9264</td>\n",
       "      <td>1495605600</td>\n",
       "      <td>1495614300</td>\n",
       "      <td>1.495606e+09</td>\n",
       "      <td>1.495613e+09</td>\n",
       "      <td>2.0</td>\n",
       "      <td>正常</td>\n",
       "      <td>15.0</td>\n",
       "      <td>(10.0, 20.0]</td>\n",
       "    </tr>\n",
       "    <tr>\n",
       "      <th>182915</th>\n",
       "      <td>SHA</td>\n",
       "      <td>CKG</td>\n",
       "      <td>CA4544</td>\n",
       "      <td>1495683600</td>\n",
       "      <td>1495694100</td>\n",
       "      <td>1.495684e+09</td>\n",
       "      <td>1.495693e+09</td>\n",
       "      <td>27.0</td>\n",
       "      <td>正常</td>\n",
       "      <td>11.0</td>\n",
       "      <td>(10.0, 20.0]</td>\n",
       "    </tr>\n",
       "    <tr>\n",
       "      <th>192648</th>\n",
       "      <td>SHA</td>\n",
       "      <td>CSX</td>\n",
       "      <td>FM9395</td>\n",
       "      <td>1495275000</td>\n",
       "      <td>1495281900</td>\n",
       "      <td>1.495278e+09</td>\n",
       "      <td>1.495282e+09</td>\n",
       "      <td>2.0</td>\n",
       "      <td>正常</td>\n",
       "      <td>45.0</td>\n",
       "      <td>(30.0, 60.0]</td>\n",
       "    </tr>\n",
       "    <tr>\n",
       "      <th>198516</th>\n",
       "      <td>SHA</td>\n",
       "      <td>CKG</td>\n",
       "      <td>FM9423</td>\n",
       "      <td>1494662700</td>\n",
       "      <td>1494673500</td>\n",
       "      <td>1.494663e+09</td>\n",
       "      <td>1.494672e+09</td>\n",
       "      <td>2.0</td>\n",
       "      <td>正常</td>\n",
       "      <td>9.0</td>\n",
       "      <td>(0.0, 10.0]</td>\n",
       "    </tr>\n",
       "    <tr>\n",
       "      <th>229723</th>\n",
       "      <td>SHA</td>\n",
       "      <td>XIY</td>\n",
       "      <td>MU2156</td>\n",
       "      <td>1494739200</td>\n",
       "      <td>1494748500</td>\n",
       "      <td>1.494745e+09</td>\n",
       "      <td>1.494753e+09</td>\n",
       "      <td>14.0</td>\n",
       "      <td>正常</td>\n",
       "      <td>98.0</td>\n",
       "      <td>(60.0, 120.0]</td>\n",
       "    </tr>\n",
       "    <tr>\n",
       "      <th>237413</th>\n",
       "      <td>SHA</td>\n",
       "      <td>NNG</td>\n",
       "      <td>FM9209</td>\n",
       "      <td>1495248900</td>\n",
       "      <td>1495260000</td>\n",
       "      <td>1.495250e+09</td>\n",
       "      <td>1.495259e+09</td>\n",
       "      <td>2.0</td>\n",
       "      <td>正常</td>\n",
       "      <td>19.0</td>\n",
       "      <td>(10.0, 20.0]</td>\n",
       "    </tr>\n",
       "    <tr>\n",
       "      <th>247196</th>\n",
       "      <td>SHA</td>\n",
       "      <td>CKG</td>\n",
       "      <td>FM9423</td>\n",
       "      <td>1495008300</td>\n",
       "      <td>1495019100</td>\n",
       "      <td>1.495011e+09</td>\n",
       "      <td>1.495019e+09</td>\n",
       "      <td>2.0</td>\n",
       "      <td>正常</td>\n",
       "      <td>43.0</td>\n",
       "      <td>(30.0, 60.0]</td>\n",
       "    </tr>\n",
       "    <tr>\n",
       "      <th>273193</th>\n",
       "      <td>SHA</td>\n",
       "      <td>CKG</td>\n",
       "      <td>CA4542</td>\n",
       "      <td>1494940200</td>\n",
       "      <td>1494950700</td>\n",
       "      <td>1.494942e+09</td>\n",
       "      <td>1.494950e+09</td>\n",
       "      <td>27.0</td>\n",
       "      <td>正常</td>\n",
       "      <td>25.0</td>\n",
       "      <td>(20.0, 30.0]</td>\n",
       "    </tr>\n",
       "    <tr>\n",
       "      <th>289984</th>\n",
       "      <td>SHA</td>\n",
       "      <td>LJG</td>\n",
       "      <td>MU5819</td>\n",
       "      <td>1494826800</td>\n",
       "      <td>1494840600</td>\n",
       "      <td>1.494828e+09</td>\n",
       "      <td>1.494841e+09</td>\n",
       "      <td>8.0</td>\n",
       "      <td>正常</td>\n",
       "      <td>24.0</td>\n",
       "      <td>(20.0, 30.0]</td>\n",
       "    </tr>\n",
       "    <tr>\n",
       "      <th>290168</th>\n",
       "      <td>SHA</td>\n",
       "      <td>CKG</td>\n",
       "      <td>CA4544</td>\n",
       "      <td>1494646800</td>\n",
       "      <td>1494657300</td>\n",
       "      <td>1.494649e+09</td>\n",
       "      <td>1.494657e+09</td>\n",
       "      <td>27.0</td>\n",
       "      <td>正常</td>\n",
       "      <td>44.0</td>\n",
       "      <td>(30.0, 60.0]</td>\n",
       "    </tr>\n",
       "    <tr>\n",
       "      <th>296437</th>\n",
       "      <td>SHA</td>\n",
       "      <td>KMG</td>\n",
       "      <td>MU5804</td>\n",
       "      <td>1493725500</td>\n",
       "      <td>1493737200</td>\n",
       "      <td>1.493726e+09</td>\n",
       "      <td>1.493737e+09</td>\n",
       "      <td>8.0</td>\n",
       "      <td>正常</td>\n",
       "      <td>16.0</td>\n",
       "      <td>(10.0, 20.0]</td>\n",
       "    </tr>\n",
       "    <tr>\n",
       "      <th>299771</th>\n",
       "      <td>SHA</td>\n",
       "      <td>PEK</td>\n",
       "      <td>FM9107</td>\n",
       "      <td>1495459200</td>\n",
       "      <td>1495467600</td>\n",
       "      <td>1.495466e+09</td>\n",
       "      <td>1.495472e+09</td>\n",
       "      <td>2.0</td>\n",
       "      <td>正常</td>\n",
       "      <td>107.0</td>\n",
       "      <td>(60.0, 120.0]</td>\n",
       "    </tr>\n",
       "    <tr>\n",
       "      <th>304490</th>\n",
       "      <td>SHA</td>\n",
       "      <td>XMN</td>\n",
       "      <td>FM9263</td>\n",
       "      <td>1495584300</td>\n",
       "      <td>1495590600</td>\n",
       "      <td>1.495587e+09</td>\n",
       "      <td>1.495592e+09</td>\n",
       "      <td>2.0</td>\n",
       "      <td>正常</td>\n",
       "      <td>41.0</td>\n",
       "      <td>(30.0, 60.0]</td>\n",
       "    </tr>\n",
       "  </tbody>\n",
       "</table>\n",
       "</div>"
      ],
      "text/plain": [
       "       Departure Destination   FLTNo  PDepartureTime  PArrivalTime  \\\n",
       "3113         SHA         KMG  MU5804      1495453500    1495465200   \n",
       "16875        SHA         PEK  FM9107      1495632000    1495640400   \n",
       "20176        SHA         TSN  FM9264      1495432800    1495441500   \n",
       "24154        SHA         SWA  FM9297      1495160700    1495169100   \n",
       "33457        SHA         FOC  MF8542      1495177500    1495182600   \n",
       "34958        SHA         XMN  FM9263      1495411500    1495417800   \n",
       "41860        SHA         CKG  CA4544      1494906000    1494916500   \n",
       "88071        SHA         LJG  MU5868      1494061500    1494075000   \n",
       "101310       SHA         HAK  FM9251      1495764000    1495774200   \n",
       "115226       SHA         TEN  MU5882      1494891900    1494901800   \n",
       "133677       SHA         LPF  MU5816      1494546300    1494557700   \n",
       "163433       SHA         JGS  FM9269      1495329000    1495336500   \n",
       "172211       SHA         CKG  FM9423      1494489900    1494500700   \n",
       "175477       SHA         CTU  CA4502      1496148300    1496160300   \n",
       "176946       SHA         DLU  MU9750      1494027600    1494041400   \n",
       "181143       SHA         PEK  CA1550      1495972500    1495980600   \n",
       "182352       SHA         TSN  FM9264      1495605600    1495614300   \n",
       "182915       SHA         CKG  CA4544      1495683600    1495694100   \n",
       "192648       SHA         CSX  FM9395      1495275000    1495281900   \n",
       "198516       SHA         CKG  FM9423      1494662700    1494673500   \n",
       "229723       SHA         XIY  MU2156      1494739200    1494748500   \n",
       "237413       SHA         NNG  FM9209      1495248900    1495260000   \n",
       "247196       SHA         CKG  FM9423      1495008300    1495019100   \n",
       "273193       SHA         CKG  CA4542      1494940200    1494950700   \n",
       "289984       SHA         LJG  MU5819      1494826800    1494840600   \n",
       "290168       SHA         CKG  CA4544      1494646800    1494657300   \n",
       "296437       SHA         KMG  MU5804      1493725500    1493737200   \n",
       "299771       SHA         PEK  FM9107      1495459200    1495467600   \n",
       "304490       SHA         XMN  FM9263      1495584300    1495590600   \n",
       "\n",
       "        ADepartureTime  AArrivalTime    Id IsCancel  Delay      DelayRange  \n",
       "3113      1.495454e+09  1.495465e+09   8.0       正常   13.0    (10.0, 20.0]  \n",
       "16875     1.495634e+09  1.495641e+09   2.0       正常   39.0    (30.0, 60.0]  \n",
       "20176     1.495439e+09  1.495445e+09   2.0       正常   97.0   (60.0, 120.0]  \n",
       "24154     1.495164e+09  1.495170e+09   2.0       正常   53.0    (30.0, 60.0]  \n",
       "33457     1.495179e+09  1.495184e+09  13.0       正常   32.0    (30.0, 60.0]  \n",
       "34958     1.495417e+09  1.495422e+09   2.0       正常   93.0   (60.0, 120.0]  \n",
       "41860     1.494907e+09  1.494916e+09  11.0       正常   23.0    (20.0, 30.0]  \n",
       "88071     1.494062e+09  1.494075e+09   8.0       正常    9.0     (0.0, 10.0]  \n",
       "101310    1.495765e+09  1.495774e+09   2.0       正常   10.0     (0.0, 10.0]  \n",
       "115226    1.494893e+09  1.494901e+09   8.0       正常   22.0    (20.0, 30.0]  \n",
       "133677    1.494552e+09  1.494561e+09   8.0       正常   90.0   (60.0, 120.0]  \n",
       "163433    1.495329e+09  1.495334e+09   2.0       正常    5.0     (0.0, 10.0]  \n",
       "172211    1.494504e+09  1.494512e+09   2.0       正常  238.0  (180.0, 300.0]  \n",
       "175477    1.496149e+09  1.496159e+09  29.0       正常   13.0    (10.0, 20.0]  \n",
       "176946    1.494029e+09  1.494042e+09   8.0       正常   22.0    (20.0, 30.0]  \n",
       "181143    1.495978e+09  1.495984e+09  29.0       正常   92.0   (60.0, 120.0]  \n",
       "182352    1.495606e+09  1.495613e+09   2.0       正常   15.0    (10.0, 20.0]  \n",
       "182915    1.495684e+09  1.495693e+09  27.0       正常   11.0    (10.0, 20.0]  \n",
       "192648    1.495278e+09  1.495282e+09   2.0       正常   45.0    (30.0, 60.0]  \n",
       "198516    1.494663e+09  1.494672e+09   2.0       正常    9.0     (0.0, 10.0]  \n",
       "229723    1.494745e+09  1.494753e+09  14.0       正常   98.0   (60.0, 120.0]  \n",
       "237413    1.495250e+09  1.495259e+09   2.0       正常   19.0    (10.0, 20.0]  \n",
       "247196    1.495011e+09  1.495019e+09   2.0       正常   43.0    (30.0, 60.0]  \n",
       "273193    1.494942e+09  1.494950e+09  27.0       正常   25.0    (20.0, 30.0]  \n",
       "289984    1.494828e+09  1.494841e+09   8.0       正常   24.0    (20.0, 30.0]  \n",
       "290168    1.494649e+09  1.494657e+09  27.0       正常   44.0    (30.0, 60.0]  \n",
       "296437    1.493726e+09  1.493737e+09   8.0       正常   16.0    (10.0, 20.0]  \n",
       "299771    1.495466e+09  1.495472e+09   2.0       正常  107.0   (60.0, 120.0]  \n",
       "304490    1.495587e+09  1.495592e+09   2.0       正常   41.0    (30.0, 60.0]  "
      ]
     },
     "execution_count": 19,
     "metadata": {},
     "output_type": "execute_result"
    }
   ],
   "source": [
    "train_1705.loc[(train_1705['Departure'] =='SHA') & (train_1705['Id'] < 30)]"
   ]
  },
  {
   "cell_type": "code",
   "execution_count": null,
   "metadata": {
    "collapsed": true
   },
   "outputs": [],
   "source": []
  },
  {
   "cell_type": "code",
   "execution_count": null,
   "metadata": {
    "collapsed": true
   },
   "outputs": [],
   "source": []
  },
  {
   "cell_type": "code",
   "execution_count": null,
   "metadata": {
    "collapsed": true
   },
   "outputs": [],
   "source": []
  },
  {
   "cell_type": "code",
   "execution_count": null,
   "metadata": {
    "collapsed": true
   },
   "outputs": [],
   "source": []
  },
  {
   "cell_type": "code",
   "execution_count": null,
   "metadata": {
    "collapsed": true
   },
   "outputs": [],
   "source": []
  },
  {
   "cell_type": "code",
   "execution_count": null,
   "metadata": {
    "collapsed": true
   },
   "outputs": [],
   "source": []
  },
  {
   "cell_type": "code",
   "execution_count": null,
   "metadata": {
    "collapsed": true
   },
   "outputs": [],
   "source": []
  },
  {
   "cell_type": "code",
   "execution_count": null,
   "metadata": {
    "collapsed": true
   },
   "outputs": [],
   "source": []
  },
  {
   "cell_type": "code",
   "execution_count": null,
   "metadata": {
    "collapsed": true
   },
   "outputs": [],
   "source": []
  },
  {
   "cell_type": "code",
   "execution_count": null,
   "metadata": {
    "collapsed": true
   },
   "outputs": [],
   "source": []
  },
  {
   "cell_type": "code",
   "execution_count": null,
   "metadata": {
    "collapsed": true
   },
   "outputs": [],
   "source": []
  },
  {
   "cell_type": "code",
   "execution_count": null,
   "metadata": {
    "collapsed": true
   },
   "outputs": [],
   "source": []
  },
  {
   "cell_type": "code",
   "execution_count": null,
   "metadata": {
    "collapsed": true
   },
   "outputs": [],
   "source": []
  },
  {
   "cell_type": "code",
   "execution_count": null,
   "metadata": {
    "collapsed": true
   },
   "outputs": [],
   "source": []
  },
  {
   "cell_type": "code",
   "execution_count": null,
   "metadata": {
    "collapsed": true
   },
   "outputs": [],
   "source": []
  },
  {
   "cell_type": "code",
   "execution_count": null,
   "metadata": {
    "collapsed": true
   },
   "outputs": [],
   "source": []
  },
  {
   "cell_type": "code",
   "execution_count": null,
   "metadata": {
    "collapsed": true
   },
   "outputs": [],
   "source": []
  },
  {
   "cell_type": "code",
   "execution_count": null,
   "metadata": {
    "collapsed": true
   },
   "outputs": [],
   "source": []
  },
  {
   "cell_type": "code",
   "execution_count": null,
   "metadata": {
    "collapsed": true
   },
   "outputs": [],
   "source": []
  },
  {
   "cell_type": "code",
   "execution_count": null,
   "metadata": {
    "collapsed": true
   },
   "outputs": [],
   "source": []
  },
  {
   "cell_type": "code",
   "execution_count": null,
   "metadata": {
    "collapsed": true
   },
   "outputs": [],
   "source": []
  },
  {
   "cell_type": "code",
   "execution_count": null,
   "metadata": {
    "collapsed": true
   },
   "outputs": [],
   "source": []
  }
 ],
 "metadata": {
  "kernelspec": {
   "display_name": "Python 3",
   "language": "python",
   "name": "python3"
  },
  "language_info": {
   "codemirror_mode": {
    "name": "ipython",
    "version": 3
   },
   "file_extension": ".py",
   "mimetype": "text/x-python",
   "name": "python",
   "nbconvert_exporter": "python",
   "pygments_lexer": "ipython3",
   "version": "3.6.0"
  }
 },
 "nbformat": 4,
 "nbformat_minor": 2
}
