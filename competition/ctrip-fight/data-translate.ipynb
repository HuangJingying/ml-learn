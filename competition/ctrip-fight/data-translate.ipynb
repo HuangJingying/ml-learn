{
 "cells": [
  {
   "cell_type": "markdown",
   "metadata": {},
   "source": [
    "原始数据做一个简单的处理，统一转为utf-8格式的csv。\n",
    "\n",
    "原始数据航班动态数据单个文件太大，处理后将航班动态数据按月拆分成小文件，数据量太大，数据就不上传到git了。"
   ]
  },
  {
   "cell_type": "code",
   "execution_count": 1,
   "metadata": {
    "collapsed": true
   },
   "outputs": [],
   "source": [
    "import pandas as pd\n",
    "import numpy as np\n",
    "import matplotlib.pyplot as plt\n",
    "import seaborn as sns\n",
    "\n",
    "from IPython.display import display\n",
    "\n",
    "from datetime import datetime\n",
    "\n",
    "%matplotlib inline\n"
   ]
  },
  {
   "cell_type": "markdown",
   "metadata": {},
   "source": [
    "## 天气"
   ]
  },
  {
   "cell_type": "code",
   "execution_count": 3,
   "metadata": {
    "collapsed": false
   },
   "outputs": [],
   "source": [
    "train_w = pd.read_csv('input/train/raw/weather-201505-201705.csv', low_memory=False)"
   ]
  },
  {
   "cell_type": "code",
   "execution_count": 4,
   "metadata": {
    "collapsed": false
   },
   "outputs": [
    {
     "data": {
      "text/html": [
       "<div>\n",
       "<table border=\"1\" class=\"dataframe\">\n",
       "  <thead>\n",
       "    <tr style=\"text-align: right;\">\n",
       "      <th></th>\n",
       "      <th>﻿\"城市\"</th>\n",
       "      <th>天气</th>\n",
       "      <th>最低气温</th>\n",
       "      <th>最高气温</th>\n",
       "      <th>日期</th>\n",
       "      <th>Unnamed: 5</th>\n",
       "    </tr>\n",
       "  </thead>\n",
       "  <tbody>\n",
       "    <tr>\n",
       "      <th>0</th>\n",
       "      <td>厦门</td>\n",
       "      <td>阴</td>\n",
       "      <td>21</td>\n",
       "      <td>26</td>\n",
       "      <td>2015-05-01</td>\n",
       "      <td>NaN</td>\n",
       "    </tr>\n",
       "    <tr>\n",
       "      <th>1</th>\n",
       "      <td>宁德</td>\n",
       "      <td>阵雨</td>\n",
       "      <td>19</td>\n",
       "      <td>25</td>\n",
       "      <td>2015-05-01</td>\n",
       "      <td>NaN</td>\n",
       "    </tr>\n",
       "    <tr>\n",
       "      <th>2</th>\n",
       "      <td>莆田</td>\n",
       "      <td>阵雨转阴</td>\n",
       "      <td>20</td>\n",
       "      <td>26</td>\n",
       "      <td>2015-05-01</td>\n",
       "      <td>NaN</td>\n",
       "    </tr>\n",
       "    <tr>\n",
       "      <th>3</th>\n",
       "      <td>泉州</td>\n",
       "      <td>阴</td>\n",
       "      <td>22</td>\n",
       "      <td>26</td>\n",
       "      <td>2015-05-01</td>\n",
       "      <td>NaN</td>\n",
       "    </tr>\n",
       "    <tr>\n",
       "      <th>4</th>\n",
       "      <td>漳州</td>\n",
       "      <td>阵雨转阴</td>\n",
       "      <td>22</td>\n",
       "      <td>28</td>\n",
       "      <td>2015-05-01</td>\n",
       "      <td>NaN</td>\n",
       "    </tr>\n",
       "  </tbody>\n",
       "</table>\n",
       "</div>"
      ],
      "text/plain": [
       "  ﻿\"城市\"    天气 最低气温 最高气温          日期  Unnamed: 5\n",
       "0    厦门     阴   21   26  2015-05-01         NaN\n",
       "1    宁德    阵雨   19   25  2015-05-01         NaN\n",
       "2    莆田  阵雨转阴   20   26  2015-05-01         NaN\n",
       "3    泉州     阴   22   26  2015-05-01         NaN\n",
       "4    漳州  阵雨转阴   22   28  2015-05-01         NaN"
      ]
     },
     "metadata": {},
     "output_type": "display_data"
    },
    {
     "name": "stdout",
     "output_type": "stream",
     "text": [
      "<class 'pandas.core.frame.DataFrame'>\n",
      "RangeIndex: 828469 entries, 0 to 828468\n",
      "Data columns (total 6 columns):\n",
      "﻿\"城市\"         828469 non-null object\n",
      "天气            828399 non-null object\n",
      "最低气温          778400 non-null object\n",
      "最高气温          678990 non-null object\n",
      "日期            828469 non-null object\n",
      "Unnamed: 5    0 non-null float64\n",
      "dtypes: float64(1), object(5)\n",
      "memory usage: 37.9+ MB\n"
     ]
    }
   ],
   "source": [
    "display(train_w.head())\n",
    "\n",
    "train_w.info()"
   ]
  },
  {
   "cell_type": "code",
   "execution_count": 5,
   "metadata": {
    "collapsed": false
   },
   "outputs": [
    {
     "data": {
      "text/html": [
       "<div>\n",
       "<table border=\"1\" class=\"dataframe\">\n",
       "  <thead>\n",
       "    <tr style=\"text-align: right;\">\n",
       "      <th></th>\n",
       "      <th>City</th>\n",
       "      <th>Weather</th>\n",
       "      <th>MinTp</th>\n",
       "      <th>MaxTp</th>\n",
       "      <th>Date</th>\n",
       "    </tr>\n",
       "  </thead>\n",
       "  <tbody>\n",
       "    <tr>\n",
       "      <th>0</th>\n",
       "      <td>厦门</td>\n",
       "      <td>阴</td>\n",
       "      <td>21</td>\n",
       "      <td>26</td>\n",
       "      <td>2015-05-01</td>\n",
       "    </tr>\n",
       "    <tr>\n",
       "      <th>1</th>\n",
       "      <td>宁德</td>\n",
       "      <td>阵雨</td>\n",
       "      <td>19</td>\n",
       "      <td>25</td>\n",
       "      <td>2015-05-01</td>\n",
       "    </tr>\n",
       "    <tr>\n",
       "      <th>2</th>\n",
       "      <td>莆田</td>\n",
       "      <td>阵雨转阴</td>\n",
       "      <td>20</td>\n",
       "      <td>26</td>\n",
       "      <td>2015-05-01</td>\n",
       "    </tr>\n",
       "    <tr>\n",
       "      <th>3</th>\n",
       "      <td>泉州</td>\n",
       "      <td>阴</td>\n",
       "      <td>22</td>\n",
       "      <td>26</td>\n",
       "      <td>2015-05-01</td>\n",
       "    </tr>\n",
       "    <tr>\n",
       "      <th>4</th>\n",
       "      <td>漳州</td>\n",
       "      <td>阵雨转阴</td>\n",
       "      <td>22</td>\n",
       "      <td>28</td>\n",
       "      <td>2015-05-01</td>\n",
       "    </tr>\n",
       "  </tbody>\n",
       "</table>\n",
       "</div>"
      ],
      "text/plain": [
       "  City Weather MinTp MaxTp        Date\n",
       "0   厦门       阴    21    26  2015-05-01\n",
       "1   宁德      阵雨    19    25  2015-05-01\n",
       "2   莆田    阵雨转阴    20    26  2015-05-01\n",
       "3   泉州       阴    22    26  2015-05-01\n",
       "4   漳州    阵雨转阴    22    28  2015-05-01"
      ]
     },
     "execution_count": 5,
     "metadata": {},
     "output_type": "execute_result"
    }
   ],
   "source": [
    "train_w.drop('Unnamed: 5', axis=1, inplace=True)\n",
    "\n",
    "train_w.columns = ['City', 'Weather', 'MinTp', 'MaxTp', 'Date']\n",
    "\n",
    "train_w.head()"
   ]
  },
  {
   "cell_type": "code",
   "execution_count": 6,
   "metadata": {
    "collapsed": false
   },
   "outputs": [],
   "source": [
    "train_w.to_csv('input/train/weather.csv', index=False, encoding='utf-8')"
   ]
  },
  {
   "cell_type": "markdown",
   "metadata": {},
   "source": [
    "## 动态数据"
   ]
  },
  {
   "cell_type": "code",
   "execution_count": 7,
   "metadata": {
    "collapsed": false
   },
   "outputs": [
    {
     "data": {
      "text/html": [
       "<div>\n",
       "<table border=\"1\" class=\"dataframe\">\n",
       "  <thead>\n",
       "    <tr style=\"text-align: right;\">\n",
       "      <th></th>\n",
       "      <th>出发机场</th>\n",
       "      <th>到达机场</th>\n",
       "      <th>航班编号</th>\n",
       "      <th>计划起飞时间</th>\n",
       "      <th>计划到达时间</th>\n",
       "      <th>实际起飞时间</th>\n",
       "      <th>实际到达时间</th>\n",
       "      <th>飞机编号</th>\n",
       "      <th>航班是否取消</th>\n",
       "    </tr>\n",
       "  </thead>\n",
       "  <tbody>\n",
       "    <tr>\n",
       "      <th>0</th>\n",
       "      <td>HGH</td>\n",
       "      <td>DLC</td>\n",
       "      <td>CZ6328</td>\n",
       "      <td>1453809600</td>\n",
       "      <td>1453817100</td>\n",
       "      <td>1.453813e+09</td>\n",
       "      <td>1.453819e+09</td>\n",
       "      <td>1.0</td>\n",
       "      <td>正常</td>\n",
       "    </tr>\n",
       "    <tr>\n",
       "      <th>1</th>\n",
       "      <td>SHA</td>\n",
       "      <td>XMN</td>\n",
       "      <td>FM9261</td>\n",
       "      <td>1452760800</td>\n",
       "      <td>1452767100</td>\n",
       "      <td>1.452763e+09</td>\n",
       "      <td>1.452768e+09</td>\n",
       "      <td>2.0</td>\n",
       "      <td>正常</td>\n",
       "    </tr>\n",
       "    <tr>\n",
       "      <th>2</th>\n",
       "      <td>CAN</td>\n",
       "      <td>WNZ</td>\n",
       "      <td>ZH9597</td>\n",
       "      <td>1453800900</td>\n",
       "      <td>1453807500</td>\n",
       "      <td>1.453802e+09</td>\n",
       "      <td>1.453807e+09</td>\n",
       "      <td>3.0</td>\n",
       "      <td>正常</td>\n",
       "    </tr>\n",
       "    <tr>\n",
       "      <th>3</th>\n",
       "      <td>SHA</td>\n",
       "      <td>ZUH</td>\n",
       "      <td>9C8819</td>\n",
       "      <td>1452120600</td>\n",
       "      <td>1452131100</td>\n",
       "      <td>1.452121e+09</td>\n",
       "      <td>1.452130e+09</td>\n",
       "      <td>4.0</td>\n",
       "      <td>正常</td>\n",
       "    </tr>\n",
       "    <tr>\n",
       "      <th>4</th>\n",
       "      <td>SHE</td>\n",
       "      <td>TAO</td>\n",
       "      <td>TZ185</td>\n",
       "      <td>1452399000</td>\n",
       "      <td>1452406800</td>\n",
       "      <td>1.452400e+09</td>\n",
       "      <td>1.452404e+09</td>\n",
       "      <td>5.0</td>\n",
       "      <td>正常</td>\n",
       "    </tr>\n",
       "  </tbody>\n",
       "</table>\n",
       "</div>"
      ],
      "text/plain": [
       "  出发机场 到达机场    航班编号      计划起飞时间      计划到达时间        实际起飞时间        实际到达时间  飞机编号  \\\n",
       "0  HGH  DLC  CZ6328  1453809600  1453817100  1.453813e+09  1.453819e+09   1.0   \n",
       "1  SHA  XMN  FM9261  1452760800  1452767100  1.452763e+09  1.452768e+09   2.0   \n",
       "2  CAN  WNZ  ZH9597  1453800900  1453807500  1.453802e+09  1.453807e+09   3.0   \n",
       "3  SHA  ZUH  9C8819  1452120600  1452131100  1.452121e+09  1.452130e+09   4.0   \n",
       "4  SHE  TAO   TZ185  1452399000  1452406800  1.452400e+09  1.452404e+09   5.0   \n",
       "\n",
       "  航班是否取消  \n",
       "0     正常  \n",
       "1     正常  \n",
       "2     正常  \n",
       "3     正常  \n",
       "4     正常  "
      ]
     },
     "metadata": {},
     "output_type": "display_data"
    },
    {
     "name": "stdout",
     "output_type": "stream",
     "text": [
      "<class 'pandas.core.frame.DataFrame'>\n",
      "RangeIndex: 7518638 entries, 0 to 7518637\n",
      "Data columns (total 9 columns):\n",
      "出发机场      object\n",
      "到达机场      object\n",
      "航班编号      object\n",
      "计划起飞时间    int64\n",
      "计划到达时间    int64\n",
      "实际起飞时间    float64\n",
      "实际到达时间    float64\n",
      "飞机编号      float64\n",
      "航班是否取消    object\n",
      "dtypes: float64(3), int64(2), object(4)\n",
      "memory usage: 516.3+ MB\n"
     ]
    }
   ],
   "source": [
    "train_f = pd.read_csv('input/train/raw/fight-201505-201705.csv', encoding='gb2312', low_memory=False)\n",
    "\n",
    "display(train_f.head())\n",
    "train_f.info()"
   ]
  },
  {
   "cell_type": "code",
   "execution_count": 8,
   "metadata": {
    "collapsed": false
   },
   "outputs": [
    {
     "data": {
      "text/html": [
       "<div>\n",
       "<table border=\"1\" class=\"dataframe\">\n",
       "  <thead>\n",
       "    <tr style=\"text-align: right;\">\n",
       "      <th></th>\n",
       "      <th>Departure</th>\n",
       "      <th>Destination</th>\n",
       "      <th>FLTNo</th>\n",
       "      <th>PDepartureTime</th>\n",
       "      <th>PArrivalTime</th>\n",
       "      <th>ADepartureTime</th>\n",
       "      <th>AArrivalTime</th>\n",
       "      <th>Id</th>\n",
       "      <th>IsCancel</th>\n",
       "    </tr>\n",
       "  </thead>\n",
       "  <tbody>\n",
       "    <tr>\n",
       "      <th>0</th>\n",
       "      <td>HGH</td>\n",
       "      <td>DLC</td>\n",
       "      <td>CZ6328</td>\n",
       "      <td>1453809600</td>\n",
       "      <td>1453817100</td>\n",
       "      <td>1.453813e+09</td>\n",
       "      <td>1.453819e+09</td>\n",
       "      <td>1.0</td>\n",
       "      <td>正常</td>\n",
       "    </tr>\n",
       "    <tr>\n",
       "      <th>1</th>\n",
       "      <td>SHA</td>\n",
       "      <td>XMN</td>\n",
       "      <td>FM9261</td>\n",
       "      <td>1452760800</td>\n",
       "      <td>1452767100</td>\n",
       "      <td>1.452763e+09</td>\n",
       "      <td>1.452768e+09</td>\n",
       "      <td>2.0</td>\n",
       "      <td>正常</td>\n",
       "    </tr>\n",
       "    <tr>\n",
       "      <th>2</th>\n",
       "      <td>CAN</td>\n",
       "      <td>WNZ</td>\n",
       "      <td>ZH9597</td>\n",
       "      <td>1453800900</td>\n",
       "      <td>1453807500</td>\n",
       "      <td>1.453802e+09</td>\n",
       "      <td>1.453807e+09</td>\n",
       "      <td>3.0</td>\n",
       "      <td>正常</td>\n",
       "    </tr>\n",
       "    <tr>\n",
       "      <th>3</th>\n",
       "      <td>SHA</td>\n",
       "      <td>ZUH</td>\n",
       "      <td>9C8819</td>\n",
       "      <td>1452120600</td>\n",
       "      <td>1452131100</td>\n",
       "      <td>1.452121e+09</td>\n",
       "      <td>1.452130e+09</td>\n",
       "      <td>4.0</td>\n",
       "      <td>正常</td>\n",
       "    </tr>\n",
       "    <tr>\n",
       "      <th>4</th>\n",
       "      <td>SHE</td>\n",
       "      <td>TAO</td>\n",
       "      <td>TZ185</td>\n",
       "      <td>1452399000</td>\n",
       "      <td>1452406800</td>\n",
       "      <td>1.452400e+09</td>\n",
       "      <td>1.452404e+09</td>\n",
       "      <td>5.0</td>\n",
       "      <td>正常</td>\n",
       "    </tr>\n",
       "  </tbody>\n",
       "</table>\n",
       "</div>"
      ],
      "text/plain": [
       "  Departure Destination   FLTNo  PDepartureTime  PArrivalTime  ADepartureTime  \\\n",
       "0       HGH         DLC  CZ6328      1453809600    1453817100    1.453813e+09   \n",
       "1       SHA         XMN  FM9261      1452760800    1452767100    1.452763e+09   \n",
       "2       CAN         WNZ  ZH9597      1453800900    1453807500    1.453802e+09   \n",
       "3       SHA         ZUH  9C8819      1452120600    1452131100    1.452121e+09   \n",
       "4       SHE         TAO   TZ185      1452399000    1452406800    1.452400e+09   \n",
       "\n",
       "   AArrivalTime   Id IsCancel  \n",
       "0  1.453819e+09  1.0       正常  \n",
       "1  1.452768e+09  2.0       正常  \n",
       "2  1.453807e+09  3.0       正常  \n",
       "3  1.452130e+09  4.0       正常  \n",
       "4  1.452404e+09  5.0       正常  "
      ]
     },
     "execution_count": 8,
     "metadata": {},
     "output_type": "execute_result"
    }
   ],
   "source": [
    "#Actual departure time\n",
    "train_f.columns = ['Departure', 'Destination', 'FLTNo', 'PDepartureTime', 'PArrivalTime', 'ADepartureTime', 'AArrivalTime', 'Id', 'IsCancel']\n",
    "\n",
    "train_f.head()"
   ]
  },
  {
   "cell_type": "code",
   "execution_count": 9,
   "metadata": {
    "collapsed": false
   },
   "outputs": [
    {
     "name": "stdout",
     "output_type": "stream",
     "text": [
      "Max PDepartureTime: 2017-05-31 23:55:00\n",
      "Min PDepartureTime: 2015-05-01 00:00:00\n"
     ]
    }
   ],
   "source": [
    "print('Max PDepartureTime:', datetime.fromtimestamp(train_f['PDepartureTime'].max()).strftime('%Y-%m-%d %H:%M:%S'))\n",
    "print('Min PDepartureTime:', datetime.fromtimestamp(train_f['PDepartureTime'].min()).strftime('%Y-%m-%d %H:%M:%S'))"
   ]
  },
  {
   "cell_type": "code",
   "execution_count": 10,
   "metadata": {
    "collapsed": false
   },
   "outputs": [
    {
     "name": "stdout",
     "output_type": "stream",
     "text": [
      "2015-05 2482263\n",
      "2015-06 2437416\n",
      "2015-07 2723553\n",
      "2015-08 2764080\n",
      "2015-09 2595186\n",
      "2015-10 2621691\n",
      "2015-11 2426958\n",
      "2015-12 2536389\n",
      "2016-01 2636244\n",
      "2016-02 2561193\n",
      "2016-03 2619702\n",
      "2016-04 2607273\n",
      "2016-05 2644839\n",
      "2016-06 2593386\n",
      "2016-07 2892096\n",
      "2016-08 2933685\n",
      "2016-09 2758509\n",
      "2016-10 2852757\n",
      "2016-11 2731842\n",
      "2016-12 2825874\n",
      "2017-01 2982942\n",
      "2017-02 2735865\n",
      "2017-03 2911293\n",
      "2017-04 2853693\n",
      "2017-05 2939013\n"
     ]
    }
   ],
   "source": [
    "months = [\n",
    "    '2015-05', '2015-06', '2015-07', '2015-08', '2015-09', '2015-10',\n",
    "    '2015-11', '2015-12', '2016-01', '2016-02', '2016-03', '2016-04',\n",
    "    '2016-05', '2016-06', '2016-07', '2016-08', '2016-09', '2016-10',\n",
    "    '2016-11', '2016-12', '2017-01', '2017-02', '2017-03', '2017-04',\n",
    "    '2017-05', '2017-06'\n",
    "]\n",
    "\n",
    "for i in range(len(months)):\n",
    "    if i == len(months) - 1:\n",
    "        continue\n",
    "\n",
    "    start = datetime.strptime('%s-01' % months[i], '%Y-%m-%d').timestamp()\n",
    "    end = datetime.strptime('%s-01' % months[i + 1], '%Y-%m-%d').timestamp()\n",
    "    \n",
    "    train_f_sub = train_f[(train_f['PDepartureTime'] >= start) & (train_f['PDepartureTime'] < end)]\n",
    "    print(months[i], train_f_sub.size)\n",
    "    train_f_sub.to_csv('input/train/fights-%s.csv' % months[i], index=False, encoding='utf-8')\n"
   ]
  },
  {
   "cell_type": "markdown",
   "metadata": {},
   "source": [
    "## 特情"
   ]
  },
  {
   "cell_type": "code",
   "execution_count": 12,
   "metadata": {
    "collapsed": false
   },
   "outputs": [
    {
     "data": {
      "text/html": [
       "<div>\n",
       "<table border=\"1\" class=\"dataframe\">\n",
       "  <thead>\n",
       "    <tr style=\"text-align: right;\">\n",
       "      <th></th>\n",
       "      <th>特情机场</th>\n",
       "      <th>收集时间</th>\n",
       "      <th>开始时间</th>\n",
       "      <th>结束时间</th>\n",
       "      <th>特情内容</th>\n",
       "    </tr>\n",
       "  </thead>\n",
       "  <tbody>\n",
       "    <tr>\n",
       "      <th>0</th>\n",
       "      <td>csx</td>\n",
       "      <td>2015-04-30 19:52:45Z</td>\n",
       "      <td>2015-05-01 12:00:00Z</td>\n",
       "      <td>2015-05-01 16:00:00Z</td>\n",
       "      <td>长沙机场航班延误黄色预警提示：预计明日（5月1日）12:00-16:00长沙黄花机场受雷雨天...</td>\n",
       "    </tr>\n",
       "    <tr>\n",
       "      <th>1</th>\n",
       "      <td>wuh</td>\n",
       "      <td>2015-05-01 08:13:39Z</td>\n",
       "      <td>2015-05-01 08:00:00Z</td>\n",
       "      <td>2015-05-01 12:00:00Z</td>\n",
       "      <td>目前，8时-12时雷雨，期间进出港航班可能受到影响。</td>\n",
       "    </tr>\n",
       "    <tr>\n",
       "      <th>2</th>\n",
       "      <td>khn</td>\n",
       "      <td>2015-05-01 08:14:18Z</td>\n",
       "      <td>2015-05-01 14:00:00Z</td>\n",
       "      <td>2015-05-01 17:00:00Z</td>\n",
       "      <td>预计，14时-17时小雷雨，期间进出港航班可能受到影响。</td>\n",
       "    </tr>\n",
       "    <tr>\n",
       "      <th>3</th>\n",
       "      <td>swa</td>\n",
       "      <td>2015-05-01 08:24:28Z</td>\n",
       "      <td>2015-05-01 13:00:00Z</td>\n",
       "      <td>2015-05-01 17:00:00Z</td>\n",
       "      <td>预计，13时-17时雷雨，期间进出港航班可能受到影响。</td>\n",
       "    </tr>\n",
       "    <tr>\n",
       "      <th>4</th>\n",
       "      <td>zha</td>\n",
       "      <td>2015-05-01 08:24:56Z</td>\n",
       "      <td>2015-05-01 13:00:00Z</td>\n",
       "      <td>2015-05-01 17:00:00Z</td>\n",
       "      <td>预计，13时-17时雷雨，期间进出港航班可能受到影响。</td>\n",
       "    </tr>\n",
       "  </tbody>\n",
       "</table>\n",
       "</div>"
      ],
      "text/plain": [
       "  特情机场                  收集时间                  开始时间                  结束时间  \\\n",
       "0  csx  2015-04-30 19:52:45Z  2015-05-01 12:00:00Z  2015-05-01 16:00:00Z   \n",
       "1  wuh  2015-05-01 08:13:39Z  2015-05-01 08:00:00Z  2015-05-01 12:00:00Z   \n",
       "2  khn  2015-05-01 08:14:18Z  2015-05-01 14:00:00Z  2015-05-01 17:00:00Z   \n",
       "3  swa  2015-05-01 08:24:28Z  2015-05-01 13:00:00Z  2015-05-01 17:00:00Z   \n",
       "4  zha  2015-05-01 08:24:56Z  2015-05-01 13:00:00Z  2015-05-01 17:00:00Z   \n",
       "\n",
       "                                                特情内容  \n",
       "0  长沙机场航班延误黄色预警提示：预计明日（5月1日）12:00-16:00长沙黄花机场受雷雨天...  \n",
       "1                         目前，8时-12时雷雨，期间进出港航班可能受到影响。  \n",
       "2                       预计，14时-17时小雷雨，期间进出港航班可能受到影响。  \n",
       "3                        预计，13时-17时雷雨，期间进出港航班可能受到影响。  \n",
       "4                        预计，13时-17时雷雨，期间进出港航班可能受到影响。  "
      ]
     },
     "metadata": {},
     "output_type": "display_data"
    },
    {
     "name": "stdout",
     "output_type": "stream",
     "text": [
      "<class 'pandas.core.frame.DataFrame'>\n",
      "RangeIndex: 15880 entries, 0 to 15879\n",
      "Data columns (total 5 columns):\n",
      "特情机场    15877 non-null object\n",
      "收集时间    15869 non-null object\n",
      "开始时间    15869 non-null object\n",
      "结束时间    15862 non-null object\n",
      "特情内容    15868 non-null object\n",
      "dtypes: object(5)\n",
      "memory usage: 620.4+ KB\n"
     ]
    }
   ],
   "source": [
    "train_s = pd.read_excel('input/train/raw/special-case-201505-201705.xlsx')\n",
    "\n",
    "display(train_s.head())\n",
    "train_s.info()"
   ]
  },
  {
   "cell_type": "code",
   "execution_count": 13,
   "metadata": {
    "collapsed": false
   },
   "outputs": [
    {
     "data": {
      "text/html": [
       "<div>\n",
       "<table border=\"1\" class=\"dataframe\">\n",
       "  <thead>\n",
       "    <tr style=\"text-align: right;\">\n",
       "      <th></th>\n",
       "      <th>Airport</th>\n",
       "      <th>CTime</th>\n",
       "      <th>STime</th>\n",
       "      <th>ETime</th>\n",
       "      <th>Content</th>\n",
       "    </tr>\n",
       "  </thead>\n",
       "  <tbody>\n",
       "    <tr>\n",
       "      <th>0</th>\n",
       "      <td>csx</td>\n",
       "      <td>2015-04-30 19:52:45Z</td>\n",
       "      <td>2015-05-01 12:00:00Z</td>\n",
       "      <td>2015-05-01 16:00:00Z</td>\n",
       "      <td>长沙机场航班延误黄色预警提示：预计明日（5月1日）12:00-16:00长沙黄花机场受雷雨天...</td>\n",
       "    </tr>\n",
       "    <tr>\n",
       "      <th>1</th>\n",
       "      <td>wuh</td>\n",
       "      <td>2015-05-01 08:13:39Z</td>\n",
       "      <td>2015-05-01 08:00:00Z</td>\n",
       "      <td>2015-05-01 12:00:00Z</td>\n",
       "      <td>目前，8时-12时雷雨，期间进出港航班可能受到影响。</td>\n",
       "    </tr>\n",
       "    <tr>\n",
       "      <th>2</th>\n",
       "      <td>khn</td>\n",
       "      <td>2015-05-01 08:14:18Z</td>\n",
       "      <td>2015-05-01 14:00:00Z</td>\n",
       "      <td>2015-05-01 17:00:00Z</td>\n",
       "      <td>预计，14时-17时小雷雨，期间进出港航班可能受到影响。</td>\n",
       "    </tr>\n",
       "    <tr>\n",
       "      <th>3</th>\n",
       "      <td>swa</td>\n",
       "      <td>2015-05-01 08:24:28Z</td>\n",
       "      <td>2015-05-01 13:00:00Z</td>\n",
       "      <td>2015-05-01 17:00:00Z</td>\n",
       "      <td>预计，13时-17时雷雨，期间进出港航班可能受到影响。</td>\n",
       "    </tr>\n",
       "    <tr>\n",
       "      <th>4</th>\n",
       "      <td>zha</td>\n",
       "      <td>2015-05-01 08:24:56Z</td>\n",
       "      <td>2015-05-01 13:00:00Z</td>\n",
       "      <td>2015-05-01 17:00:00Z</td>\n",
       "      <td>预计，13时-17时雷雨，期间进出港航班可能受到影响。</td>\n",
       "    </tr>\n",
       "  </tbody>\n",
       "</table>\n",
       "</div>"
      ],
      "text/plain": [
       "  Airport                 CTime                 STime                 ETime  \\\n",
       "0     csx  2015-04-30 19:52:45Z  2015-05-01 12:00:00Z  2015-05-01 16:00:00Z   \n",
       "1     wuh  2015-05-01 08:13:39Z  2015-05-01 08:00:00Z  2015-05-01 12:00:00Z   \n",
       "2     khn  2015-05-01 08:14:18Z  2015-05-01 14:00:00Z  2015-05-01 17:00:00Z   \n",
       "3     swa  2015-05-01 08:24:28Z  2015-05-01 13:00:00Z  2015-05-01 17:00:00Z   \n",
       "4     zha  2015-05-01 08:24:56Z  2015-05-01 13:00:00Z  2015-05-01 17:00:00Z   \n",
       "\n",
       "                                             Content  \n",
       "0  长沙机场航班延误黄色预警提示：预计明日（5月1日）12:00-16:00长沙黄花机场受雷雨天...  \n",
       "1                         目前，8时-12时雷雨，期间进出港航班可能受到影响。  \n",
       "2                       预计，14时-17时小雷雨，期间进出港航班可能受到影响。  \n",
       "3                        预计，13时-17时雷雨，期间进出港航班可能受到影响。  \n",
       "4                        预计，13时-17时雷雨，期间进出港航班可能受到影响。  "
      ]
     },
     "execution_count": 13,
     "metadata": {},
     "output_type": "execute_result"
    }
   ],
   "source": [
    "train_s.columns = ['Airport', 'CTime', 'STime', 'ETime', 'Content']\n",
    "train_s.head()"
   ]
  },
  {
   "cell_type": "code",
   "execution_count": 14,
   "metadata": {
    "collapsed": true
   },
   "outputs": [],
   "source": [
    "train_s.to_csv('input/train/special-case.csv', index=False, encoding='utf-8')"
   ]
  },
  {
   "cell_type": "markdown",
   "metadata": {},
   "source": [
    "## 机场城市对应"
   ]
  },
  {
   "cell_type": "code",
   "execution_count": 15,
   "metadata": {
    "collapsed": false
   },
   "outputs": [
    {
     "data": {
      "text/html": [
       "<div>\n",
       "<table border=\"1\" class=\"dataframe\">\n",
       "  <thead>\n",
       "    <tr style=\"text-align: right;\">\n",
       "      <th></th>\n",
       "      <th>机场编码</th>\n",
       "      <th>城市名称</th>\n",
       "    </tr>\n",
       "  </thead>\n",
       "  <tbody>\n",
       "    <tr>\n",
       "      <th>0</th>\n",
       "      <td>AHJ</td>\n",
       "      <td>阿坝</td>\n",
       "    </tr>\n",
       "    <tr>\n",
       "      <th>1</th>\n",
       "      <td>AYN</td>\n",
       "      <td>安阳</td>\n",
       "    </tr>\n",
       "    <tr>\n",
       "      <th>2</th>\n",
       "      <td>HSC</td>\n",
       "      <td>韶关</td>\n",
       "    </tr>\n",
       "    <tr>\n",
       "      <th>3</th>\n",
       "      <td>HCJ</td>\n",
       "      <td>河池</td>\n",
       "    </tr>\n",
       "    <tr>\n",
       "      <th>4</th>\n",
       "      <td>XNT</td>\n",
       "      <td>邢台</td>\n",
       "    </tr>\n",
       "  </tbody>\n",
       "</table>\n",
       "</div>"
      ],
      "text/plain": [
       "  机场编码 城市名称\n",
       "0  AHJ   阿坝\n",
       "1  AYN   安阳\n",
       "2  HSC   韶关\n",
       "3  HCJ   河池\n",
       "4  XNT   邢台"
      ]
     },
     "execution_count": 15,
     "metadata": {},
     "output_type": "execute_result"
    }
   ],
   "source": [
    "train_a = pd.read_excel('input/train/raw/airport-city.xlsx')\n",
    "train_a.head()"
   ]
  },
  {
   "cell_type": "code",
   "execution_count": 16,
   "metadata": {
    "collapsed": false
   },
   "outputs": [
    {
     "data": {
      "text/html": [
       "<div>\n",
       "<table border=\"1\" class=\"dataframe\">\n",
       "  <thead>\n",
       "    <tr style=\"text-align: right;\">\n",
       "      <th></th>\n",
       "      <th>Airport</th>\n",
       "      <th>City</th>\n",
       "    </tr>\n",
       "  </thead>\n",
       "  <tbody>\n",
       "    <tr>\n",
       "      <th>0</th>\n",
       "      <td>AHJ</td>\n",
       "      <td>阿坝</td>\n",
       "    </tr>\n",
       "    <tr>\n",
       "      <th>1</th>\n",
       "      <td>AYN</td>\n",
       "      <td>安阳</td>\n",
       "    </tr>\n",
       "    <tr>\n",
       "      <th>2</th>\n",
       "      <td>HSC</td>\n",
       "      <td>韶关</td>\n",
       "    </tr>\n",
       "    <tr>\n",
       "      <th>3</th>\n",
       "      <td>HCJ</td>\n",
       "      <td>河池</td>\n",
       "    </tr>\n",
       "    <tr>\n",
       "      <th>4</th>\n",
       "      <td>XNT</td>\n",
       "      <td>邢台</td>\n",
       "    </tr>\n",
       "  </tbody>\n",
       "</table>\n",
       "</div>"
      ],
      "text/plain": [
       "  Airport City\n",
       "0     AHJ   阿坝\n",
       "1     AYN   安阳\n",
       "2     HSC   韶关\n",
       "3     HCJ   河池\n",
       "4     XNT   邢台"
      ]
     },
     "execution_count": 16,
     "metadata": {},
     "output_type": "execute_result"
    }
   ],
   "source": [
    "train_a.columns = ['Airport', 'City']\n",
    "train_a.head()"
   ]
  },
  {
   "cell_type": "code",
   "execution_count": 17,
   "metadata": {
    "collapsed": true
   },
   "outputs": [],
   "source": [
    "train_a.to_csv('input/train/airport-city.csv', index=False, encoding='utf-8')"
   ]
  }
 ],
 "metadata": {
  "kernelspec": {
   "display_name": "Python 3",
   "language": "python",
   "name": "python3"
  },
  "language_info": {
   "codemirror_mode": {
    "name": "ipython",
    "version": 3
   },
   "file_extension": ".py",
   "mimetype": "text/x-python",
   "name": "python",
   "nbconvert_exporter": "python",
   "pygments_lexer": "ipython3",
   "version": "3.5.1"
  }
 },
 "nbformat": 4,
 "nbformat_minor": 2
}
